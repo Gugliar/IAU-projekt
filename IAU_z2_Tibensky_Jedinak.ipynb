{
 "cells": [
  {
   "cell_type": "markdown",
   "metadata": {},
   "source": [
    "# Inteligentná analýza údajov 2019/2020 - Projekt\n",
    "## Druhá časť - predspracovanie\n",
    "## Ondrej Jedinák, František Tibenský"
   ]
  },
  {
   "cell_type": "code",
   "execution_count": 1,
   "metadata": {
    "pycharm": {
     "is_executing": false
    }
   },
   "outputs": [],
   "source": [
    "import pandas as pd\n",
    "import numpy as np\n",
    "import json\n",
    "import seaborn as sns\n",
    "import matplotlib.pyplot as plt\n",
    "\n",
    "from IPython.display import display\n",
    "\n",
    "pd.options.display.max_colwidth=130\n",
    "pd.set_option(\"display.max_columns\", None)"
   ]
  },
  {
   "cell_type": "markdown",
   "metadata": {},
   "source": [
    "## Konfigurácia"
   ]
  },
  {
   "cell_type": "code",
   "execution_count": 2,
   "metadata": {
    "pycharm": {
     "is_executing": false
    }
   },
   "outputs": [],
   "source": [
    "IN_PERSONAL = \"data/personal_train.csv\"\n",
    "IN_OTHER = \"data/other_train.csv\"\n",
    "OUT = \"preprocessed.csv\"\n",
    "DATUM = \"now\""
   ]
  },
  {
   "cell_type": "markdown",
   "metadata": {},
   "source": [
    "## ---------------------"
   ]
  },
  {
   "cell_type": "code",
   "execution_count": 3,
   "metadata": {
    "pycharm": {
     "is_executing": false
    }
   },
   "outputs": [],
   "source": [
    "personal_data = pd.read_csv(IN_PERSONAL, index_col=0)\n",
    "data = pd.read_csv(IN_OTHER, index_col=0)"
   ]
  },
  {
   "cell_type": "code",
   "execution_count": 4,
   "metadata": {
    "pycharm": {
     "is_executing": false
    }
   },
   "outputs": [],
   "source": [
    "for ds in [personal_data, data]:\n",
    "    cls=ds.columns\n",
    "    cl2=[]\n",
    "    for cl in cls:\n",
    "        cl2.append(cl.replace(\"-\",\"_\"))\n",
    "    ds.rename(columns={i:j for i,j in zip(cls,cl2)}, inplace=True)"
   ]
  },
  {
   "cell_type": "markdown",
   "metadata": {},
   "source": [
    "Nastavíme konzistentné názvy atribútov pre lepšiu prehľadnosť."
   ]
  },
  {
   "cell_type": "code",
   "execution_count": 5,
   "metadata": {
    "pycharm": {
     "is_executing": false
    }
   },
   "outputs": [],
   "source": [
    "for ds in [data, personal_data]:\n",
    "    for col in ds:\n",
    "        if ds[col].dtype=='object':\n",
    "            ds[col]=ds[col].str.strip()\n",
    "\n",
    "data=data.replace('?',np.NaN)\n",
    "data=data.replace('??',np.NaN)"
   ]
  },
  {
   "cell_type": "markdown",
   "metadata": {},
   "source": [
    "Odstránime zo všetkých textových atribútov prázdne znaky na začiatku a konci a zmeníme hodnoty s otáznikmi na NaN."
   ]
  },
  {
   "cell_type": "code",
   "execution_count": 6,
   "metadata": {
    "pycharm": {
     "is_executing": false
    }
   },
   "outputs": [
    {
     "data": {
      "text/html": [
       "<div>\n",
       "<style scoped>\n",
       "    .dataframe tbody tr th:only-of-type {\n",
       "        vertical-align: middle;\n",
       "    }\n",
       "\n",
       "    .dataframe tbody tr th {\n",
       "        vertical-align: top;\n",
       "    }\n",
       "\n",
       "    .dataframe thead th {\n",
       "        text-align: right;\n",
       "    }\n",
       "</style>\n",
       "<table border=\"1\" class=\"dataframe\">\n",
       "  <thead>\n",
       "    <tr style=\"text-align: right;\">\n",
       "      <th></th>\n",
       "      <th>name</th>\n",
       "      <th>address</th>\n",
       "      <th>age</th>\n",
       "      <th>sex</th>\n",
       "      <th>date_of_birth</th>\n",
       "    </tr>\n",
       "  </thead>\n",
       "  <tbody>\n",
       "    <tr>\n",
       "      <th>0</th>\n",
       "      <td>Roscoe Bohannon</td>\n",
       "      <td>7183 Osborne Ways Apt. 651\\r\\nEast Andrew, OH 53211</td>\n",
       "      <td>58</td>\n",
       "      <td>Male</td>\n",
       "      <td>1961-03-11</td>\n",
       "    </tr>\n",
       "    <tr>\n",
       "      <th>1</th>\n",
       "      <td>Ernest Kline</td>\n",
       "      <td>391 Ball Road Suite 961\\r\\nFlowersborough, IN 57550</td>\n",
       "      <td>56</td>\n",
       "      <td>Female</td>\n",
       "      <td>1962/11/20</td>\n",
       "    </tr>\n",
       "    <tr>\n",
       "      <th>2</th>\n",
       "      <td>Harold Hendriks</td>\n",
       "      <td>8702 Vincent Square\\r\\nNew Jerryfurt, CO 30614</td>\n",
       "      <td>59</td>\n",
       "      <td>Male</td>\n",
       "      <td>11/12/1959</td>\n",
       "    </tr>\n",
       "    <tr>\n",
       "      <th>3</th>\n",
       "      <td>Randy Baptiste</td>\n",
       "      <td>2751 Harris Crossroad\\r\\nWest Ashley, CA 30311</td>\n",
       "      <td>66</td>\n",
       "      <td>Female</td>\n",
       "      <td>1953-03-18</td>\n",
       "    </tr>\n",
       "    <tr>\n",
       "      <th>4</th>\n",
       "      <td>Anthony Colucci</td>\n",
       "      <td>904 Robert Cliffs Suite 186\\r\\nWest Kyle, CO 77139</td>\n",
       "      <td>64</td>\n",
       "      <td>Male</td>\n",
       "      <td>1954-12-12</td>\n",
       "    </tr>\n",
       "  </tbody>\n",
       "</table>\n",
       "</div>"
      ],
      "text/plain": [
       "              name                                              address  age  \\\n",
       "0  Roscoe Bohannon  7183 Osborne Ways Apt. 651\\r\\nEast Andrew, OH 53211   58   \n",
       "1     Ernest Kline  391 Ball Road Suite 961\\r\\nFlowersborough, IN 57550   56   \n",
       "2  Harold Hendriks       8702 Vincent Square\\r\\nNew Jerryfurt, CO 30614   59   \n",
       "3   Randy Baptiste       2751 Harris Crossroad\\r\\nWest Ashley, CA 30311   66   \n",
       "4  Anthony Colucci   904 Robert Cliffs Suite 186\\r\\nWest Kyle, CO 77139   64   \n",
       "\n",
       "      sex date_of_birth  \n",
       "0    Male    1961-03-11  \n",
       "1  Female    1962/11/20  \n",
       "2    Male    11/12/1959  \n",
       "3  Female    1953-03-18  \n",
       "4    Male    1954-12-12  "
      ]
     },
     "metadata": {},
     "output_type": "display_data"
    },
    {
     "data": {
      "text/html": [
       "<div>\n",
       "<style scoped>\n",
       "    .dataframe tbody tr th:only-of-type {\n",
       "        vertical-align: middle;\n",
       "    }\n",
       "\n",
       "    .dataframe tbody tr th {\n",
       "        vertical-align: top;\n",
       "    }\n",
       "\n",
       "    .dataframe thead th {\n",
       "        text-align: right;\n",
       "    }\n",
       "</style>\n",
       "<table border=\"1\" class=\"dataframe\">\n",
       "  <thead>\n",
       "    <tr style=\"text-align: right;\">\n",
       "      <th></th>\n",
       "      <th>name</th>\n",
       "      <th>address</th>\n",
       "      <th>race</th>\n",
       "      <th>marital_status</th>\n",
       "      <th>occupation</th>\n",
       "      <th>pregnant</th>\n",
       "      <th>education_num</th>\n",
       "      <th>relationship</th>\n",
       "      <th>skewness_glucose</th>\n",
       "      <th>mean_glucose</th>\n",
       "      <th>capital_gain</th>\n",
       "      <th>kurtosis_glucose</th>\n",
       "      <th>education</th>\n",
       "      <th>fnlwgt</th>\n",
       "      <th>class</th>\n",
       "      <th>std_glucose</th>\n",
       "      <th>income</th>\n",
       "      <th>medical_info</th>\n",
       "      <th>native_country</th>\n",
       "      <th>hours_per_week</th>\n",
       "      <th>capital_loss</th>\n",
       "      <th>workclass</th>\n",
       "    </tr>\n",
       "  </thead>\n",
       "  <tbody>\n",
       "    <tr>\n",
       "      <th>0</th>\n",
       "      <td>Ernest Valles</td>\n",
       "      <td>698 Miller Gateway Apt. 970\\r\\nClayside, ND 13457</td>\n",
       "      <td>White</td>\n",
       "      <td>Married-civ-spouse</td>\n",
       "      <td>Adm-clerical</td>\n",
       "      <td>f</td>\n",
       "      <td>10.0</td>\n",
       "      <td>Husband</td>\n",
       "      <td>0.198684</td>\n",
       "      <td>105.859375</td>\n",
       "      <td>0.0</td>\n",
       "      <td>0.222954</td>\n",
       "      <td>Some-college</td>\n",
       "      <td>343789.0</td>\n",
       "      <td>0.0</td>\n",
       "      <td>48.744348</td>\n",
       "      <td>&gt;50K</td>\n",
       "      <td>{'mean_oxygen':'0.790133779','std_oxygen':'10.13249696','kurtosis_oxygen':'17.68151382','skewness_oxygen':'374.9257754'}</td>\n",
       "      <td>United-States</td>\n",
       "      <td>40.0</td>\n",
       "      <td>0.0</td>\n",
       "      <td>State-gov</td>\n",
       "    </tr>\n",
       "    <tr>\n",
       "      <th>1</th>\n",
       "      <td>Michael Kowal</td>\n",
       "      <td>4784 Walters Extensions\\r\\nEast Whitney, NH 27458</td>\n",
       "      <td>White</td>\n",
       "      <td>NaN</td>\n",
       "      <td>Sales</td>\n",
       "      <td>F</td>\n",
       "      <td>13.0</td>\n",
       "      <td>Not-in-family</td>\n",
       "      <td>-0.334631</td>\n",
       "      <td>120.453125</td>\n",
       "      <td>0.0</td>\n",
       "      <td>-0.049047</td>\n",
       "      <td>Bachelors</td>\n",
       "      <td>188957.0</td>\n",
       "      <td>0.0</td>\n",
       "      <td>50.982512</td>\n",
       "      <td>&lt;=50K</td>\n",
       "      <td>{'mean_oxygen':'18.69147157','std_oxygen':'51.21049055','kurtosis_oxygen':'2.541428789','skewness_oxygen':'4.930561896'}</td>\n",
       "      <td>United-States</td>\n",
       "      <td>40.0</td>\n",
       "      <td>0.0</td>\n",
       "      <td>Self-emp-not-inc</td>\n",
       "    </tr>\n",
       "    <tr>\n",
       "      <th>2</th>\n",
       "      <td>Mike Rogers</td>\n",
       "      <td>068 Baker Estates Apt. 300\\r\\nRoberttown, NV 50205</td>\n",
       "      <td>White</td>\n",
       "      <td>Married-civ-spouse</td>\n",
       "      <td>Sales</td>\n",
       "      <td>f</td>\n",
       "      <td>13.0</td>\n",
       "      <td>Husband</td>\n",
       "      <td>0.030878</td>\n",
       "      <td>117.257812</td>\n",
       "      <td>0.0</td>\n",
       "      <td>0.121774</td>\n",
       "      <td>Bachelors</td>\n",
       "      <td>112283.0</td>\n",
       "      <td>0.0</td>\n",
       "      <td>42.893263</td>\n",
       "      <td>&lt;=50K</td>\n",
       "      <td>{'mean_oxygen':'1.150501672','std_oxygen':'11.49825164','kurtosis_oxygen':'16.48789423','skewness_oxygen':'320.6702352'}</td>\n",
       "      <td>United-States</td>\n",
       "      <td>55.0</td>\n",
       "      <td>0.0</td>\n",
       "      <td>Private</td>\n",
       "    </tr>\n",
       "    <tr>\n",
       "      <th>3</th>\n",
       "      <td>Marvin Cherry</td>\n",
       "      <td>75326 Odom Drive\\r\\nNorth Robert, SC 99612</td>\n",
       "      <td>White</td>\n",
       "      <td>Married-civ-spouse</td>\n",
       "      <td>Farming-fishing</td>\n",
       "      <td>f</td>\n",
       "      <td>9.0</td>\n",
       "      <td>Husband</td>\n",
       "      <td>0.636882</td>\n",
       "      <td>99.429688</td>\n",
       "      <td>0.0</td>\n",
       "      <td>0.349696</td>\n",
       "      <td>HS-grad</td>\n",
       "      <td>166416.0</td>\n",
       "      <td>0.0</td>\n",
       "      <td>43.658777</td>\n",
       "      <td>&lt;=50K</td>\n",
       "      <td>{'mean_oxygen':'0.387123746','std_oxygen':'8.683190316000001','kurtosis_oxygen':'25.389201','skewness_oxygen':'685.06342239999...</td>\n",
       "      <td>United-States</td>\n",
       "      <td>99.0</td>\n",
       "      <td>0.0</td>\n",
       "      <td>Self-emp-not-inc</td>\n",
       "    </tr>\n",
       "    <tr>\n",
       "      <th>4</th>\n",
       "      <td>Bernard Williams</td>\n",
       "      <td>258 Valerie Throughway\\r\\nSouth Samanthafort, TX 69130</td>\n",
       "      <td>Black</td>\n",
       "      <td>Widowed</td>\n",
       "      <td>Other-service</td>\n",
       "      <td>f</td>\n",
       "      <td>700.0</td>\n",
       "      <td>Not-in-family</td>\n",
       "      <td>0.105785</td>\n",
       "      <td>109.382812</td>\n",
       "      <td>0.0</td>\n",
       "      <td>0.232842</td>\n",
       "      <td>11th</td>\n",
       "      <td>462440.0</td>\n",
       "      <td>0.0</td>\n",
       "      <td>48.991568</td>\n",
       "      <td>&lt;=50K</td>\n",
       "      <td>{'mean_oxygen':'0.945652174','std_oxygen':'12.0495586','kurtosis_oxygen':'14.8422644','skewness_oxygen':'245.358921'}</td>\n",
       "      <td>United-States</td>\n",
       "      <td>20.0</td>\n",
       "      <td>0.0</td>\n",
       "      <td>Private</td>\n",
       "    </tr>\n",
       "  </tbody>\n",
       "</table>\n",
       "</div>"
      ],
      "text/plain": [
       "               name                                                 address  \\\n",
       "0     Ernest Valles       698 Miller Gateway Apt. 970\\r\\nClayside, ND 13457   \n",
       "1     Michael Kowal       4784 Walters Extensions\\r\\nEast Whitney, NH 27458   \n",
       "2       Mike Rogers      068 Baker Estates Apt. 300\\r\\nRoberttown, NV 50205   \n",
       "3     Marvin Cherry              75326 Odom Drive\\r\\nNorth Robert, SC 99612   \n",
       "4  Bernard Williams  258 Valerie Throughway\\r\\nSouth Samanthafort, TX 69130   \n",
       "\n",
       "    race      marital_status       occupation pregnant  education_num  \\\n",
       "0  White  Married-civ-spouse     Adm-clerical        f           10.0   \n",
       "1  White                 NaN            Sales        F           13.0   \n",
       "2  White  Married-civ-spouse            Sales        f           13.0   \n",
       "3  White  Married-civ-spouse  Farming-fishing        f            9.0   \n",
       "4  Black             Widowed    Other-service        f          700.0   \n",
       "\n",
       "    relationship  skewness_glucose  mean_glucose  capital_gain  \\\n",
       "0        Husband          0.198684    105.859375           0.0   \n",
       "1  Not-in-family         -0.334631    120.453125           0.0   \n",
       "2        Husband          0.030878    117.257812           0.0   \n",
       "3        Husband          0.636882     99.429688           0.0   \n",
       "4  Not-in-family          0.105785    109.382812           0.0   \n",
       "\n",
       "   kurtosis_glucose     education    fnlwgt  class  std_glucose income  \\\n",
       "0          0.222954  Some-college  343789.0    0.0    48.744348   >50K   \n",
       "1         -0.049047     Bachelors  188957.0    0.0    50.982512  <=50K   \n",
       "2          0.121774     Bachelors  112283.0    0.0    42.893263  <=50K   \n",
       "3          0.349696       HS-grad  166416.0    0.0    43.658777  <=50K   \n",
       "4          0.232842          11th  462440.0    0.0    48.991568  <=50K   \n",
       "\n",
       "                                                                                                                        medical_info  \\\n",
       "0           {'mean_oxygen':'0.790133779','std_oxygen':'10.13249696','kurtosis_oxygen':'17.68151382','skewness_oxygen':'374.9257754'}   \n",
       "1           {'mean_oxygen':'18.69147157','std_oxygen':'51.21049055','kurtosis_oxygen':'2.541428789','skewness_oxygen':'4.930561896'}   \n",
       "2           {'mean_oxygen':'1.150501672','std_oxygen':'11.49825164','kurtosis_oxygen':'16.48789423','skewness_oxygen':'320.6702352'}   \n",
       "3  {'mean_oxygen':'0.387123746','std_oxygen':'8.683190316000001','kurtosis_oxygen':'25.389201','skewness_oxygen':'685.06342239999...   \n",
       "4              {'mean_oxygen':'0.945652174','std_oxygen':'12.0495586','kurtosis_oxygen':'14.8422644','skewness_oxygen':'245.358921'}   \n",
       "\n",
       "  native_country  hours_per_week  capital_loss         workclass  \n",
       "0  United-States            40.0           0.0         State-gov  \n",
       "1  United-States            40.0           0.0  Self-emp-not-inc  \n",
       "2  United-States            55.0           0.0           Private  \n",
       "3  United-States            99.0           0.0  Self-emp-not-inc  \n",
       "4  United-States            20.0           0.0           Private  "
      ]
     },
     "execution_count": 6,
     "metadata": {},
     "output_type": "execute_result"
    }
   ],
   "source": [
    "display(personal_data.head())\n",
    "data.head()"
   ]
  },
  {
   "cell_type": "markdown",
   "metadata": {},
   "source": [
    "## date_of_birth"
   ]
  },
  {
   "cell_type": "markdown",
   "metadata": {},
   "source": [
    "Tento atribút má nekonzistentné formáty dátumov.\n",
    "\n",
    "Možne formáty dátumov:\n",
    "\n",
    "1. yyyy-mm-dd\n",
    "1. yyyy/mm/dd\n",
    "1. yy-mm-dd\n",
    "1. dd/mm/yyyy\n",
    "1. yyyy-mm-dd 00:00:00\n",
    "1. yyyy-mm-dd 00 00 00\n"
   ]
  },
  {
   "cell_type": "code",
   "execution_count": 7,
   "metadata": {
    "pycharm": {
     "is_executing": false
    }
   },
   "outputs": [],
   "source": [
    "personal_data[\"date_of_birth\"]=personal_data[\"date_of_birth\"].str.replace(\" .*\",\"\")\n",
    "personal_data[\"date_of_birth\"]=personal_data[\"date_of_birth\"].str.replace(\"/\",\"-\")\n",
    "personal_data['date_of_birth']=personal_data['date_of_birth'].str.replace(r'([0-9]{2})-([0-9]{2})-([0-9]{4})', r'\\3-\\2-\\1')\n",
    "\n",
    "personal_data['date_of_birth']=personal_data['date_of_birth'].str.replace(r'^(19-[0-9]{2}-[0-9]{2})',r'19\\1')\n",
    "personal_data['date_of_birth']=personal_data['date_of_birth'].str.replace(r'^([2-9][0-9]-[0-9]{2}-[0-9]{2})',r'19\\1')\n",
    "personal_data['date_of_birth']=personal_data['date_of_birth'].str.replace(r'^([0-1][0-9]-[0-9]{2}-[0-9]{2})',r'20\\1')"
   ]
  },
  {
   "cell_type": "markdown",
   "metadata": {},
   "source": [
    "chceme všetky dátumy dostať do 1. formátu\n",
    "- odstránime časové hodnoty\n",
    "- zmeníme všetky / na -\n",
    "- prehodíme rok a deň pri 4. prípade\n",
    "- doplníme prvé dve cifry roku pre 3. prípad"
   ]
  },
  {
   "cell_type": "code",
   "execution_count": 8,
   "metadata": {
    "pycharm": {
     "is_executing": false
    }
   },
   "outputs": [
    {
     "name": "stderr",
     "output_type": "stream",
     "text": [
      "C:\\ProgramData\\Anaconda3\\lib\\site-packages\\ipykernel_launcher.py:1: UserWarning: This pattern has match groups. To actually get the groups, use str.extract.\n",
      "  \"\"\"Entry point for launching an IPython kernel.\n"
     ]
    },
    {
     "data": {
      "text/plain": [
       "array([ True])"
      ]
     },
     "execution_count": 8,
     "metadata": {},
     "output_type": "execute_result"
    }
   ],
   "source": [
    "personal_data[\"date_of_birth\"].str.contains(\"(^[0-9]{4}-((0[0-9])|(1[0-2]))-([0-2][0-9]|(3)[0-1])$)\").unique()"
   ]
  },
  {
   "cell_type": "markdown",
   "metadata": {},
   "source": [
    "Kontrola či sú formáty jednotné."
   ]
  },
  {
   "cell_type": "markdown",
   "metadata": {},
   "source": [
    "## age"
   ]
  },
  {
   "cell_type": "markdown",
   "metadata": {},
   "source": [
    "Zistíme rozdiely vo vekoch a dátumoch narodenia."
   ]
  },
  {
   "cell_type": "code",
   "execution_count": 9,
   "metadata": {
    "pycharm": {
     "is_executing": false
    }
   },
   "outputs": [
    {
     "data": {
      "text/plain": [
       "0.0    3607\n",
       "1.0     326\n",
       "dtype: int64"
      ]
     },
     "execution_count": 9,
     "metadata": {},
     "output_type": "execute_result"
    }
   ],
   "source": [
    "((pd.to_datetime(DATUM)-pd.to_datetime(personal_data[\"date_of_birth\"])).astype('<m8[Y]')-personal_data[\"age\"]).value_counts()"
   ]
  },
  {
   "cell_type": "markdown",
   "metadata": {},
   "source": [
    "V dátumoch narodenia a vekoch nie sú žiadne výrazné nezrovnalosti. Jediný problém je že niektoré veky neboli aktualizované pre aktuálny dátum. Tiež neexistuje žiaden dátum pre ktorý by neboli aspoň niektoré veky o jeden rok posunuté. Preto si nanovo vypočítame veky k jednotnému dátumu."
   ]
  },
  {
   "cell_type": "code",
   "execution_count": 10,
   "metadata": {
    "pycharm": {
     "is_executing": false
    }
   },
   "outputs": [],
   "source": [
    "personal_data[\"age\"]=((pd.to_datetime(DATUM)-pd.to_datetime(personal_data[\"date_of_birth\"])).astype('<m8[Y]'))"
   ]
  },
  {
   "cell_type": "markdown",
   "metadata": {},
   "source": [
    "Keďže nám bude ďalej celý dátum narodenia zbytočný lebo máme vek, ponecháme len mesiac narodenia."
   ]
  },
  {
   "cell_type": "code",
   "execution_count": 11,
   "metadata": {
    "pycharm": {
     "is_executing": false
    }
   },
   "outputs": [],
   "source": [
    "personal_data['date_of_birth']=personal_data['date_of_birth'].str.replace(r'([0-9]{4})-([0-9]{2})-([0-9]{2})', r'\\2').astype(str).astype(float)\n",
    "personal_data.rename(columns={\"date_of_birth\": \"birth_month\"},inplace=True)"
   ]
  },
  {
   "cell_type": "markdown",
   "metadata": {},
   "source": [
    "## workclass"
   ]
  },
  {
   "cell_type": "markdown",
   "metadata": {},
   "source": [
    "Opravíme nekonzistentné začiatočné písmená."
   ]
  },
  {
   "cell_type": "code",
   "execution_count": 12,
   "metadata": {
    "pycharm": {
     "is_executing": false
    }
   },
   "outputs": [
    {
     "data": {
      "text/plain": [
       "Private             2737\n",
       "Self-emp-not-inc     304\n",
       "Local-gov            266\n",
       "NaN                  256\n",
       "State-gov            146\n",
       "Self-emp-inc         145\n",
       "Federal-gov          125\n",
       "Without-pay            3\n",
       "Never-worked           1\n",
       "Name: workclass, dtype: int64"
      ]
     },
     "execution_count": 12,
     "metadata": {},
     "output_type": "execute_result"
    }
   ],
   "source": [
    "data[\"workclass\"]=data[\"workclass\"].str.capitalize()\n",
    "data[\"workclass\"].value_counts(dropna=False)"
   ]
  },
  {
   "cell_type": "markdown",
   "metadata": {},
   "source": [
    "## rozdelenie medical_data"
   ]
  },
  {
   "cell_type": "code",
   "execution_count": 13,
   "metadata": {
    "pycharm": {
     "is_executing": false
    }
   },
   "outputs": [],
   "source": [
    "data['medical_info']=data['medical_info'].replace(np.NaN,\"{}\")\n",
    "data['medical_info']=data['medical_info'].str.replace(\"'\",'\"')\n",
    "data=data.join(data['medical_info'].apply(json.loads).apply(pd.Series).astype(float))\n",
    "data = data.drop(columns='medical_info')"
   ]
  },
  {
   "cell_type": "markdown",
   "metadata": {},
   "source": [
    "Rozparsujeme hodnoty v JSON v medcal_data na samostatné stĺpce. Najprv však nahradíme NaN prázdnymi objektami a zmeníme uvodzovky aby boli validné pre JSON."
   ]
  },
  {
   "cell_type": "markdown",
   "metadata": {},
   "source": [
    "## education"
   ]
  },
  {
   "cell_type": "code",
   "execution_count": 14,
   "metadata": {
    "pycharm": {
     "is_executing": false
    }
   },
   "outputs": [
    {
     "data": {
      "text/plain": [
       "HS-grad         1279\n",
       "Some-college     910\n",
       "Bachelors        661\n",
       "Masters          207\n",
       "Assoc-voc        151\n",
       "Assoc-acdm       136\n",
       "11th             122\n",
       "10th             114\n",
       "7th-8th           92\n",
       "Prof-school       68\n",
       "9th               63\n",
       "12th              47\n",
       "Doctorate         46\n",
       "5th-6th           45\n",
       "1st-4th           14\n",
       "Preschool         10\n",
       "Name: education, dtype: int64"
      ]
     },
     "execution_count": 14,
     "metadata": {},
     "output_type": "execute_result"
    }
   ],
   "source": [
    "data['education']=data['education'].str.replace(\"_\",\"-\")\n",
    "data['education'].value_counts()"
   ]
  },
  {
   "cell_type": "markdown",
   "metadata": {},
   "source": [
    "Zjednotíme nahradenie medzier v hodnotách."
   ]
  },
  {
   "cell_type": "markdown",
   "metadata": {},
   "source": [
    "## education_num"
   ]
  },
  {
   "cell_type": "code",
   "execution_count": 15,
   "metadata": {
    "pycharm": {
     "is_executing": false
    }
   },
   "outputs": [
    {
     "data": {
      "text/plain": [
       "9.0     1151\n",
       "10.0     827\n",
       "13.0     589\n",
       "14.0     185\n",
       "11.0     141\n",
       "12.0     125\n",
       "7.0      109\n",
       "6.0       99\n",
       "4.0       82\n",
       "15.0      59\n",
       "5.0       59\n",
       "8.0       45\n",
       "16.0      41\n",
       "3.0       39\n",
       "2.0       13\n",
       "1.0        6\n",
       "Name: education_num, dtype: int64"
      ]
     },
     "execution_count": 15,
     "metadata": {},
     "output_type": "execute_result"
    }
   ],
   "source": [
    "def edu_num_fix(val):\n",
    "    if val<0:\n",
    "        val*=-1\n",
    "    if val>100:\n",
    "        val/=100\n",
    "    return val\n",
    "data['education_num']=data['education_num'].apply(edu_num_fix)\n",
    "data.education_num.value_counts()"
   ]
  },
  {
   "cell_type": "markdown",
   "metadata": {},
   "source": [
    "Zjednotíme hodnoty tak aby nám zostali len hodnoty od 1 do 16."
   ]
  },
  {
   "cell_type": "code",
   "execution_count": 16,
   "metadata": {
    "pycharm": {
     "is_executing": false
    }
   },
   "outputs": [
    {
     "name": "stdout",
     "output_type": "stream",
     "text": [
      "Preschool    6\n",
      "Name: education, dtype: int64\n",
      "1st-4th    13\n",
      "Name: education, dtype: int64\n",
      "5th-6th    39\n",
      "Name: education, dtype: int64\n",
      "7th-8th    81\n",
      "Name: education, dtype: int64\n",
      "9th    59\n",
      "Name: education, dtype: int64\n",
      "10th    99\n",
      "Name: education, dtype: int64\n",
      "11th    108\n",
      "Name: education, dtype: int64\n",
      "12th    45\n",
      "Name: education, dtype: int64\n",
      "HS-grad    1147\n",
      "Name: education, dtype: int64\n",
      "Some-college    823\n",
      "Name: education, dtype: int64\n",
      "Assoc-voc    141\n",
      "Name: education, dtype: int64\n",
      "Assoc-acdm    125\n",
      "Name: education, dtype: int64\n",
      "Bachelors    587\n",
      "Name: education, dtype: int64\n",
      "Masters    184\n",
      "Name: education, dtype: int64\n",
      "Prof-school    59\n",
      "Name: education, dtype: int64\n",
      "Doctorate    41\n",
      "Name: education, dtype: int64\n"
     ]
    }
   ],
   "source": [
    "for i in range(1,17):\n",
    "    print(str(data['education'][data.education_num==i].value_counts()))"
   ]
  },
  {
   "cell_type": "code",
   "execution_count": 17,
   "metadata": {
    "pycharm": {
     "is_executing": false
    }
   },
   "outputs": [
    {
     "data": {
      "text/plain": [
       "{'Preschool': 1,\n",
       " '1st-4th': 2,\n",
       " '5th-6th': 3,\n",
       " '7th-8th': 4,\n",
       " '9th': 5,\n",
       " '10th': 6,\n",
       " '11th': 7,\n",
       " '12th': 8,\n",
       " 'HS-grad': 9,\n",
       " 'Some-college': 10,\n",
       " 'Assoc-voc': 11,\n",
       " 'Assoc-acdm': 12,\n",
       " 'Bachelors': 13,\n",
       " 'Masters': 14,\n",
       " 'Prof-school': 15,\n",
       " 'Doctorate': 16}"
      ]
     },
     "execution_count": 17,
     "metadata": {},
     "output_type": "execute_result"
    }
   ],
   "source": [
    "edu={}\n",
    "for i in range(1,17):\n",
    "    edu[str(data['education'][data.education_num==i].value_counts()).split(\" \")[0]]=i\n",
    "edu"
   ]
  },
  {
   "cell_type": "markdown",
   "metadata": {},
   "source": [
    "Zistili sme že education_num je len číselná verzia eduaction. Doplníme podľa toho chýbajúce hodnoty education_num a stĺpec education môžeme zmazať."
   ]
  },
  {
   "cell_type": "code",
   "execution_count": 18,
   "metadata": {
    "pycharm": {
     "is_executing": false
    }
   },
   "outputs": [],
   "source": [
    "def edu_to_num(val):\n",
    "    if val in edu:\n",
    "        return edu[val]\n",
    "    else:\n",
    "        return np.NaN\n",
    "    \n",
    "data['education']=data['education'].apply(edu_to_num)\n",
    "data['education'].fillna(data['education_num'], inplace=True)\n",
    "\n",
    "data['education'].value_counts(dropna=False)\n",
    "data = data.drop(columns=['education_num'])"
   ]
  },
  {
   "cell_type": "markdown",
   "metadata": {},
   "source": [
    "## Odstránenie duplikátov"
   ]
  },
  {
   "cell_type": "code",
   "execution_count": 19,
   "metadata": {
    "pycharm": {
     "is_executing": false
    },
    "scrolled": true
   },
   "outputs": [],
   "source": [
    "def aggr(val):\n",
    "    o=set()\n",
    "    for v in val:\n",
    "        if not pd.isna(v):\n",
    "            o.add(v)\n",
    "    if len(o)==0:\n",
    "        return np.NaN\n",
    "    elif len(o)>1:\n",
    "        print(\"Pozor: viac moznych hodnot!\")\n",
    "        print(o)\n",
    "    return o.pop()\n",
    "    \n",
    "data=data.groupby(['name', 'address']).aggregate(aggr)"
   ]
  },
  {
   "cell_type": "markdown",
   "metadata": {},
   "source": [
    "Záznamy s rovnakými menami a adresami zjednotíme a doplníme ich hodnoty pomocou agregačnej funkcie."
   ]
  },
  {
   "cell_type": "markdown",
   "metadata": {},
   "source": [
    "## Spojenie dvoch tabuliek"
   ]
  },
  {
   "cell_type": "code",
   "execution_count": 20,
   "metadata": {
    "pycharm": {
     "is_executing": false
    }
   },
   "outputs": [],
   "source": [
    "data=personal_data.merge(data, on=('name', 'address'))"
   ]
  },
  {
   "cell_type": "code",
   "execution_count": 21,
   "metadata": {
    "pycharm": {
     "is_executing": false
    }
   },
   "outputs": [],
   "source": [
    "data.address=data.address.str.replace(r\".*\\r\\n[A-Za-z ]+,? ([A-Z]{2}).*\",r\"\\1\")"
   ]
  },
  {
   "cell_type": "code",
   "execution_count": 22,
   "metadata": {
    "pycharm": {
     "is_executing": false
    }
   },
   "outputs": [],
   "source": [
    "data.rename(columns={\"address\": \"state\"},inplace=True)"
   ]
  },
  {
   "cell_type": "markdown",
   "metadata": {},
   "source": [
    "## Odstránenie mena"
   ]
  },
  {
   "cell_type": "code",
   "execution_count": 23,
   "metadata": {},
   "outputs": [],
   "source": [
    "data = data.drop(columns=['name'])"
   ]
  },
  {
   "cell_type": "markdown",
   "metadata": {},
   "source": [
    "Z mena nevieme získať žiadne ďalšie využiteľné informácie, čiže ho môžeme odstrániť."
   ]
  },
  {
   "cell_type": "markdown",
   "metadata": {},
   "source": [
    "## zmena ***pregnant*** na binárnu hodnotu"
   ]
  },
  {
   "cell_type": "code",
   "execution_count": 24,
   "metadata": {
    "pycharm": {
     "is_executing": false
    },
    "scrolled": true
   },
   "outputs": [
    {
     "data": {
      "text/plain": [
       "0.0    3851\n",
       "1.0      82\n",
       "Name: pregnant, dtype: int64"
      ]
     },
     "execution_count": 24,
     "metadata": {},
     "output_type": "execute_result"
    }
   ],
   "source": [
    "data[\"pregnant\"]=data[\"pregnant\"].str.lower()\n",
    "data[\"pregnant\"]=data[\"pregnant\"].str.replace(\"(^f$)|(^false$)\",\"False\")\n",
    "data[\"pregnant\"]=data[\"pregnant\"].str.replace(\"(^t$)|(^true$)\",\"True\")\n",
    "data[\"pregnant\"]=data[\"pregnant\"].str.replace(\"True\",\"1\")\n",
    "data[\"pregnant\"]=data[\"pregnant\"].str.replace(\"False\",\"0\")\n",
    "data[\"pregnant\"]=data[\"pregnant\"].str.replace(\"True\",\"1\")\n",
    "data[\"pregnant\"]=data[\"pregnant\"].astype(float)\n",
    "data[\"pregnant\"].value_counts(dropna=False)"
   ]
  },
  {
   "cell_type": "markdown",
   "metadata": {
    "pycharm": {
     "is_executing": false
    }
   },
   "source": [
    "Nekonzistentné hodnoty zmeníme tak aby boli len True alebo False (a NaN) a prekonvertujeme ich na 0 a 1."
   ]
  },
  {
   "cell_type": "code",
   "execution_count": 25,
   "metadata": {
    "pycharm": {
     "is_executing": false
    }
   },
   "outputs": [
    {
     "data": {
      "text/plain": [
       "array([0., 1.])"
      ]
     },
     "execution_count": 25,
     "metadata": {},
     "output_type": "execute_result"
    }
   ],
   "source": [
    "data[data[\"sex\"]==\"Male\"].pregnant.unique()"
   ]
  },
  {
   "cell_type": "markdown",
   "metadata": {},
   "source": [
    "Existujú záznamy kde sú muži tehotní."
   ]
  },
  {
   "cell_type": "code",
   "execution_count": 26,
   "metadata": {
    "pycharm": {
     "is_executing": false
    }
   },
   "outputs": [],
   "source": [
    "data.loc[data.sex == \"Male\", \"pregnant\"] = 0\n",
    "data['pregnant'] = data['pregnant'].fillna(0)"
   ]
  },
  {
   "cell_type": "markdown",
   "metadata": {},
   "source": [
    "Mužom nastavíme tehotenstvo na 0. V prípade prázdnych hodnôt budeme predpokladať že daná osoba tehotná nie je a nastavíme jej hodnotu na 0."
   ]
  },
  {
   "cell_type": "markdown",
   "metadata": {},
   "source": [
    "## zmena ***sex*** na binárnu hodnotu"
   ]
  },
  {
   "cell_type": "code",
   "execution_count": 27,
   "metadata": {
    "pycharm": {
     "is_executing": false
    }
   },
   "outputs": [
    {
     "data": {
      "text/plain": [
       "1.0    2579\n",
       "0.0    1354\n",
       "Name: male, dtype: int64"
      ]
     },
     "execution_count": 27,
     "metadata": {},
     "output_type": "execute_result"
    }
   ],
   "source": [
    "data[\"sex\"]=data[\"sex\"].str.replace(\"Male\",\"1\")\n",
    "data[\"sex\"]=data[\"sex\"].str.replace(\"Female\",\"0\")\n",
    "data[\"sex\"]=data[\"sex\"].astype(float)\n",
    "data.rename(columns={\"sex\": \"male\"},inplace=True)\n",
    "data[\"male\"].value_counts(dropna=False)"
   ]
  },
  {
   "cell_type": "markdown",
   "metadata": {},
   "source": [
    "# Nahradenie číselných NaN hodnôt + vysporiadanie sa s outliermi\n",
    "\n",
    "V zadaní je spomenutých viacero metód, ako nahradiť chýbajúce číselné hodnoty, rozhodli sme sa, že využijem doplnenie priemerom a doplnenie priemerom zo segmentu.\n",
    "\n",
    "\n",
    "\n",
    "V zadaní sú spomenuté tri metódy, ako sa vysporiadať s vychýlenými hodnotami:\n",
    "- odstránenie týchto pozorovaní\n",
    "- nahradenie 5 resp. 95 percentilom\n",
    "- transformácia atribútu cez vybranú funkciu (logaritmus, odmocnina)\n",
    "\n",
    "Rozhodli sme sa, že využijeme druhý a tretí spôsob.\n"
   ]
  },
  {
   "cell_type": "markdown",
   "metadata": {},
   "source": [
    "## fnlwgt\n"
   ]
  },
  {
   "cell_type": "markdown",
   "metadata": {},
   "source": [
    "Najprv zistíme, či sú nejaké NaN hodnoty."
   ]
  },
  {
   "cell_type": "code",
   "execution_count": 28,
   "metadata": {
    "pycharm": {
     "is_executing": false
    }
   },
   "outputs": [
    {
     "data": {
      "text/plain": [
       "0"
      ]
     },
     "execution_count": 28,
     "metadata": {},
     "output_type": "execute_result"
    }
   ],
   "source": [
    "data[\"fnlwgt\"].isnull().sum()"
   ]
  },
  {
   "cell_type": "markdown",
   "metadata": {},
   "source": [
    "V tomto stĺpci žiadne hodnoty NaN nie sú, nepotrebuje riešiť nahradzovanie hodnôt.\n",
    "\n",
    "Následne zistíme, či sú prítomné nejaké hodnoty, ktoré sú príliš odchýlené."
   ]
  },
  {
   "cell_type": "code",
   "execution_count": 29,
   "metadata": {
    "pycharm": {
     "is_executing": false
    }
   },
   "outputs": [
    {
     "data": {
      "text/plain": [
       "count      3933.000000\n",
       "mean     187429.579964\n",
       "std      104399.718085\n",
       "min       19491.000000\n",
       "25%      116358.000000\n",
       "50%      177154.000000\n",
       "75%      235124.000000\n",
       "max      953588.000000\n",
       "Name: fnlwgt, dtype: float64"
      ]
     },
     "execution_count": 29,
     "metadata": {},
     "output_type": "execute_result"
    },
    {
     "data": {
      "image/png": "[encoded data removed]",
      "text/plain": [
       "<Figure size 432x288 with 1 Axes>"
      ]
     },
     "metadata": {
      "needs_background": "light"
     },
     "output_type": "display_data"
    }
   ],
   "source": [
    "data[\"fnlwgt\"].plot(kind=\"hist\")\n",
    "data[\"fnlwgt\"].describe()"
   ]
  },
  {
   "cell_type": "code",
   "execution_count": 30,
   "metadata": {
    "pycharm": {
     "is_executing": false
    }
   },
   "outputs": [
    {
     "data": {
      "text/plain": [
       "<matplotlib.axes._subplots.AxesSubplot at 0x1a1a055c2b0>"
      ]
     },
     "execution_count": 30,
     "metadata": {},
     "output_type": "execute_result"
    },
    {
     "data": {
      "image/png": "[encoded data removed]",
      "text/plain": [
       "<Figure size 432x288 with 1 Axes>"
      ]
     },
     "metadata": {
      "needs_background": "light"
     },
     "output_type": "display_data"
    }
   ],
   "source": [
    "sns.boxplot('fnlwgt', data=data)"
   ]
  },
  {
   "cell_type": "markdown",
   "metadata": {},
   "source": [
    "Ako môžeme vidieť, v tomto prípade sa outliery vyskytujú a to v hodnotách od cca 600000 do max, ktoré je 953588. Vychýlené hodnoty nahradíme 95 percentilom."
   ]
  },
  {
   "cell_type": "code",
   "execution_count": 31,
   "metadata": {
    "pycharm": {
     "is_executing": false
    }
   },
   "outputs": [
    {
     "data": {
      "text/plain": [
       "<matplotlib.axes._subplots.AxesSubplot at 0x1a1a047e400>"
      ]
     },
     "execution_count": 31,
     "metadata": {},
     "output_type": "execute_result"
    },
    {
     "data": {
      "image/png": "[encoded data removed]",
      "text/plain": [
       "<Figure size 432x288 with 1 Axes>"
      ]
     },
     "metadata": {
      "needs_background": "light"
     },
     "output_type": "display_data"
    }
   ],
   "source": [
    "data[\"fnlwgt\"] = data[\"fnlwgt\"].clip( upper=data[\"fnlwgt\"].quantile(0.95))\n",
    "data[\"fnlwgt\"].plot(kind=\"hist\")\n"
   ]
  },
  {
   "cell_type": "markdown",
   "metadata": {},
   "source": [
    "## Hodnoty agregovaných hodnôt cukrovky\n",
    "\n",
    "### skewness"
   ]
  },
  {
   "cell_type": "code",
   "execution_count": 32,
   "metadata": {
    "pycharm": {
     "is_executing": false
    }
   },
   "outputs": [
    {
     "data": {
      "text/plain": [
       "1"
      ]
     },
     "execution_count": 32,
     "metadata": {},
     "output_type": "execute_result"
    }
   ],
   "source": [
    "data[\"skewness_glucose\"].isnull().sum()"
   ]
  },
  {
   "cell_type": "markdown",
   "metadata": {},
   "source": [
    "TODO: nahradit priemerom zo segmentu"
   ]
  },
  {
   "cell_type": "code",
   "execution_count": 33,
   "metadata": {
    "pycharm": {
     "is_executing": false
    }
   },
   "outputs": [
    {
     "data": {
      "text/plain": [
       "count    3932.000000\n",
       "mean        4.219887\n",
       "std         9.679111\n",
       "min        -1.755332\n",
       "25%        -0.119501\n",
       "50%         0.374657\n",
       "75%         2.083826\n",
       "max        68.101622\n",
       "Name: skewness_glucose, dtype: float64"
      ]
     },
     "execution_count": 33,
     "metadata": {},
     "output_type": "execute_result"
    },
    {
     "data": {
      "image/png": "[encoded data removed]",
      "text/plain": [
       "<Figure size 432x288 with 1 Axes>"
      ]
     },
     "metadata": {
      "needs_background": "light"
     },
     "output_type": "display_data"
    }
   ],
   "source": [
    "data[\"skewness_glucose\"].plot(kind=\"hist\")\n",
    "data[\"skewness_glucose\"].describe()"
   ]
  },
  {
   "cell_type": "code",
   "execution_count": 34,
   "metadata": {
    "pycharm": {
     "is_executing": false
    }
   },
   "outputs": [
    {
     "data": {
      "text/plain": [
       "<matplotlib.axes._subplots.AxesSubplot at 0x1a1a02e8b70>"
      ]
     },
     "execution_count": 34,
     "metadata": {},
     "output_type": "execute_result"
    },
    {
     "data": {
      "image/png": "[encoded data removed]",
      "text/plain": [
       "<Figure size 432x288 with 1 Axes>"
      ]
     },
     "metadata": {
      "needs_background": "light"
     },
     "output_type": "display_data"
    }
   ],
   "source": [
    "sns.boxplot('skewness_glucose', data=data)"
   ]
  },
  {
   "cell_type": "markdown",
   "metadata": {},
   "source": [
    "TODO: zmenit na transformaciu"
   ]
  },
  {
   "cell_type": "markdown",
   "metadata": {},
   "source": [
    "### mean"
   ]
  },
  {
   "cell_type": "code",
   "execution_count": 35,
   "metadata": {
    "pycharm": {
     "is_executing": false
    }
   },
   "outputs": [
    {
     "data": {
      "text/plain": [
       "0"
      ]
     },
     "execution_count": 35,
     "metadata": {},
     "output_type": "execute_result"
    }
   ],
   "source": [
    "data[\"mean_glucose\"].isnull().sum()"
   ]
  },
  {
   "cell_type": "code",
   "execution_count": 36,
   "metadata": {
    "pycharm": {
     "is_executing": false
    }
   },
   "outputs": [
    {
     "data": {
      "text/plain": [
       "count    3933.000000\n",
       "mean      101.277271\n",
       "std        33.560209\n",
       "min         6.187500\n",
       "25%        87.742188\n",
       "50%       110.664062\n",
       "75%       124.132812\n",
       "max       189.734375\n",
       "Name: mean_glucose, dtype: float64"
      ]
     },
     "execution_count": 36,
     "metadata": {},
     "output_type": "execute_result"
    },
    {
     "data": {
      "image/png": "[encoded data removed]",
      "text/plain": [
       "<Figure size 432x288 with 1 Axes>"
      ]
     },
     "metadata": {
      "needs_background": "light"
     },
     "output_type": "display_data"
    }
   ],
   "source": [
    "data[\"mean_glucose\"].plot(kind=\"hist\")\n",
    "data[\"mean_glucose\"].describe()"
   ]
  },
  {
   "cell_type": "code",
   "execution_count": 37,
   "metadata": {
    "pycharm": {
     "is_executing": false
    }
   },
   "outputs": [
    {
     "data": {
      "text/plain": [
       "<matplotlib.axes._subplots.AxesSubplot at 0x1a1a07f60f0>"
      ]
     },
     "execution_count": 37,
     "metadata": {},
     "output_type": "execute_result"
    },
    {
     "data": {
      "image/png": "[encoded data removed]",
      "text/plain": [
       "<Figure size 432x288 with 1 Axes>"
      ]
     },
     "metadata": {
      "needs_background": "light"
     },
     "output_type": "display_data"
    }
   ],
   "source": [
    "sns.boxplot('mean_glucose', data=data)"
   ]
  },
  {
   "cell_type": "code",
   "execution_count": 38,
   "metadata": {
    "pycharm": {
     "is_executing": false
    }
   },
   "outputs": [
    {
     "data": {
      "text/plain": [
       "<matplotlib.axes._subplots.AxesSubplot at 0x1a1a0638ba8>"
      ]
     },
     "execution_count": 38,
     "metadata": {},
     "output_type": "execute_result"
    },
    {
     "data": {
      "image/png": "[encoded data removed]",
      "text/plain": [
       "<Figure size 432x288 with 1 Axes>"
      ]
     },
     "metadata": {
      "needs_background": "light"
     },
     "output_type": "display_data"
    }
   ],
   "source": [
    "data[\"mean_glucose\"]= data[\"mean_glucose\"].clip( upper=data[\"mean_glucose\"].quantile(0.95))\n",
    "data[\"mean_glucose\"].plot(kind=\"hist\")"
   ]
  },
  {
   "cell_type": "markdown",
   "metadata": {},
   "source": [
    "### kurtosis"
   ]
  },
  {
   "cell_type": "code",
   "execution_count": 39,
   "metadata": {
    "pycharm": {
     "is_executing": false
    }
   },
   "outputs": [
    {
     "data": {
      "text/plain": [
       "1"
      ]
     },
     "execution_count": 39,
     "metadata": {},
     "output_type": "execute_result"
    }
   ],
   "source": [
    "data[\"kurtosis_glucose\"].isnull().sum()"
   ]
  },
  {
   "cell_type": "markdown",
   "metadata": {},
   "source": [
    "TODO: nahradit priemerom zo segmentu"
   ]
  },
  {
   "cell_type": "code",
   "execution_count": 40,
   "metadata": {
    "pycharm": {
     "is_executing": false
    }
   },
   "outputs": [
    {
     "data": {
      "text/plain": [
       "count    3932.000000\n",
       "mean        0.951380\n",
       "std         1.611163\n",
       "min        -1.641515\n",
       "25%         0.072000\n",
       "50%         0.310578\n",
       "75%         0.777223\n",
       "max         8.069522\n",
       "Name: kurtosis_glucose, dtype: float64"
      ]
     },
     "execution_count": 40,
     "metadata": {},
     "output_type": "execute_result"
    },
    {
     "data": {
      "image/png": "[encoded data removed]",
      "text/plain": [
       "<Figure size 432x288 with 1 Axes>"
      ]
     },
     "metadata": {
      "needs_background": "light"
     },
     "output_type": "display_data"
    }
   ],
   "source": [
    "data[\"kurtosis_glucose\"].plot(kind=\"hist\")\n",
    "data[\"kurtosis_glucose\"].describe()"
   ]
  },
  {
   "cell_type": "code",
   "execution_count": 41,
   "metadata": {
    "pycharm": {
     "is_executing": false
    }
   },
   "outputs": [
    {
     "data": {
      "text/plain": [
       "<matplotlib.axes._subplots.AxesSubplot at 0x1a1a0340828>"
      ]
     },
     "execution_count": 41,
     "metadata": {},
     "output_type": "execute_result"
    },
    {
     "data": {
      "image/png": "[encoded data removed]",
      "text/plain": [
       "<Figure size 432x288 with 1 Axes>"
      ]
     },
     "metadata": {
      "needs_background": "light"
     },
     "output_type": "display_data"
    }
   ],
   "source": [
    "sns.boxplot('kurtosis_glucose', data=data)"
   ]
  },
  {
   "cell_type": "code",
   "execution_count": 42,
   "metadata": {
    "pycharm": {
     "is_executing": false
    }
   },
   "outputs": [
    {
     "data": {
      "text/plain": [
       "<matplotlib.axes._subplots.AxesSubplot at 0x1a1a065dba8>"
      ]
     },
     "execution_count": 42,
     "metadata": {},
     "output_type": "execute_result"
    },
    {
     "data": {
      "image/png": "[encoded data removed]",
      "text/plain": [
       "<Figure size 432x288 with 1 Axes>"
      ]
     },
     "metadata": {
      "needs_background": "light"
     },
     "output_type": "display_data"
    }
   ],
   "source": [
    "df= data[\"kurtosis_glucose\"].clip(lower=data[\"kurtosis_glucose\"].quantile(0.05), upper=data[\"kurtosis_glucose\"].quantile(0.95))\n",
    "df.plot(kind=\"hist\")"
   ]
  },
  {
   "cell_type": "markdown",
   "metadata": {},
   "source": [
    "NOTE: zmenit na transformaciu"
   ]
  },
  {
   "cell_type": "markdown",
   "metadata": {
    "pycharm": {
     "is_executing": true
    }
   },
   "source": [
    "### std"
   ]
  },
  {
   "cell_type": "code",
   "execution_count": 43,
   "metadata": {
    "pycharm": {
     "is_executing": false
    }
   },
   "outputs": [
    {
     "data": {
      "text/plain": [
       "0"
      ]
     },
     "execution_count": 43,
     "metadata": {},
     "output_type": "execute_result"
    }
   ],
   "source": [
    "data[\"std_glucose\"].isnull().sum()"
   ]
  },
  {
   "cell_type": "code",
   "execution_count": 44,
   "metadata": {
    "pycharm": {
     "is_executing": false
    }
   },
   "outputs": [
    {
     "data": {
      "text/plain": [
       "count    3933.000000\n",
       "mean       45.174684\n",
       "std         7.607881\n",
       "min        25.695250\n",
       "25%        40.165726\n",
       "50%        45.887420\n",
       "75%        50.369068\n",
       "max        91.206475\n",
       "Name: std_glucose, dtype: float64"
      ]
     },
     "execution_count": 44,
     "metadata": {},
     "output_type": "execute_result"
    },
    {
     "data": {
      "image/png": "[encoded data removed]",
      "text/plain": [
       "<Figure size 432x288 with 1 Axes>"
      ]
     },
     "metadata": {
      "needs_background": "light"
     },
     "output_type": "display_data"
    }
   ],
   "source": [
    "data[\"std_glucose\"].plot(kind=\"hist\")\n",
    "data[\"std_glucose\"].describe()"
   ]
  },
  {
   "cell_type": "code",
   "execution_count": 45,
   "metadata": {
    "pycharm": {
     "is_executing": false
    }
   },
   "outputs": [
    {
     "data": {
      "text/plain": [
       "<matplotlib.axes._subplots.AxesSubplot at 0x1a1a07292e8>"
      ]
     },
     "execution_count": 45,
     "metadata": {},
     "output_type": "execute_result"
    },
    {
     "data": {
      "image/png": "[encoded data removed]",
      "text/plain": [
       "<Figure size 432x288 with 1 Axes>"
      ]
     },
     "metadata": {
      "needs_background": "light"
     },
     "output_type": "display_data"
    }
   ],
   "source": [
    "sns.boxplot('std_glucose', data=data)"
   ]
  },
  {
   "cell_type": "code",
   "execution_count": 46,
   "metadata": {
    "pycharm": {
     "is_executing": false
    }
   },
   "outputs": [
    {
     "data": {
      "text/plain": [
       "<matplotlib.axes._subplots.AxesSubplot at 0x1a1a0393c18>"
      ]
     },
     "execution_count": 46,
     "metadata": {},
     "output_type": "execute_result"
    },
    {
     "data": {
      "image/png": "[encoded data removed]",
      "text/plain": [
       "<Figure size 432x288 with 1 Axes>"
      ]
     },
     "metadata": {
      "needs_background": "light"
     },
     "output_type": "display_data"
    }
   ],
   "source": [
    "data[\"std_glucose\"]= data[\"std_glucose\"].clip( upper=data[\"std_glucose\"].quantile(0.95))\n",
    "data[\"std_glucose\"].plot(kind=\"hist\")"
   ]
  },
  {
   "cell_type": "markdown",
   "metadata": {},
   "source": [
    "## hours_per_week"
   ]
  },
  {
   "cell_type": "code",
   "execution_count": 47,
   "metadata": {
    "pycharm": {
     "is_executing": false
    }
   },
   "outputs": [
    {
     "data": {
      "text/plain": [
       "0"
      ]
     },
     "execution_count": 47,
     "metadata": {},
     "output_type": "execute_result"
    }
   ],
   "source": [
    "data[\"hours_per_week\"].isnull().sum()"
   ]
  },
  {
   "cell_type": "code",
   "execution_count": 48,
   "metadata": {
    "pycharm": {
     "is_executing": false
    }
   },
   "outputs": [
    {
     "data": {
      "text/plain": [
       "count    3933.000000\n",
       "mean       40.129672\n",
       "std        12.103234\n",
       "min         1.000000\n",
       "25%        40.000000\n",
       "50%        40.000000\n",
       "75%        45.000000\n",
       "max        99.000000\n",
       "Name: hours_per_week, dtype: float64"
      ]
     },
     "execution_count": 48,
     "metadata": {},
     "output_type": "execute_result"
    },
    {
     "data": {
      "image/png": "[encoded data removed]",
      "text/plain": [
       "<Figure size 432x288 with 1 Axes>"
      ]
     },
     "metadata": {
      "needs_background": "light"
     },
     "output_type": "display_data"
    }
   ],
   "source": [
    "data[\"hours_per_week\"].plot(kind=\"hist\")\n",
    "data[\"hours_per_week\"].describe()"
   ]
  },
  {
   "cell_type": "code",
   "execution_count": 49,
   "metadata": {
    "pycharm": {
     "is_executing": false
    }
   },
   "outputs": [
    {
     "data": {
      "text/plain": [
       "<matplotlib.axes._subplots.AxesSubplot at 0x1a1a07809b0>"
      ]
     },
     "execution_count": 49,
     "metadata": {},
     "output_type": "execute_result"
    },
    {
     "data": {
      "image/png": "[encoded data removed]",
      "text/plain": [
       "<Figure size 432x288 with 1 Axes>"
      ]
     },
     "metadata": {
      "needs_background": "light"
     },
     "output_type": "display_data"
    }
   ],
   "source": [
    "sns.boxplot('hours_per_week', data=data)"
   ]
  },
  {
   "cell_type": "markdown",
   "metadata": {},
   "source": [
    "Nepamatas sa, co nam hovoril s tymto, ze co robit, ked tam niekto tych 99 hodin, ci to nechat alebo co?"
   ]
  },
  {
   "cell_type": "markdown",
   "metadata": {},
   "source": [
    "## Agregovane hodnoty kyslika"
   ]
  },
  {
   "cell_type": "markdown",
   "metadata": {},
   "source": [
    "### skewness"
   ]
  },
  {
   "cell_type": "code",
   "execution_count": 50,
   "metadata": {
    "pycharm": {
     "is_executing": false
    }
   },
   "outputs": [
    {
     "data": {
      "text/plain": [
       "1"
      ]
     },
     "execution_count": 50,
     "metadata": {},
     "output_type": "execute_result"
    }
   ],
   "source": [
    "data[\"skewness_oxygen\"].isnull().sum()"
   ]
  },
  {
   "cell_type": "code",
   "execution_count": 51,
   "metadata": {
    "pycharm": {
     "is_executing": false
    }
   },
   "outputs": [
    {
     "data": {
      "text/plain": [
       "count    3932.000000\n",
       "mean       91.297976\n",
       "std       108.565808\n",
       "min        -1.976976\n",
       "25%        12.863954\n",
       "50%        68.476815\n",
       "75%       127.017151\n",
       "max      1191.000837\n",
       "Name: skewness_oxygen, dtype: float64"
      ]
     },
     "execution_count": 51,
     "metadata": {},
     "output_type": "execute_result"
    },
    {
     "data": {
      "image/png": "[encoded data removed]",
      "text/plain": [
       "<Figure size 432x288 with 1 Axes>"
      ]
     },
     "metadata": {
      "needs_background": "light"
     },
     "output_type": "display_data"
    }
   ],
   "source": [
    "data[\"skewness_oxygen\"].plot(kind=\"hist\")\n",
    "data[\"skewness_oxygen\"].describe()"
   ]
  },
  {
   "cell_type": "code",
   "execution_count": 52,
   "metadata": {
    "pycharm": {
     "is_executing": false
    }
   },
   "outputs": [
    {
     "data": {
      "text/plain": [
       "<matplotlib.axes._subplots.AxesSubplot at 0x1a1a05cbc50>"
      ]
     },
     "execution_count": 52,
     "metadata": {},
     "output_type": "execute_result"
    },
    {
     "data": {
      "image/png": "[encoded data removed]",
      "text/plain": [
       "<Figure size 432x288 with 1 Axes>"
      ]
     },
     "metadata": {
      "needs_background": "light"
     },
     "output_type": "display_data"
    }
   ],
   "source": [
    "sns.boxplot('skewness_oxygen', data=data)"
   ]
  },
  {
   "cell_type": "code",
   "execution_count": 53,
   "metadata": {
    "pycharm": {
     "is_executing": false
    }
   },
   "outputs": [
    {
     "data": {
      "text/plain": [
       "<matplotlib.axes._subplots.AxesSubplot at 0x1a1a03cde80>"
      ]
     },
     "execution_count": 53,
     "metadata": {},
     "output_type": "execute_result"
    },
    {
     "data": {
      "image/png": "[encoded data removed]",
      "text/plain": [
       "<Figure size 432x288 with 1 Axes>"
      ]
     },
     "metadata": {
      "needs_background": "light"
     },
     "output_type": "display_data"
    }
   ],
   "source": [
    "dff= data[\"skewness_oxygen\"].clip( upper=data[\"skewness_oxygen\"].quantile(0.95))\n",
    "dff.plot(kind=\"hist\")"
   ]
  },
  {
   "cell_type": "markdown",
   "metadata": {},
   "source": [
    "NOTE: pouvazovat nad transformaciou"
   ]
  },
  {
   "cell_type": "markdown",
   "metadata": {},
   "source": [
    "### mean"
   ]
  },
  {
   "cell_type": "code",
   "execution_count": 54,
   "metadata": {
    "pycharm": {
     "is_executing": false
    }
   },
   "outputs": [
    {
     "data": {
      "text/plain": [
       "1"
      ]
     },
     "execution_count": 54,
     "metadata": {},
     "output_type": "execute_result"
    }
   ],
   "source": [
    "data[\"mean_oxygen\"].isnull().sum()"
   ]
  },
  {
   "cell_type": "code",
   "execution_count": 55,
   "metadata": {
    "pycharm": {
     "is_executing": false
    }
   },
   "outputs": [
    {
     "data": {
      "text/plain": [
       "count    3932.000000\n",
       "mean       18.480697\n",
       "std        34.792756\n",
       "min         0.213211\n",
       "25%         2.064799\n",
       "50%         3.236622\n",
       "75%        12.635452\n",
       "max       217.371238\n",
       "Name: mean_oxygen, dtype: float64"
      ]
     },
     "execution_count": 55,
     "metadata": {},
     "output_type": "execute_result"
    },
    {
     "data": {
      "image/png": "[encoded data removed]",
      "text/plain": [
       "<Figure size 432x288 with 1 Axes>"
      ]
     },
     "metadata": {
      "needs_background": "light"
     },
     "output_type": "display_data"
    }
   ],
   "source": [
    "data[\"mean_oxygen\"].plot(kind=\"hist\")\n",
    "data[\"mean_oxygen\"].describe()"
   ]
  },
  {
   "cell_type": "code",
   "execution_count": 56,
   "metadata": {
    "pycharm": {
     "is_executing": false
    }
   },
   "outputs": [
    {
     "data": {
      "text/plain": [
       "<matplotlib.axes._subplots.AxesSubplot at 0x1a1a0199b70>"
      ]
     },
     "execution_count": 56,
     "metadata": {},
     "output_type": "execute_result"
    },
    {
     "data": {
      "image/png": "[encoded data removed]",
      "text/plain": [
       "<Figure size 432x288 with 1 Axes>"
      ]
     },
     "metadata": {
      "needs_background": "light"
     },
     "output_type": "display_data"
    }
   ],
   "source": [
    "sns.boxplot('mean_oxygen', data=data)"
   ]
  },
  {
   "cell_type": "code",
   "execution_count": 57,
   "metadata": {
    "pycharm": {
     "is_executing": false
    }
   },
   "outputs": [
    {
     "data": {
      "text/plain": [
       "<matplotlib.axes._subplots.AxesSubplot at 0x1a1a032ce48>"
      ]
     },
     "execution_count": 57,
     "metadata": {},
     "output_type": "execute_result"
    },
    {
     "data": {
      "image/png": "[encoded data removed]",
      "text/plain": [
       "<Figure size 432x288 with 1 Axes>"
      ]
     },
     "metadata": {
      "needs_background": "light"
     },
     "output_type": "display_data"
    }
   ],
   "source": [
    "dff= data[\"mean_oxygen\"].clip( upper=data[\"mean_oxygen\"].quantile(0.95))\n",
    "dff.plot(kind=\"hist\")"
   ]
  },
  {
   "cell_type": "markdown",
   "metadata": {},
   "source": [
    "### kurtosis"
   ]
  },
  {
   "cell_type": "code",
   "execution_count": 58,
   "metadata": {
    "pycharm": {
     "is_executing": false
    }
   },
   "outputs": [
    {
     "data": {
      "text/plain": [
       "1"
      ]
     },
     "execution_count": 58,
     "metadata": {},
     "output_type": "execute_result"
    }
   ],
   "source": [
    "data[\"kurtosis_oxygen\"].isnull().sum()"
   ]
  },
  {
   "cell_type": "code",
   "execution_count": 59,
   "metadata": {
    "pycharm": {
     "is_executing": false
    }
   },
   "outputs": [
    {
     "data": {
      "text/plain": [
       "count    3932.000000\n",
       "mean        7.413030\n",
       "std         4.812690\n",
       "min        -2.597872\n",
       "25%         3.636259\n",
       "50%         7.781903\n",
       "75%        10.263412\n",
       "max        34.539844\n",
       "Name: kurtosis_oxygen, dtype: float64"
      ]
     },
     "execution_count": 59,
     "metadata": {},
     "output_type": "execute_result"
    },
    {
     "data": {
      "image/png": "[encoded data removed]",
      "text/plain": [
       "<Figure size 432x288 with 1 Axes>"
      ]
     },
     "metadata": {
      "needs_background": "light"
     },
     "output_type": "display_data"
    }
   ],
   "source": [
    "data[\"kurtosis_oxygen\"].plot(kind=\"hist\")\n",
    "data[\"kurtosis_oxygen\"].describe()"
   ]
  },
  {
   "cell_type": "code",
   "execution_count": 60,
   "metadata": {
    "pycharm": {
     "is_executing": false
    }
   },
   "outputs": [
    {
     "data": {
      "text/plain": [
       "<matplotlib.axes._subplots.AxesSubplot at 0x1a19fb65358>"
      ]
     },
     "execution_count": 60,
     "metadata": {},
     "output_type": "execute_result"
    },
    {
     "data": {
      "image/png": "[encoded data removed]",
      "text/plain": [
       "<Figure size 432x288 with 1 Axes>"
      ]
     },
     "metadata": {
      "needs_background": "light"
     },
     "output_type": "display_data"
    }
   ],
   "source": [
    "sns.boxplot('kurtosis_oxygen', data=data)"
   ]
  },
  {
   "cell_type": "code",
   "execution_count": 61,
   "metadata": {
    "pycharm": {
     "is_executing": false
    }
   },
   "outputs": [
    {
     "data": {
      "text/plain": [
       "<matplotlib.axes._subplots.AxesSubplot at 0x1a1a0248b38>"
      ]
     },
     "execution_count": 61,
     "metadata": {},
     "output_type": "execute_result"
    },
    {
     "data": {
      "image/png": "[encoded data removed]",
      "text/plain": [
       "<Figure size 432x288 with 1 Axes>"
      ]
     },
     "metadata": {
      "needs_background": "light"
     },
     "output_type": "display_data"
    }
   ],
   "source": [
    "dff= data[\"kurtosis_oxygen\"].clip( upper=data[\"kurtosis_oxygen\"].quantile(0.95))\n",
    "dff.plot(kind=\"hist\")"
   ]
  },
  {
   "cell_type": "markdown",
   "metadata": {},
   "source": [
    "### std"
   ]
  },
  {
   "cell_type": "code",
   "execution_count": 62,
   "metadata": {
    "pycharm": {
     "is_executing": false
    }
   },
   "outputs": [
    {
     "data": {
      "text/plain": [
       "1"
      ]
     },
     "execution_count": 62,
     "metadata": {},
     "output_type": "execute_result"
    }
   ],
   "source": [
    "data[\"std_oxygen\"].isnull().sum()"
   ]
  },
  {
   "cell_type": "code",
   "execution_count": 63,
   "metadata": {
    "pycharm": {
     "is_executing": false
    }
   },
   "outputs": [
    {
     "data": {
      "text/plain": [
       "count    3932.000000\n",
       "mean       31.156134\n",
       "std        22.269386\n",
       "min         7.370432\n",
       "25%        15.039457\n",
       "50%        20.564154\n",
       "75%        43.229414\n",
       "max       110.642211\n",
       "Name: std_oxygen, dtype: float64"
      ]
     },
     "execution_count": 63,
     "metadata": {},
     "output_type": "execute_result"
    },
    {
     "data": {
      "image/png": "[encoded data removed]",
      "text/plain": [
       "<Figure size 432x288 with 1 Axes>"
      ]
     },
     "metadata": {
      "needs_background": "light"
     },
     "output_type": "display_data"
    }
   ],
   "source": [
    "data[\"std_oxygen\"].plot(kind=\"hist\")\n",
    "data[\"std_oxygen\"].describe()"
   ]
  },
  {
   "cell_type": "code",
   "execution_count": 64,
   "metadata": {
    "pycharm": {
     "is_executing": false
    }
   },
   "outputs": [
    {
     "data": {
      "text/plain": [
       "<matplotlib.axes._subplots.AxesSubplot at 0x1a1a084dd30>"
      ]
     },
     "execution_count": 64,
     "metadata": {},
     "output_type": "execute_result"
    },
    {
     "data": {
      "image/png": "[encoded data removed]",
      "text/plain": [
       "<Figure size 432x288 with 1 Axes>"
      ]
     },
     "metadata": {
      "needs_background": "light"
     },
     "output_type": "display_data"
    }
   ],
   "source": [
    "sns.boxplot('std_oxygen', data=data)"
   ]
  },
  {
   "cell_type": "code",
   "execution_count": 65,
   "metadata": {
    "pycharm": {
     "is_executing": false
    }
   },
   "outputs": [
    {
     "data": {
      "text/plain": [
       "<matplotlib.axes._subplots.AxesSubplot at 0x1a1a00906d8>"
      ]
     },
     "execution_count": 65,
     "metadata": {},
     "output_type": "execute_result"
    },
    {
     "data": {
      "image/png": "[encoded data removed]",
      "text/plain": [
       "<Figure size 432x288 with 1 Axes>"
      ]
     },
     "metadata": {
      "needs_background": "light"
     },
     "output_type": "display_data"
    }
   ],
   "source": [
    "dff= data[\"std_oxygen\"].clip( upper=data[\"std_oxygen\"].quantile(0.95))\n",
    "dff.plot(kind=\"hist\")"
   ]
  },
  {
   "cell_type": "code",
   "execution_count": 66,
   "metadata": {
    "pycharm": {
     "is_executing": false
    }
   },
   "outputs": [
    {
     "name": "stdout",
     "output_type": "stream",
     "text": [
      "<class 'pandas.core.frame.DataFrame'>\n",
      "Int64Index: 3933 entries, 0 to 3932\n",
      "Data columns (total 26 columns):\n",
      "state               3933 non-null object\n",
      "age                 3933 non-null float64\n",
      "male                3933 non-null float64\n",
      "birth_month         3933 non-null float64\n",
      "race                3932 non-null object\n",
      "marital_status      3540 non-null object\n",
      "occupation          3695 non-null object\n",
      "pregnant            3933 non-null float64\n",
      "relationship        3933 non-null object\n",
      "skewness_glucose    3932 non-null float64\n",
      "mean_glucose        3933 non-null float64\n",
      "capital_gain        3933 non-null float64\n",
      "kurtosis_glucose    3932 non-null float64\n",
      "education           3933 non-null float64\n",
      "fnlwgt              3933 non-null float64\n",
      "class               3933 non-null float64\n",
      "std_glucose         3933 non-null float64\n",
      "income              3932 non-null object\n",
      "native_country      3852 non-null object\n",
      "hours_per_week      3933 non-null float64\n",
      "capital_loss        3933 non-null float64\n",
      "workclass           3695 non-null object\n",
      "mean_oxygen         3932 non-null float64\n",
      "std_oxygen          3932 non-null float64\n",
      "kurtosis_oxygen     3932 non-null float64\n",
      "skewness_oxygen     3932 non-null float64\n",
      "dtypes: float64(18), object(8)\n",
      "memory usage: 829.6+ KB\n"
     ]
    }
   ],
   "source": [
    "data.info()"
   ]
  },
  {
   "cell_type": "code",
   "execution_count": null,
   "metadata": {
    "pycharm": {
     "is_executing": false
    }
   },
   "outputs": [],
   "source": []
  },
  {
   "cell_type": "markdown",
   "metadata": {},
   "source": [
    "## spojenie capital_loss a capital_gain"
   ]
  },
  {
   "cell_type": "code",
   "execution_count": 67,
   "metadata": {
    "pycharm": {
     "is_executing": false
    }
   },
   "outputs": [],
   "source": [
    "data = data.assign(capital=np.NaN)\n",
    "data.capital = data.capital_gain - data.capital_loss\n",
    "data = data.drop(columns=['capital_loss','capital_gain'])"
   ]
  },
  {
   "cell_type": "markdown",
   "metadata": {
    "pycharm": {
     "is_executing": true
    }
   },
   "source": [
    "TODO:\n",
    "- doplnit NaN hodnoty podla metod popisanych v zadani (najma tie ciselne).\n",
    "- pozriet ciselne outliery, nahradzat podla metod v zadani\n",
    "- doplnit marital-status cez relationship\n",
    "- prieskumna analyza pre oxygeny, education, age, birth_month"
   ]
  }
 ],
 "metadata": {
  "kernelspec": {
   "display_name": "Python 3",
   "language": "python",
   "name": "python3"
  },
  "language_info": {
   "codemirror_mode": {
    "name": "ipython",
    "version": 3
   },
   "file_extension": ".py",
   "mimetype": "text/x-python",
   "name": "python",
   "nbconvert_exporter": "python",
   "pygments_lexer": "ipython3",
   "version": "3.7.3"
  },
  "pycharm": {
   "stem_cell": {
    "cell_type": "raw",
    "metadata": {
     "collapsed": false
    },
    "source": []
   }
  }
 },
 "nbformat": 4,
 "nbformat_minor": 1
}
