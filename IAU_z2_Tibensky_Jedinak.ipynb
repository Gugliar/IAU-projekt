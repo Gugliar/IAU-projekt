{
 "cells": [
  {
   "cell_type": "markdown",
   "metadata": {},
   "source": [
    "# Inteligentná analýza údajov 2019/2020 - Projekt\n",
    "## Druhá časť - predspracovanie\n",
    "## Ondrej Jedinák, František Tibenský"
   ]
  },
  {
   "cell_type": "code",
   "execution_count": 1,
   "metadata": {
    "pycharm": {
     "is_executing": true
    }
   },
   "outputs": [],
   "source": [
    "import pandas as pd\n",
    "import numpy as np\n",
    "import json\n",
    "import seaborn as sns\n",
    "import matplotlib.pyplot as plt\n",
    "\n",
    "from IPython.display import display\n",
    "\n",
    "pd.options.display.max_colwidth=130\n",
    "pd.set_option(\"display.max_columns\", None)"
   ]
  },
  {
   "cell_type": "markdown",
   "metadata": {},
   "source": [
    "## Konfigurácia"
   ]
  },
  {
   "cell_type": "code",
   "execution_count": 2,
   "metadata": {
    "pycharm": {
     "is_executing": true
    }
   },
   "outputs": [],
   "source": [
    "IN_PERSONAL = \"data/personal_train.csv\"\n",
    "IN_OTHER = \"data/other_train.csv\"\n",
    "OUT = \"preprocessed.csv\"\n",
    "DATUM = \"now\""
   ]
  },
  {
   "cell_type": "markdown",
   "metadata": {},
   "source": [
    "## ---------------------"
   ]
  },
  {
   "cell_type": "code",
   "execution_count": 3,
   "metadata": {
    "pycharm": {
     "is_executing": true
    }
   },
   "outputs": [],
   "source": [
    "personal_data = pd.read_csv(IN_PERSONAL, index_col=0)\n",
    "data = pd.read_csv(IN_OTHER, index_col=0)"
   ]
  },
  {
   "cell_type": "code",
   "execution_count": 4,
   "metadata": {
    "pycharm": {
     "is_executing": true
    }
   },
   "outputs": [],
   "source": [
    "for ds in [personal_data, data]:\n",
    "    cls=ds.columns\n",
    "    cl2=[]\n",
    "    for cl in cls:\n",
    "        cl2.append(cl.replace(\"-\",\"_\"))\n",
    "    ds.rename(columns={i:j for i,j in zip(cls,cl2)}, inplace=True)"
   ]
  },
  {
   "cell_type": "markdown",
   "metadata": {},
   "source": [
    "Nastavíme konzistentné názvy atribútov pre lepšiu prehľadnosť."
   ]
  },
  {
   "cell_type": "code",
   "execution_count": 5,
   "metadata": {
    "pycharm": {
     "is_executing": true
    }
   },
   "outputs": [],
   "source": [
    "for ds in [data, personal_data]:\n",
    "    for col in ds:\n",
    "        if ds[col].dtype=='object':\n",
    "            ds[col]=ds[col].str.strip()\n",
    "\n",
    "data=data.replace('?',np.NaN)\n",
    "data=data.replace('??',np.NaN)"
   ]
  },
  {
   "cell_type": "markdown",
   "metadata": {},
   "source": [
    "Odstránime zo všetkých textových atribútov prázdne znaky na začiatku a konci a zmeníme hodnoty s otáznikmi na NaN."
   ]
  },
  {
   "cell_type": "code",
   "execution_count": 6,
   "metadata": {
    "pycharm": {
     "is_executing": true
    }
   },
   "outputs": [
    {
     "data": {
      "text/html": [
       "<div>\n",
       "<style scoped>\n",
       "    .dataframe tbody tr th:only-of-type {\n",
       "        vertical-align: middle;\n",
       "    }\n",
       "\n",
       "    .dataframe tbody tr th {\n",
       "        vertical-align: top;\n",
       "    }\n",
       "\n",
       "    .dataframe thead th {\n",
       "        text-align: right;\n",
       "    }\n",
       "</style>\n",
       "<table border=\"1\" class=\"dataframe\">\n",
       "  <thead>\n",
       "    <tr style=\"text-align: right;\">\n",
       "      <th></th>\n",
       "      <th>name</th>\n",
       "      <th>address</th>\n",
       "      <th>age</th>\n",
       "      <th>sex</th>\n",
       "      <th>date_of_birth</th>\n",
       "    </tr>\n",
       "  </thead>\n",
       "  <tbody>\n",
       "    <tr>\n",
       "      <th>0</th>\n",
       "      <td>Roscoe Bohannon</td>\n",
       "      <td>7183 Osborne Ways Apt. 651\\r\\nEast Andrew, OH 53211</td>\n",
       "      <td>58</td>\n",
       "      <td>Male</td>\n",
       "      <td>1961-03-11</td>\n",
       "    </tr>\n",
       "    <tr>\n",
       "      <th>1</th>\n",
       "      <td>Ernest Kline</td>\n",
       "      <td>391 Ball Road Suite 961\\r\\nFlowersborough, IN 57550</td>\n",
       "      <td>56</td>\n",
       "      <td>Female</td>\n",
       "      <td>1962/11/20</td>\n",
       "    </tr>\n",
       "    <tr>\n",
       "      <th>2</th>\n",
       "      <td>Harold Hendriks</td>\n",
       "      <td>8702 Vincent Square\\r\\nNew Jerryfurt, CO 30614</td>\n",
       "      <td>59</td>\n",
       "      <td>Male</td>\n",
       "      <td>11/12/1959</td>\n",
       "    </tr>\n",
       "    <tr>\n",
       "      <th>3</th>\n",
       "      <td>Randy Baptiste</td>\n",
       "      <td>2751 Harris Crossroad\\r\\nWest Ashley, CA 30311</td>\n",
       "      <td>66</td>\n",
       "      <td>Female</td>\n",
       "      <td>1953-03-18</td>\n",
       "    </tr>\n",
       "    <tr>\n",
       "      <th>4</th>\n",
       "      <td>Anthony Colucci</td>\n",
       "      <td>904 Robert Cliffs Suite 186\\r\\nWest Kyle, CO 77139</td>\n",
       "      <td>64</td>\n",
       "      <td>Male</td>\n",
       "      <td>1954-12-12</td>\n",
       "    </tr>\n",
       "  </tbody>\n",
       "</table>\n",
       "</div>"
      ],
      "text/plain": [
       "              name                                              address  age  \\\n",
       "0  Roscoe Bohannon  7183 Osborne Ways Apt. 651\\r\\nEast Andrew, OH 53211   58   \n",
       "1     Ernest Kline  391 Ball Road Suite 961\\r\\nFlowersborough, IN 57550   56   \n",
       "2  Harold Hendriks       8702 Vincent Square\\r\\nNew Jerryfurt, CO 30614   59   \n",
       "3   Randy Baptiste       2751 Harris Crossroad\\r\\nWest Ashley, CA 30311   66   \n",
       "4  Anthony Colucci   904 Robert Cliffs Suite 186\\r\\nWest Kyle, CO 77139   64   \n",
       "\n",
       "      sex date_of_birth  \n",
       "0    Male    1961-03-11  \n",
       "1  Female    1962/11/20  \n",
       "2    Male    11/12/1959  \n",
       "3  Female    1953-03-18  \n",
       "4    Male    1954-12-12  "
      ]
     },
     "metadata": {},
     "output_type": "display_data"
    },
    {
     "data": {
      "text/html": [
       "<div>\n",
       "<style scoped>\n",
       "    .dataframe tbody tr th:only-of-type {\n",
       "        vertical-align: middle;\n",
       "    }\n",
       "\n",
       "    .dataframe tbody tr th {\n",
       "        vertical-align: top;\n",
       "    }\n",
       "\n",
       "    .dataframe thead th {\n",
       "        text-align: right;\n",
       "    }\n",
       "</style>\n",
       "<table border=\"1\" class=\"dataframe\">\n",
       "  <thead>\n",
       "    <tr style=\"text-align: right;\">\n",
       "      <th></th>\n",
       "      <th>name</th>\n",
       "      <th>address</th>\n",
       "      <th>race</th>\n",
       "      <th>marital_status</th>\n",
       "      <th>occupation</th>\n",
       "      <th>pregnant</th>\n",
       "      <th>education_num</th>\n",
       "      <th>relationship</th>\n",
       "      <th>skewness_glucose</th>\n",
       "      <th>mean_glucose</th>\n",
       "      <th>capital_gain</th>\n",
       "      <th>kurtosis_glucose</th>\n",
       "      <th>education</th>\n",
       "      <th>fnlwgt</th>\n",
       "      <th>class</th>\n",
       "      <th>std_glucose</th>\n",
       "      <th>income</th>\n",
       "      <th>medical_info</th>\n",
       "      <th>native_country</th>\n",
       "      <th>hours_per_week</th>\n",
       "      <th>capital_loss</th>\n",
       "      <th>workclass</th>\n",
       "    </tr>\n",
       "  </thead>\n",
       "  <tbody>\n",
       "    <tr>\n",
       "      <th>0</th>\n",
       "      <td>Ernest Valles</td>\n",
       "      <td>698 Miller Gateway Apt. 970\\r\\nClayside, ND 13457</td>\n",
       "      <td>White</td>\n",
       "      <td>Married-civ-spouse</td>\n",
       "      <td>Adm-clerical</td>\n",
       "      <td>f</td>\n",
       "      <td>10.0</td>\n",
       "      <td>Husband</td>\n",
       "      <td>0.198684</td>\n",
       "      <td>105.859375</td>\n",
       "      <td>0.0</td>\n",
       "      <td>0.222954</td>\n",
       "      <td>Some-college</td>\n",
       "      <td>343789.0</td>\n",
       "      <td>0.0</td>\n",
       "      <td>48.744348</td>\n",
       "      <td>&gt;50K</td>\n",
       "      <td>{'mean_oxygen':'0.790133779','std_oxygen':'10.13249696','kurtosis_oxygen':'17.68151382','skewness_oxygen':'374.9257754'}</td>\n",
       "      <td>United-States</td>\n",
       "      <td>40.0</td>\n",
       "      <td>0.0</td>\n",
       "      <td>State-gov</td>\n",
       "    </tr>\n",
       "    <tr>\n",
       "      <th>1</th>\n",
       "      <td>Michael Kowal</td>\n",
       "      <td>4784 Walters Extensions\\r\\nEast Whitney, NH 27458</td>\n",
       "      <td>White</td>\n",
       "      <td>NaN</td>\n",
       "      <td>Sales</td>\n",
       "      <td>F</td>\n",
       "      <td>13.0</td>\n",
       "      <td>Not-in-family</td>\n",
       "      <td>-0.334631</td>\n",
       "      <td>120.453125</td>\n",
       "      <td>0.0</td>\n",
       "      <td>-0.049047</td>\n",
       "      <td>Bachelors</td>\n",
       "      <td>188957.0</td>\n",
       "      <td>0.0</td>\n",
       "      <td>50.982512</td>\n",
       "      <td>&lt;=50K</td>\n",
       "      <td>{'mean_oxygen':'18.69147157','std_oxygen':'51.21049055','kurtosis_oxygen':'2.541428789','skewness_oxygen':'4.930561896'}</td>\n",
       "      <td>United-States</td>\n",
       "      <td>40.0</td>\n",
       "      <td>0.0</td>\n",
       "      <td>Self-emp-not-inc</td>\n",
       "    </tr>\n",
       "    <tr>\n",
       "      <th>2</th>\n",
       "      <td>Mike Rogers</td>\n",
       "      <td>068 Baker Estates Apt. 300\\r\\nRoberttown, NV 50205</td>\n",
       "      <td>White</td>\n",
       "      <td>Married-civ-spouse</td>\n",
       "      <td>Sales</td>\n",
       "      <td>f</td>\n",
       "      <td>13.0</td>\n",
       "      <td>Husband</td>\n",
       "      <td>0.030878</td>\n",
       "      <td>117.257812</td>\n",
       "      <td>0.0</td>\n",
       "      <td>0.121774</td>\n",
       "      <td>Bachelors</td>\n",
       "      <td>112283.0</td>\n",
       "      <td>0.0</td>\n",
       "      <td>42.893263</td>\n",
       "      <td>&lt;=50K</td>\n",
       "      <td>{'mean_oxygen':'1.150501672','std_oxygen':'11.49825164','kurtosis_oxygen':'16.48789423','skewness_oxygen':'320.6702352'}</td>\n",
       "      <td>United-States</td>\n",
       "      <td>55.0</td>\n",
       "      <td>0.0</td>\n",
       "      <td>Private</td>\n",
       "    </tr>\n",
       "    <tr>\n",
       "      <th>3</th>\n",
       "      <td>Marvin Cherry</td>\n",
       "      <td>75326 Odom Drive\\r\\nNorth Robert, SC 99612</td>\n",
       "      <td>White</td>\n",
       "      <td>Married-civ-spouse</td>\n",
       "      <td>Farming-fishing</td>\n",
       "      <td>f</td>\n",
       "      <td>9.0</td>\n",
       "      <td>Husband</td>\n",
       "      <td>0.636882</td>\n",
       "      <td>99.429688</td>\n",
       "      <td>0.0</td>\n",
       "      <td>0.349696</td>\n",
       "      <td>HS-grad</td>\n",
       "      <td>166416.0</td>\n",
       "      <td>0.0</td>\n",
       "      <td>43.658777</td>\n",
       "      <td>&lt;=50K</td>\n",
       "      <td>{'mean_oxygen':'0.387123746','std_oxygen':'8.683190316000001','kurtosis_oxygen':'25.389201','skewness_oxygen':'685.06342239999...</td>\n",
       "      <td>United-States</td>\n",
       "      <td>99.0</td>\n",
       "      <td>0.0</td>\n",
       "      <td>Self-emp-not-inc</td>\n",
       "    </tr>\n",
       "    <tr>\n",
       "      <th>4</th>\n",
       "      <td>Bernard Williams</td>\n",
       "      <td>258 Valerie Throughway\\r\\nSouth Samanthafort, TX 69130</td>\n",
       "      <td>Black</td>\n",
       "      <td>Widowed</td>\n",
       "      <td>Other-service</td>\n",
       "      <td>f</td>\n",
       "      <td>700.0</td>\n",
       "      <td>Not-in-family</td>\n",
       "      <td>0.105785</td>\n",
       "      <td>109.382812</td>\n",
       "      <td>0.0</td>\n",
       "      <td>0.232842</td>\n",
       "      <td>11th</td>\n",
       "      <td>462440.0</td>\n",
       "      <td>0.0</td>\n",
       "      <td>48.991568</td>\n",
       "      <td>&lt;=50K</td>\n",
       "      <td>{'mean_oxygen':'0.945652174','std_oxygen':'12.0495586','kurtosis_oxygen':'14.8422644','skewness_oxygen':'245.358921'}</td>\n",
       "      <td>United-States</td>\n",
       "      <td>20.0</td>\n",
       "      <td>0.0</td>\n",
       "      <td>Private</td>\n",
       "    </tr>\n",
       "  </tbody>\n",
       "</table>\n",
       "</div>"
      ],
      "text/plain": [
       "               name                                                 address  \\\n",
       "0     Ernest Valles       698 Miller Gateway Apt. 970\\r\\nClayside, ND 13457   \n",
       "1     Michael Kowal       4784 Walters Extensions\\r\\nEast Whitney, NH 27458   \n",
       "2       Mike Rogers      068 Baker Estates Apt. 300\\r\\nRoberttown, NV 50205   \n",
       "3     Marvin Cherry              75326 Odom Drive\\r\\nNorth Robert, SC 99612   \n",
       "4  Bernard Williams  258 Valerie Throughway\\r\\nSouth Samanthafort, TX 69130   \n",
       "\n",
       "    race      marital_status       occupation pregnant  education_num  \\\n",
       "0  White  Married-civ-spouse     Adm-clerical        f           10.0   \n",
       "1  White                 NaN            Sales        F           13.0   \n",
       "2  White  Married-civ-spouse            Sales        f           13.0   \n",
       "3  White  Married-civ-spouse  Farming-fishing        f            9.0   \n",
       "4  Black             Widowed    Other-service        f          700.0   \n",
       "\n",
       "    relationship  skewness_glucose  mean_glucose  capital_gain  \\\n",
       "0        Husband          0.198684    105.859375           0.0   \n",
       "1  Not-in-family         -0.334631    120.453125           0.0   \n",
       "2        Husband          0.030878    117.257812           0.0   \n",
       "3        Husband          0.636882     99.429688           0.0   \n",
       "4  Not-in-family          0.105785    109.382812           0.0   \n",
       "\n",
       "   kurtosis_glucose     education    fnlwgt  class  std_glucose income  \\\n",
       "0          0.222954  Some-college  343789.0    0.0    48.744348   >50K   \n",
       "1         -0.049047     Bachelors  188957.0    0.0    50.982512  <=50K   \n",
       "2          0.121774     Bachelors  112283.0    0.0    42.893263  <=50K   \n",
       "3          0.349696       HS-grad  166416.0    0.0    43.658777  <=50K   \n",
       "4          0.232842          11th  462440.0    0.0    48.991568  <=50K   \n",
       "\n",
       "                                                                                                                        medical_info  \\\n",
       "0           {'mean_oxygen':'0.790133779','std_oxygen':'10.13249696','kurtosis_oxygen':'17.68151382','skewness_oxygen':'374.9257754'}   \n",
       "1           {'mean_oxygen':'18.69147157','std_oxygen':'51.21049055','kurtosis_oxygen':'2.541428789','skewness_oxygen':'4.930561896'}   \n",
       "2           {'mean_oxygen':'1.150501672','std_oxygen':'11.49825164','kurtosis_oxygen':'16.48789423','skewness_oxygen':'320.6702352'}   \n",
       "3  {'mean_oxygen':'0.387123746','std_oxygen':'8.683190316000001','kurtosis_oxygen':'25.389201','skewness_oxygen':'685.06342239999...   \n",
       "4              {'mean_oxygen':'0.945652174','std_oxygen':'12.0495586','kurtosis_oxygen':'14.8422644','skewness_oxygen':'245.358921'}   \n",
       "\n",
       "  native_country  hours_per_week  capital_loss         workclass  \n",
       "0  United-States            40.0           0.0         State-gov  \n",
       "1  United-States            40.0           0.0  Self-emp-not-inc  \n",
       "2  United-States            55.0           0.0           Private  \n",
       "3  United-States            99.0           0.0  Self-emp-not-inc  \n",
       "4  United-States            20.0           0.0           Private  "
      ]
     },
     "execution_count": 6,
     "metadata": {},
     "output_type": "execute_result"
    }
   ],
   "source": [
    "display(personal_data.head())\n",
    "data.head()"
   ]
  },
  {
   "cell_type": "markdown",
   "metadata": {},
   "source": [
    "## date_of_birth"
   ]
  },
  {
   "cell_type": "markdown",
   "metadata": {},
   "source": [
    "Tento atribút má nekonzistentné formáty dátumov.\n",
    "\n",
    "Možne formáty dátumov:\n",
    "\n",
    "1. yyyy-mm-dd\n",
    "1. yyyy/mm/dd\n",
    "1. yy-mm-dd\n",
    "1. dd/mm/yyyy\n",
    "1. yyyy-mm-dd 00:00:00\n",
    "1. yyyy-mm-dd 00 00 00\n"
   ]
  },
  {
   "cell_type": "code",
   "execution_count": 7,
   "metadata": {
    "pycharm": {
     "is_executing": true
    }
   },
   "outputs": [],
   "source": [
    "personal_data[\"date_of_birth\"]=personal_data[\"date_of_birth\"].str.replace(\" .*\",\"\")\n",
    "personal_data[\"date_of_birth\"]=personal_data[\"date_of_birth\"].str.replace(\"/\",\"-\")\n",
    "personal_data['date_of_birth']=personal_data['date_of_birth'].str.replace(r'([0-9]{2})-([0-9]{2})-([0-9]{4})', r'\\3-\\2-\\1')\n",
    "\n",
    "personal_data['date_of_birth']=personal_data['date_of_birth'].str.replace(r'^(19-[0-9]{2}-[0-9]{2})',r'19\\1')\n",
    "personal_data['date_of_birth']=personal_data['date_of_birth'].str.replace(r'^([2-9][0-9]-[0-9]{2}-[0-9]{2})',r'19\\1')\n",
    "personal_data['date_of_birth']=personal_data['date_of_birth'].str.replace(r'^([0-1][0-9]-[0-9]{2}-[0-9]{2})',r'20\\1')"
   ]
  },
  {
   "cell_type": "markdown",
   "metadata": {},
   "source": [
    "chceme všetky dátumy dostať do 1. formátu\n",
    "- odstránime časové hodnoty\n",
    "- zmeníme všetky / na -\n",
    "- prehodíme rok a deň pri 4. prípade\n",
    "- doplníme prvé dve cifry roku pre 3. prípad"
   ]
  },
  {
   "cell_type": "code",
   "execution_count": 8,
   "metadata": {
    "pycharm": {
     "is_executing": true
    }
   },
   "outputs": [
    {
     "name": "stderr",
     "output_type": "stream",
     "text": [
      "D:\\Python\\lib\\site-packages\\ipykernel_launcher.py:1: UserWarning: This pattern has match groups. To actually get the groups, use str.extract.\n",
      "  \"\"\"Entry point for launching an IPython kernel.\n"
     ]
    },
    {
     "data": {
      "text/plain": [
       "array([ True])"
      ]
     },
     "execution_count": 8,
     "metadata": {},
     "output_type": "execute_result"
    }
   ],
   "source": [
    "personal_data[\"date_of_birth\"].str.contains(\"(^[0-9]{4}-((0[0-9])|(1[0-2]))-([0-2][0-9]|(3)[0-1])$)\").unique()"
   ]
  },
  {
   "cell_type": "markdown",
   "metadata": {},
   "source": [
    "Kontrola či sú formáty jednotné."
   ]
  },
  {
   "cell_type": "markdown",
   "metadata": {},
   "source": [
    "## age"
   ]
  },
  {
   "cell_type": "markdown",
   "metadata": {},
   "source": [
    "Zistíme rozdiely vo vekoch a dátumoch narodenia."
   ]
  },
  {
   "cell_type": "code",
   "execution_count": 9,
   "metadata": {
    "pycharm": {
     "is_executing": true
    }
   },
   "outputs": [
    {
     "data": {
      "text/plain": [
       "0.0    3620\n",
       "1.0     313\n",
       "dtype: int64"
      ]
     },
     "execution_count": 9,
     "metadata": {},
     "output_type": "execute_result"
    }
   ],
   "source": [
    "((pd.to_datetime(DATUM)-pd.to_datetime(personal_data[\"date_of_birth\"])).astype('<m8[Y]')-personal_data[\"age\"]).value_counts()"
   ]
  },
  {
   "cell_type": "markdown",
   "metadata": {},
   "source": [
    "V dátumoch narodenia a vekoch nie sú žiadne výrazné nezrovnalosti. Jediný problém je že niektoré veky neboli aktualizované pre aktuálny dátum. Tiež neexistuje žiaden dátum pre ktorý by neboli aspoň niektoré veky o jeden rok posunuté. Preto si nanovo vypočítame veky k jednotnému dátumu."
   ]
  },
  {
   "cell_type": "code",
   "execution_count": 10,
   "metadata": {
    "pycharm": {
     "is_executing": true
    }
   },
   "outputs": [],
   "source": [
    "personal_data[\"age\"]=((pd.to_datetime(DATUM)-pd.to_datetime(personal_data[\"date_of_birth\"])).astype('<m8[Y]'))"
   ]
  },
  {
   "cell_type": "markdown",
   "metadata": {},
   "source": [
    "Keďže nám bude ďalej celý dátum narodenia zbytočný lebo máme vek, ponecháme len mesiac narodenia."
   ]
  },
  {
   "cell_type": "code",
   "execution_count": 11,
   "metadata": {
    "pycharm": {
     "is_executing": true
    }
   },
   "outputs": [],
   "source": [
    "personal_data['date_of_birth']=personal_data['date_of_birth'].str.replace(r'([0-9]{4})-([0-9]{2})-([0-9]{2})', r'\\2').astype(str).astype(float)\n",
    "personal_data.rename(columns={\"date_of_birth\": \"birth_month\"},inplace=True)"
   ]
  },
  {
   "cell_type": "markdown",
   "metadata": {},
   "source": [
    "## workclass"
   ]
  },
  {
   "cell_type": "markdown",
   "metadata": {},
   "source": [
    "Opravíme nekonzistentné začiatočné písmená."
   ]
  },
  {
   "cell_type": "code",
   "execution_count": 12,
   "metadata": {
    "pycharm": {
     "is_executing": true
    }
   },
   "outputs": [
    {
     "data": {
      "text/plain": [
       "Private             2737\n",
       "Self-emp-not-inc     304\n",
       "Local-gov            266\n",
       "NaN                  256\n",
       "State-gov            146\n",
       "Self-emp-inc         145\n",
       "Federal-gov          125\n",
       "Without-pay            3\n",
       "Never-worked           1\n",
       "Name: workclass, dtype: int64"
      ]
     },
     "execution_count": 12,
     "metadata": {},
     "output_type": "execute_result"
    }
   ],
   "source": [
    "data[\"workclass\"]=data[\"workclass\"].str.capitalize()\n",
    "data[\"workclass\"].value_counts(dropna=False)"
   ]
  },
  {
   "cell_type": "markdown",
   "metadata": {},
   "source": [
    "## rozdelenie medical_data"
   ]
  },
  {
   "cell_type": "code",
   "execution_count": 13,
   "metadata": {
    "pycharm": {
     "is_executing": true
    }
   },
   "outputs": [],
   "source": [
    "data['medical_info']=data['medical_info'].replace(np.NaN,\"{}\")\n",
    "data['medical_info']=data['medical_info'].str.replace(\"'\",'\"')\n",
    "data=data.join(data['medical_info'].apply(json.loads).apply(pd.Series).astype(float))\n",
    "data = data.drop(columns='medical_info')"
   ]
  },
  {
   "cell_type": "markdown",
   "metadata": {},
   "source": [
    "Rozparsujeme hodnoty v JSON v medcal_data na samostatné stĺpce. Najprv však nahradíme NaN prázdnymi objektami a zmeníme uvodzovky aby boli validné pre JSON."
   ]
  },
  {
   "cell_type": "markdown",
   "metadata": {},
   "source": [
    "## education"
   ]
  },
  {
   "cell_type": "code",
   "execution_count": 14,
   "metadata": {
    "pycharm": {
     "is_executing": true
    }
   },
   "outputs": [
    {
     "data": {
      "text/plain": [
       "HS-grad         1279\n",
       "Some-college     910\n",
       "Bachelors        661\n",
       "Masters          207\n",
       "Assoc-voc        151\n",
       "Assoc-acdm       136\n",
       "11th             122\n",
       "10th             114\n",
       "7th-8th           92\n",
       "Prof-school       68\n",
       "9th               63\n",
       "12th              47\n",
       "Doctorate         46\n",
       "5th-6th           45\n",
       "1st-4th           14\n",
       "Preschool         10\n",
       "Name: education, dtype: int64"
      ]
     },
     "execution_count": 14,
     "metadata": {},
     "output_type": "execute_result"
    }
   ],
   "source": [
    "data['education']=data['education'].str.replace(\"_\",\"-\")\n",
    "data['education'].value_counts()"
   ]
  },
  {
   "cell_type": "markdown",
   "metadata": {},
   "source": [
    "Zjednotíme nahradenie medzier v hodnotách."
   ]
  },
  {
   "cell_type": "markdown",
   "metadata": {},
   "source": [
    "## education_num"
   ]
  },
  {
   "cell_type": "code",
   "execution_count": 15,
   "metadata": {
    "pycharm": {
     "is_executing": true
    }
   },
   "outputs": [
    {
     "data": {
      "text/plain": [
       "9.0     1151\n",
       "10.0     827\n",
       "13.0     589\n",
       "14.0     185\n",
       "11.0     141\n",
       "12.0     125\n",
       "7.0      109\n",
       "6.0       99\n",
       "4.0       82\n",
       "15.0      59\n",
       "5.0       59\n",
       "8.0       45\n",
       "16.0      41\n",
       "3.0       39\n",
       "2.0       13\n",
       "1.0        6\n",
       "Name: education_num, dtype: int64"
      ]
     },
     "execution_count": 15,
     "metadata": {},
     "output_type": "execute_result"
    }
   ],
   "source": [
    "def edu_num_fix(val):\n",
    "    if val<0:\n",
    "        val*=-1\n",
    "    if val>100:\n",
    "        val/=100\n",
    "    return val\n",
    "data['education_num']=data['education_num'].apply(edu_num_fix)\n",
    "data.education_num.value_counts()"
   ]
  },
  {
   "cell_type": "markdown",
   "metadata": {},
   "source": [
    "Zjednotíme hodnoty tak aby nám zostali len hodnoty od 1 do 16."
   ]
  },
  {
   "cell_type": "code",
   "execution_count": 16,
   "metadata": {
    "pycharm": {
     "is_executing": true
    }
   },
   "outputs": [
    {
     "name": "stdout",
     "output_type": "stream",
     "text": [
      "Preschool    6\n",
      "Name: education, dtype: int64\n",
      "1st-4th    13\n",
      "Name: education, dtype: int64\n",
      "5th-6th    39\n",
      "Name: education, dtype: int64\n",
      "7th-8th    81\n",
      "Name: education, dtype: int64\n",
      "9th    59\n",
      "Name: education, dtype: int64\n",
      "10th    99\n",
      "Name: education, dtype: int64\n",
      "11th    108\n",
      "Name: education, dtype: int64\n",
      "12th    45\n",
      "Name: education, dtype: int64\n",
      "HS-grad    1147\n",
      "Name: education, dtype: int64\n",
      "Some-college    823\n",
      "Name: education, dtype: int64\n",
      "Assoc-voc    141\n",
      "Name: education, dtype: int64\n",
      "Assoc-acdm    125\n",
      "Name: education, dtype: int64\n",
      "Bachelors    587\n",
      "Name: education, dtype: int64\n",
      "Masters    184\n",
      "Name: education, dtype: int64\n",
      "Prof-school    59\n",
      "Name: education, dtype: int64\n",
      "Doctorate    41\n",
      "Name: education, dtype: int64\n"
     ]
    }
   ],
   "source": [
    "for i in range(1,17):\n",
    "    print(str(data['education'][data.education_num==i].value_counts()))"
   ]
  },
  {
   "cell_type": "code",
   "execution_count": 17,
   "metadata": {
    "pycharm": {
     "is_executing": true
    }
   },
   "outputs": [
    {
     "data": {
      "text/plain": [
       "{'Preschool': 1,\n",
       " '1st-4th': 2,\n",
       " '5th-6th': 3,\n",
       " '7th-8th': 4,\n",
       " '9th': 5,\n",
       " '10th': 6,\n",
       " '11th': 7,\n",
       " '12th': 8,\n",
       " 'HS-grad': 9,\n",
       " 'Some-college': 10,\n",
       " 'Assoc-voc': 11,\n",
       " 'Assoc-acdm': 12,\n",
       " 'Bachelors': 13,\n",
       " 'Masters': 14,\n",
       " 'Prof-school': 15,\n",
       " 'Doctorate': 16}"
      ]
     },
     "execution_count": 17,
     "metadata": {},
     "output_type": "execute_result"
    }
   ],
   "source": [
    "edu={}\n",
    "for i in range(1,17):\n",
    "    edu[str(data['education'][data.education_num==i].value_counts()).split(\" \")[0]]=i\n",
    "edu"
   ]
  },
  {
   "cell_type": "markdown",
   "metadata": {},
   "source": [
    "Zistili sme že education_num je len číselná verzia eduaction. Doplníme podľa toho chýbajúce hodnoty education_num a stĺpec education môžeme zmazať."
   ]
  },
  {
   "cell_type": "code",
   "execution_count": 18,
   "metadata": {
    "pycharm": {
     "is_executing": true
    }
   },
   "outputs": [],
   "source": [
    "def edu_to_num(val):\n",
    "    if val in edu:\n",
    "        return edu[val]\n",
    "    else:\n",
    "        return np.NaN\n",
    "    \n",
    "data['education']=data['education'].apply(edu_to_num)\n",
    "data['education'].fillna(data['education_num'], inplace=True)\n",
    "\n",
    "data['education'].value_counts(dropna=False)\n",
    "data = data.drop(columns=['education_num'])"
   ]
  },
  {
   "cell_type": "markdown",
   "metadata": {},
   "source": [
    "## Odstránenie duplikátov"
   ]
  },
  {
   "cell_type": "code",
   "execution_count": 19,
   "metadata": {
    "pycharm": {
     "is_executing": true
    },
    "scrolled": true
   },
   "outputs": [],
   "source": [
    "def aggr(val):\n",
    "    o=set()\n",
    "    for v in val:\n",
    "        if not pd.isna(v):\n",
    "            o.add(v)\n",
    "    if len(o)==0:\n",
    "        return np.NaN\n",
    "    elif len(o)>1:\n",
    "        print(\"Pozor: viac moznych hodnot!\")\n",
    "        print(o)\n",
    "    return o.pop()\n",
    "    \n",
    "data=data.groupby(['name', 'address']).aggregate(aggr)"
   ]
  },
  {
   "cell_type": "markdown",
   "metadata": {},
   "source": [
    "Záznamy s rovnakými menami a adresami zjednotíme a doplníme ich hodnoty pomocou agregačnej funkcie."
   ]
  },
  {
   "cell_type": "markdown",
   "metadata": {},
   "source": [
    "## Spojenie dvoch tabuliek"
   ]
  },
  {
   "cell_type": "code",
   "execution_count": 20,
   "metadata": {
    "pycharm": {
     "is_executing": true
    }
   },
   "outputs": [],
   "source": [
    "data=personal_data.merge(data, on=('name', 'address'))"
   ]
  },
  {
   "cell_type": "code",
   "execution_count": 21,
   "metadata": {
    "pycharm": {
     "is_executing": true
    }
   },
   "outputs": [],
   "source": [
    "data.address=data.address.str.replace(r\".*\\r\\n[A-Za-z ]+,? ([A-Z]{2}).*\",r\"\\1\")"
   ]
  },
  {
   "cell_type": "code",
   "execution_count": 22,
   "metadata": {
    "pycharm": {
     "is_executing": true
    }
   },
   "outputs": [],
   "source": [
    "data.rename(columns={\"address\": \"state\"},inplace=True)"
   ]
  },
  {
   "cell_type": "markdown",
   "metadata": {},
   "source": [
    "## pregnant"
   ]
  },
  {
   "cell_type": "code",
   "execution_count": 23,
   "metadata": {
    "pycharm": {
     "is_executing": true
    },
    "scrolled": true
   },
   "outputs": [
    {
     "data": {
      "text/plain": [
       "0.0    3851\n",
       "1.0      82\n",
       "Name: pregnant, dtype: int64"
      ]
     },
     "execution_count": 23,
     "metadata": {},
     "output_type": "execute_result"
    }
   ],
   "source": [
    "data[\"pregnant\"]=data[\"pregnant\"].str.lower()\n",
    "data[\"pregnant\"]=data[\"pregnant\"].str.replace(\"(^f$)|(^false$)\",\"False\")\n",
    "data[\"pregnant\"]=data[\"pregnant\"].str.replace(\"(^t$)|(^true$)\",\"True\")\n",
    "data[\"pregnant\"]=data[\"pregnant\"].str.replace(\"True\",\"1\")\n",
    "data[\"pregnant\"]=data[\"pregnant\"].str.replace(\"False\",\"0\")\n",
    "data[\"pregnant\"]=data[\"pregnant\"].str.replace(\"True\",\"1\")\n",
    "data[\"pregnant\"]=data[\"pregnant\"].astype(float)\n",
    "data[\"pregnant\"].value_counts(dropna=False)"
   ]
  },
  {
   "cell_type": "markdown",
   "metadata": {
    "pycharm": {
     "is_executing": false
    }
   },
   "source": [
    "Nekonzistentné hodnoty zmeníme tak aby boli len True alebo False (a NaN) a prekonvertujeme ich na 0 a 1."
   ]
  },
  {
   "cell_type": "code",
   "execution_count": 24,
   "metadata": {},
   "outputs": [
    {
     "data": {
      "text/plain": [
       "array([0., 1.])"
      ]
     },
     "execution_count": 24,
     "metadata": {},
     "output_type": "execute_result"
    }
   ],
   "source": [
    "data[data[\"sex\"]==\"Male\"].pregnant.unique()"
   ]
  },
  {
   "cell_type": "markdown",
   "metadata": {},
   "source": [
    "Existujú záznamy kde sú muži tehotní."
   ]
  },
  {
   "cell_type": "code",
   "execution_count": 25,
   "metadata": {},
   "outputs": [],
   "source": [
    "data.loc[data.sex == \"Male\", \"pregnant\"] = 0\n",
    "data['pregnant'] = data['pregnant'].fillna(0)"
   ]
  },
  {
   "cell_type": "markdown",
   "metadata": {},
   "source": [
    "Mužom nastavíme tehotenstvo na 0. V prípade prázdnych hodnôt budeme predpokladať že daná osoba tehotná nie je a nastavíme jej hodnotu na 0."
   ]
  },
  {
   "cell_type": "code",
   "execution_count": null,
   "metadata": {},
   "outputs": [],
   "source": []
  },
  {
   "cell_type": "code",
   "execution_count": 26,
   "metadata": {
    "pycharm": {
     "is_executing": true
    }
   },
   "outputs": [
    {
     "data": {
      "text/plain": [
       "name                  0\n",
       "state                 0\n",
       "age                   0\n",
       "sex                   0\n",
       "birth_month           0\n",
       "race                  1\n",
       "marital_status      393\n",
       "occupation          238\n",
       "pregnant              0\n",
       "relationship          0\n",
       "skewness_glucose      1\n",
       "mean_glucose          0\n",
       "capital_gain          0\n",
       "kurtosis_glucose      1\n",
       "education             0\n",
       "fnlwgt                0\n",
       "class                 0\n",
       "std_glucose           0\n",
       "income                1\n",
       "native_country       81\n",
       "hours_per_week        0\n",
       "capital_loss          0\n",
       "workclass           238\n",
       "mean_oxygen           1\n",
       "std_oxygen            1\n",
       "kurtosis_oxygen       1\n",
       "skewness_oxygen       1\n",
       "dtype: int64"
      ]
     },
     "execution_count": 26,
     "metadata": {},
     "output_type": "execute_result"
    }
   ],
   "source": [
    "data.isnull().sum()"
   ]
  },
  {
   "cell_type": "markdown",
   "metadata": {},
   "source": [
    "## spojenie capital_loss a capital_gain"
   ]
  },
  {
   "cell_type": "code",
   "execution_count": 27,
   "metadata": {
    "pycharm": {
     "is_executing": true
    }
   },
   "outputs": [],
   "source": [
    "data = data.assign(capital=np.NaN)\n",
    "data.capital = data.capital_gain - data.capital_loss\n",
    "data = data.drop(columns=['capital_loss','capital_gain'])"
   ]
  },
  {
   "cell_type": "code",
   "execution_count": 28,
   "metadata": {
    "pycharm": {
     "is_executing": true
    }
   },
   "outputs": [
    {
     "data": {
      "text/html": [
       "<div>\n",
       "<style scoped>\n",
       "    .dataframe tbody tr th:only-of-type {\n",
       "        vertical-align: middle;\n",
       "    }\n",
       "\n",
       "    .dataframe tbody tr th {\n",
       "        vertical-align: top;\n",
       "    }\n",
       "\n",
       "    .dataframe thead th {\n",
       "        text-align: right;\n",
       "    }\n",
       "</style>\n",
       "<table border=\"1\" class=\"dataframe\">\n",
       "  <thead>\n",
       "    <tr style=\"text-align: right;\">\n",
       "      <th></th>\n",
       "      <th>name</th>\n",
       "      <th>state</th>\n",
       "      <th>age</th>\n",
       "      <th>sex</th>\n",
       "      <th>birth_month</th>\n",
       "      <th>race</th>\n",
       "      <th>marital_status</th>\n",
       "      <th>occupation</th>\n",
       "      <th>pregnant</th>\n",
       "      <th>relationship</th>\n",
       "      <th>skewness_glucose</th>\n",
       "      <th>mean_glucose</th>\n",
       "      <th>kurtosis_glucose</th>\n",
       "      <th>education</th>\n",
       "      <th>fnlwgt</th>\n",
       "      <th>class</th>\n",
       "      <th>std_glucose</th>\n",
       "      <th>income</th>\n",
       "      <th>native_country</th>\n",
       "      <th>hours_per_week</th>\n",
       "      <th>workclass</th>\n",
       "      <th>mean_oxygen</th>\n",
       "      <th>std_oxygen</th>\n",
       "      <th>kurtosis_oxygen</th>\n",
       "      <th>skewness_oxygen</th>\n",
       "      <th>capital</th>\n",
       "    </tr>\n",
       "  </thead>\n",
       "  <tbody>\n",
       "    <tr>\n",
       "      <th>0</th>\n",
       "      <td>Roscoe Bohannon</td>\n",
       "      <td>OH</td>\n",
       "      <td>58.0</td>\n",
       "      <td>Male</td>\n",
       "      <td>3.0</td>\n",
       "      <td>White</td>\n",
       "      <td>Never-married</td>\n",
       "      <td>Other-service</td>\n",
       "      <td>0.0</td>\n",
       "      <td>Not-in-family</td>\n",
       "      <td>-0.099526</td>\n",
       "      <td>119.242188</td>\n",
       "      <td>0.012622</td>\n",
       "      <td>9.0</td>\n",
       "      <td>321896.0</td>\n",
       "      <td>0.0</td>\n",
       "      <td>49.065286</td>\n",
       "      <td>&lt;=50K</td>\n",
       "      <td>United-States</td>\n",
       "      <td>40.0</td>\n",
       "      <td>Private</td>\n",
       "      <td>3.088629</td>\n",
       "      <td>18.705663</td>\n",
       "      <td>8.293978</td>\n",
       "      <td>82.132497</td>\n",
       "      <td>0.0</td>\n",
       "    </tr>\n",
       "    <tr>\n",
       "      <th>1</th>\n",
       "      <td>Ernest Kline</td>\n",
       "      <td>IN</td>\n",
       "      <td>57.0</td>\n",
       "      <td>Female</td>\n",
       "      <td>11.0</td>\n",
       "      <td>Amer-Indian-Eskimo</td>\n",
       "      <td>Divorced</td>\n",
       "      <td>Exec-managerial</td>\n",
       "      <td>0.0</td>\n",
       "      <td>Own-child</td>\n",
       "      <td>2.396809</td>\n",
       "      <td>82.070312</td>\n",
       "      <td>0.860951</td>\n",
       "      <td>11.0</td>\n",
       "      <td>134220.0</td>\n",
       "      <td>0.0</td>\n",
       "      <td>38.530261</td>\n",
       "      <td>&lt;=50K</td>\n",
       "      <td>United-States</td>\n",
       "      <td>40.0</td>\n",
       "      <td>Private</td>\n",
       "      <td>0.594482</td>\n",
       "      <td>9.956608</td>\n",
       "      <td>20.702696</td>\n",
       "      <td>469.692706</td>\n",
       "      <td>0.0</td>\n",
       "    </tr>\n",
       "    <tr>\n",
       "      <th>2</th>\n",
       "      <td>Harold Hendriks</td>\n",
       "      <td>CO</td>\n",
       "      <td>59.0</td>\n",
       "      <td>Male</td>\n",
       "      <td>12.0</td>\n",
       "      <td>White</td>\n",
       "      <td>Married-civ-spouse</td>\n",
       "      <td>Adm-clerical</td>\n",
       "      <td>0.0</td>\n",
       "      <td>Husband</td>\n",
       "      <td>4.797428</td>\n",
       "      <td>78.218750</td>\n",
       "      <td>1.540387</td>\n",
       "      <td>9.0</td>\n",
       "      <td>27432.0</td>\n",
       "      <td>1.0</td>\n",
       "      <td>40.637871</td>\n",
       "      <td>&gt;50K</td>\n",
       "      <td>United-States</td>\n",
       "      <td>40.0</td>\n",
       "      <td>Federal-gov</td>\n",
       "      <td>21.150502</td>\n",
       "      <td>54.938601</td>\n",
       "      <td>2.492557</td>\n",
       "      <td>4.843070</td>\n",
       "      <td>0.0</td>\n",
       "    </tr>\n",
       "    <tr>\n",
       "      <th>3</th>\n",
       "      <td>Randy Baptiste</td>\n",
       "      <td>CA</td>\n",
       "      <td>66.0</td>\n",
       "      <td>Female</td>\n",
       "      <td>3.0</td>\n",
       "      <td>White</td>\n",
       "      <td>Married-civ-spouse</td>\n",
       "      <td>Other-service</td>\n",
       "      <td>0.0</td>\n",
       "      <td>Wife</td>\n",
       "      <td>11.184030</td>\n",
       "      <td>61.718750</td>\n",
       "      <td>2.266661</td>\n",
       "      <td>13.0</td>\n",
       "      <td>159442.0</td>\n",
       "      <td>1.0</td>\n",
       "      <td>32.301543</td>\n",
       "      <td>&lt;=50K</td>\n",
       "      <td>United-States</td>\n",
       "      <td>40.0</td>\n",
       "      <td>Private</td>\n",
       "      <td>14.749164</td>\n",
       "      <td>47.314987</td>\n",
       "      <td>3.201232</td>\n",
       "      <td>9.087747</td>\n",
       "      <td>0.0</td>\n",
       "    </tr>\n",
       "    <tr>\n",
       "      <th>4</th>\n",
       "      <td>Anthony Colucci</td>\n",
       "      <td>CO</td>\n",
       "      <td>64.0</td>\n",
       "      <td>Male</td>\n",
       "      <td>12.0</td>\n",
       "      <td>White</td>\n",
       "      <td>Never-married</td>\n",
       "      <td>Other-service</td>\n",
       "      <td>0.0</td>\n",
       "      <td>Own-child</td>\n",
       "      <td>27.815414</td>\n",
       "      <td>21.304688</td>\n",
       "      <td>5.146317</td>\n",
       "      <td>10.0</td>\n",
       "      <td>219211.0</td>\n",
       "      <td>1.0</td>\n",
       "      <td>35.907555</td>\n",
       "      <td>&lt;=50K</td>\n",
       "      <td>United-States</td>\n",
       "      <td>20.0</td>\n",
       "      <td>Private</td>\n",
       "      <td>128.984114</td>\n",
       "      <td>66.955413</td>\n",
       "      <td>0.020190</td>\n",
       "      <td>-0.595560</td>\n",
       "      <td>0.0</td>\n",
       "    </tr>\n",
       "    <tr>\n",
       "      <th>5</th>\n",
       "      <td>Ronald Lange</td>\n",
       "      <td>CA</td>\n",
       "      <td>54.0</td>\n",
       "      <td>Female</td>\n",
       "      <td>5.0</td>\n",
       "      <td>White</td>\n",
       "      <td>Never-married</td>\n",
       "      <td>Adm-clerical</td>\n",
       "      <td>0.0</td>\n",
       "      <td>Own-child</td>\n",
       "      <td>-0.523368</td>\n",
       "      <td>124.085938</td>\n",
       "      <td>0.152932</td>\n",
       "      <td>9.0</td>\n",
       "      <td>198822.0</td>\n",
       "      <td>0.0</td>\n",
       "      <td>58.169476</td>\n",
       "      <td>&lt;=50K</td>\n",
       "      <td>United-States</td>\n",
       "      <td>35.0</td>\n",
       "      <td>Private</td>\n",
       "      <td>2.123746</td>\n",
       "      <td>13.836470</td>\n",
       "      <td>9.332406</td>\n",
       "      <td>118.608130</td>\n",
       "      <td>0.0</td>\n",
       "    </tr>\n",
       "    <tr>\n",
       "      <th>6</th>\n",
       "      <td>Boyd Eiselein</td>\n",
       "      <td>VA</td>\n",
       "      <td>53.0</td>\n",
       "      <td>Male</td>\n",
       "      <td>5.0</td>\n",
       "      <td>White</td>\n",
       "      <td>NaN</td>\n",
       "      <td>Exec-managerial</td>\n",
       "      <td>0.0</td>\n",
       "      <td>Husband</td>\n",
       "      <td>13.071115</td>\n",
       "      <td>69.906250</td>\n",
       "      <td>3.154100</td>\n",
       "      <td>12.0</td>\n",
       "      <td>122206.0</td>\n",
       "      <td>1.0</td>\n",
       "      <td>34.185258</td>\n",
       "      <td>&gt;50K</td>\n",
       "      <td>United-States</td>\n",
       "      <td>50.0</td>\n",
       "      <td>Self-emp-inc</td>\n",
       "      <td>56.795987</td>\n",
       "      <td>73.598921</td>\n",
       "      <td>1.200914</td>\n",
       "      <td>0.280631</td>\n",
       "      <td>0.0</td>\n",
       "    </tr>\n",
       "    <tr>\n",
       "      <th>7</th>\n",
       "      <td>Raymond Smith</td>\n",
       "      <td>MA</td>\n",
       "      <td>30.0</td>\n",
       "      <td>Male</td>\n",
       "      <td>7.0</td>\n",
       "      <td>Asian-Pac-Islander</td>\n",
       "      <td>Married-civ-spouse</td>\n",
       "      <td>Prof-specialty</td>\n",
       "      <td>0.0</td>\n",
       "      <td>Husband</td>\n",
       "      <td>1.835289</td>\n",
       "      <td>76.484375</td>\n",
       "      <td>0.898881</td>\n",
       "      <td>13.0</td>\n",
       "      <td>123983.0</td>\n",
       "      <td>0.0</td>\n",
       "      <td>40.383510</td>\n",
       "      <td>&gt;50K</td>\n",
       "      <td>Japan</td>\n",
       "      <td>55.0</td>\n",
       "      <td>Private</td>\n",
       "      <td>2.721572</td>\n",
       "      <td>20.050694</td>\n",
       "      <td>8.333821</td>\n",
       "      <td>74.801484</td>\n",
       "      <td>0.0</td>\n",
       "    </tr>\n",
       "    <tr>\n",
       "      <th>8</th>\n",
       "      <td>Harold Miller</td>\n",
       "      <td>GA</td>\n",
       "      <td>60.0</td>\n",
       "      <td>Male</td>\n",
       "      <td>3.0</td>\n",
       "      <td>White</td>\n",
       "      <td>Never-married</td>\n",
       "      <td>Other-service</td>\n",
       "      <td>0.0</td>\n",
       "      <td>Own-child</td>\n",
       "      <td>-0.078188</td>\n",
       "      <td>129.820312</td>\n",
       "      <td>0.101646</td>\n",
       "      <td>7.0</td>\n",
       "      <td>194612.0</td>\n",
       "      <td>0.0</td>\n",
       "      <td>47.896443</td>\n",
       "      <td>&lt;=50K</td>\n",
       "      <td>United-States</td>\n",
       "      <td>25.0</td>\n",
       "      <td>Private</td>\n",
       "      <td>1.668060</td>\n",
       "      <td>13.511707</td>\n",
       "      <td>10.756981</td>\n",
       "      <td>144.064087</td>\n",
       "      <td>0.0</td>\n",
       "    </tr>\n",
       "    <tr>\n",
       "      <th>9</th>\n",
       "      <td>Charles Czachorowski</td>\n",
       "      <td>DC</td>\n",
       "      <td>52.0</td>\n",
       "      <td>Female</td>\n",
       "      <td>6.0</td>\n",
       "      <td>Black</td>\n",
       "      <td>Never-married</td>\n",
       "      <td>Machine-op-inspct</td>\n",
       "      <td>0.0</td>\n",
       "      <td>Unmarried</td>\n",
       "      <td>6.657364</td>\n",
       "      <td>60.617188</td>\n",
       "      <td>1.990753</td>\n",
       "      <td>9.0</td>\n",
       "      <td>97136.0</td>\n",
       "      <td>1.0</td>\n",
       "      <td>36.952909</td>\n",
       "      <td>&lt;=50K</td>\n",
       "      <td>United-States</td>\n",
       "      <td>40.0</td>\n",
       "      <td>Private</td>\n",
       "      <td>20.839465</td>\n",
       "      <td>55.877877</td>\n",
       "      <td>2.743937</td>\n",
       "      <td>6.500109</td>\n",
       "      <td>0.0</td>\n",
       "    </tr>\n",
       "    <tr>\n",
       "      <th>10</th>\n",
       "      <td>Robert Grantham</td>\n",
       "      <td>AK</td>\n",
       "      <td>52.0</td>\n",
       "      <td>Female</td>\n",
       "      <td>12.0</td>\n",
       "      <td>White</td>\n",
       "      <td>Never-married</td>\n",
       "      <td>Tech-support</td>\n",
       "      <td>0.0</td>\n",
       "      <td>Unmarried</td>\n",
       "      <td>14.987958</td>\n",
       "      <td>32.593750</td>\n",
       "      <td>3.692952</td>\n",
       "      <td>9.0</td>\n",
       "      <td>169152.0</td>\n",
       "      <td>1.0</td>\n",
       "      <td>40.189092</td>\n",
       "      <td>&lt;=50K</td>\n",
       "      <td>United-States</td>\n",
       "      <td>40.0</td>\n",
       "      <td>Private</td>\n",
       "      <td>40.114548</td>\n",
       "      <td>63.572210</td>\n",
       "      <td>1.456446</td>\n",
       "      <td>1.104743</td>\n",
       "      <td>0.0</td>\n",
       "    </tr>\n",
       "    <tr>\n",
       "      <th>11</th>\n",
       "      <td>Joel Lam</td>\n",
       "      <td>IA</td>\n",
       "      <td>53.0</td>\n",
       "      <td>Male</td>\n",
       "      <td>12.0</td>\n",
       "      <td>White</td>\n",
       "      <td>NaN</td>\n",
       "      <td>Sales</td>\n",
       "      <td>0.0</td>\n",
       "      <td>Not-in-family</td>\n",
       "      <td>1.100304</td>\n",
       "      <td>100.476562</td>\n",
       "      <td>0.616799</td>\n",
       "      <td>13.0</td>\n",
       "      <td>204374.0</td>\n",
       "      <td>0.0</td>\n",
       "      <td>44.479975</td>\n",
       "      <td>&lt;=50K</td>\n",
       "      <td>United-States</td>\n",
       "      <td>48.0</td>\n",
       "      <td>Private</td>\n",
       "      <td>10.836120</td>\n",
       "      <td>41.875571</td>\n",
       "      <td>3.938706</td>\n",
       "      <td>14.570697</td>\n",
       "      <td>-1741.0</td>\n",
       "    </tr>\n",
       "    <tr>\n",
       "      <th>12</th>\n",
       "      <td>Irving Gil</td>\n",
       "      <td>TX</td>\n",
       "      <td>68.0</td>\n",
       "      <td>Male</td>\n",
       "      <td>4.0</td>\n",
       "      <td>White</td>\n",
       "      <td>Never-married</td>\n",
       "      <td>Handlers-cleaners</td>\n",
       "      <td>0.0</td>\n",
       "      <td>Own-child</td>\n",
       "      <td>29.914913</td>\n",
       "      <td>36.664062</td>\n",
       "      <td>5.034696</td>\n",
       "      <td>9.0</td>\n",
       "      <td>198668.0</td>\n",
       "      <td>1.0</td>\n",
       "      <td>30.379186</td>\n",
       "      <td>&lt;=50K</td>\n",
       "      <td>United-States</td>\n",
       "      <td>40.0</td>\n",
       "      <td>Private</td>\n",
       "      <td>30.020903</td>\n",
       "      <td>57.024950</td>\n",
       "      <td>2.168781</td>\n",
       "      <td>4.052715</td>\n",
       "      <td>0.0</td>\n",
       "    </tr>\n",
       "    <tr>\n",
       "      <th>13</th>\n",
       "      <td>Terry Reynolds</td>\n",
       "      <td>WI</td>\n",
       "      <td>41.0</td>\n",
       "      <td>Female</td>\n",
       "      <td>4.0</td>\n",
       "      <td>White</td>\n",
       "      <td>Married-civ-spouse</td>\n",
       "      <td>Exec-managerial</td>\n",
       "      <td>0.0</td>\n",
       "      <td>Wife</td>\n",
       "      <td>-0.311290</td>\n",
       "      <td>131.414062</td>\n",
       "      <td>0.038402</td>\n",
       "      <td>10.0</td>\n",
       "      <td>105862.0</td>\n",
       "      <td>0.0</td>\n",
       "      <td>51.043108</td>\n",
       "      <td>&gt;50K</td>\n",
       "      <td>United-States</td>\n",
       "      <td>70.0</td>\n",
       "      <td>Private</td>\n",
       "      <td>5.186455</td>\n",
       "      <td>28.833791</td>\n",
       "      <td>6.099873</td>\n",
       "      <td>38.295007</td>\n",
       "      <td>0.0</td>\n",
       "    </tr>\n",
       "    <tr>\n",
       "      <th>14</th>\n",
       "      <td>Kurt Littlefield</td>\n",
       "      <td>RI</td>\n",
       "      <td>33.0</td>\n",
       "      <td>Male</td>\n",
       "      <td>3.0</td>\n",
       "      <td>White</td>\n",
       "      <td>Married-civ-spouse</td>\n",
       "      <td>Exec-managerial</td>\n",
       "      <td>0.0</td>\n",
       "      <td>Husband</td>\n",
       "      <td>1.716127</td>\n",
       "      <td>109.773438</td>\n",
       "      <td>0.346857</td>\n",
       "      <td>13.0</td>\n",
       "      <td>190525.0</td>\n",
       "      <td>0.0</td>\n",
       "      <td>39.304941</td>\n",
       "      <td>&gt;50K</td>\n",
       "      <td>United-States</td>\n",
       "      <td>55.0</td>\n",
       "      <td>Private</td>\n",
       "      <td>2.877926</td>\n",
       "      <td>18.395328</td>\n",
       "      <td>8.221997</td>\n",
       "      <td>77.196524</td>\n",
       "      <td>7298.0</td>\n",
       "    </tr>\n",
       "    <tr>\n",
       "      <th>15</th>\n",
       "      <td>Andy Grayson</td>\n",
       "      <td>DC</td>\n",
       "      <td>54.0</td>\n",
       "      <td>Female</td>\n",
       "      <td>3.0</td>\n",
       "      <td>White</td>\n",
       "      <td>Married-civ-spouse</td>\n",
       "      <td>Prof-specialty</td>\n",
       "      <td>0.0</td>\n",
       "      <td>Wife</td>\n",
       "      <td>-0.000520</td>\n",
       "      <td>113.562500</td>\n",
       "      <td>0.141474</td>\n",
       "      <td>13.0</td>\n",
       "      <td>43953.0</td>\n",
       "      <td>0.0</td>\n",
       "      <td>45.021132</td>\n",
       "      <td>&lt;=50K</td>\n",
       "      <td>United-States</td>\n",
       "      <td>35.0</td>\n",
       "      <td>Private</td>\n",
       "      <td>1.548495</td>\n",
       "      <td>13.845486</td>\n",
       "      <td>11.789728</td>\n",
       "      <td>166.110401</td>\n",
       "      <td>0.0</td>\n",
       "    </tr>\n",
       "    <tr>\n",
       "      <th>16</th>\n",
       "      <td>Chauncey Suarez</td>\n",
       "      <td>LA</td>\n",
       "      <td>56.0</td>\n",
       "      <td>Male</td>\n",
       "      <td>1.0</td>\n",
       "      <td>White</td>\n",
       "      <td>Married-civ-spouse</td>\n",
       "      <td>Craft-repair</td>\n",
       "      <td>0.0</td>\n",
       "      <td>Husband</td>\n",
       "      <td>-0.545795</td>\n",
       "      <td>123.718750</td>\n",
       "      <td>-0.169079</td>\n",
       "      <td>9.0</td>\n",
       "      <td>213574.0</td>\n",
       "      <td>0.0</td>\n",
       "      <td>53.202581</td>\n",
       "      <td>&lt;=50K</td>\n",
       "      <td>United-States</td>\n",
       "      <td>10.0</td>\n",
       "      <td>Self-emp-inc</td>\n",
       "      <td>2.168060</td>\n",
       "      <td>13.599602</td>\n",
       "      <td>9.476554</td>\n",
       "      <td>124.215378</td>\n",
       "      <td>2635.0</td>\n",
       "    </tr>\n",
       "    <tr>\n",
       "      <th>17</th>\n",
       "      <td>Wallace Street</td>\n",
       "      <td>NY</td>\n",
       "      <td>66.0</td>\n",
       "      <td>Male</td>\n",
       "      <td>5.0</td>\n",
       "      <td>Asian-Pac-Islander</td>\n",
       "      <td>Married-civ-spouse</td>\n",
       "      <td>Prof-specialty</td>\n",
       "      <td>0.0</td>\n",
       "      <td>Husband</td>\n",
       "      <td>1.208628</td>\n",
       "      <td>99.835938</td>\n",
       "      <td>0.585857</td>\n",
       "      <td>14.0</td>\n",
       "      <td>79586.0</td>\n",
       "      <td>1.0</td>\n",
       "      <td>39.324328</td>\n",
       "      <td>&gt;50K</td>\n",
       "      <td>India</td>\n",
       "      <td>40.0</td>\n",
       "      <td>Self-emp-inc</td>\n",
       "      <td>2.169732</td>\n",
       "      <td>15.917233</td>\n",
       "      <td>9.750991</td>\n",
       "      <td>112.633938</td>\n",
       "      <td>0.0</td>\n",
       "    </tr>\n",
       "    <tr>\n",
       "      <th>18</th>\n",
       "      <td>Daniel Crossman</td>\n",
       "      <td>LA</td>\n",
       "      <td>54.0</td>\n",
       "      <td>Female</td>\n",
       "      <td>1.0</td>\n",
       "      <td>White</td>\n",
       "      <td>Married-civ-spouse</td>\n",
       "      <td>NaN</td>\n",
       "      <td>0.0</td>\n",
       "      <td>Wife</td>\n",
       "      <td>0.163764</td>\n",
       "      <td>108.773438</td>\n",
       "      <td>0.244125</td>\n",
       "      <td>13.0</td>\n",
       "      <td>100903.0</td>\n",
       "      <td>0.0</td>\n",
       "      <td>48.609447</td>\n",
       "      <td>&lt;=50K</td>\n",
       "      <td>United-States</td>\n",
       "      <td>25.0</td>\n",
       "      <td>NaN</td>\n",
       "      <td>4.207358</td>\n",
       "      <td>22.678437</td>\n",
       "      <td>7.037458</td>\n",
       "      <td>57.105779</td>\n",
       "      <td>0.0</td>\n",
       "    </tr>\n",
       "    <tr>\n",
       "      <th>19</th>\n",
       "      <td>Steve Ripp</td>\n",
       "      <td>NC</td>\n",
       "      <td>37.0</td>\n",
       "      <td>Male</td>\n",
       "      <td>10.0</td>\n",
       "      <td>White</td>\n",
       "      <td>Married-civ-spouse</td>\n",
       "      <td>Transport-moving</td>\n",
       "      <td>0.0</td>\n",
       "      <td>Husband</td>\n",
       "      <td>-0.265510</td>\n",
       "      <td>136.914062</td>\n",
       "      <td>0.042939</td>\n",
       "      <td>9.0</td>\n",
       "      <td>114060.0</td>\n",
       "      <td>0.0</td>\n",
       "      <td>52.223831</td>\n",
       "      <td>&lt;=50K</td>\n",
       "      <td>United-States</td>\n",
       "      <td>40.0</td>\n",
       "      <td>Local-gov</td>\n",
       "      <td>3.691472</td>\n",
       "      <td>20.745736</td>\n",
       "      <td>7.351432</td>\n",
       "      <td>60.879448</td>\n",
       "      <td>0.0</td>\n",
       "    </tr>\n",
       "    <tr>\n",
       "      <th>20</th>\n",
       "      <td>George Hairston</td>\n",
       "      <td>NJ</td>\n",
       "      <td>50.0</td>\n",
       "      <td>Male</td>\n",
       "      <td>11.0</td>\n",
       "      <td>White</td>\n",
       "      <td>Married-civ-spouse</td>\n",
       "      <td>Prof-specialty</td>\n",
       "      <td>0.0</td>\n",
       "      <td>Husband</td>\n",
       "      <td>-0.067414</td>\n",
       "      <td>128.023438</td>\n",
       "      <td>0.170496</td>\n",
       "      <td>11.0</td>\n",
       "      <td>55395.0</td>\n",
       "      <td>0.0</td>\n",
       "      <td>44.114458</td>\n",
       "      <td>&gt;50K</td>\n",
       "      <td>United-States</td>\n",
       "      <td>40.0</td>\n",
       "      <td>Private</td>\n",
       "      <td>2.332776</td>\n",
       "      <td>13.698606</td>\n",
       "      <td>9.603359</td>\n",
       "      <td>126.464546</td>\n",
       "      <td>0.0</td>\n",
       "    </tr>\n",
       "    <tr>\n",
       "      <th>21</th>\n",
       "      <td>Jeffrey Taylor</td>\n",
       "      <td>AA</td>\n",
       "      <td>52.0</td>\n",
       "      <td>Male</td>\n",
       "      <td>10.0</td>\n",
       "      <td>White</td>\n",
       "      <td>Married-civ-spouse</td>\n",
       "      <td>Sales</td>\n",
       "      <td>0.0</td>\n",
       "      <td>Husband</td>\n",
       "      <td>0.119019</td>\n",
       "      <td>114.960938</td>\n",
       "      <td>0.419055</td>\n",
       "      <td>13.0</td>\n",
       "      <td>162298.0</td>\n",
       "      <td>0.0</td>\n",
       "      <td>46.562861</td>\n",
       "      <td>&gt;50K</td>\n",
       "      <td>United-States</td>\n",
       "      <td>70.0</td>\n",
       "      <td>Self-emp-not-inc</td>\n",
       "      <td>1.793478</td>\n",
       "      <td>18.236875</td>\n",
       "      <td>11.194430</td>\n",
       "      <td>131.251785</td>\n",
       "      <td>0.0</td>\n",
       "    </tr>\n",
       "    <tr>\n",
       "      <th>22</th>\n",
       "      <td>David Mealy</td>\n",
       "      <td>DE</td>\n",
       "      <td>32.0</td>\n",
       "      <td>Female</td>\n",
       "      <td>9.0</td>\n",
       "      <td>White</td>\n",
       "      <td>NaN</td>\n",
       "      <td>Adm-clerical</td>\n",
       "      <td>0.0</td>\n",
       "      <td>Own-child</td>\n",
       "      <td>2.068824</td>\n",
       "      <td>84.210938</td>\n",
       "      <td>0.667546</td>\n",
       "      <td>9.0</td>\n",
       "      <td>164395.0</td>\n",
       "      <td>0.0</td>\n",
       "      <td>37.429236</td>\n",
       "      <td>&lt;=50K</td>\n",
       "      <td>United-States</td>\n",
       "      <td>25.0</td>\n",
       "      <td>Private</td>\n",
       "      <td>2.446488</td>\n",
       "      <td>15.453663</td>\n",
       "      <td>9.292014</td>\n",
       "      <td>105.991323</td>\n",
       "      <td>0.0</td>\n",
       "    </tr>\n",
       "    <tr>\n",
       "      <th>23</th>\n",
       "      <td>Garfield Bowen</td>\n",
       "      <td>LA</td>\n",
       "      <td>40.0</td>\n",
       "      <td>Male</td>\n",
       "      <td>11.0</td>\n",
       "      <td>White</td>\n",
       "      <td>Married-civ-spouse</td>\n",
       "      <td>Craft-repair</td>\n",
       "      <td>0.0</td>\n",
       "      <td>Husband</td>\n",
       "      <td>-0.608043</td>\n",
       "      <td>123.148438</td>\n",
       "      <td>-0.049741</td>\n",
       "      <td>9.0</td>\n",
       "      <td>66614.0</td>\n",
       "      <td>0.0</td>\n",
       "      <td>60.996169</td>\n",
       "      <td>&lt;=50K</td>\n",
       "      <td>United-States</td>\n",
       "      <td>40.0</td>\n",
       "      <td>Self-emp-inc</td>\n",
       "      <td>7.826087</td>\n",
       "      <td>35.629314</td>\n",
       "      <td>4.744215</td>\n",
       "      <td>22.021835</td>\n",
       "      <td>0.0</td>\n",
       "    </tr>\n",
       "    <tr>\n",
       "      <th>24</th>\n",
       "      <td>Thaddeus Mackerl</td>\n",
       "      <td>WV</td>\n",
       "      <td>44.0</td>\n",
       "      <td>Male</td>\n",
       "      <td>4.0</td>\n",
       "      <td>White</td>\n",
       "      <td>Separated</td>\n",
       "      <td>Handlers-cleaners</td>\n",
       "      <td>0.0</td>\n",
       "      <td>Unmarried</td>\n",
       "      <td>-0.091361</td>\n",
       "      <td>125.609375</td>\n",
       "      <td>-0.016635</td>\n",
       "      <td>9.0</td>\n",
       "      <td>220776.0</td>\n",
       "      <td>0.0</td>\n",
       "      <td>51.790780</td>\n",
       "      <td>&lt;=50K</td>\n",
       "      <td>Poland</td>\n",
       "      <td>40.0</td>\n",
       "      <td>Private</td>\n",
       "      <td>18.428094</td>\n",
       "      <td>52.283802</td>\n",
       "      <td>2.765830</td>\n",
       "      <td>6.372460</td>\n",
       "      <td>0.0</td>\n",
       "    </tr>\n",
       "    <tr>\n",
       "      <th>25</th>\n",
       "      <td>Gerald Pack</td>\n",
       "      <td>OR</td>\n",
       "      <td>33.0</td>\n",
       "      <td>Male</td>\n",
       "      <td>12.0</td>\n",
       "      <td>White</td>\n",
       "      <td>Married-civ-spouse</td>\n",
       "      <td>Handlers-cleaners</td>\n",
       "      <td>0.0</td>\n",
       "      <td>Husband</td>\n",
       "      <td>0.292268</td>\n",
       "      <td>109.640625</td>\n",
       "      <td>0.336955</td>\n",
       "      <td>9.0</td>\n",
       "      <td>217198.0</td>\n",
       "      <td>0.0</td>\n",
       "      <td>47.339653</td>\n",
       "      <td>&lt;=50K</td>\n",
       "      <td>United-States</td>\n",
       "      <td>10.0</td>\n",
       "      <td>Private</td>\n",
       "      <td>7.193144</td>\n",
       "      <td>29.418165</td>\n",
       "      <td>5.000635</td>\n",
       "      <td>27.138825</td>\n",
       "      <td>0.0</td>\n",
       "    </tr>\n",
       "    <tr>\n",
       "      <th>26</th>\n",
       "      <td>Jonathon Nemith</td>\n",
       "      <td>NC</td>\n",
       "      <td>35.0</td>\n",
       "      <td>Female</td>\n",
       "      <td>6.0</td>\n",
       "      <td>White</td>\n",
       "      <td>Married-civ-spouse</td>\n",
       "      <td>Farming-fishing</td>\n",
       "      <td>0.0</td>\n",
       "      <td>Other-relative</td>\n",
       "      <td>0.174486</td>\n",
       "      <td>91.171875</td>\n",
       "      <td>0.879048</td>\n",
       "      <td>3.0</td>\n",
       "      <td>339358.0</td>\n",
       "      <td>0.0</td>\n",
       "      <td>55.132385</td>\n",
       "      <td>&lt;=50K</td>\n",
       "      <td>Mexico</td>\n",
       "      <td>45.0</td>\n",
       "      <td>Private</td>\n",
       "      <td>4.806856</td>\n",
       "      <td>28.326075</td>\n",
       "      <td>6.635072</td>\n",
       "      <td>45.799785</td>\n",
       "      <td>0.0</td>\n",
       "    </tr>\n",
       "    <tr>\n",
       "      <th>27</th>\n",
       "      <td>Roger Groce</td>\n",
       "      <td>NJ</td>\n",
       "      <td>57.0</td>\n",
       "      <td>Male</td>\n",
       "      <td>2.0</td>\n",
       "      <td>White</td>\n",
       "      <td>Never-married</td>\n",
       "      <td>Machine-op-inspct</td>\n",
       "      <td>0.0</td>\n",
       "      <td>Own-child</td>\n",
       "      <td>0.549780</td>\n",
       "      <td>105.273438</td>\n",
       "      <td>0.457031</td>\n",
       "      <td>3.0</td>\n",
       "      <td>88564.0</td>\n",
       "      <td>0.0</td>\n",
       "      <td>44.943665</td>\n",
       "      <td>&lt;=50K</td>\n",
       "      <td>United-States</td>\n",
       "      <td>20.0</td>\n",
       "      <td>Private</td>\n",
       "      <td>1.336120</td>\n",
       "      <td>14.562829</td>\n",
       "      <td>12.406275</td>\n",
       "      <td>167.441533</td>\n",
       "      <td>0.0</td>\n",
       "    </tr>\n",
       "    <tr>\n",
       "      <th>28</th>\n",
       "      <td>Harold Odowd</td>\n",
       "      <td>GA</td>\n",
       "      <td>67.0</td>\n",
       "      <td>Male</td>\n",
       "      <td>4.0</td>\n",
       "      <td>White</td>\n",
       "      <td>Never-married</td>\n",
       "      <td>Sales</td>\n",
       "      <td>0.0</td>\n",
       "      <td>Not-in-family</td>\n",
       "      <td>0.201607</td>\n",
       "      <td>114.117188</td>\n",
       "      <td>0.332225</td>\n",
       "      <td>9.0</td>\n",
       "      <td>35459.0</td>\n",
       "      <td>0.0</td>\n",
       "      <td>44.517135</td>\n",
       "      <td>&lt;=50K</td>\n",
       "      <td>United-States</td>\n",
       "      <td>40.0</td>\n",
       "      <td>Private</td>\n",
       "      <td>2.004181</td>\n",
       "      <td>15.985596</td>\n",
       "      <td>10.562915</td>\n",
       "      <td>131.943217</td>\n",
       "      <td>0.0</td>\n",
       "    </tr>\n",
       "    <tr>\n",
       "      <th>29</th>\n",
       "      <td>Stanley Forrest</td>\n",
       "      <td>NC</td>\n",
       "      <td>62.0</td>\n",
       "      <td>Female</td>\n",
       "      <td>11.0</td>\n",
       "      <td>White</td>\n",
       "      <td>Never-married</td>\n",
       "      <td>Craft-repair</td>\n",
       "      <td>0.0</td>\n",
       "      <td>Not-in-family</td>\n",
       "      <td>9.072248</td>\n",
       "      <td>59.437500</td>\n",
       "      <td>2.506677</td>\n",
       "      <td>10.0</td>\n",
       "      <td>42857.0</td>\n",
       "      <td>1.0</td>\n",
       "      <td>38.901669</td>\n",
       "      <td>&lt;=50K</td>\n",
       "      <td>United-States</td>\n",
       "      <td>35.0</td>\n",
       "      <td>Self-emp-not-inc</td>\n",
       "      <td>30.692308</td>\n",
       "      <td>61.686287</td>\n",
       "      <td>2.069241</td>\n",
       "      <td>3.363576</td>\n",
       "      <td>0.0</td>\n",
       "    </tr>\n",
       "    <tr>\n",
       "      <th>...</th>\n",
       "      <td>...</td>\n",
       "      <td>...</td>\n",
       "      <td>...</td>\n",
       "      <td>...</td>\n",
       "      <td>...</td>\n",
       "      <td>...</td>\n",
       "      <td>...</td>\n",
       "      <td>...</td>\n",
       "      <td>...</td>\n",
       "      <td>...</td>\n",
       "      <td>...</td>\n",
       "      <td>...</td>\n",
       "      <td>...</td>\n",
       "      <td>...</td>\n",
       "      <td>...</td>\n",
       "      <td>...</td>\n",
       "      <td>...</td>\n",
       "      <td>...</td>\n",
       "      <td>...</td>\n",
       "      <td>...</td>\n",
       "      <td>...</td>\n",
       "      <td>...</td>\n",
       "      <td>...</td>\n",
       "      <td>...</td>\n",
       "      <td>...</td>\n",
       "      <td>...</td>\n",
       "    </tr>\n",
       "    <tr>\n",
       "      <th>70</th>\n",
       "      <td>Tom Donohue</td>\n",
       "      <td>WA</td>\n",
       "      <td>71.0</td>\n",
       "      <td>Male</td>\n",
       "      <td>8.0</td>\n",
       "      <td>White</td>\n",
       "      <td>Married-civ-spouse</td>\n",
       "      <td>Exec-managerial</td>\n",
       "      <td>0.0</td>\n",
       "      <td>Husband</td>\n",
       "      <td>-0.118661</td>\n",
       "      <td>139.843750</td>\n",
       "      <td>0.132098</td>\n",
       "      <td>9.0</td>\n",
       "      <td>316211.0</td>\n",
       "      <td>0.0</td>\n",
       "      <td>44.294546</td>\n",
       "      <td>&gt;50K</td>\n",
       "      <td>United-States</td>\n",
       "      <td>60.0</td>\n",
       "      <td>Private</td>\n",
       "      <td>26.542642</td>\n",
       "      <td>57.032268</td>\n",
       "      <td>2.191275</td>\n",
       "      <td>3.694817</td>\n",
       "      <td>0.0</td>\n",
       "    </tr>\n",
       "    <tr>\n",
       "      <th>71</th>\n",
       "      <td>Ronald Haven</td>\n",
       "      <td>IA</td>\n",
       "      <td>34.0</td>\n",
       "      <td>Male</td>\n",
       "      <td>9.0</td>\n",
       "      <td>Black</td>\n",
       "      <td>Married-civ-spouse</td>\n",
       "      <td>NaN</td>\n",
       "      <td>0.0</td>\n",
       "      <td>Husband</td>\n",
       "      <td>15.398741</td>\n",
       "      <td>16.539062</td>\n",
       "      <td>3.968126</td>\n",
       "      <td>12.0</td>\n",
       "      <td>270228.0</td>\n",
       "      <td>1.0</td>\n",
       "      <td>42.744865</td>\n",
       "      <td>&gt;50K</td>\n",
       "      <td>United-States</td>\n",
       "      <td>40.0</td>\n",
       "      <td>NaN</td>\n",
       "      <td>109.183110</td>\n",
       "      <td>53.137096</td>\n",
       "      <td>0.871271</td>\n",
       "      <td>0.488218</td>\n",
       "      <td>7688.0</td>\n",
       "    </tr>\n",
       "    <tr>\n",
       "      <th>72</th>\n",
       "      <td>Patrick Jacobs</td>\n",
       "      <td>MS</td>\n",
       "      <td>42.0</td>\n",
       "      <td>Male</td>\n",
       "      <td>1.0</td>\n",
       "      <td>White</td>\n",
       "      <td>Married-civ-spouse</td>\n",
       "      <td>Craft-repair</td>\n",
       "      <td>0.0</td>\n",
       "      <td>Husband</td>\n",
       "      <td>2.541100</td>\n",
       "      <td>101.375000</td>\n",
       "      <td>0.145436</td>\n",
       "      <td>9.0</td>\n",
       "      <td>76893.0</td>\n",
       "      <td>0.0</td>\n",
       "      <td>34.693524</td>\n",
       "      <td>&lt;=50K</td>\n",
       "      <td>United-States</td>\n",
       "      <td>40.0</td>\n",
       "      <td>Private</td>\n",
       "      <td>1.501672</td>\n",
       "      <td>11.120313</td>\n",
       "      <td>13.220632</td>\n",
       "      <td>245.152357</td>\n",
       "      <td>0.0</td>\n",
       "    </tr>\n",
       "    <tr>\n",
       "      <th>73</th>\n",
       "      <td>David Henderson</td>\n",
       "      <td>TN</td>\n",
       "      <td>80.0</td>\n",
       "      <td>Female</td>\n",
       "      <td>7.0</td>\n",
       "      <td>Asian-Pac-Islander</td>\n",
       "      <td>Never-married</td>\n",
       "      <td>Sales</td>\n",
       "      <td>0.0</td>\n",
       "      <td>Own-child</td>\n",
       "      <td>4.619828</td>\n",
       "      <td>76.835938</td>\n",
       "      <td>1.883285</td>\n",
       "      <td>10.0</td>\n",
       "      <td>150553.0</td>\n",
       "      <td>1.0</td>\n",
       "      <td>44.270083</td>\n",
       "      <td>&lt;=50K</td>\n",
       "      <td>Philippines</td>\n",
       "      <td>18.0</td>\n",
       "      <td>Private</td>\n",
       "      <td>1.822742</td>\n",
       "      <td>14.565571</td>\n",
       "      <td>12.686022</td>\n",
       "      <td>182.240001</td>\n",
       "      <td>0.0</td>\n",
       "    </tr>\n",
       "    <tr>\n",
       "      <th>74</th>\n",
       "      <td>Walter Smith</td>\n",
       "      <td>KS</td>\n",
       "      <td>59.0</td>\n",
       "      <td>Male</td>\n",
       "      <td>12.0</td>\n",
       "      <td>White</td>\n",
       "      <td>NaN</td>\n",
       "      <td>Sales</td>\n",
       "      <td>0.0</td>\n",
       "      <td>Husband</td>\n",
       "      <td>8.699743</td>\n",
       "      <td>55.406250</td>\n",
       "      <td>2.834441</td>\n",
       "      <td>10.0</td>\n",
       "      <td>95280.0</td>\n",
       "      <td>1.0</td>\n",
       "      <td>41.321990</td>\n",
       "      <td>&gt;50K</td>\n",
       "      <td>United-States</td>\n",
       "      <td>45.0</td>\n",
       "      <td>Self-emp-not-inc</td>\n",
       "      <td>113.538461</td>\n",
       "      <td>78.018785</td>\n",
       "      <td>-0.064315</td>\n",
       "      <td>-1.014782</td>\n",
       "      <td>99999.0</td>\n",
       "    </tr>\n",
       "    <tr>\n",
       "      <th>75</th>\n",
       "      <td>James Chandler</td>\n",
       "      <td>MD</td>\n",
       "      <td>59.0</td>\n",
       "      <td>Female</td>\n",
       "      <td>12.0</td>\n",
       "      <td>White</td>\n",
       "      <td>Never-married</td>\n",
       "      <td>Adm-clerical</td>\n",
       "      <td>0.0</td>\n",
       "      <td>Not-in-family</td>\n",
       "      <td>-0.756047</td>\n",
       "      <td>115.171875</td>\n",
       "      <td>0.137646</td>\n",
       "      <td>9.0</td>\n",
       "      <td>496526.0</td>\n",
       "      <td>0.0</td>\n",
       "      <td>60.880276</td>\n",
       "      <td>&lt;=50K</td>\n",
       "      <td>United-States</td>\n",
       "      <td>40.0</td>\n",
       "      <td>Private</td>\n",
       "      <td>3.454849</td>\n",
       "      <td>24.834040</td>\n",
       "      <td>7.623345</td>\n",
       "      <td>59.094592</td>\n",
       "      <td>0.0</td>\n",
       "    </tr>\n",
       "    <tr>\n",
       "      <th>76</th>\n",
       "      <td>Jack Shortridge</td>\n",
       "      <td>IL</td>\n",
       "      <td>45.0</td>\n",
       "      <td>Male</td>\n",
       "      <td>12.0</td>\n",
       "      <td>White</td>\n",
       "      <td>Married-civ-spouse</td>\n",
       "      <td>Prof-specialty</td>\n",
       "      <td>0.0</td>\n",
       "      <td>Husband</td>\n",
       "      <td>2.371052</td>\n",
       "      <td>94.390625</td>\n",
       "      <td>0.740811</td>\n",
       "      <td>15.0</td>\n",
       "      <td>328949.0</td>\n",
       "      <td>0.0</td>\n",
       "      <td>37.913807</td>\n",
       "      <td>&lt;=50K</td>\n",
       "      <td>United-States</td>\n",
       "      <td>60.0</td>\n",
       "      <td>Private</td>\n",
       "      <td>1.974080</td>\n",
       "      <td>14.086753</td>\n",
       "      <td>10.169329</td>\n",
       "      <td>129.942593</td>\n",
       "      <td>0.0</td>\n",
       "    </tr>\n",
       "    <tr>\n",
       "      <th>77</th>\n",
       "      <td>Conrad Walsh</td>\n",
       "      <td>MS</td>\n",
       "      <td>20.0</td>\n",
       "      <td>Female</td>\n",
       "      <td>2.0</td>\n",
       "      <td>White</td>\n",
       "      <td>Widowed</td>\n",
       "      <td>Adm-clerical</td>\n",
       "      <td>0.0</td>\n",
       "      <td>Not-in-family</td>\n",
       "      <td>1.649471</td>\n",
       "      <td>85.742188</td>\n",
       "      <td>0.538589</td>\n",
       "      <td>9.0</td>\n",
       "      <td>154205.0</td>\n",
       "      <td>0.0</td>\n",
       "      <td>38.909198</td>\n",
       "      <td>&lt;=50K</td>\n",
       "      <td>United-States</td>\n",
       "      <td>10.0</td>\n",
       "      <td>Private</td>\n",
       "      <td>1.215719</td>\n",
       "      <td>13.895042</td>\n",
       "      <td>12.542178</td>\n",
       "      <td>171.061866</td>\n",
       "      <td>0.0</td>\n",
       "    </tr>\n",
       "    <tr>\n",
       "      <th>78</th>\n",
       "      <td>Gerald Snyder</td>\n",
       "      <td>SC</td>\n",
       "      <td>82.0</td>\n",
       "      <td>Male</td>\n",
       "      <td>1.0</td>\n",
       "      <td>Asian-Pac-Islander</td>\n",
       "      <td>Never-married</td>\n",
       "      <td>Tech-support</td>\n",
       "      <td>0.0</td>\n",
       "      <td>Not-in-family</td>\n",
       "      <td>1.671468</td>\n",
       "      <td>86.000000</td>\n",
       "      <td>0.923665</td>\n",
       "      <td>10.0</td>\n",
       "      <td>272669.0</td>\n",
       "      <td>1.0</td>\n",
       "      <td>43.321653</td>\n",
       "      <td>&lt;=50K</td>\n",
       "      <td>United-States</td>\n",
       "      <td>40.0</td>\n",
       "      <td>Private</td>\n",
       "      <td>16.781773</td>\n",
       "      <td>49.509450</td>\n",
       "      <td>2.919011</td>\n",
       "      <td>7.441884</td>\n",
       "      <td>0.0</td>\n",
       "    </tr>\n",
       "    <tr>\n",
       "      <th>79</th>\n",
       "      <td>Gregory Lam</td>\n",
       "      <td>ND</td>\n",
       "      <td>43.0</td>\n",
       "      <td>Male</td>\n",
       "      <td>9.0</td>\n",
       "      <td>White</td>\n",
       "      <td>Never-married</td>\n",
       "      <td>Machine-op-inspct</td>\n",
       "      <td>0.0</td>\n",
       "      <td>Not-in-family</td>\n",
       "      <td>0.449698</td>\n",
       "      <td>123.867188</td>\n",
       "      <td>-0.004028</td>\n",
       "      <td>9.0</td>\n",
       "      <td>177625.0</td>\n",
       "      <td>0.0</td>\n",
       "      <td>41.518515</td>\n",
       "      <td>&lt;=50K</td>\n",
       "      <td>United-States</td>\n",
       "      <td>40.0</td>\n",
       "      <td>Private</td>\n",
       "      <td>2.023411</td>\n",
       "      <td>16.012938</td>\n",
       "      <td>10.241640</td>\n",
       "      <td>120.348717</td>\n",
       "      <td>0.0</td>\n",
       "    </tr>\n",
       "    <tr>\n",
       "      <th>80</th>\n",
       "      <td>Brent Leffert</td>\n",
       "      <td>ID</td>\n",
       "      <td>54.0</td>\n",
       "      <td>Male</td>\n",
       "      <td>1.0</td>\n",
       "      <td>White</td>\n",
       "      <td>Never-married</td>\n",
       "      <td>NaN</td>\n",
       "      <td>0.0</td>\n",
       "      <td>Own-child</td>\n",
       "      <td>-0.185251</td>\n",
       "      <td>103.125000</td>\n",
       "      <td>0.376731</td>\n",
       "      <td>13.0</td>\n",
       "      <td>22966.0</td>\n",
       "      <td>0.0</td>\n",
       "      <td>53.530949</td>\n",
       "      <td>&lt;=50K</td>\n",
       "      <td>United-States</td>\n",
       "      <td>35.0</td>\n",
       "      <td>NaN</td>\n",
       "      <td>2.382943</td>\n",
       "      <td>14.401685</td>\n",
       "      <td>9.338643</td>\n",
       "      <td>114.031917</td>\n",
       "      <td>0.0</td>\n",
       "    </tr>\n",
       "    <tr>\n",
       "      <th>81</th>\n",
       "      <td>Alton Eisele</td>\n",
       "      <td>WY</td>\n",
       "      <td>68.0</td>\n",
       "      <td>Female</td>\n",
       "      <td>8.0</td>\n",
       "      <td>White</td>\n",
       "      <td>Never-married</td>\n",
       "      <td>Prof-specialty</td>\n",
       "      <td>0.0</td>\n",
       "      <td>Not-in-family</td>\n",
       "      <td>2.962466</td>\n",
       "      <td>91.898438</td>\n",
       "      <td>0.698335</td>\n",
       "      <td>14.0</td>\n",
       "      <td>174112.0</td>\n",
       "      <td>0.0</td>\n",
       "      <td>34.546129</td>\n",
       "      <td>&lt;=50K</td>\n",
       "      <td>United-States</td>\n",
       "      <td>40.0</td>\n",
       "      <td>Private</td>\n",
       "      <td>2.468227</td>\n",
       "      <td>18.679299</td>\n",
       "      <td>9.070288</td>\n",
       "      <td>90.448893</td>\n",
       "      <td>0.0</td>\n",
       "    </tr>\n",
       "    <tr>\n",
       "      <th>82</th>\n",
       "      <td>Bennie Barker</td>\n",
       "      <td>MN</td>\n",
       "      <td>67.0</td>\n",
       "      <td>Male</td>\n",
       "      <td>5.0</td>\n",
       "      <td>White</td>\n",
       "      <td>Never-married</td>\n",
       "      <td>Prof-specialty</td>\n",
       "      <td>0.0</td>\n",
       "      <td>Not-in-family</td>\n",
       "      <td>28.655975</td>\n",
       "      <td>11.820312</td>\n",
       "      <td>5.340502</td>\n",
       "      <td>13.0</td>\n",
       "      <td>69132.0</td>\n",
       "      <td>1.0</td>\n",
       "      <td>37.258270</td>\n",
       "      <td>&lt;=50K</td>\n",
       "      <td>United-States</td>\n",
       "      <td>40.0</td>\n",
       "      <td>Private</td>\n",
       "      <td>146.725752</td>\n",
       "      <td>75.399449</td>\n",
       "      <td>-0.290785</td>\n",
       "      <td>-1.219307</td>\n",
       "      <td>0.0</td>\n",
       "    </tr>\n",
       "    <tr>\n",
       "      <th>83</th>\n",
       "      <td>Johnny Alexander</td>\n",
       "      <td>MN</td>\n",
       "      <td>36.0</td>\n",
       "      <td>Male</td>\n",
       "      <td>5.0</td>\n",
       "      <td>White</td>\n",
       "      <td>Never-married</td>\n",
       "      <td>Farming-fishing</td>\n",
       "      <td>0.0</td>\n",
       "      <td>Own-child</td>\n",
       "      <td>0.007833</td>\n",
       "      <td>119.210938</td>\n",
       "      <td>-0.000974</td>\n",
       "      <td>10.0</td>\n",
       "      <td>164658.0</td>\n",
       "      <td>0.0</td>\n",
       "      <td>48.684676</td>\n",
       "      <td>&lt;=50K</td>\n",
       "      <td>United-States</td>\n",
       "      <td>60.0</td>\n",
       "      <td>Self-emp-inc</td>\n",
       "      <td>3.754181</td>\n",
       "      <td>27.502474</td>\n",
       "      <td>7.236287</td>\n",
       "      <td>50.755273</td>\n",
       "      <td>0.0</td>\n",
       "    </tr>\n",
       "    <tr>\n",
       "      <th>84</th>\n",
       "      <td>Darryl Bokor</td>\n",
       "      <td>AP</td>\n",
       "      <td>58.0</td>\n",
       "      <td>Female</td>\n",
       "      <td>2.0</td>\n",
       "      <td>White</td>\n",
       "      <td>Never-married</td>\n",
       "      <td>Priv-house-serv</td>\n",
       "      <td>0.0</td>\n",
       "      <td>Own-child</td>\n",
       "      <td>-0.609780</td>\n",
       "      <td>122.546875</td>\n",
       "      <td>0.067255</td>\n",
       "      <td>7.0</td>\n",
       "      <td>297246.0</td>\n",
       "      <td>0.0</td>\n",
       "      <td>56.703568</td>\n",
       "      <td>&lt;=50K</td>\n",
       "      <td>United-States</td>\n",
       "      <td>9.0</td>\n",
       "      <td>Private</td>\n",
       "      <td>2.225753</td>\n",
       "      <td>16.740221</td>\n",
       "      <td>10.049017</td>\n",
       "      <td>115.420025</td>\n",
       "      <td>0.0</td>\n",
       "    </tr>\n",
       "    <tr>\n",
       "      <th>85</th>\n",
       "      <td>Doug Jackson</td>\n",
       "      <td>NE</td>\n",
       "      <td>42.0</td>\n",
       "      <td>Male</td>\n",
       "      <td>12.0</td>\n",
       "      <td>White</td>\n",
       "      <td>Married-civ-spouse</td>\n",
       "      <td>Exec-managerial</td>\n",
       "      <td>0.0</td>\n",
       "      <td>Husband</td>\n",
       "      <td>0.789404</td>\n",
       "      <td>121.679688</td>\n",
       "      <td>0.413928</td>\n",
       "      <td>9.0</td>\n",
       "      <td>99199.0</td>\n",
       "      <td>0.0</td>\n",
       "      <td>40.368601</td>\n",
       "      <td>&lt;=50K</td>\n",
       "      <td>United-States</td>\n",
       "      <td>48.0</td>\n",
       "      <td>Private</td>\n",
       "      <td>0.949833</td>\n",
       "      <td>11.571032</td>\n",
       "      <td>15.340758</td>\n",
       "      <td>269.116702</td>\n",
       "      <td>0.0</td>\n",
       "    </tr>\n",
       "    <tr>\n",
       "      <th>86</th>\n",
       "      <td>Michael Teets</td>\n",
       "      <td>ND</td>\n",
       "      <td>38.0</td>\n",
       "      <td>Male</td>\n",
       "      <td>12.0</td>\n",
       "      <td>White</td>\n",
       "      <td>Married-civ-spouse</td>\n",
       "      <td>Machine-op-inspct</td>\n",
       "      <td>0.0</td>\n",
       "      <td>Husband</td>\n",
       "      <td>0.414500</td>\n",
       "      <td>128.656250</td>\n",
       "      <td>-0.133381</td>\n",
       "      <td>7.0</td>\n",
       "      <td>33487.0</td>\n",
       "      <td>0.0</td>\n",
       "      <td>47.107165</td>\n",
       "      <td>&lt;=50K</td>\n",
       "      <td>United-States</td>\n",
       "      <td>40.0</td>\n",
       "      <td>Private</td>\n",
       "      <td>2.655518</td>\n",
       "      <td>14.868545</td>\n",
       "      <td>8.636293</td>\n",
       "      <td>100.090543</td>\n",
       "      <td>0.0</td>\n",
       "    </tr>\n",
       "    <tr>\n",
       "      <th>87</th>\n",
       "      <td>Travis Chambers</td>\n",
       "      <td>CA</td>\n",
       "      <td>57.0</td>\n",
       "      <td>Female</td>\n",
       "      <td>7.0</td>\n",
       "      <td>White</td>\n",
       "      <td>Married-civ-spouse</td>\n",
       "      <td>Craft-repair</td>\n",
       "      <td>0.0</td>\n",
       "      <td>Wife</td>\n",
       "      <td>-0.502458</td>\n",
       "      <td>130.921875</td>\n",
       "      <td>-0.176278</td>\n",
       "      <td>9.0</td>\n",
       "      <td>458558.0</td>\n",
       "      <td>0.0</td>\n",
       "      <td>52.732907</td>\n",
       "      <td>&lt;=50K</td>\n",
       "      <td>United-States</td>\n",
       "      <td>40.0</td>\n",
       "      <td>Private</td>\n",
       "      <td>52.297659</td>\n",
       "      <td>80.034451</td>\n",
       "      <td>1.220369</td>\n",
       "      <td>-0.135713</td>\n",
       "      <td>0.0</td>\n",
       "    </tr>\n",
       "    <tr>\n",
       "      <th>88</th>\n",
       "      <td>Royce Criss</td>\n",
       "      <td>AE</td>\n",
       "      <td>62.0</td>\n",
       "      <td>Male</td>\n",
       "      <td>4.0</td>\n",
       "      <td>White</td>\n",
       "      <td>Never-married</td>\n",
       "      <td>Exec-managerial</td>\n",
       "      <td>0.0</td>\n",
       "      <td>Not-in-family</td>\n",
       "      <td>0.249390</td>\n",
       "      <td>122.460938</td>\n",
       "      <td>-0.217544</td>\n",
       "      <td>13.0</td>\n",
       "      <td>254293.0</td>\n",
       "      <td>0.0</td>\n",
       "      <td>47.507714</td>\n",
       "      <td>&lt;=50K</td>\n",
       "      <td>United-States</td>\n",
       "      <td>45.0</td>\n",
       "      <td>Private</td>\n",
       "      <td>1.894649</td>\n",
       "      <td>14.983623</td>\n",
       "      <td>9.783737</td>\n",
       "      <td>114.905476</td>\n",
       "      <td>2174.0</td>\n",
       "    </tr>\n",
       "    <tr>\n",
       "      <th>89</th>\n",
       "      <td>Thomas Heister</td>\n",
       "      <td>RI</td>\n",
       "      <td>54.0</td>\n",
       "      <td>Male</td>\n",
       "      <td>2.0</td>\n",
       "      <td>White</td>\n",
       "      <td>Never-married</td>\n",
       "      <td>Handlers-cleaners</td>\n",
       "      <td>0.0</td>\n",
       "      <td>Not-in-family</td>\n",
       "      <td>11.563836</td>\n",
       "      <td>49.335938</td>\n",
       "      <td>3.335373</td>\n",
       "      <td>9.0</td>\n",
       "      <td>117963.0</td>\n",
       "      <td>1.0</td>\n",
       "      <td>43.590473</td>\n",
       "      <td>&lt;=50K</td>\n",
       "      <td>United-States</td>\n",
       "      <td>60.0</td>\n",
       "      <td>Private</td>\n",
       "      <td>62.966555</td>\n",
       "      <td>71.463106</td>\n",
       "      <td>0.948149</td>\n",
       "      <td>-0.052174</td>\n",
       "      <td>0.0</td>\n",
       "    </tr>\n",
       "    <tr>\n",
       "      <th>90</th>\n",
       "      <td>Charles Brueggeman</td>\n",
       "      <td>KY</td>\n",
       "      <td>60.0</td>\n",
       "      <td>Male</td>\n",
       "      <td>8.0</td>\n",
       "      <td>White</td>\n",
       "      <td>Married-civ-spouse</td>\n",
       "      <td>Craft-repair</td>\n",
       "      <td>0.0</td>\n",
       "      <td>Husband</td>\n",
       "      <td>0.153184</td>\n",
       "      <td>114.820312</td>\n",
       "      <td>0.009286</td>\n",
       "      <td>7.0</td>\n",
       "      <td>193026.0</td>\n",
       "      <td>0.0</td>\n",
       "      <td>43.769537</td>\n",
       "      <td>&lt;=50K</td>\n",
       "      <td>United-States</td>\n",
       "      <td>40.0</td>\n",
       "      <td>Private</td>\n",
       "      <td>3.674749</td>\n",
       "      <td>22.535488</td>\n",
       "      <td>6.554088</td>\n",
       "      <td>45.140037</td>\n",
       "      <td>0.0</td>\n",
       "    </tr>\n",
       "    <tr>\n",
       "      <th>91</th>\n",
       "      <td>Robert Killinger</td>\n",
       "      <td>AK</td>\n",
       "      <td>63.0</td>\n",
       "      <td>Female</td>\n",
       "      <td>8.0</td>\n",
       "      <td>White</td>\n",
       "      <td>Never-married</td>\n",
       "      <td>Exec-managerial</td>\n",
       "      <td>0.0</td>\n",
       "      <td>Not-in-family</td>\n",
       "      <td>0.506152</td>\n",
       "      <td>117.125000</td>\n",
       "      <td>0.310017</td>\n",
       "      <td>13.0</td>\n",
       "      <td>212798.0</td>\n",
       "      <td>0.0</td>\n",
       "      <td>45.037311</td>\n",
       "      <td>&lt;=50K</td>\n",
       "      <td>United-States</td>\n",
       "      <td>45.0</td>\n",
       "      <td>Private</td>\n",
       "      <td>2.761706</td>\n",
       "      <td>20.822251</td>\n",
       "      <td>8.535226</td>\n",
       "      <td>77.368130</td>\n",
       "      <td>0.0</td>\n",
       "    </tr>\n",
       "    <tr>\n",
       "      <th>92</th>\n",
       "      <td>Johnny Reynolds</td>\n",
       "      <td>MN</td>\n",
       "      <td>55.0</td>\n",
       "      <td>Male</td>\n",
       "      <td>3.0</td>\n",
       "      <td>White</td>\n",
       "      <td>Married-civ-spouse</td>\n",
       "      <td>Exec-managerial</td>\n",
       "      <td>0.0</td>\n",
       "      <td>Husband</td>\n",
       "      <td>0.179710</td>\n",
       "      <td>101.046875</td>\n",
       "      <td>0.193583</td>\n",
       "      <td>13.0</td>\n",
       "      <td>232308.0</td>\n",
       "      <td>0.0</td>\n",
       "      <td>47.367061</td>\n",
       "      <td>&gt;50K</td>\n",
       "      <td>United-States</td>\n",
       "      <td>40.0</td>\n",
       "      <td>Private</td>\n",
       "      <td>1.945652</td>\n",
       "      <td>14.019082</td>\n",
       "      <td>9.881600</td>\n",
       "      <td>123.968352</td>\n",
       "      <td>0.0</td>\n",
       "    </tr>\n",
       "    <tr>\n",
       "      <th>93</th>\n",
       "      <td>Melvin Wiggins</td>\n",
       "      <td>SD</td>\n",
       "      <td>34.0</td>\n",
       "      <td>Male</td>\n",
       "      <td>1.0</td>\n",
       "      <td>White</td>\n",
       "      <td>Separated</td>\n",
       "      <td>Craft-repair</td>\n",
       "      <td>0.0</td>\n",
       "      <td>Not-in-family</td>\n",
       "      <td>-0.639522</td>\n",
       "      <td>113.132812</td>\n",
       "      <td>0.097123</td>\n",
       "      <td>13.0</td>\n",
       "      <td>85244.0</td>\n",
       "      <td>0.0</td>\n",
       "      <td>56.996213</td>\n",
       "      <td>&lt;=50K</td>\n",
       "      <td>United-States</td>\n",
       "      <td>40.0</td>\n",
       "      <td>Private</td>\n",
       "      <td>5.027592</td>\n",
       "      <td>25.016451</td>\n",
       "      <td>6.142165</td>\n",
       "      <td>41.664378</td>\n",
       "      <td>0.0</td>\n",
       "    </tr>\n",
       "    <tr>\n",
       "      <th>94</th>\n",
       "      <td>Harold Tshudy</td>\n",
       "      <td>GA</td>\n",
       "      <td>59.0</td>\n",
       "      <td>Female</td>\n",
       "      <td>9.0</td>\n",
       "      <td>White</td>\n",
       "      <td>Never-married</td>\n",
       "      <td>Prof-specialty</td>\n",
       "      <td>0.0</td>\n",
       "      <td>Not-in-family</td>\n",
       "      <td>0.190932</td>\n",
       "      <td>136.890625</td>\n",
       "      <td>-0.116846</td>\n",
       "      <td>16.0</td>\n",
       "      <td>101096.0</td>\n",
       "      <td>0.0</td>\n",
       "      <td>42.777812</td>\n",
       "      <td>&gt;50K</td>\n",
       "      <td>United-States</td>\n",
       "      <td>65.0</td>\n",
       "      <td>Private</td>\n",
       "      <td>1.972408</td>\n",
       "      <td>14.315079</td>\n",
       "      <td>10.624558</td>\n",
       "      <td>141.632728</td>\n",
       "      <td>0.0</td>\n",
       "    </tr>\n",
       "    <tr>\n",
       "      <th>95</th>\n",
       "      <td>Alex Chinzi</td>\n",
       "      <td>HI</td>\n",
       "      <td>29.0</td>\n",
       "      <td>Male</td>\n",
       "      <td>9.0</td>\n",
       "      <td>White</td>\n",
       "      <td>Married-civ-spouse</td>\n",
       "      <td>Sales</td>\n",
       "      <td>0.0</td>\n",
       "      <td>Husband</td>\n",
       "      <td>0.151290</td>\n",
       "      <td>126.453125</td>\n",
       "      <td>-0.197473</td>\n",
       "      <td>13.0</td>\n",
       "      <td>181220.0</td>\n",
       "      <td>0.0</td>\n",
       "      <td>46.703831</td>\n",
       "      <td>&gt;50K</td>\n",
       "      <td>United-States</td>\n",
       "      <td>40.0</td>\n",
       "      <td>Private</td>\n",
       "      <td>2.148829</td>\n",
       "      <td>16.842510</td>\n",
       "      <td>9.401411</td>\n",
       "      <td>100.334912</td>\n",
       "      <td>0.0</td>\n",
       "    </tr>\n",
       "    <tr>\n",
       "      <th>96</th>\n",
       "      <td>Lorenzo Mann</td>\n",
       "      <td>NV</td>\n",
       "      <td>36.0</td>\n",
       "      <td>Female</td>\n",
       "      <td>4.0</td>\n",
       "      <td>White</td>\n",
       "      <td>Divorced</td>\n",
       "      <td>Adm-clerical</td>\n",
       "      <td>0.0</td>\n",
       "      <td>Not-in-family</td>\n",
       "      <td>0.306772</td>\n",
       "      <td>112.703125</td>\n",
       "      <td>0.198637</td>\n",
       "      <td>9.0</td>\n",
       "      <td>196107.0</td>\n",
       "      <td>0.0</td>\n",
       "      <td>48.518901</td>\n",
       "      <td>&lt;=50K</td>\n",
       "      <td>United-States</td>\n",
       "      <td>30.0</td>\n",
       "      <td>Private</td>\n",
       "      <td>5.045987</td>\n",
       "      <td>29.860440</td>\n",
       "      <td>6.237878</td>\n",
       "      <td>39.038030</td>\n",
       "      <td>0.0</td>\n",
       "    </tr>\n",
       "    <tr>\n",
       "      <th>97</th>\n",
       "      <td>Gary Rivers</td>\n",
       "      <td>MN</td>\n",
       "      <td>56.0</td>\n",
       "      <td>Male</td>\n",
       "      <td>5.0</td>\n",
       "      <td>Asian-Pac-Islander</td>\n",
       "      <td>NaN</td>\n",
       "      <td>Other-service</td>\n",
       "      <td>0.0</td>\n",
       "      <td>Husband</td>\n",
       "      <td>-0.174616</td>\n",
       "      <td>129.171875</td>\n",
       "      <td>0.133561</td>\n",
       "      <td>9.0</td>\n",
       "      <td>84737.0</td>\n",
       "      <td>0.0</td>\n",
       "      <td>51.540201</td>\n",
       "      <td>&gt;50K</td>\n",
       "      <td>United-States</td>\n",
       "      <td>35.0</td>\n",
       "      <td>Local-gov</td>\n",
       "      <td>6.186455</td>\n",
       "      <td>34.033077</td>\n",
       "      <td>5.560734</td>\n",
       "      <td>29.891930</td>\n",
       "      <td>0.0</td>\n",
       "    </tr>\n",
       "    <tr>\n",
       "      <th>98</th>\n",
       "      <td>John Morgan</td>\n",
       "      <td>NC</td>\n",
       "      <td>67.0</td>\n",
       "      <td>Male</td>\n",
       "      <td>6.0</td>\n",
       "      <td>White</td>\n",
       "      <td>Married-AF-spouse</td>\n",
       "      <td>Sales</td>\n",
       "      <td>0.0</td>\n",
       "      <td>Husband</td>\n",
       "      <td>1.788843</td>\n",
       "      <td>97.023438</td>\n",
       "      <td>0.512951</td>\n",
       "      <td>9.0</td>\n",
       "      <td>98155.0</td>\n",
       "      <td>0.0</td>\n",
       "      <td>38.702686</td>\n",
       "      <td>&lt;=50K</td>\n",
       "      <td>United-States</td>\n",
       "      <td>55.0</td>\n",
       "      <td>Private</td>\n",
       "      <td>2.587793</td>\n",
       "      <td>19.709678</td>\n",
       "      <td>8.504248</td>\n",
       "      <td>77.382055</td>\n",
       "      <td>0.0</td>\n",
       "    </tr>\n",
       "    <tr>\n",
       "      <th>99</th>\n",
       "      <td>Richard Deslauriers</td>\n",
       "      <td>ID</td>\n",
       "      <td>44.0</td>\n",
       "      <td>Male</td>\n",
       "      <td>3.0</td>\n",
       "      <td>White</td>\n",
       "      <td>Married-civ-spouse</td>\n",
       "      <td>Machine-op-inspct</td>\n",
       "      <td>0.0</td>\n",
       "      <td>Husband</td>\n",
       "      <td>4.137784</td>\n",
       "      <td>91.312500</td>\n",
       "      <td>0.864452</td>\n",
       "      <td>9.0</td>\n",
       "      <td>159016.0</td>\n",
       "      <td>0.0</td>\n",
       "      <td>33.083169</td>\n",
       "      <td>&lt;=50K</td>\n",
       "      <td>United-States</td>\n",
       "      <td>38.0</td>\n",
       "      <td>Private</td>\n",
       "      <td>1.740803</td>\n",
       "      <td>13.909696</td>\n",
       "      <td>11.795919</td>\n",
       "      <td>172.334429</td>\n",
       "      <td>0.0</td>\n",
       "    </tr>\n",
       "  </tbody>\n",
       "</table>\n",
       "<p>100 rows × 26 columns</p>\n",
       "</div>"
      ],
      "text/plain": [
       "                    name state   age     sex  birth_month                race  \\\n",
       "0        Roscoe Bohannon    OH  58.0    Male          3.0               White   \n",
       "1           Ernest Kline    IN  57.0  Female         11.0  Amer-Indian-Eskimo   \n",
       "2        Harold Hendriks    CO  59.0    Male         12.0               White   \n",
       "3         Randy Baptiste    CA  66.0  Female          3.0               White   \n",
       "4        Anthony Colucci    CO  64.0    Male         12.0               White   \n",
       "5           Ronald Lange    CA  54.0  Female          5.0               White   \n",
       "6          Boyd Eiselein    VA  53.0    Male          5.0               White   \n",
       "7          Raymond Smith    MA  30.0    Male          7.0  Asian-Pac-Islander   \n",
       "8          Harold Miller    GA  60.0    Male          3.0               White   \n",
       "9   Charles Czachorowski    DC  52.0  Female          6.0               Black   \n",
       "10       Robert Grantham    AK  52.0  Female         12.0               White   \n",
       "11              Joel Lam    IA  53.0    Male         12.0               White   \n",
       "12            Irving Gil    TX  68.0    Male          4.0               White   \n",
       "13        Terry Reynolds    WI  41.0  Female          4.0               White   \n",
       "14      Kurt Littlefield    RI  33.0    Male          3.0               White   \n",
       "15          Andy Grayson    DC  54.0  Female          3.0               White   \n",
       "16       Chauncey Suarez    LA  56.0    Male          1.0               White   \n",
       "17        Wallace Street    NY  66.0    Male          5.0  Asian-Pac-Islander   \n",
       "18       Daniel Crossman    LA  54.0  Female          1.0               White   \n",
       "19            Steve Ripp    NC  37.0    Male         10.0               White   \n",
       "20       George Hairston    NJ  50.0    Male         11.0               White   \n",
       "21        Jeffrey Taylor    AA  52.0    Male         10.0               White   \n",
       "22           David Mealy    DE  32.0  Female          9.0               White   \n",
       "23        Garfield Bowen    LA  40.0    Male         11.0               White   \n",
       "24      Thaddeus Mackerl    WV  44.0    Male          4.0               White   \n",
       "25           Gerald Pack    OR  33.0    Male         12.0               White   \n",
       "26       Jonathon Nemith    NC  35.0  Female          6.0               White   \n",
       "27           Roger Groce    NJ  57.0    Male          2.0               White   \n",
       "28          Harold Odowd    GA  67.0    Male          4.0               White   \n",
       "29       Stanley Forrest    NC  62.0  Female         11.0               White   \n",
       "..                   ...   ...   ...     ...          ...                 ...   \n",
       "70           Tom Donohue    WA  71.0    Male          8.0               White   \n",
       "71          Ronald Haven    IA  34.0    Male          9.0               Black   \n",
       "72        Patrick Jacobs    MS  42.0    Male          1.0               White   \n",
       "73       David Henderson    TN  80.0  Female          7.0  Asian-Pac-Islander   \n",
       "74          Walter Smith    KS  59.0    Male         12.0               White   \n",
       "75        James Chandler    MD  59.0  Female         12.0               White   \n",
       "76       Jack Shortridge    IL  45.0    Male         12.0               White   \n",
       "77          Conrad Walsh    MS  20.0  Female          2.0               White   \n",
       "78         Gerald Snyder    SC  82.0    Male          1.0  Asian-Pac-Islander   \n",
       "79           Gregory Lam    ND  43.0    Male          9.0               White   \n",
       "80         Brent Leffert    ID  54.0    Male          1.0               White   \n",
       "81          Alton Eisele    WY  68.0  Female          8.0               White   \n",
       "82         Bennie Barker    MN  67.0    Male          5.0               White   \n",
       "83      Johnny Alexander    MN  36.0    Male          5.0               White   \n",
       "84          Darryl Bokor    AP  58.0  Female          2.0               White   \n",
       "85          Doug Jackson    NE  42.0    Male         12.0               White   \n",
       "86         Michael Teets    ND  38.0    Male         12.0               White   \n",
       "87       Travis Chambers    CA  57.0  Female          7.0               White   \n",
       "88           Royce Criss    AE  62.0    Male          4.0               White   \n",
       "89        Thomas Heister    RI  54.0    Male          2.0               White   \n",
       "90    Charles Brueggeman    KY  60.0    Male          8.0               White   \n",
       "91      Robert Killinger    AK  63.0  Female          8.0               White   \n",
       "92       Johnny Reynolds    MN  55.0    Male          3.0               White   \n",
       "93        Melvin Wiggins    SD  34.0    Male          1.0               White   \n",
       "94         Harold Tshudy    GA  59.0  Female          9.0               White   \n",
       "95           Alex Chinzi    HI  29.0    Male          9.0               White   \n",
       "96          Lorenzo Mann    NV  36.0  Female          4.0               White   \n",
       "97           Gary Rivers    MN  56.0    Male          5.0  Asian-Pac-Islander   \n",
       "98           John Morgan    NC  67.0    Male          6.0               White   \n",
       "99   Richard Deslauriers    ID  44.0    Male          3.0               White   \n",
       "\n",
       "        marital_status         occupation  pregnant    relationship  \\\n",
       "0        Never-married      Other-service       0.0   Not-in-family   \n",
       "1             Divorced    Exec-managerial       0.0       Own-child   \n",
       "2   Married-civ-spouse       Adm-clerical       0.0         Husband   \n",
       "3   Married-civ-spouse      Other-service       0.0            Wife   \n",
       "4        Never-married      Other-service       0.0       Own-child   \n",
       "5        Never-married       Adm-clerical       0.0       Own-child   \n",
       "6                  NaN    Exec-managerial       0.0         Husband   \n",
       "7   Married-civ-spouse     Prof-specialty       0.0         Husband   \n",
       "8        Never-married      Other-service       0.0       Own-child   \n",
       "9        Never-married  Machine-op-inspct       0.0       Unmarried   \n",
       "10       Never-married       Tech-support       0.0       Unmarried   \n",
       "11                 NaN              Sales       0.0   Not-in-family   \n",
       "12       Never-married  Handlers-cleaners       0.0       Own-child   \n",
       "13  Married-civ-spouse    Exec-managerial       0.0            Wife   \n",
       "14  Married-civ-spouse    Exec-managerial       0.0         Husband   \n",
       "15  Married-civ-spouse     Prof-specialty       0.0            Wife   \n",
       "16  Married-civ-spouse       Craft-repair       0.0         Husband   \n",
       "17  Married-civ-spouse     Prof-specialty       0.0         Husband   \n",
       "18  Married-civ-spouse                NaN       0.0            Wife   \n",
       "19  Married-civ-spouse   Transport-moving       0.0         Husband   \n",
       "20  Married-civ-spouse     Prof-specialty       0.0         Husband   \n",
       "21  Married-civ-spouse              Sales       0.0         Husband   \n",
       "22                 NaN       Adm-clerical       0.0       Own-child   \n",
       "23  Married-civ-spouse       Craft-repair       0.0         Husband   \n",
       "24           Separated  Handlers-cleaners       0.0       Unmarried   \n",
       "25  Married-civ-spouse  Handlers-cleaners       0.0         Husband   \n",
       "26  Married-civ-spouse    Farming-fishing       0.0  Other-relative   \n",
       "27       Never-married  Machine-op-inspct       0.0       Own-child   \n",
       "28       Never-married              Sales       0.0   Not-in-family   \n",
       "29       Never-married       Craft-repair       0.0   Not-in-family   \n",
       "..                 ...                ...       ...             ...   \n",
       "70  Married-civ-spouse    Exec-managerial       0.0         Husband   \n",
       "71  Married-civ-spouse                NaN       0.0         Husband   \n",
       "72  Married-civ-spouse       Craft-repair       0.0         Husband   \n",
       "73       Never-married              Sales       0.0       Own-child   \n",
       "74                 NaN              Sales       0.0         Husband   \n",
       "75       Never-married       Adm-clerical       0.0   Not-in-family   \n",
       "76  Married-civ-spouse     Prof-specialty       0.0         Husband   \n",
       "77             Widowed       Adm-clerical       0.0   Not-in-family   \n",
       "78       Never-married       Tech-support       0.0   Not-in-family   \n",
       "79       Never-married  Machine-op-inspct       0.0   Not-in-family   \n",
       "80       Never-married                NaN       0.0       Own-child   \n",
       "81       Never-married     Prof-specialty       0.0   Not-in-family   \n",
       "82       Never-married     Prof-specialty       0.0   Not-in-family   \n",
       "83       Never-married    Farming-fishing       0.0       Own-child   \n",
       "84       Never-married    Priv-house-serv       0.0       Own-child   \n",
       "85  Married-civ-spouse    Exec-managerial       0.0         Husband   \n",
       "86  Married-civ-spouse  Machine-op-inspct       0.0         Husband   \n",
       "87  Married-civ-spouse       Craft-repair       0.0            Wife   \n",
       "88       Never-married    Exec-managerial       0.0   Not-in-family   \n",
       "89       Never-married  Handlers-cleaners       0.0   Not-in-family   \n",
       "90  Married-civ-spouse       Craft-repair       0.0         Husband   \n",
       "91       Never-married    Exec-managerial       0.0   Not-in-family   \n",
       "92  Married-civ-spouse    Exec-managerial       0.0         Husband   \n",
       "93           Separated       Craft-repair       0.0   Not-in-family   \n",
       "94       Never-married     Prof-specialty       0.0   Not-in-family   \n",
       "95  Married-civ-spouse              Sales       0.0         Husband   \n",
       "96            Divorced       Adm-clerical       0.0   Not-in-family   \n",
       "97                 NaN      Other-service       0.0         Husband   \n",
       "98   Married-AF-spouse              Sales       0.0         Husband   \n",
       "99  Married-civ-spouse  Machine-op-inspct       0.0         Husband   \n",
       "\n",
       "    skewness_glucose  mean_glucose  kurtosis_glucose  education    fnlwgt  \\\n",
       "0          -0.099526    119.242188          0.012622        9.0  321896.0   \n",
       "1           2.396809     82.070312          0.860951       11.0  134220.0   \n",
       "2           4.797428     78.218750          1.540387        9.0   27432.0   \n",
       "3          11.184030     61.718750          2.266661       13.0  159442.0   \n",
       "4          27.815414     21.304688          5.146317       10.0  219211.0   \n",
       "5          -0.523368    124.085938          0.152932        9.0  198822.0   \n",
       "6          13.071115     69.906250          3.154100       12.0  122206.0   \n",
       "7           1.835289     76.484375          0.898881       13.0  123983.0   \n",
       "8          -0.078188    129.820312          0.101646        7.0  194612.0   \n",
       "9           6.657364     60.617188          1.990753        9.0   97136.0   \n",
       "10         14.987958     32.593750          3.692952        9.0  169152.0   \n",
       "11          1.100304    100.476562          0.616799       13.0  204374.0   \n",
       "12         29.914913     36.664062          5.034696        9.0  198668.0   \n",
       "13         -0.311290    131.414062          0.038402       10.0  105862.0   \n",
       "14          1.716127    109.773438          0.346857       13.0  190525.0   \n",
       "15         -0.000520    113.562500          0.141474       13.0   43953.0   \n",
       "16         -0.545795    123.718750         -0.169079        9.0  213574.0   \n",
       "17          1.208628     99.835938          0.585857       14.0   79586.0   \n",
       "18          0.163764    108.773438          0.244125       13.0  100903.0   \n",
       "19         -0.265510    136.914062          0.042939        9.0  114060.0   \n",
       "20         -0.067414    128.023438          0.170496       11.0   55395.0   \n",
       "21          0.119019    114.960938          0.419055       13.0  162298.0   \n",
       "22          2.068824     84.210938          0.667546        9.0  164395.0   \n",
       "23         -0.608043    123.148438         -0.049741        9.0   66614.0   \n",
       "24         -0.091361    125.609375         -0.016635        9.0  220776.0   \n",
       "25          0.292268    109.640625          0.336955        9.0  217198.0   \n",
       "26          0.174486     91.171875          0.879048        3.0  339358.0   \n",
       "27          0.549780    105.273438          0.457031        3.0   88564.0   \n",
       "28          0.201607    114.117188          0.332225        9.0   35459.0   \n",
       "29          9.072248     59.437500          2.506677       10.0   42857.0   \n",
       "..               ...           ...               ...        ...       ...   \n",
       "70         -0.118661    139.843750          0.132098        9.0  316211.0   \n",
       "71         15.398741     16.539062          3.968126       12.0  270228.0   \n",
       "72          2.541100    101.375000          0.145436        9.0   76893.0   \n",
       "73          4.619828     76.835938          1.883285       10.0  150553.0   \n",
       "74          8.699743     55.406250          2.834441       10.0   95280.0   \n",
       "75         -0.756047    115.171875          0.137646        9.0  496526.0   \n",
       "76          2.371052     94.390625          0.740811       15.0  328949.0   \n",
       "77          1.649471     85.742188          0.538589        9.0  154205.0   \n",
       "78          1.671468     86.000000          0.923665       10.0  272669.0   \n",
       "79          0.449698    123.867188         -0.004028        9.0  177625.0   \n",
       "80         -0.185251    103.125000          0.376731       13.0   22966.0   \n",
       "81          2.962466     91.898438          0.698335       14.0  174112.0   \n",
       "82         28.655975     11.820312          5.340502       13.0   69132.0   \n",
       "83          0.007833    119.210938         -0.000974       10.0  164658.0   \n",
       "84         -0.609780    122.546875          0.067255        7.0  297246.0   \n",
       "85          0.789404    121.679688          0.413928        9.0   99199.0   \n",
       "86          0.414500    128.656250         -0.133381        7.0   33487.0   \n",
       "87         -0.502458    130.921875         -0.176278        9.0  458558.0   \n",
       "88          0.249390    122.460938         -0.217544       13.0  254293.0   \n",
       "89         11.563836     49.335938          3.335373        9.0  117963.0   \n",
       "90          0.153184    114.820312          0.009286        7.0  193026.0   \n",
       "91          0.506152    117.125000          0.310017       13.0  212798.0   \n",
       "92          0.179710    101.046875          0.193583       13.0  232308.0   \n",
       "93         -0.639522    113.132812          0.097123       13.0   85244.0   \n",
       "94          0.190932    136.890625         -0.116846       16.0  101096.0   \n",
       "95          0.151290    126.453125         -0.197473       13.0  181220.0   \n",
       "96          0.306772    112.703125          0.198637        9.0  196107.0   \n",
       "97         -0.174616    129.171875          0.133561        9.0   84737.0   \n",
       "98          1.788843     97.023438          0.512951        9.0   98155.0   \n",
       "99          4.137784     91.312500          0.864452        9.0  159016.0   \n",
       "\n",
       "    class  std_glucose income native_country  hours_per_week  \\\n",
       "0     0.0    49.065286  <=50K  United-States            40.0   \n",
       "1     0.0    38.530261  <=50K  United-States            40.0   \n",
       "2     1.0    40.637871   >50K  United-States            40.0   \n",
       "3     1.0    32.301543  <=50K  United-States            40.0   \n",
       "4     1.0    35.907555  <=50K  United-States            20.0   \n",
       "5     0.0    58.169476  <=50K  United-States            35.0   \n",
       "6     1.0    34.185258   >50K  United-States            50.0   \n",
       "7     0.0    40.383510   >50K          Japan            55.0   \n",
       "8     0.0    47.896443  <=50K  United-States            25.0   \n",
       "9     1.0    36.952909  <=50K  United-States            40.0   \n",
       "10    1.0    40.189092  <=50K  United-States            40.0   \n",
       "11    0.0    44.479975  <=50K  United-States            48.0   \n",
       "12    1.0    30.379186  <=50K  United-States            40.0   \n",
       "13    0.0    51.043108   >50K  United-States            70.0   \n",
       "14    0.0    39.304941   >50K  United-States            55.0   \n",
       "15    0.0    45.021132  <=50K  United-States            35.0   \n",
       "16    0.0    53.202581  <=50K  United-States            10.0   \n",
       "17    1.0    39.324328   >50K          India            40.0   \n",
       "18    0.0    48.609447  <=50K  United-States            25.0   \n",
       "19    0.0    52.223831  <=50K  United-States            40.0   \n",
       "20    0.0    44.114458   >50K  United-States            40.0   \n",
       "21    0.0    46.562861   >50K  United-States            70.0   \n",
       "22    0.0    37.429236  <=50K  United-States            25.0   \n",
       "23    0.0    60.996169  <=50K  United-States            40.0   \n",
       "24    0.0    51.790780  <=50K         Poland            40.0   \n",
       "25    0.0    47.339653  <=50K  United-States            10.0   \n",
       "26    0.0    55.132385  <=50K         Mexico            45.0   \n",
       "27    0.0    44.943665  <=50K  United-States            20.0   \n",
       "28    0.0    44.517135  <=50K  United-States            40.0   \n",
       "29    1.0    38.901669  <=50K  United-States            35.0   \n",
       "..    ...          ...    ...            ...             ...   \n",
       "70    0.0    44.294546   >50K  United-States            60.0   \n",
       "71    1.0    42.744865   >50K  United-States            40.0   \n",
       "72    0.0    34.693524  <=50K  United-States            40.0   \n",
       "73    1.0    44.270083  <=50K    Philippines            18.0   \n",
       "74    1.0    41.321990   >50K  United-States            45.0   \n",
       "75    0.0    60.880276  <=50K  United-States            40.0   \n",
       "76    0.0    37.913807  <=50K  United-States            60.0   \n",
       "77    0.0    38.909198  <=50K  United-States            10.0   \n",
       "78    1.0    43.321653  <=50K  United-States            40.0   \n",
       "79    0.0    41.518515  <=50K  United-States            40.0   \n",
       "80    0.0    53.530949  <=50K  United-States            35.0   \n",
       "81    0.0    34.546129  <=50K  United-States            40.0   \n",
       "82    1.0    37.258270  <=50K  United-States            40.0   \n",
       "83    0.0    48.684676  <=50K  United-States            60.0   \n",
       "84    0.0    56.703568  <=50K  United-States             9.0   \n",
       "85    0.0    40.368601  <=50K  United-States            48.0   \n",
       "86    0.0    47.107165  <=50K  United-States            40.0   \n",
       "87    0.0    52.732907  <=50K  United-States            40.0   \n",
       "88    0.0    47.507714  <=50K  United-States            45.0   \n",
       "89    1.0    43.590473  <=50K  United-States            60.0   \n",
       "90    0.0    43.769537  <=50K  United-States            40.0   \n",
       "91    0.0    45.037311  <=50K  United-States            45.0   \n",
       "92    0.0    47.367061   >50K  United-States            40.0   \n",
       "93    0.0    56.996213  <=50K  United-States            40.0   \n",
       "94    0.0    42.777812   >50K  United-States            65.0   \n",
       "95    0.0    46.703831   >50K  United-States            40.0   \n",
       "96    0.0    48.518901  <=50K  United-States            30.0   \n",
       "97    0.0    51.540201   >50K  United-States            35.0   \n",
       "98    0.0    38.702686  <=50K  United-States            55.0   \n",
       "99    0.0    33.083169  <=50K  United-States            38.0   \n",
       "\n",
       "           workclass  mean_oxygen  std_oxygen  kurtosis_oxygen  \\\n",
       "0            Private     3.088629   18.705663         8.293978   \n",
       "1            Private     0.594482    9.956608        20.702696   \n",
       "2        Federal-gov    21.150502   54.938601         2.492557   \n",
       "3            Private    14.749164   47.314987         3.201232   \n",
       "4            Private   128.984114   66.955413         0.020190   \n",
       "5            Private     2.123746   13.836470         9.332406   \n",
       "6       Self-emp-inc    56.795987   73.598921         1.200914   \n",
       "7            Private     2.721572   20.050694         8.333821   \n",
       "8            Private     1.668060   13.511707        10.756981   \n",
       "9            Private    20.839465   55.877877         2.743937   \n",
       "10           Private    40.114548   63.572210         1.456446   \n",
       "11           Private    10.836120   41.875571         3.938706   \n",
       "12           Private    30.020903   57.024950         2.168781   \n",
       "13           Private     5.186455   28.833791         6.099873   \n",
       "14           Private     2.877926   18.395328         8.221997   \n",
       "15           Private     1.548495   13.845486        11.789728   \n",
       "16      Self-emp-inc     2.168060   13.599602         9.476554   \n",
       "17      Self-emp-inc     2.169732   15.917233         9.750991   \n",
       "18               NaN     4.207358   22.678437         7.037458   \n",
       "19         Local-gov     3.691472   20.745736         7.351432   \n",
       "20           Private     2.332776   13.698606         9.603359   \n",
       "21  Self-emp-not-inc     1.793478   18.236875        11.194430   \n",
       "22           Private     2.446488   15.453663         9.292014   \n",
       "23      Self-emp-inc     7.826087   35.629314         4.744215   \n",
       "24           Private    18.428094   52.283802         2.765830   \n",
       "25           Private     7.193144   29.418165         5.000635   \n",
       "26           Private     4.806856   28.326075         6.635072   \n",
       "27           Private     1.336120   14.562829        12.406275   \n",
       "28           Private     2.004181   15.985596        10.562915   \n",
       "29  Self-emp-not-inc    30.692308   61.686287         2.069241   \n",
       "..               ...          ...         ...              ...   \n",
       "70           Private    26.542642   57.032268         2.191275   \n",
       "71               NaN   109.183110   53.137096         0.871271   \n",
       "72           Private     1.501672   11.120313        13.220632   \n",
       "73           Private     1.822742   14.565571        12.686022   \n",
       "74  Self-emp-not-inc   113.538461   78.018785        -0.064315   \n",
       "75           Private     3.454849   24.834040         7.623345   \n",
       "76           Private     1.974080   14.086753        10.169329   \n",
       "77           Private     1.215719   13.895042        12.542178   \n",
       "78           Private    16.781773   49.509450         2.919011   \n",
       "79           Private     2.023411   16.012938        10.241640   \n",
       "80               NaN     2.382943   14.401685         9.338643   \n",
       "81           Private     2.468227   18.679299         9.070288   \n",
       "82           Private   146.725752   75.399449        -0.290785   \n",
       "83      Self-emp-inc     3.754181   27.502474         7.236287   \n",
       "84           Private     2.225753   16.740221        10.049017   \n",
       "85           Private     0.949833   11.571032        15.340758   \n",
       "86           Private     2.655518   14.868545         8.636293   \n",
       "87           Private    52.297659   80.034451         1.220369   \n",
       "88           Private     1.894649   14.983623         9.783737   \n",
       "89           Private    62.966555   71.463106         0.948149   \n",
       "90           Private     3.674749   22.535488         6.554088   \n",
       "91           Private     2.761706   20.822251         8.535226   \n",
       "92           Private     1.945652   14.019082         9.881600   \n",
       "93           Private     5.027592   25.016451         6.142165   \n",
       "94           Private     1.972408   14.315079        10.624558   \n",
       "95           Private     2.148829   16.842510         9.401411   \n",
       "96           Private     5.045987   29.860440         6.237878   \n",
       "97         Local-gov     6.186455   34.033077         5.560734   \n",
       "98           Private     2.587793   19.709678         8.504248   \n",
       "99           Private     1.740803   13.909696        11.795919   \n",
       "\n",
       "    skewness_oxygen  capital  \n",
       "0         82.132497      0.0  \n",
       "1        469.692706      0.0  \n",
       "2          4.843070      0.0  \n",
       "3          9.087747      0.0  \n",
       "4         -0.595560      0.0  \n",
       "5        118.608130      0.0  \n",
       "6          0.280631      0.0  \n",
       "7         74.801484      0.0  \n",
       "8        144.064087      0.0  \n",
       "9          6.500109      0.0  \n",
       "10         1.104743      0.0  \n",
       "11        14.570697  -1741.0  \n",
       "12         4.052715      0.0  \n",
       "13        38.295007      0.0  \n",
       "14        77.196524   7298.0  \n",
       "15       166.110401      0.0  \n",
       "16       124.215378   2635.0  \n",
       "17       112.633938      0.0  \n",
       "18        57.105779      0.0  \n",
       "19        60.879448      0.0  \n",
       "20       126.464546      0.0  \n",
       "21       131.251785      0.0  \n",
       "22       105.991323      0.0  \n",
       "23        22.021835      0.0  \n",
       "24         6.372460      0.0  \n",
       "25        27.138825      0.0  \n",
       "26        45.799785      0.0  \n",
       "27       167.441533      0.0  \n",
       "28       131.943217      0.0  \n",
       "29         3.363576      0.0  \n",
       "..              ...      ...  \n",
       "70         3.694817      0.0  \n",
       "71         0.488218   7688.0  \n",
       "72       245.152357      0.0  \n",
       "73       182.240001      0.0  \n",
       "74        -1.014782  99999.0  \n",
       "75        59.094592      0.0  \n",
       "76       129.942593      0.0  \n",
       "77       171.061866      0.0  \n",
       "78         7.441884      0.0  \n",
       "79       120.348717      0.0  \n",
       "80       114.031917      0.0  \n",
       "81        90.448893      0.0  \n",
       "82        -1.219307      0.0  \n",
       "83        50.755273      0.0  \n",
       "84       115.420025      0.0  \n",
       "85       269.116702      0.0  \n",
       "86       100.090543      0.0  \n",
       "87        -0.135713      0.0  \n",
       "88       114.905476   2174.0  \n",
       "89        -0.052174      0.0  \n",
       "90        45.140037      0.0  \n",
       "91        77.368130      0.0  \n",
       "92       123.968352      0.0  \n",
       "93        41.664378      0.0  \n",
       "94       141.632728      0.0  \n",
       "95       100.334912      0.0  \n",
       "96        39.038030      0.0  \n",
       "97        29.891930      0.0  \n",
       "98        77.382055      0.0  \n",
       "99       172.334429      0.0  \n",
       "\n",
       "[100 rows x 26 columns]"
      ]
     },
     "execution_count": 28,
     "metadata": {},
     "output_type": "execute_result"
    }
   ],
   "source": [
    "data.head(100)"
   ]
  },
  {
   "cell_type": "markdown",
   "metadata": {
    "pycharm": {
     "is_executing": true
    }
   },
   "source": [
    "TODO:\n",
    "- doplnit NaN hodnoty podla metod popisanych v zadani (najma tie ciselne).\n",
    "- pozriet ciselne outliery, nahradzat podla metod v zadani\n",
    "- doplnit marital-status cez relationship\n",
    "- prieskumna analyza pre oxygeny, education, age, birth_month"
   ]
  },
  {
   "cell_type": "markdown",
   "metadata": {},
   "source": [
    "# Nahradenie ciselnych NaN hodnôt + vysporiadanie sa s outliermi\n",
    "\n",
    "V zadaní je spomenutých viacero metód, ako nahradiť chýbajúce číselné hodnoty, rozhodli sme sa, že využijem doplnenie priemerom a doplnenie priemerom zo segmentu.\n",
    "\n",
    "\n",
    "\n",
    "V zadani sú spomenuté tri metódy, ako sa vysporiadať s vychýlenými hodnotami:\n",
    "- odstránenie týchto pozorovaní\n",
    "- nahradenie 5 resp. 95 percentilom\n",
    "- transformácia atribútu cez vybranú funkciu (logaritmus, odmocnina)\n",
    "\n",
    "Rozhodli sme sa, že využijeme druhý a tretí spôsob.\n"
   ]
  },
  {
   "cell_type": "markdown",
   "metadata": {},
   "source": [
    "## fnlwgt\n"
   ]
  },
  {
   "cell_type": "markdown",
   "metadata": {},
   "source": [
    "Najprv zistíme, či sú nejaké NaN hodnoty."
   ]
  },
  {
   "cell_type": "code",
   "execution_count": 35,
   "metadata": {},
   "outputs": [
    {
     "data": {
      "text/plain": [
       "0"
      ]
     },
     "execution_count": 35,
     "metadata": {},
     "output_type": "execute_result"
    }
   ],
   "source": [
    "data[\"fnlwgt\"].isnull().sum()"
   ]
  },
  {
   "cell_type": "markdown",
   "metadata": {},
   "source": [
    "V tomto stĺpci žiadne hodnoty NaN nie sú, nepotrebuje riešiť nahradzovanie hodnôt.\n",
    "\n",
    "Následne zistíme, či sú prítomné nejaké hodnoty, ktoré sú príliš odchýlené."
   ]
  },
  {
   "cell_type": "code",
   "execution_count": 34,
   "metadata": {
    "pycharm": {
     "is_executing": true
    }
   },
   "outputs": [
    {
     "data": {
      "text/plain": [
       "count      3933.000000\n",
       "mean     187429.579964\n",
       "std      104399.718085\n",
       "min       19491.000000\n",
       "25%      116358.000000\n",
       "50%      177154.000000\n",
       "75%      235124.000000\n",
       "max      953588.000000\n",
       "Name: fnlwgt, dtype: float64"
      ]
     },
     "execution_count": 34,
     "metadata": {},
     "output_type": "execute_result"
    },
    {
     "data": {
      "image/png": "[encoded data removed]",
      "text/plain": [
       "<Figure size 432x288 with 1 Axes>"
      ]
     },
     "metadata": {
      "needs_background": "light"
     },
     "output_type": "display_data"
    }
   ],
   "source": [
    "data[\"fnlwgt\"].plot(kind=\"hist\")\n",
    "data[\"fnlwgt\"].describe()"
   ]
  },
  {
   "cell_type": "code",
   "execution_count": 33,
   "metadata": {},
   "outputs": [
    {
     "data": {
      "text/plain": [
       "<matplotlib.axes._subplots.AxesSubplot at 0x231b41daf98>"
      ]
     },
     "execution_count": 33,
     "metadata": {},
     "output_type": "execute_result"
    },
    {
     "data": {
      "image/png": "[encoded data removed]",
      "text/plain": [
       "<Figure size 432x288 with 1 Axes>"
      ]
     },
     "metadata": {
      "needs_background": "light"
     },
     "output_type": "display_data"
    }
   ],
   "source": [
    "sns.boxplot('fnlwgt', data=data)"
   ]
  },
  {
   "cell_type": "markdown",
   "metadata": {},
   "source": [
    "Ako môžeme vidieť, v tomto prípade sa outliery vyskytujú a to v hodnotách od cca 600000 do max, ktoré je 953588. Vychýlené hodnoty nahradíme 95 percentilom."
   ]
  },
  {
   "cell_type": "code",
   "execution_count": 42,
   "metadata": {},
   "outputs": [
    {
     "data": {
      "text/plain": [
       "<matplotlib.axes._subplots.AxesSubplot at 0x231b3da0c50>"
      ]
     },
     "execution_count": 42,
     "metadata": {},
     "output_type": "execute_result"
    },
    {
     "data": {
      "image/png": "[encoded data removed]",
      "text/plain": [
       "<Figure size 432x288 with 1 Axes>"
      ]
     },
     "metadata": {
      "needs_background": "light"
     },
     "output_type": "display_data"
    }
   ],
   "source": [
    "data[\"fnlwgt\"] = data[\"fnlwgt\"].clip( upper=data[\"fnlwgt\"].quantile(0.95))\n",
    "data[\"fnlwgt\"].plot(kind=\"hist\")\n"
   ]
  },
  {
   "cell_type": "markdown",
   "metadata": {},
   "source": [
    "## Hodnoty agregovaných hodnôt cukrovky\n",
    "\n",
    "### skewness"
   ]
  },
  {
   "cell_type": "code",
   "execution_count": 43,
   "metadata": {},
   "outputs": [
    {
     "data": {
      "text/plain": [
       "1"
      ]
     },
     "execution_count": 43,
     "metadata": {},
     "output_type": "execute_result"
    }
   ],
   "source": [
    "data[\"skewness_glucose\"].isnull().sum()"
   ]
  },
  {
   "cell_type": "markdown",
   "metadata": {},
   "source": [
    "TODO: nahradit priemerom zo segmentu"
   ]
  },
  {
   "cell_type": "code",
   "execution_count": 48,
   "metadata": {},
   "outputs": [
    {
     "data": {
      "text/plain": [
       "count    3932.000000\n",
       "mean        4.219887\n",
       "std         9.679111\n",
       "min        -1.755332\n",
       "25%        -0.119501\n",
       "50%         0.374657\n",
       "75%         2.083826\n",
       "max        68.101622\n",
       "Name: skewness_glucose, dtype: float64"
      ]
     },
     "execution_count": 48,
     "metadata": {},
     "output_type": "execute_result"
    },
    {
     "data": {
      "image/png": "[encoded data removed]",
      "text/plain": [
       "<Figure size 432x288 with 1 Axes>"
      ]
     },
     "metadata": {
      "needs_background": "light"
     },
     "output_type": "display_data"
    }
   ],
   "source": [
    "data[\"skewness_glucose\"].plot(kind=\"hist\")\n",
    "data[\"skewness_glucose\"].describe()"
   ]
  },
  {
   "cell_type": "code",
   "execution_count": 46,
   "metadata": {},
   "outputs": [
    {
     "data": {
      "text/plain": [
       "<matplotlib.axes._subplots.AxesSubplot at 0x231b4733a58>"
      ]
     },
     "execution_count": 46,
     "metadata": {},
     "output_type": "execute_result"
    },
    {
     "data": {
      "image/png": "[encoded data removed]",
      "text/plain": [
       "<Figure size 432x288 with 1 Axes>"
      ]
     },
     "metadata": {
      "needs_background": "light"
     },
     "output_type": "display_data"
    }
   ],
   "source": [
    "sns.boxplot('skewness_glucose', data=data)"
   ]
  },
  {
   "cell_type": "markdown",
   "metadata": {},
   "source": [
    "TODO: zmenit na transformaciu"
   ]
  },
  {
   "cell_type": "markdown",
   "metadata": {},
   "source": [
    "### mean"
   ]
  },
  {
   "cell_type": "code",
   "execution_count": 47,
   "metadata": {},
   "outputs": [
    {
     "data": {
      "text/plain": [
       "0"
      ]
     },
     "execution_count": 47,
     "metadata": {},
     "output_type": "execute_result"
    }
   ],
   "source": [
    "data[\"mean_glucose\"].isnull().sum()"
   ]
  },
  {
   "cell_type": "code",
   "execution_count": 49,
   "metadata": {},
   "outputs": [
    {
     "data": {
      "text/plain": [
       "count    3933.000000\n",
       "mean      101.277271\n",
       "std        33.560209\n",
       "min         6.187500\n",
       "25%        87.742188\n",
       "50%       110.664062\n",
       "75%       124.132812\n",
       "max       189.734375\n",
       "Name: mean_glucose, dtype: float64"
      ]
     },
     "execution_count": 49,
     "metadata": {},
     "output_type": "execute_result"
    },
    {
     "data": {
      "image/png": "[encoded data removed]",
      "text/plain": [
       "<Figure size 432x288 with 1 Axes>"
      ]
     },
     "metadata": {
      "needs_background": "light"
     },
     "output_type": "display_data"
    }
   ],
   "source": [
    "data[\"mean_glucose\"].plot(kind=\"hist\")\n",
    "data[\"mean_glucose\"].describe()"
   ]
  },
  {
   "cell_type": "code",
   "execution_count": 50,
   "metadata": {},
   "outputs": [
    {
     "data": {
      "text/plain": [
       "<matplotlib.axes._subplots.AxesSubplot at 0x231b4872d30>"
      ]
     },
     "execution_count": 50,
     "metadata": {},
     "output_type": "execute_result"
    },
    {
     "data": {
      "image/png": "[encoded data removed]",
      "text/plain": [
       "<Figure size 432x288 with 1 Axes>"
      ]
     },
     "metadata": {
      "needs_background": "light"
     },
     "output_type": "display_data"
    }
   ],
   "source": [
    "sns.boxplot('mean_glucose', data=data)"
   ]
  },
  {
   "cell_type": "code",
   "execution_count": 57,
   "metadata": {},
   "outputs": [
    {
     "data": {
      "text/plain": [
       "<matplotlib.axes._subplots.AxesSubplot at 0x231b4b7e0b8>"
      ]
     },
     "execution_count": 57,
     "metadata": {},
     "output_type": "execute_result"
    },
    {
     "data": {
      "image/png": "[encoded data removed]",
      "text/plain": [
       "<Figure size 432x288 with 1 Axes>"
      ]
     },
     "metadata": {
      "needs_background": "light"
     },
     "output_type": "display_data"
    }
   ],
   "source": [
    "data[\"mean_glucose\"]= data[\"mean_glucose\"].clip( upper=data[\"mean_glucose\"].quantile(0.95))\n",
    "data[\"mean_glucose\"].plot(kind=\"hist\")"
   ]
  },
  {
   "cell_type": "markdown",
   "metadata": {},
   "source": [
    "### kurtosis"
   ]
  },
  {
   "cell_type": "code",
   "execution_count": 58,
   "metadata": {},
   "outputs": [
    {
     "data": {
      "text/plain": [
       "1"
      ]
     },
     "execution_count": 58,
     "metadata": {},
     "output_type": "execute_result"
    }
   ],
   "source": [
    "data[\"kurtosis_glucose\"].isnull().sum()"
   ]
  },
  {
   "cell_type": "markdown",
   "metadata": {},
   "source": [
    "TODO: nahradit priemerom zo segmentu"
   ]
  },
  {
   "cell_type": "code",
   "execution_count": 59,
   "metadata": {},
   "outputs": [
    {
     "data": {
      "text/plain": [
       "count    3932.000000\n",
       "mean        0.951380\n",
       "std         1.611163\n",
       "min        -1.641515\n",
       "25%         0.072000\n",
       "50%         0.310578\n",
       "75%         0.777223\n",
       "max         8.069522\n",
       "Name: kurtosis_glucose, dtype: float64"
      ]
     },
     "execution_count": 59,
     "metadata": {},
     "output_type": "execute_result"
    },
    {
     "data": {
      "image/png": "[encoded data removed]",
      "text/plain": [
       "<Figure size 432x288 with 1 Axes>"
      ]
     },
     "metadata": {
      "needs_background": "light"
     },
     "output_type": "display_data"
    }
   ],
   "source": [
    "data[\"kurtosis_glucose\"].plot(kind=\"hist\")\n",
    "data[\"kurtosis_glucose\"].describe()"
   ]
  },
  {
   "cell_type": "code",
   "execution_count": 61,
   "metadata": {},
   "outputs": [
    {
     "data": {
      "text/plain": [
       "<matplotlib.axes._subplots.AxesSubplot at 0x231b476ac50>"
      ]
     },
     "execution_count": 61,
     "metadata": {},
     "output_type": "execute_result"
    },
    {
     "data": {
      "image/png": "[encoded data removed]",
      "text/plain": [
       "<Figure size 432x288 with 1 Axes>"
      ]
     },
     "metadata": {
      "needs_background": "light"
     },
     "output_type": "display_data"
    }
   ],
   "source": [
    "sns.boxplot('kurtosis_glucose', data=data)"
   ]
  },
  {
   "cell_type": "code",
   "execution_count": 63,
   "metadata": {},
   "outputs": [
    {
     "data": {
      "text/plain": [
       "<matplotlib.axes._subplots.AxesSubplot at 0x231b5e2d2b0>"
      ]
     },
     "execution_count": 63,
     "metadata": {},
     "output_type": "execute_result"
    },
    {
     "data": {
      "image/png": "[encoded data removed]",
      "text/plain": [
       "<Figure size 432x288 with 1 Axes>"
      ]
     },
     "metadata": {
      "needs_background": "light"
     },
     "output_type": "display_data"
    }
   ],
   "source": [
    "df= data[\"kurtosis_glucose\"].clip(lower=data[\"kurtosis_glucose\"].quantile(0.05), upper=data[\"kurtosis_glucose\"].quantile(0.95))\n",
    "df.plot(kind=\"hist\")"
   ]
  },
  {
   "cell_type": "markdown",
   "metadata": {},
   "source": [
    "NOTE: zmenit na transformaciu"
   ]
  },
  {
   "cell_type": "markdown",
   "metadata": {
    "pycharm": {
     "is_executing": true
    }
   },
   "source": [
    "### std"
   ]
  },
  {
   "cell_type": "code",
   "execution_count": 64,
   "metadata": {},
   "outputs": [
    {
     "data": {
      "text/plain": [
       "0"
      ]
     },
     "execution_count": 64,
     "metadata": {},
     "output_type": "execute_result"
    }
   ],
   "source": [
    "data[\"std_glucose\"].isnull().sum()"
   ]
  },
  {
   "cell_type": "code",
   "execution_count": 65,
   "metadata": {},
   "outputs": [
    {
     "data": {
      "text/plain": [
       "count    3933.000000\n",
       "mean       45.174684\n",
       "std         7.607881\n",
       "min        25.695250\n",
       "25%        40.165726\n",
       "50%        45.887420\n",
       "75%        50.369068\n",
       "max        91.206475\n",
       "Name: std_glucose, dtype: float64"
      ]
     },
     "execution_count": 65,
     "metadata": {},
     "output_type": "execute_result"
    },
    {
     "data": {
      "image/png": "[encoded data removed]",
      "text/plain": [
       "<Figure size 432x288 with 1 Axes>"
      ]
     },
     "metadata": {
      "needs_background": "light"
     },
     "output_type": "display_data"
    }
   ],
   "source": [
    "data[\"std_glucose\"].plot(kind=\"hist\")\n",
    "data[\"std_glucose\"].describe()"
   ]
  },
  {
   "cell_type": "code",
   "execution_count": 66,
   "metadata": {},
   "outputs": [
    {
     "data": {
      "text/plain": [
       "<matplotlib.axes._subplots.AxesSubplot at 0x231b5f240b8>"
      ]
     },
     "execution_count": 66,
     "metadata": {},
     "output_type": "execute_result"
    },
    {
     "data": {
      "image/png": "[encoded data removed]",
      "text/plain": [
       "<Figure size 432x288 with 1 Axes>"
      ]
     },
     "metadata": {
      "needs_background": "light"
     },
     "output_type": "display_data"
    }
   ],
   "source": [
    "sns.boxplot('std_glucose', data=data)"
   ]
  },
  {
   "cell_type": "code",
   "execution_count": 80,
   "metadata": {},
   "outputs": [
    {
     "data": {
      "text/plain": [
       "<matplotlib.axes._subplots.AxesSubplot at 0x231b5ece978>"
      ]
     },
     "execution_count": 80,
     "metadata": {},
     "output_type": "execute_result"
    },
    {
     "data": {
      "image/png": "[encoded data removed]",
      "text/plain": [
       "<Figure size 432x288 with 1 Axes>"
      ]
     },
     "metadata": {
      "needs_background": "light"
     },
     "output_type": "display_data"
    }
   ],
   "source": [
    "data[\"std_glucose\"]= data[\"std_glucose\"].clip( upper=data[\"std_glucose\"].quantile(0.95))\n",
    "data[\"std_glucose\"].plot(kind=\"hist\")"
   ]
  },
  {
   "cell_type": "markdown",
   "metadata": {},
   "source": [
    "## hours_per_week"
   ]
  },
  {
   "cell_type": "code",
   "execution_count": 73,
   "metadata": {},
   "outputs": [
    {
     "data": {
      "text/plain": [
       "0"
      ]
     },
     "execution_count": 73,
     "metadata": {},
     "output_type": "execute_result"
    }
   ],
   "source": [
    "data[\"hours_per_week\"].isnull().sum()"
   ]
  },
  {
   "cell_type": "code",
   "execution_count": 75,
   "metadata": {},
   "outputs": [
    {
     "data": {
      "text/plain": [
       "count    3933.000000\n",
       "mean       40.129672\n",
       "std        12.103234\n",
       "min         1.000000\n",
       "25%        40.000000\n",
       "50%        40.000000\n",
       "75%        45.000000\n",
       "max        99.000000\n",
       "Name: hours_per_week, dtype: float64"
      ]
     },
     "execution_count": 75,
     "metadata": {},
     "output_type": "execute_result"
    },
    {
     "data": {
      "image/png": "[encoded data removed]",
      "text/plain": [
       "<Figure size 432x288 with 1 Axes>"
      ]
     },
     "metadata": {
      "needs_background": "light"
     },
     "output_type": "display_data"
    }
   ],
   "source": [
    "data[\"hours_per_week\"].plot(kind=\"hist\")\n",
    "data[\"hours_per_week\"].describe()"
   ]
  },
  {
   "cell_type": "code",
   "execution_count": 76,
   "metadata": {},
   "outputs": [
    {
     "data": {
      "text/plain": [
       "<matplotlib.axes._subplots.AxesSubplot at 0x231b6233208>"
      ]
     },
     "execution_count": 76,
     "metadata": {},
     "output_type": "execute_result"
    },
    {
     "data": {
      "image/png": "[encoded data removed]",
      "text/plain": [
       "<Figure size 432x288 with 1 Axes>"
      ]
     },
     "metadata": {
      "needs_background": "light"
     },
     "output_type": "display_data"
    }
   ],
   "source": [
    "sns.boxplot('hours_per_week', data=data)"
   ]
  },
  {
   "cell_type": "markdown",
   "metadata": {},
   "source": [
    "Nepamatas sa, co nam hovoril s tymto, ze co robit, ked tam niekto tych 99 hodin, ci to nechat alebo co?"
   ]
  },
  {
   "cell_type": "markdown",
   "metadata": {},
   "source": [
    "## Agregovane hodnoty kyslika"
   ]
  },
  {
   "cell_type": "markdown",
   "metadata": {},
   "source": [
    "### skewness"
   ]
  },
  {
   "cell_type": "code",
   "execution_count": 77,
   "metadata": {},
   "outputs": [
    {
     "data": {
      "text/plain": [
       "1"
      ]
     },
     "execution_count": 77,
     "metadata": {},
     "output_type": "execute_result"
    }
   ],
   "source": [
    "data[\"skewness_oxygen\"].isnull().sum()"
   ]
  },
  {
   "cell_type": "code",
   "execution_count": 83,
   "metadata": {},
   "outputs": [
    {
     "data": {
      "text/plain": [
       "count    3932.000000\n",
       "mean       91.297976\n",
       "std       108.565808\n",
       "min        -1.976976\n",
       "25%        12.863954\n",
       "50%        68.476815\n",
       "75%       127.017151\n",
       "max      1191.000837\n",
       "Name: skewness_oxygen, dtype: float64"
      ]
     },
     "execution_count": 83,
     "metadata": {},
     "output_type": "execute_result"
    },
    {
     "data": {
      "image/png": "[encoded data removed]",
      "text/plain": [
       "<Figure size 432x288 with 1 Axes>"
      ]
     },
     "metadata": {
      "needs_background": "light"
     },
     "output_type": "display_data"
    }
   ],
   "source": [
    "data[\"skewness_oxygen\"].plot(kind=\"hist\")\n",
    "data[\"skewness_oxygen\"].describe()"
   ]
  },
  {
   "cell_type": "code",
   "execution_count": 79,
   "metadata": {},
   "outputs": [
    {
     "data": {
      "text/plain": [
       "<matplotlib.axes._subplots.AxesSubplot at 0x231b61b3fd0>"
      ]
     },
     "execution_count": 79,
     "metadata": {},
     "output_type": "execute_result"
    },
    {
     "data": {
      "image/png": "[encoded data removed]",
      "text/plain": [
       "<Figure size 432x288 with 1 Axes>"
      ]
     },
     "metadata": {
      "needs_background": "light"
     },
     "output_type": "display_data"
    }
   ],
   "source": [
    "sns.boxplot('skewness_oxygen', data=data)"
   ]
  },
  {
   "cell_type": "code",
   "execution_count": 82,
   "metadata": {},
   "outputs": [
    {
     "data": {
      "text/plain": [
       "<matplotlib.axes._subplots.AxesSubplot at 0x231b6246588>"
      ]
     },
     "execution_count": 82,
     "metadata": {},
     "output_type": "execute_result"
    },
    {
     "data": {
      "image/png": "[encoded data removed]",
      "text/plain": [
       "<Figure size 432x288 with 1 Axes>"
      ]
     },
     "metadata": {
      "needs_background": "light"
     },
     "output_type": "display_data"
    }
   ],
   "source": [
    "dff= data[\"skewness_oxygen\"].clip( upper=data[\"skewness_oxygen\"].quantile(0.95))\n",
    "dff.plot(kind=\"hist\")"
   ]
  },
  {
   "cell_type": "markdown",
   "metadata": {},
   "source": [
    "NOTE: pouvazovat nad transformaciou"
   ]
  },
  {
   "cell_type": "markdown",
   "metadata": {},
   "source": [
    "### mean"
   ]
  },
  {
   "cell_type": "code",
   "execution_count": 84,
   "metadata": {},
   "outputs": [
    {
     "data": {
      "text/plain": [
       "1"
      ]
     },
     "execution_count": 84,
     "metadata": {},
     "output_type": "execute_result"
    }
   ],
   "source": [
    "data[\"mean_oxygen\"].isnull().sum()"
   ]
  },
  {
   "cell_type": "code",
   "execution_count": 85,
   "metadata": {},
   "outputs": [
    {
     "data": {
      "text/plain": [
       "count    3932.000000\n",
       "mean       18.480697\n",
       "std        34.792756\n",
       "min         0.213211\n",
       "25%         2.064799\n",
       "50%         3.236622\n",
       "75%        12.635452\n",
       "max       217.371238\n",
       "Name: mean_oxygen, dtype: float64"
      ]
     },
     "execution_count": 85,
     "metadata": {},
     "output_type": "execute_result"
    },
    {
     "data": {
      "image/png": "[encoded data removed]",
      "text/plain": [
       "<Figure size 432x288 with 1 Axes>"
      ]
     },
     "metadata": {
      "needs_background": "light"
     },
     "output_type": "display_data"
    }
   ],
   "source": [
    "data[\"mean_oxygen\"].plot(kind=\"hist\")\n",
    "data[\"mean_oxygen\"].describe()"
   ]
  },
  {
   "cell_type": "code",
   "execution_count": 86,
   "metadata": {},
   "outputs": [
    {
     "data": {
      "text/plain": [
       "<matplotlib.axes._subplots.AxesSubplot at 0x231b64230f0>"
      ]
     },
     "execution_count": 86,
     "metadata": {},
     "output_type": "execute_result"
    },
    {
     "data": {
      "image/png": "[encoded data removed]",
      "text/plain": [
       "<Figure size 432x288 with 1 Axes>"
      ]
     },
     "metadata": {
      "needs_background": "light"
     },
     "output_type": "display_data"
    }
   ],
   "source": [
    "sns.boxplot('mean_oxygen', data=data)"
   ]
  },
  {
   "cell_type": "code",
   "execution_count": 88,
   "metadata": {},
   "outputs": [
    {
     "data": {
      "text/plain": [
       "<matplotlib.axes._subplots.AxesSubplot at 0x231b74b7e48>"
      ]
     },
     "execution_count": 88,
     "metadata": {},
     "output_type": "execute_result"
    },
    {
     "data": {
      "image/png": "[encoded data removed]",
      "text/plain": [
       "<Figure size 432x288 with 1 Axes>"
      ]
     },
     "metadata": {
      "needs_background": "light"
     },
     "output_type": "display_data"
    }
   ],
   "source": [
    "dff= data[\"mean_oxygen\"].clip( upper=data[\"mean_oxygen\"].quantile(0.95))\n",
    "dff.plot(kind=\"hist\")"
   ]
  },
  {
   "cell_type": "markdown",
   "metadata": {},
   "source": [
    "### kurtosis"
   ]
  },
  {
   "cell_type": "code",
   "execution_count": 89,
   "metadata": {},
   "outputs": [
    {
     "data": {
      "text/plain": [
       "1"
      ]
     },
     "execution_count": 89,
     "metadata": {},
     "output_type": "execute_result"
    }
   ],
   "source": [
    "data[\"kurtosis_oxygen\"].isnull().sum()"
   ]
  },
  {
   "cell_type": "code",
   "execution_count": 90,
   "metadata": {},
   "outputs": [
    {
     "data": {
      "text/plain": [
       "count    3932.000000\n",
       "mean        7.413030\n",
       "std         4.812690\n",
       "min        -2.597872\n",
       "25%         3.636259\n",
       "50%         7.781903\n",
       "75%        10.263412\n",
       "max        34.539844\n",
       "Name: kurtosis_oxygen, dtype: float64"
      ]
     },
     "execution_count": 90,
     "metadata": {},
     "output_type": "execute_result"
    },
    {
     "data": {
      "image/png": "[encoded data removed]",
      "text/plain": [
       "<Figure size 432x288 with 1 Axes>"
      ]
     },
     "metadata": {
      "needs_background": "light"
     },
     "output_type": "display_data"
    }
   ],
   "source": [
    "data[\"kurtosis_oxygen\"].plot(kind=\"hist\")\n",
    "data[\"kurtosis_oxygen\"].describe()"
   ]
  },
  {
   "cell_type": "code",
   "execution_count": 91,
   "metadata": {},
   "outputs": [
    {
     "data": {
      "text/plain": [
       "<matplotlib.axes._subplots.AxesSubplot at 0x231b757c0b8>"
      ]
     },
     "execution_count": 91,
     "metadata": {},
     "output_type": "execute_result"
    },
    {
     "data": {
      "image/png": "[encoded data removed]",
      "text/plain": [
       "<Figure size 432x288 with 1 Axes>"
      ]
     },
     "metadata": {
      "needs_background": "light"
     },
     "output_type": "display_data"
    }
   ],
   "source": [
    "sns.boxplot('kurtosis_oxygen', data=data)"
   ]
  },
  {
   "cell_type": "code",
   "execution_count": 95,
   "metadata": {},
   "outputs": [
    {
     "data": {
      "text/plain": [
       "<matplotlib.axes._subplots.AxesSubplot at 0x231b76e6470>"
      ]
     },
     "execution_count": 95,
     "metadata": {},
     "output_type": "execute_result"
    },
    {
     "data": {
      "image/png": "[encoded data removed]",
      "text/plain": [
       "<Figure size 432x288 with 1 Axes>"
      ]
     },
     "metadata": {
      "needs_background": "light"
     },
     "output_type": "display_data"
    }
   ],
   "source": [
    "dff= data[\"kurtosis_oxygen\"].clip( upper=data[\"kurtosis_oxygen\"].quantile(0.95))\n",
    "dff.plot(kind=\"hist\")"
   ]
  },
  {
   "cell_type": "markdown",
   "metadata": {},
   "source": [
    "### std"
   ]
  },
  {
   "cell_type": "code",
   "execution_count": 96,
   "metadata": {},
   "outputs": [
    {
     "data": {
      "text/plain": [
       "1"
      ]
     },
     "execution_count": 96,
     "metadata": {},
     "output_type": "execute_result"
    }
   ],
   "source": [
    "data[\"std_oxygen\"].isnull().sum()"
   ]
  },
  {
   "cell_type": "code",
   "execution_count": 97,
   "metadata": {},
   "outputs": [
    {
     "data": {
      "text/plain": [
       "count    3932.000000\n",
       "mean       31.156134\n",
       "std        22.269386\n",
       "min         7.370432\n",
       "25%        15.039457\n",
       "50%        20.564154\n",
       "75%        43.229414\n",
       "max       110.642211\n",
       "Name: std_oxygen, dtype: float64"
      ]
     },
     "execution_count": 97,
     "metadata": {},
     "output_type": "execute_result"
    },
    {
     "data": {
      "image/png": "[encoded data removed]",
      "text/plain": [
       "<Figure size 432x288 with 1 Axes>"
      ]
     },
     "metadata": {
      "needs_background": "light"
     },
     "output_type": "display_data"
    }
   ],
   "source": [
    "data[\"std_oxygen\"].plot(kind=\"hist\")\n",
    "data[\"std_oxygen\"].describe()"
   ]
  },
  {
   "cell_type": "code",
   "execution_count": 98,
   "metadata": {},
   "outputs": [
    {
     "data": {
      "text/plain": [
       "<matplotlib.axes._subplots.AxesSubplot at 0x231b77efd30>"
      ]
     },
     "execution_count": 98,
     "metadata": {},
     "output_type": "execute_result"
    },
    {
     "data": {
      "image/png": "[encoded data removed]",
      "text/plain": [
       "<Figure size 432x288 with 1 Axes>"
      ]
     },
     "metadata": {
      "needs_background": "light"
     },
     "output_type": "display_data"
    }
   ],
   "source": [
    "sns.boxplot('std_oxygen', data=data)"
   ]
  },
  {
   "cell_type": "code",
   "execution_count": 99,
   "metadata": {},
   "outputs": [
    {
     "data": {
      "text/plain": [
       "<matplotlib.axes._subplots.AxesSubplot at 0x231b783d080>"
      ]
     },
     "execution_count": 99,
     "metadata": {},
     "output_type": "execute_result"
    },
    {
     "data": {
      "image/png": "[encoded data removed]",
      "text/plain": [
       "<Figure size 432x288 with 1 Axes>"
      ]
     },
     "metadata": {
      "needs_background": "light"
     },
     "output_type": "display_data"
    }
   ],
   "source": [
    "dff= data[\"std_oxygen\"].clip( upper=data[\"std_oxygen\"].quantile(0.95))\n",
    "dff.plot(kind=\"hist\")"
   ]
  },
  {
   "cell_type": "code",
   "execution_count": 72,
   "metadata": {},
   "outputs": [
    {
     "name": "stdout",
     "output_type": "stream",
     "text": [
      "<class 'pandas.core.frame.DataFrame'>\n",
      "Int64Index: 3933 entries, 0 to 3932\n",
      "Data columns (total 26 columns):\n",
      "name                3933 non-null object\n",
      "state               3933 non-null object\n",
      "age                 3933 non-null float64\n",
      "sex                 3933 non-null object\n",
      "birth_month         3933 non-null float64\n",
      "race                3932 non-null object\n",
      "marital_status      3540 non-null object\n",
      "occupation          3695 non-null object\n",
      "pregnant            3933 non-null float64\n",
      "relationship        3933 non-null object\n",
      "skewness_glucose    3932 non-null float64\n",
      "mean_glucose        3933 non-null float64\n",
      "kurtosis_glucose    3932 non-null float64\n",
      "education           3933 non-null float64\n",
      "fnlwgt              3933 non-null float64\n",
      "class               3933 non-null float64\n",
      "std_glucose         3933 non-null float64\n",
      "income              3932 non-null object\n",
      "native_country      3852 non-null object\n",
      "hours_per_week      3933 non-null float64\n",
      "workclass           3695 non-null object\n",
      "mean_oxygen         3932 non-null float64\n",
      "std_oxygen          3932 non-null float64\n",
      "kurtosis_oxygen     3932 non-null float64\n",
      "skewness_oxygen     3932 non-null float64\n",
      "capital             3933 non-null float64\n",
      "dtypes: float64(16), object(10)\n",
      "memory usage: 829.6+ KB\n"
     ]
    }
   ],
   "source": [
    "data.info()"
   ]
  },
  {
   "cell_type": "code",
   "execution_count": null,
   "metadata": {},
   "outputs": [],
   "source": []
  }
 ],
 "metadata": {
  "kernelspec": {
   "display_name": "Python 3",
   "language": "python",
   "name": "python3"
  },
  "language_info": {
   "codemirror_mode": {
    "name": "ipython",
    "version": 3
   },
   "file_extension": ".py",
   "mimetype": "text/x-python",
   "name": "python",
   "nbconvert_exporter": "python",
   "pygments_lexer": "ipython3",
   "version": "3.7.1"
  },
  "pycharm": {
   "stem_cell": {
    "cell_type": "raw",
    "metadata": {
     "collapsed": false
    },
    "source": []
   }
  }
 },
 "nbformat": 4,
 "nbformat_minor": 1
}
