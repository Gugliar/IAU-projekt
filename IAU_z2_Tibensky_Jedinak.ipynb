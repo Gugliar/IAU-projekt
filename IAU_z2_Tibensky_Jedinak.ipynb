{
 "cells": [
  {
   "cell_type": "markdown",
   "metadata": {},
   "source": [
    "# Inteligentná analýza údajov 2019/2020 - Projekt\n",
    "## Druhá časť - predspracovanie\n",
    "## Ondrej Jedinák, František Tibenský (podieľ práce členov 50/50%)"
   ]
  },
  {
   "cell_type": "code",
   "execution_count": 1,
   "metadata": {
    "pycharm": {
     "is_executing": false
    }
   },
   "outputs": [],
   "source": [
    "import pandas as pd\n",
    "import numpy as np\n",
    "import json\n",
    "import seaborn as sns\n",
    "import matplotlib.pyplot as plt\n",
    "from sklearn.base import TransformerMixin\n",
    "\n",
    "from IPython.display import display\n",
    "\n",
    "pd.options.display.max_colwidth=130\n",
    "pd.set_option(\"display.max_columns\", None)"
   ]
  },
  {
   "cell_type": "code",
   "execution_count": 2,
   "metadata": {
    "pycharm": {
     "is_executing": false
    }
   },
   "outputs": [],
   "source": [
    "personal_data = pd.read_csv(\"data/personal_train.csv\", index_col=0)\n",
    "data = pd.read_csv(\"data/other_train.csv\", index_col=0)"
   ]
  },
  {
   "cell_type": "code",
   "execution_count": 3,
   "metadata": {
    "pycharm": {
     "is_executing": false
    }
   },
   "outputs": [],
   "source": [
    "class ColNameUnifier(TransformerMixin):\n",
    "    def fit(self, df, y=None):\n",
    "        return self\n",
    "    \n",
    "    def transform(self, df, y=None):\n",
    "        df=df.copy()\n",
    "        cols=df.columns\n",
    "        cols_new=[]\n",
    "        for col in cols:\n",
    "            cols_new.append(col.replace(\"-\",\"_\"))\n",
    "        df.rename(columns={i:j for i,j in zip(cols,cols_new)}, inplace=True)\n",
    "        return df\n",
    "\n",
    "data=ColNameUnifier().fit_transform(data)\n",
    "personal_data=ColNameUnifier().fit_transform(personal_data)"
   ]
  },
  {
   "cell_type": "markdown",
   "metadata": {},
   "source": [
    "Nastavíme konzistentné názvy atribútov pre lepšiu prehľadnosť."
   ]
  },
  {
   "cell_type": "code",
   "execution_count": 4,
   "metadata": {
    "pycharm": {
     "is_executing": false
    }
   },
   "outputs": [],
   "source": [
    "class SpaceRemover(TransformerMixin):\n",
    "    def fit(self, df, y=None):\n",
    "        return self\n",
    "    \n",
    "    def transform(self, df, y=None):\n",
    "        df=df.copy()\n",
    "        for col in df:\n",
    "            if df[col].dtype=='object':\n",
    "                df[col]=df[col].str.strip()\n",
    "        return df\n",
    "\n",
    "class MissingDataUnifier(TransformerMixin):\n",
    "    def fit(self, df, y=None):\n",
    "        return self\n",
    "    \n",
    "    def transform(self, df, y=None):\n",
    "        df=df.copy()\n",
    "        df=df.replace('?',np.NaN)\n",
    "        df=df.replace('??',np.NaN)\n",
    "        return df\n",
    "    \n",
    "    \n",
    "data=MissingDataUnifier().fit_transform(SpaceRemover().fit_transform(data))\n",
    "personal_data=MissingDataUnifier().fit_transform(SpaceRemover().fit_transform(personal_data))"
   ]
  },
  {
   "cell_type": "markdown",
   "metadata": {},
   "source": [
    "Odstránime zo všetkých textových atribútov prázdne znaky na začiatku a konci a zmeníme hodnoty s otáznikmi na NaN. Týmto vyriešime problém kedy v niektorých atribútoch boli duplikované hodnoty kvôli nekonzistentným medzerám na začiatku."
   ]
  },
  {
   "cell_type": "code",
   "execution_count": 5,
   "metadata": {
    "pycharm": {
     "is_executing": false
    }
   },
   "outputs": [
    {
     "data": {
      "text/html": [
       "<div>\n",
       "<style scoped>\n",
       "    .dataframe tbody tr th:only-of-type {\n",
       "        vertical-align: middle;\n",
       "    }\n",
       "\n",
       "    .dataframe tbody tr th {\n",
       "        vertical-align: top;\n",
       "    }\n",
       "\n",
       "    .dataframe thead th {\n",
       "        text-align: right;\n",
       "    }\n",
       "</style>\n",
       "<table border=\"1\" class=\"dataframe\">\n",
       "  <thead>\n",
       "    <tr style=\"text-align: right;\">\n",
       "      <th></th>\n",
       "      <th>name</th>\n",
       "      <th>address</th>\n",
       "      <th>age</th>\n",
       "      <th>sex</th>\n",
       "      <th>date_of_birth</th>\n",
       "    </tr>\n",
       "  </thead>\n",
       "  <tbody>\n",
       "    <tr>\n",
       "      <th>0</th>\n",
       "      <td>Roscoe Bohannon</td>\n",
       "      <td>7183 Osborne Ways Apt. 651\\r\\nEast Andrew, OH 53211</td>\n",
       "      <td>58</td>\n",
       "      <td>Male</td>\n",
       "      <td>1961-03-11</td>\n",
       "    </tr>\n",
       "    <tr>\n",
       "      <th>1</th>\n",
       "      <td>Ernest Kline</td>\n",
       "      <td>391 Ball Road Suite 961\\r\\nFlowersborough, IN 57550</td>\n",
       "      <td>56</td>\n",
       "      <td>Female</td>\n",
       "      <td>1962/11/20</td>\n",
       "    </tr>\n",
       "    <tr>\n",
       "      <th>2</th>\n",
       "      <td>Harold Hendriks</td>\n",
       "      <td>8702 Vincent Square\\r\\nNew Jerryfurt, CO 30614</td>\n",
       "      <td>59</td>\n",
       "      <td>Male</td>\n",
       "      <td>11/12/1959</td>\n",
       "    </tr>\n",
       "    <tr>\n",
       "      <th>3</th>\n",
       "      <td>Randy Baptiste</td>\n",
       "      <td>2751 Harris Crossroad\\r\\nWest Ashley, CA 30311</td>\n",
       "      <td>66</td>\n",
       "      <td>Female</td>\n",
       "      <td>1953-03-18</td>\n",
       "    </tr>\n",
       "    <tr>\n",
       "      <th>4</th>\n",
       "      <td>Anthony Colucci</td>\n",
       "      <td>904 Robert Cliffs Suite 186\\r\\nWest Kyle, CO 77139</td>\n",
       "      <td>64</td>\n",
       "      <td>Male</td>\n",
       "      <td>1954-12-12</td>\n",
       "    </tr>\n",
       "  </tbody>\n",
       "</table>\n",
       "</div>"
      ],
      "text/plain": [
       "              name                                              address  age  \\\n",
       "0  Roscoe Bohannon  7183 Osborne Ways Apt. 651\\r\\nEast Andrew, OH 53211   58   \n",
       "1     Ernest Kline  391 Ball Road Suite 961\\r\\nFlowersborough, IN 57550   56   \n",
       "2  Harold Hendriks       8702 Vincent Square\\r\\nNew Jerryfurt, CO 30614   59   \n",
       "3   Randy Baptiste       2751 Harris Crossroad\\r\\nWest Ashley, CA 30311   66   \n",
       "4  Anthony Colucci   904 Robert Cliffs Suite 186\\r\\nWest Kyle, CO 77139   64   \n",
       "\n",
       "      sex date_of_birth  \n",
       "0    Male    1961-03-11  \n",
       "1  Female    1962/11/20  \n",
       "2    Male    11/12/1959  \n",
       "3  Female    1953-03-18  \n",
       "4    Male    1954-12-12  "
      ]
     },
     "metadata": {},
     "output_type": "display_data"
    },
    {
     "data": {
      "text/html": [
       "<div>\n",
       "<style scoped>\n",
       "    .dataframe tbody tr th:only-of-type {\n",
       "        vertical-align: middle;\n",
       "    }\n",
       "\n",
       "    .dataframe tbody tr th {\n",
       "        vertical-align: top;\n",
       "    }\n",
       "\n",
       "    .dataframe thead th {\n",
       "        text-align: right;\n",
       "    }\n",
       "</style>\n",
       "<table border=\"1\" class=\"dataframe\">\n",
       "  <thead>\n",
       "    <tr style=\"text-align: right;\">\n",
       "      <th></th>\n",
       "      <th>name</th>\n",
       "      <th>address</th>\n",
       "      <th>race</th>\n",
       "      <th>marital_status</th>\n",
       "      <th>occupation</th>\n",
       "      <th>pregnant</th>\n",
       "      <th>education_num</th>\n",
       "      <th>relationship</th>\n",
       "      <th>skewness_glucose</th>\n",
       "      <th>mean_glucose</th>\n",
       "      <th>capital_gain</th>\n",
       "      <th>kurtosis_glucose</th>\n",
       "      <th>education</th>\n",
       "      <th>fnlwgt</th>\n",
       "      <th>class</th>\n",
       "      <th>std_glucose</th>\n",
       "      <th>income</th>\n",
       "      <th>medical_info</th>\n",
       "      <th>native_country</th>\n",
       "      <th>hours_per_week</th>\n",
       "      <th>capital_loss</th>\n",
       "      <th>workclass</th>\n",
       "    </tr>\n",
       "  </thead>\n",
       "  <tbody>\n",
       "    <tr>\n",
       "      <th>0</th>\n",
       "      <td>Ernest Valles</td>\n",
       "      <td>698 Miller Gateway Apt. 970\\r\\nClayside, ND 13457</td>\n",
       "      <td>White</td>\n",
       "      <td>Married-civ-spouse</td>\n",
       "      <td>Adm-clerical</td>\n",
       "      <td>f</td>\n",
       "      <td>10.0</td>\n",
       "      <td>Husband</td>\n",
       "      <td>0.198684</td>\n",
       "      <td>105.859375</td>\n",
       "      <td>0.0</td>\n",
       "      <td>0.222954</td>\n",
       "      <td>Some-college</td>\n",
       "      <td>343789.0</td>\n",
       "      <td>0.0</td>\n",
       "      <td>48.744348</td>\n",
       "      <td>&gt;50K</td>\n",
       "      <td>{'mean_oxygen':'0.790133779','std_oxygen':'10.13249696','kurtosis_oxygen':'17.68151382','skewness_oxygen':'374.9257754'}</td>\n",
       "      <td>United-States</td>\n",
       "      <td>40.0</td>\n",
       "      <td>0.0</td>\n",
       "      <td>State-gov</td>\n",
       "    </tr>\n",
       "    <tr>\n",
       "      <th>1</th>\n",
       "      <td>Michael Kowal</td>\n",
       "      <td>4784 Walters Extensions\\r\\nEast Whitney, NH 27458</td>\n",
       "      <td>White</td>\n",
       "      <td>NaN</td>\n",
       "      <td>Sales</td>\n",
       "      <td>F</td>\n",
       "      <td>13.0</td>\n",
       "      <td>Not-in-family</td>\n",
       "      <td>-0.334631</td>\n",
       "      <td>120.453125</td>\n",
       "      <td>0.0</td>\n",
       "      <td>-0.049047</td>\n",
       "      <td>Bachelors</td>\n",
       "      <td>188957.0</td>\n",
       "      <td>0.0</td>\n",
       "      <td>50.982512</td>\n",
       "      <td>&lt;=50K</td>\n",
       "      <td>{'mean_oxygen':'18.69147157','std_oxygen':'51.21049055','kurtosis_oxygen':'2.541428789','skewness_oxygen':'4.930561896'}</td>\n",
       "      <td>United-States</td>\n",
       "      <td>40.0</td>\n",
       "      <td>0.0</td>\n",
       "      <td>Self-emp-not-inc</td>\n",
       "    </tr>\n",
       "    <tr>\n",
       "      <th>2</th>\n",
       "      <td>Mike Rogers</td>\n",
       "      <td>068 Baker Estates Apt. 300\\r\\nRoberttown, NV 50205</td>\n",
       "      <td>White</td>\n",
       "      <td>Married-civ-spouse</td>\n",
       "      <td>Sales</td>\n",
       "      <td>f</td>\n",
       "      <td>13.0</td>\n",
       "      <td>Husband</td>\n",
       "      <td>0.030878</td>\n",
       "      <td>117.257812</td>\n",
       "      <td>0.0</td>\n",
       "      <td>0.121774</td>\n",
       "      <td>Bachelors</td>\n",
       "      <td>112283.0</td>\n",
       "      <td>0.0</td>\n",
       "      <td>42.893263</td>\n",
       "      <td>&lt;=50K</td>\n",
       "      <td>{'mean_oxygen':'1.150501672','std_oxygen':'11.49825164','kurtosis_oxygen':'16.48789423','skewness_oxygen':'320.6702352'}</td>\n",
       "      <td>United-States</td>\n",
       "      <td>55.0</td>\n",
       "      <td>0.0</td>\n",
       "      <td>Private</td>\n",
       "    </tr>\n",
       "    <tr>\n",
       "      <th>3</th>\n",
       "      <td>Marvin Cherry</td>\n",
       "      <td>75326 Odom Drive\\r\\nNorth Robert, SC 99612</td>\n",
       "      <td>White</td>\n",
       "      <td>Married-civ-spouse</td>\n",
       "      <td>Farming-fishing</td>\n",
       "      <td>f</td>\n",
       "      <td>9.0</td>\n",
       "      <td>Husband</td>\n",
       "      <td>0.636882</td>\n",
       "      <td>99.429688</td>\n",
       "      <td>0.0</td>\n",
       "      <td>0.349696</td>\n",
       "      <td>HS-grad</td>\n",
       "      <td>166416.0</td>\n",
       "      <td>0.0</td>\n",
       "      <td>43.658777</td>\n",
       "      <td>&lt;=50K</td>\n",
       "      <td>{'mean_oxygen':'0.387123746','std_oxygen':'8.683190316000001','kurtosis_oxygen':'25.389201','skewness_oxygen':'685.06342239999...</td>\n",
       "      <td>United-States</td>\n",
       "      <td>99.0</td>\n",
       "      <td>0.0</td>\n",
       "      <td>Self-emp-not-inc</td>\n",
       "    </tr>\n",
       "    <tr>\n",
       "      <th>4</th>\n",
       "      <td>Bernard Williams</td>\n",
       "      <td>258 Valerie Throughway\\r\\nSouth Samanthafort, TX 69130</td>\n",
       "      <td>Black</td>\n",
       "      <td>Widowed</td>\n",
       "      <td>Other-service</td>\n",
       "      <td>f</td>\n",
       "      <td>700.0</td>\n",
       "      <td>Not-in-family</td>\n",
       "      <td>0.105785</td>\n",
       "      <td>109.382812</td>\n",
       "      <td>0.0</td>\n",
       "      <td>0.232842</td>\n",
       "      <td>11th</td>\n",
       "      <td>462440.0</td>\n",
       "      <td>0.0</td>\n",
       "      <td>48.991568</td>\n",
       "      <td>&lt;=50K</td>\n",
       "      <td>{'mean_oxygen':'0.945652174','std_oxygen':'12.0495586','kurtosis_oxygen':'14.8422644','skewness_oxygen':'245.358921'}</td>\n",
       "      <td>United-States</td>\n",
       "      <td>20.0</td>\n",
       "      <td>0.0</td>\n",
       "      <td>Private</td>\n",
       "    </tr>\n",
       "  </tbody>\n",
       "</table>\n",
       "</div>"
      ],
      "text/plain": [
       "               name                                                 address  \\\n",
       "0     Ernest Valles       698 Miller Gateway Apt. 970\\r\\nClayside, ND 13457   \n",
       "1     Michael Kowal       4784 Walters Extensions\\r\\nEast Whitney, NH 27458   \n",
       "2       Mike Rogers      068 Baker Estates Apt. 300\\r\\nRoberttown, NV 50205   \n",
       "3     Marvin Cherry              75326 Odom Drive\\r\\nNorth Robert, SC 99612   \n",
       "4  Bernard Williams  258 Valerie Throughway\\r\\nSouth Samanthafort, TX 69130   \n",
       "\n",
       "    race      marital_status       occupation pregnant  education_num  \\\n",
       "0  White  Married-civ-spouse     Adm-clerical        f           10.0   \n",
       "1  White                 NaN            Sales        F           13.0   \n",
       "2  White  Married-civ-spouse            Sales        f           13.0   \n",
       "3  White  Married-civ-spouse  Farming-fishing        f            9.0   \n",
       "4  Black             Widowed    Other-service        f          700.0   \n",
       "\n",
       "    relationship  skewness_glucose  mean_glucose  capital_gain  \\\n",
       "0        Husband          0.198684    105.859375           0.0   \n",
       "1  Not-in-family         -0.334631    120.453125           0.0   \n",
       "2        Husband          0.030878    117.257812           0.0   \n",
       "3        Husband          0.636882     99.429688           0.0   \n",
       "4  Not-in-family          0.105785    109.382812           0.0   \n",
       "\n",
       "   kurtosis_glucose     education    fnlwgt  class  std_glucose income  \\\n",
       "0          0.222954  Some-college  343789.0    0.0    48.744348   >50K   \n",
       "1         -0.049047     Bachelors  188957.0    0.0    50.982512  <=50K   \n",
       "2          0.121774     Bachelors  112283.0    0.0    42.893263  <=50K   \n",
       "3          0.349696       HS-grad  166416.0    0.0    43.658777  <=50K   \n",
       "4          0.232842          11th  462440.0    0.0    48.991568  <=50K   \n",
       "\n",
       "                                                                                                                        medical_info  \\\n",
       "0           {'mean_oxygen':'0.790133779','std_oxygen':'10.13249696','kurtosis_oxygen':'17.68151382','skewness_oxygen':'374.9257754'}   \n",
       "1           {'mean_oxygen':'18.69147157','std_oxygen':'51.21049055','kurtosis_oxygen':'2.541428789','skewness_oxygen':'4.930561896'}   \n",
       "2           {'mean_oxygen':'1.150501672','std_oxygen':'11.49825164','kurtosis_oxygen':'16.48789423','skewness_oxygen':'320.6702352'}   \n",
       "3  {'mean_oxygen':'0.387123746','std_oxygen':'8.683190316000001','kurtosis_oxygen':'25.389201','skewness_oxygen':'685.06342239999...   \n",
       "4              {'mean_oxygen':'0.945652174','std_oxygen':'12.0495586','kurtosis_oxygen':'14.8422644','skewness_oxygen':'245.358921'}   \n",
       "\n",
       "  native_country  hours_per_week  capital_loss         workclass  \n",
       "0  United-States            40.0           0.0         State-gov  \n",
       "1  United-States            40.0           0.0  Self-emp-not-inc  \n",
       "2  United-States            55.0           0.0           Private  \n",
       "3  United-States            99.0           0.0  Self-emp-not-inc  \n",
       "4  United-States            20.0           0.0           Private  "
      ]
     },
     "execution_count": 5,
     "metadata": {},
     "output_type": "execute_result"
    }
   ],
   "source": [
    "display(personal_data.head())\n",
    "data.head()"
   ]
  },
  {
   "cell_type": "markdown",
   "metadata": {},
   "source": [
    "## date_of_birth"
   ]
  },
  {
   "cell_type": "markdown",
   "metadata": {},
   "source": [
    "Tento atribút má nekonzistentné formáty dátumov.\n",
    "\n",
    "Možne formáty dátumov:\n",
    "\n",
    "1. yyyy-mm-dd\n",
    "1. yyyy/mm/dd\n",
    "1. yy-mm-dd\n",
    "1. dd/mm/yyyy\n",
    "1. yyyy-mm-dd 00:00:00\n",
    "1. yyyy-mm-dd 00 00 00\n"
   ]
  },
  {
   "cell_type": "code",
   "execution_count": 6,
   "metadata": {
    "pycharm": {
     "is_executing": false
    }
   },
   "outputs": [],
   "source": [
    "class DateFormatter(TransformerMixin):\n",
    "    def __init__(self, date_col=\"date_of_birth\"):\n",
    "        self.col = date_col\n",
    "        \n",
    "    def fit(self, df, y=None):\n",
    "        return self\n",
    "    \n",
    "    def transform(self, df, y=None):\n",
    "        df=df.copy()\n",
    "        col=self.col\n",
    "        df[col]=df[col].str.replace(\" .*\",\"\")\n",
    "        df[col]=df[col].str.replace(\"/\",\"-\")\n",
    "        df[col]=df[col].str.replace(r'([0-9]{2})-([0-9]{2})-([0-9]{4})', r'\\3-\\2-\\1')\n",
    "        \n",
    "        df[col]=df[col].str.replace(r'^(19-[0-9]{2}-[0-9]{2})',r'19\\1')\n",
    "        df[col]=df[col].str.replace(r'^([2-9][0-9]-[0-9]{2}-[0-9]{2})',r'19\\1')\n",
    "        df[col]=df[col].str.replace(r'^([0-1][0-9]-[0-9]{2}-[0-9]{2})',r'20\\1')\n",
    "        return df\n",
    "\n",
    "personal_data=DateFormatter().fit_transform(personal_data)"
   ]
  },
  {
   "cell_type": "markdown",
   "metadata": {},
   "source": [
    "chceme všetky dátumy dostať do 1. formátu\n",
    "- odstránime časové hodnoty\n",
    "- zmeníme všetky / na -\n",
    "- prehodíme rok a deň pri 4. prípade\n",
    "- doplníme prvé dve cifry roku pre 3. prípad"
   ]
  },
  {
   "cell_type": "code",
   "execution_count": 7,
   "metadata": {
    "pycharm": {
     "is_executing": false
    }
   },
   "outputs": [
    {
     "name": "stderr",
     "output_type": "stream",
     "text": [
      "C:\\ProgramData\\Anaconda3\\lib\\site-packages\\ipykernel_launcher.py:1: UserWarning: This pattern has match groups. To actually get the groups, use str.extract.\n",
      "  \"\"\"Entry point for launching an IPython kernel.\n"
     ]
    },
    {
     "data": {
      "text/plain": [
       "array([ True])"
      ]
     },
     "execution_count": 7,
     "metadata": {},
     "output_type": "execute_result"
    }
   ],
   "source": [
    "personal_data[\"date_of_birth\"].str.contains(\"(^[0-9]{4}-((0[0-9])|(1[0-2]))-([0-2][0-9]|(3)[0-1])$)\").unique()"
   ]
  },
  {
   "cell_type": "markdown",
   "metadata": {},
   "source": [
    "Kontrola či sú formáty jednotné."
   ]
  },
  {
   "cell_type": "markdown",
   "metadata": {},
   "source": [
    "## age"
   ]
  },
  {
   "cell_type": "markdown",
   "metadata": {},
   "source": [
    "Zistíme rozdiely vo vekoch a dátumoch narodenia."
   ]
  },
  {
   "cell_type": "code",
   "execution_count": 8,
   "metadata": {
    "pycharm": {
     "is_executing": false
    }
   },
   "outputs": [
    {
     "data": {
      "text/plain": [
       "0.0    3599\n",
       "1.0     334\n",
       "dtype: int64"
      ]
     },
     "execution_count": 8,
     "metadata": {},
     "output_type": "execute_result"
    }
   ],
   "source": [
    "((pd.to_datetime(\"now\")-pd.to_datetime(personal_data[\"date_of_birth\"])).astype('<m8[Y]')-personal_data[\"age\"]).value_counts()"
   ]
  },
  {
   "cell_type": "markdown",
   "metadata": {},
   "source": [
    "V dátumoch narodenia a vekoch nie sú žiadne výrazné nezrovnalosti. Jediný problém je že niektoré veky neboli aktualizované pre aktuálny dátum. Tiež neexistuje žiaden dátum pre ktorý by neboli aspoň niektoré veky o jeden rok posunuté. Preto si nanovo vypočítame veky k jednotnému dátumu."
   ]
  },
  {
   "cell_type": "code",
   "execution_count": 9,
   "metadata": {
    "pycharm": {
     "is_executing": false
    }
   },
   "outputs": [],
   "source": [
    "class AgeComputer(TransformerMixin):\n",
    "    def __init__(self, curr_date=\"now\", age_col=\"age\", date_col=\"date_of_birth\"):\n",
    "        self.curr_date = curr_date\n",
    "        self.age_col = age_col\n",
    "        self.date_col = date_col\n",
    "        \n",
    "    def fit(self, df, y=None):\n",
    "        return self\n",
    "    \n",
    "    def transform(self, df, y=None):\n",
    "        df=df.copy()\n",
    "        df[self.age_col]=((pd.to_datetime(self.curr_date)-pd.to_datetime(df[self.date_col])).astype('<m8[Y]'))\n",
    "        return df\n",
    "\n",
    "\n",
    "personal_data=AgeComputer().fit_transform(personal_data)"
   ]
  },
  {
   "cell_type": "markdown",
   "metadata": {},
   "source": [
    "Keďže nám bude ďalej celý dátum narodenia zbytočný lebo máme vek, ponecháme len mesiac narodenia."
   ]
  },
  {
   "cell_type": "code",
   "execution_count": 10,
   "metadata": {
    "pycharm": {
     "is_executing": false
    }
   },
   "outputs": [],
   "source": [
    "class MonthExtractor(TransformerMixin):\n",
    "    def __init__(self, date_col=\"date_of_birth\"):\n",
    "        self.col = date_col\n",
    "        \n",
    "    def fit(self, df, y=None):\n",
    "        return self\n",
    "    \n",
    "    def transform(self, df, y=None):\n",
    "        df=df.copy()\n",
    "        df[self.col]=df[self.col].str.replace(r'([0-9]{4})-([0-9]{2})-([0-9]{2})', r'\\2').astype(str).astype(float)\n",
    "        return df\n",
    "\n",
    "class ColRenamer(TransformerMixin):\n",
    "    def __init__(self, col, new_name):\n",
    "        self.col = col\n",
    "        self.new_name = new_name\n",
    "        \n",
    "    def fit(self, df, y=None):\n",
    "        return self\n",
    "    \n",
    "    def transform(self, df, y=None):\n",
    "        df=df.copy()\n",
    "        df.rename(columns={self.col: self.new_name},inplace=True)\n",
    "        return df\n",
    "\n",
    "\n",
    "personal_data=ColRenamer(\"date_of_birth\",\"birth_month\").fit_transform(MonthExtractor().fit_transform(personal_data))"
   ]
  },
  {
   "cell_type": "markdown",
   "metadata": {},
   "source": [
    "## workclass"
   ]
  },
  {
   "cell_type": "markdown",
   "metadata": {},
   "source": [
    "Opravíme nekonzistentné začiatočné písmená."
   ]
  },
  {
   "cell_type": "code",
   "execution_count": 11,
   "metadata": {
    "pycharm": {
     "is_executing": false
    }
   },
   "outputs": [
    {
     "data": {
      "text/plain": [
       "Private             2737\n",
       "Self-emp-not-inc     304\n",
       "Local-gov            266\n",
       "NaN                  256\n",
       "State-gov            146\n",
       "Self-emp-inc         145\n",
       "Federal-gov          125\n",
       "Without-pay            3\n",
       "Never-worked           1\n",
       "Name: workclass, dtype: int64"
      ]
     },
     "execution_count": 11,
     "metadata": {},
     "output_type": "execute_result"
    }
   ],
   "source": [
    "class Capitalizer(TransformerMixin):\n",
    "    def __init__(self, cols):\n",
    "        self.cols = cols\n",
    "        \n",
    "    def fit(self, df, y=None):\n",
    "        return self\n",
    "    \n",
    "    def transform(self, df, y=None):\n",
    "        df=df.copy()\n",
    "        for col in self.cols:\n",
    "            df[col]=df[col].str.capitalize()\n",
    "        return df\n",
    "\n",
    "data = Capitalizer([\"workclass\"]).fit_transform(data)\n",
    "data[\"workclass\"].value_counts(dropna=False)"
   ]
  },
  {
   "cell_type": "markdown",
   "metadata": {},
   "source": [
    "## rozdelenie medical_info"
   ]
  },
  {
   "cell_type": "code",
   "execution_count": 12,
   "metadata": {
    "pycharm": {
     "is_executing": false
    }
   },
   "outputs": [],
   "source": [
    "class JsonSplitter(TransformerMixin):\n",
    "    def __init__(self, col):\n",
    "        self.col = col\n",
    "        \n",
    "    def fit(self, df, y=None):\n",
    "        return self\n",
    "    \n",
    "    def transform(self, df, y=None):\n",
    "        df=df.copy()\n",
    "        col=self.col\n",
    "        df[col]=df[col].replace(np.NaN,\"{}\")\n",
    "        df[col]=df[col].str.replace(\"'\",'\"')\n",
    "        df=df.join(df[col].apply(json.loads).apply(pd.Series).astype(float))\n",
    "        df=df.drop(columns=col)\n",
    "        return df\n",
    "\n",
    "data=JsonSplitter(\"medical_info\").fit_transform(data)"
   ]
  },
  {
   "cell_type": "markdown",
   "metadata": {},
   "source": [
    "Rozparsujeme hodnoty v JSON v medcal_data na samostatné stĺpce. Najprv však nahradíme NaN prázdnymi objektami a zmeníme uvodzovky aby boli validné pre JSON."
   ]
  },
  {
   "cell_type": "markdown",
   "metadata": {},
   "source": [
    "## education"
   ]
  },
  {
   "cell_type": "code",
   "execution_count": 13,
   "metadata": {
    "pycharm": {
     "is_executing": false
    }
   },
   "outputs": [
    {
     "data": {
      "text/plain": [
       "HS-grad         1279\n",
       "Some-college     910\n",
       "Bachelors        661\n",
       "Masters          207\n",
       "Assoc-voc        151\n",
       "Assoc-acdm       136\n",
       "11th             122\n",
       "10th             114\n",
       "7th-8th           92\n",
       "Prof-school       68\n",
       "9th               63\n",
       "12th              47\n",
       "Doctorate         46\n",
       "5th-6th           45\n",
       "1st-4th           14\n",
       "Preschool         10\n",
       "Name: education, dtype: int64"
      ]
     },
     "execution_count": 13,
     "metadata": {},
     "output_type": "execute_result"
    }
   ],
   "source": [
    "class SpaceUnifier(TransformerMixin):\n",
    "    def __init__(self, cols):\n",
    "        self.cols = cols\n",
    "        \n",
    "    def fit(self, df, y=None):\n",
    "        return self\n",
    "    \n",
    "    def transform(self, df, y=None):\n",
    "        df=df.copy()\n",
    "        for col in self.cols:\n",
    "            df[col]=df[col].str.replace(\"_\",\"-\")\n",
    "        return df\n",
    "\n",
    "data = SpaceUnifier([\"education\"]).fit_transform(data)\n",
    "data['education'].value_counts()"
   ]
  },
  {
   "cell_type": "markdown",
   "metadata": {},
   "source": [
    "Zjednotíme nahradenie medzier v hodnotách."
   ]
  },
  {
   "cell_type": "markdown",
   "metadata": {},
   "source": [
    "## education_num"
   ]
  },
  {
   "cell_type": "code",
   "execution_count": 14,
   "metadata": {
    "pycharm": {
     "is_executing": false
    }
   },
   "outputs": [
    {
     "data": {
      "text/plain": [
       "9.0     1151\n",
       "10.0     827\n",
       "13.0     589\n",
       "NaN      413\n",
       "14.0     185\n",
       "11.0     141\n",
       "12.0     125\n",
       "7.0      109\n",
       "6.0       99\n",
       "4.0       82\n",
       "5.0       59\n",
       "15.0      59\n",
       "8.0       45\n",
       "16.0      41\n",
       "3.0       39\n",
       "2.0       13\n",
       "1.0        6\n",
       "Name: education_num, dtype: int64"
      ]
     },
     "execution_count": 14,
     "metadata": {},
     "output_type": "execute_result"
    }
   ],
   "source": [
    "class EduNumFixer(TransformerMixin):\n",
    "    def __init__(self, edu_num_col=\"education_num\"):\n",
    "        self.col = edu_num_col\n",
    "        \n",
    "    def fit(self, df, y=None):\n",
    "        return self\n",
    "    \n",
    "    def edu_num_fix(self,val):\n",
    "        if val<0:\n",
    "            val*=-1\n",
    "        if val>100:\n",
    "            val/=100\n",
    "        return val\n",
    "    \n",
    "    def transform(self, df, y=None):\n",
    "        df=df.copy()\n",
    "        df[self.col]=df[self.col].apply(self.edu_num_fix)\n",
    "        return df\n",
    "    \n",
    "data=EduNumFixer().fit_transform(data)\n",
    "data.education_num.value_counts(dropna=False)"
   ]
  },
  {
   "cell_type": "markdown",
   "metadata": {},
   "source": [
    "Zjednotíme hodnoty tak aby nám zostali len hodnoty od 1 do 16."
   ]
  },
  {
   "cell_type": "code",
   "execution_count": 15,
   "metadata": {
    "pycharm": {
     "is_executing": false
    }
   },
   "outputs": [
    {
     "name": "stdout",
     "output_type": "stream",
     "text": [
      "Preschool    6\n",
      "Name: education, dtype: int64\n",
      "1st-4th    13\n",
      "Name: education, dtype: int64\n",
      "5th-6th    39\n",
      "Name: education, dtype: int64\n",
      "7th-8th    81\n",
      "Name: education, dtype: int64\n",
      "9th    59\n",
      "Name: education, dtype: int64\n",
      "10th    99\n",
      "Name: education, dtype: int64\n",
      "11th    108\n",
      "Name: education, dtype: int64\n",
      "12th    45\n",
      "Name: education, dtype: int64\n",
      "HS-grad    1147\n",
      "Name: education, dtype: int64\n",
      "Some-college    823\n",
      "Name: education, dtype: int64\n",
      "Assoc-voc    141\n",
      "Name: education, dtype: int64\n",
      "Assoc-acdm    125\n",
      "Name: education, dtype: int64\n",
      "Bachelors    587\n",
      "Name: education, dtype: int64\n",
      "Masters    184\n",
      "Name: education, dtype: int64\n",
      "Prof-school    59\n",
      "Name: education, dtype: int64\n",
      "Doctorate    41\n",
      "Name: education, dtype: int64\n"
     ]
    }
   ],
   "source": [
    "for i in range(1,17):\n",
    "    print(str(data['education'][data.education_num==i].value_counts()))"
   ]
  },
  {
   "cell_type": "markdown",
   "metadata": {},
   "source": [
    "Zistili sme že education_num je len číselná verzia eduaction. Doplníme podľa toho chýbajúce hodnoty education_num a stĺpec education môžeme zmazať."
   ]
  },
  {
   "cell_type": "code",
   "execution_count": 16,
   "metadata": {
    "pycharm": {
     "is_executing": false
    }
   },
   "outputs": [
    {
     "data": {
      "text/plain": [
       "9.0     1283\n",
       "10.0     914\n",
       "13.0     663\n",
       "14.0     208\n",
       "11.0     151\n",
       "12.0     136\n",
       "7.0      123\n",
       "6.0      114\n",
       "4.0       93\n",
       "15.0      68\n",
       "5.0       63\n",
       "8.0       47\n",
       "16.0      46\n",
       "3.0       45\n",
       "2.0       14\n",
       "1.0       10\n",
       "NaN        5\n",
       "Name: education, dtype: int64"
      ]
     },
     "execution_count": 16,
     "metadata": {},
     "output_type": "execute_result"
    }
   ],
   "source": [
    "class EduAndEuNumUnifier(TransformerMixin):\n",
    "    def __init__(self, edu_num_col=\"education_num\", edu_col=\"education\"):\n",
    "        self.edu_num_col = edu_num_col\n",
    "        self.edu_col = edu_col\n",
    "        \n",
    "    def fit(self, df, y=None):\n",
    "        self.edu={}\n",
    "        for i in range(1,17):\n",
    "            self.edu[str(data['education'][data.education_num==i].value_counts()).split(\" \")[0]]=i\n",
    "        return self\n",
    "\n",
    "    def edu_to_num(self,val):\n",
    "        if val in self.edu:\n",
    "            return self.edu[val]\n",
    "        else:\n",
    "            return np.NaN\n",
    "    \n",
    "    def transform(self, df, y=None):\n",
    "        df=df.copy()\n",
    "        \n",
    "        df[self.edu_col]=df[self.edu_col].apply(self.edu_to_num)\n",
    "        df[self.edu_col].fillna(df[self.edu_num_col], inplace=True)\n",
    "        df = df.drop(columns=[self.edu_num_col])\n",
    "        return df\n",
    "    \n",
    "data=EduAndEuNumUnifier().fit_transform(data)\n",
    "data['education'].value_counts(dropna=False)"
   ]
  },
  {
   "cell_type": "markdown",
   "metadata": {},
   "source": [
    "## Zmena ***pregnant*** na binárnu hodnotu"
   ]
  },
  {
   "cell_type": "code",
   "execution_count": 17,
   "metadata": {
    "pycharm": {
     "is_executing": false
    },
    "scrolled": true
   },
   "outputs": [],
   "source": [
    "class BinaryFixer(TransformerMixin):\n",
    "    \n",
    "    def __init__(self, col, true, false, new_name=\"\"):\n",
    "        self.col = col\n",
    "        self.true = true\n",
    "        self.false = false\n",
    "        self.new_name = new_name\n",
    "        \n",
    "    def fit(self, df, y=None):\n",
    "        return self\n",
    "    \n",
    "    def transform(self, df, y=None):\n",
    "        df=df.copy()\n",
    "        df[self.col]=df[self.col].str.lower()\n",
    "        df[self.col]=df[self.col].str.replace(self.false,\"0\")\n",
    "        df[self.col]=df[self.col].str.replace(self.true,\"1\")\n",
    "        df[self.col]=df[self.col].astype(float)\n",
    "        \n",
    "        if self.new_name !=\"\":\n",
    "            df.rename(columns={self.col: self.new_name},inplace=True)\n",
    "\n",
    "        return df\n",
    "    \n",
    "data=BinaryFixer(\"pregnant\", \"(^t.*$)\", \"(^f.*$)\").fit_transform(data)"
   ]
  },
  {
   "cell_type": "markdown",
   "metadata": {
    "pycharm": {
     "is_executing": false
    }
   },
   "source": [
    "Nekonzistentné hodnoty zmeníme tak aby boli len True alebo False (a NaN) a prekonvertujeme ich na 0 a 1."
   ]
  },
  {
   "cell_type": "markdown",
   "metadata": {},
   "source": [
    "## Odstránenie duplikátov"
   ]
  },
  {
   "cell_type": "code",
   "execution_count": 18,
   "metadata": {
    "pycharm": {
     "is_executing": false
    },
    "scrolled": true
   },
   "outputs": [],
   "source": [
    "class Deduplicator(TransformerMixin):\n",
    "    \n",
    "    def __init__(self, name_col=\"name\", addr_col=\"address\"):\n",
    "        self.name_col = name_col\n",
    "        self.addr_col = addr_col\n",
    "    \n",
    "    def fit(self, df, y=None):\n",
    "        return self\n",
    "    \n",
    "    def aggr(self,val):\n",
    "        o=set()\n",
    "        for v in val:\n",
    "            if not pd.isna(v):\n",
    "                o.add(v)\n",
    "        if len(o)==0:\n",
    "            return np.NaN\n",
    "        elif len(o)>1:\n",
    "            print(\"Pozor: viac moznych hodnot!\")\n",
    "            print(o)\n",
    "        return o.pop()\n",
    "    \n",
    "    \n",
    "    def transform(self, df, y=None):\n",
    "        df=df.copy()\n",
    "        df=df.groupby([self.name_col, self.addr_col]).aggregate(self.aggr).reset_index()\n",
    "        return df\n",
    "    \n",
    "data=Deduplicator().fit_transform(data)"
   ]
  },
  {
   "cell_type": "markdown",
   "metadata": {},
   "source": [
    "Záznamy s rovnakými menami a adresami zjednotíme a doplníme ich hodnoty pomocou agregačnej funkcie."
   ]
  },
  {
   "cell_type": "markdown",
   "metadata": {},
   "source": [
    "## Spojenie dvoch tabuliek"
   ]
  },
  {
   "cell_type": "code",
   "execution_count": 19,
   "metadata": {
    "pycharm": {
     "is_executing": false
    }
   },
   "outputs": [],
   "source": [
    "class Merger(TransformerMixin):\n",
    "    \n",
    "    def __init__(self, personal, other,cols=[\"name\",\"address\"]):\n",
    "        self.personal = personal\n",
    "        self.other = other\n",
    "        self.cols=cols\n",
    "        \n",
    "    def fit(self, df=None, y=None):\n",
    "        return self\n",
    "    \n",
    "    def transform(self, df=None, y=None):\n",
    "        df=self.personal.copy()\n",
    "        df=df.merge(self.other,on=(self.cols))\n",
    "        return df\n",
    "\n",
    "\n",
    "data=Merger(personal_data,data).fit_transform(data)"
   ]
  },
  {
   "cell_type": "markdown",
   "metadata": {},
   "source": [
    "Po odstránení duplikátov majú tabuľky rovnaký počet záznamov a môžeme ich spojiť."
   ]
  },
  {
   "cell_type": "code",
   "execution_count": 20,
   "metadata": {},
   "outputs": [
    {
     "data": {
      "text/html": [
       "<div>\n",
       "<style scoped>\n",
       "    .dataframe tbody tr th:only-of-type {\n",
       "        vertical-align: middle;\n",
       "    }\n",
       "\n",
       "    .dataframe tbody tr th {\n",
       "        vertical-align: top;\n",
       "    }\n",
       "\n",
       "    .dataframe thead th {\n",
       "        text-align: right;\n",
       "    }\n",
       "</style>\n",
       "<table border=\"1\" class=\"dataframe\">\n",
       "  <thead>\n",
       "    <tr style=\"text-align: right;\">\n",
       "      <th></th>\n",
       "      <th>name</th>\n",
       "      <th>address</th>\n",
       "      <th>age</th>\n",
       "      <th>sex</th>\n",
       "      <th>birth_month</th>\n",
       "      <th>race</th>\n",
       "      <th>marital_status</th>\n",
       "      <th>occupation</th>\n",
       "      <th>pregnant</th>\n",
       "      <th>relationship</th>\n",
       "      <th>skewness_glucose</th>\n",
       "      <th>mean_glucose</th>\n",
       "      <th>capital_gain</th>\n",
       "      <th>kurtosis_glucose</th>\n",
       "      <th>education</th>\n",
       "      <th>fnlwgt</th>\n",
       "      <th>class</th>\n",
       "      <th>std_glucose</th>\n",
       "      <th>income</th>\n",
       "      <th>native_country</th>\n",
       "      <th>hours_per_week</th>\n",
       "      <th>capital_loss</th>\n",
       "      <th>workclass</th>\n",
       "      <th>mean_oxygen</th>\n",
       "      <th>std_oxygen</th>\n",
       "      <th>kurtosis_oxygen</th>\n",
       "      <th>skewness_oxygen</th>\n",
       "    </tr>\n",
       "  </thead>\n",
       "  <tbody>\n",
       "    <tr>\n",
       "      <th>0</th>\n",
       "      <td>Roscoe Bohannon</td>\n",
       "      <td>7183 Osborne Ways Apt. 651\\r\\nEast Andrew, OH 53211</td>\n",
       "      <td>58.0</td>\n",
       "      <td>Male</td>\n",
       "      <td>3.0</td>\n",
       "      <td>White</td>\n",
       "      <td>Never-married</td>\n",
       "      <td>Other-service</td>\n",
       "      <td>0.0</td>\n",
       "      <td>Not-in-family</td>\n",
       "      <td>-0.099526</td>\n",
       "      <td>119.242188</td>\n",
       "      <td>0.0</td>\n",
       "      <td>0.012622</td>\n",
       "      <td>9.0</td>\n",
       "      <td>321896.0</td>\n",
       "      <td>0.0</td>\n",
       "      <td>49.065286</td>\n",
       "      <td>&lt;=50K</td>\n",
       "      <td>United-States</td>\n",
       "      <td>40.0</td>\n",
       "      <td>0.0</td>\n",
       "      <td>Private</td>\n",
       "      <td>3.088629</td>\n",
       "      <td>18.705663</td>\n",
       "      <td>8.293978</td>\n",
       "      <td>82.132497</td>\n",
       "    </tr>\n",
       "    <tr>\n",
       "      <th>1</th>\n",
       "      <td>Ernest Kline</td>\n",
       "      <td>391 Ball Road Suite 961\\r\\nFlowersborough, IN 57550</td>\n",
       "      <td>57.0</td>\n",
       "      <td>Female</td>\n",
       "      <td>11.0</td>\n",
       "      <td>Amer-Indian-Eskimo</td>\n",
       "      <td>Divorced</td>\n",
       "      <td>Exec-managerial</td>\n",
       "      <td>0.0</td>\n",
       "      <td>Own-child</td>\n",
       "      <td>2.396809</td>\n",
       "      <td>82.070312</td>\n",
       "      <td>0.0</td>\n",
       "      <td>0.860951</td>\n",
       "      <td>11.0</td>\n",
       "      <td>134220.0</td>\n",
       "      <td>0.0</td>\n",
       "      <td>38.530261</td>\n",
       "      <td>&lt;=50K</td>\n",
       "      <td>United-States</td>\n",
       "      <td>40.0</td>\n",
       "      <td>0.0</td>\n",
       "      <td>Private</td>\n",
       "      <td>0.594482</td>\n",
       "      <td>9.956608</td>\n",
       "      <td>20.702696</td>\n",
       "      <td>469.692706</td>\n",
       "    </tr>\n",
       "    <tr>\n",
       "      <th>2</th>\n",
       "      <td>Harold Hendriks</td>\n",
       "      <td>8702 Vincent Square\\r\\nNew Jerryfurt, CO 30614</td>\n",
       "      <td>59.0</td>\n",
       "      <td>Male</td>\n",
       "      <td>12.0</td>\n",
       "      <td>White</td>\n",
       "      <td>Married-civ-spouse</td>\n",
       "      <td>Adm-clerical</td>\n",
       "      <td>0.0</td>\n",
       "      <td>Husband</td>\n",
       "      <td>4.797428</td>\n",
       "      <td>78.218750</td>\n",
       "      <td>0.0</td>\n",
       "      <td>1.540387</td>\n",
       "      <td>9.0</td>\n",
       "      <td>27432.0</td>\n",
       "      <td>1.0</td>\n",
       "      <td>40.637871</td>\n",
       "      <td>&gt;50K</td>\n",
       "      <td>United-States</td>\n",
       "      <td>40.0</td>\n",
       "      <td>0.0</td>\n",
       "      <td>Federal-gov</td>\n",
       "      <td>21.150502</td>\n",
       "      <td>54.938601</td>\n",
       "      <td>2.492557</td>\n",
       "      <td>4.843070</td>\n",
       "    </tr>\n",
       "    <tr>\n",
       "      <th>3</th>\n",
       "      <td>Randy Baptiste</td>\n",
       "      <td>2751 Harris Crossroad\\r\\nWest Ashley, CA 30311</td>\n",
       "      <td>66.0</td>\n",
       "      <td>Female</td>\n",
       "      <td>3.0</td>\n",
       "      <td>White</td>\n",
       "      <td>Married-civ-spouse</td>\n",
       "      <td>Other-service</td>\n",
       "      <td>0.0</td>\n",
       "      <td>Wife</td>\n",
       "      <td>11.184030</td>\n",
       "      <td>61.718750</td>\n",
       "      <td>0.0</td>\n",
       "      <td>2.266661</td>\n",
       "      <td>13.0</td>\n",
       "      <td>159442.0</td>\n",
       "      <td>1.0</td>\n",
       "      <td>32.301543</td>\n",
       "      <td>&lt;=50K</td>\n",
       "      <td>United-States</td>\n",
       "      <td>40.0</td>\n",
       "      <td>0.0</td>\n",
       "      <td>Private</td>\n",
       "      <td>14.749164</td>\n",
       "      <td>47.314987</td>\n",
       "      <td>3.201232</td>\n",
       "      <td>9.087747</td>\n",
       "    </tr>\n",
       "    <tr>\n",
       "      <th>4</th>\n",
       "      <td>Anthony Colucci</td>\n",
       "      <td>904 Robert Cliffs Suite 186\\r\\nWest Kyle, CO 77139</td>\n",
       "      <td>64.0</td>\n",
       "      <td>Male</td>\n",
       "      <td>12.0</td>\n",
       "      <td>White</td>\n",
       "      <td>Never-married</td>\n",
       "      <td>Other-service</td>\n",
       "      <td>0.0</td>\n",
       "      <td>Own-child</td>\n",
       "      <td>27.815414</td>\n",
       "      <td>21.304688</td>\n",
       "      <td>0.0</td>\n",
       "      <td>5.146317</td>\n",
       "      <td>10.0</td>\n",
       "      <td>219211.0</td>\n",
       "      <td>1.0</td>\n",
       "      <td>35.907555</td>\n",
       "      <td>&lt;=50K</td>\n",
       "      <td>United-States</td>\n",
       "      <td>20.0</td>\n",
       "      <td>0.0</td>\n",
       "      <td>Private</td>\n",
       "      <td>128.984114</td>\n",
       "      <td>66.955413</td>\n",
       "      <td>0.020190</td>\n",
       "      <td>-0.595560</td>\n",
       "    </tr>\n",
       "  </tbody>\n",
       "</table>\n",
       "</div>"
      ],
      "text/plain": [
       "              name                                              address   age  \\\n",
       "0  Roscoe Bohannon  7183 Osborne Ways Apt. 651\\r\\nEast Andrew, OH 53211  58.0   \n",
       "1     Ernest Kline  391 Ball Road Suite 961\\r\\nFlowersborough, IN 57550  57.0   \n",
       "2  Harold Hendriks       8702 Vincent Square\\r\\nNew Jerryfurt, CO 30614  59.0   \n",
       "3   Randy Baptiste       2751 Harris Crossroad\\r\\nWest Ashley, CA 30311  66.0   \n",
       "4  Anthony Colucci   904 Robert Cliffs Suite 186\\r\\nWest Kyle, CO 77139  64.0   \n",
       "\n",
       "      sex  birth_month                race      marital_status  \\\n",
       "0    Male          3.0               White       Never-married   \n",
       "1  Female         11.0  Amer-Indian-Eskimo            Divorced   \n",
       "2    Male         12.0               White  Married-civ-spouse   \n",
       "3  Female          3.0               White  Married-civ-spouse   \n",
       "4    Male         12.0               White       Never-married   \n",
       "\n",
       "        occupation  pregnant   relationship  skewness_glucose  mean_glucose  \\\n",
       "0    Other-service       0.0  Not-in-family         -0.099526    119.242188   \n",
       "1  Exec-managerial       0.0      Own-child          2.396809     82.070312   \n",
       "2     Adm-clerical       0.0        Husband          4.797428     78.218750   \n",
       "3    Other-service       0.0           Wife         11.184030     61.718750   \n",
       "4    Other-service       0.0      Own-child         27.815414     21.304688   \n",
       "\n",
       "   capital_gain  kurtosis_glucose  education    fnlwgt  class  std_glucose  \\\n",
       "0           0.0          0.012622        9.0  321896.0    0.0    49.065286   \n",
       "1           0.0          0.860951       11.0  134220.0    0.0    38.530261   \n",
       "2           0.0          1.540387        9.0   27432.0    1.0    40.637871   \n",
       "3           0.0          2.266661       13.0  159442.0    1.0    32.301543   \n",
       "4           0.0          5.146317       10.0  219211.0    1.0    35.907555   \n",
       "\n",
       "  income native_country  hours_per_week  capital_loss    workclass  \\\n",
       "0  <=50K  United-States            40.0           0.0      Private   \n",
       "1  <=50K  United-States            40.0           0.0      Private   \n",
       "2   >50K  United-States            40.0           0.0  Federal-gov   \n",
       "3  <=50K  United-States            40.0           0.0      Private   \n",
       "4  <=50K  United-States            20.0           0.0      Private   \n",
       "\n",
       "   mean_oxygen  std_oxygen  kurtosis_oxygen  skewness_oxygen  \n",
       "0     3.088629   18.705663         8.293978        82.132497  \n",
       "1     0.594482    9.956608        20.702696       469.692706  \n",
       "2    21.150502   54.938601         2.492557         4.843070  \n",
       "3    14.749164   47.314987         3.201232         9.087747  \n",
       "4   128.984114   66.955413         0.020190        -0.595560  "
      ]
     },
     "execution_count": 20,
     "metadata": {},
     "output_type": "execute_result"
    }
   ],
   "source": [
    "data.head()"
   ]
  },
  {
   "cell_type": "markdown",
   "metadata": {},
   "source": [
    "## Získanie štátu z adresy"
   ]
  },
  {
   "cell_type": "code",
   "execution_count": 21,
   "metadata": {
    "pycharm": {
     "is_executing": false
    }
   },
   "outputs": [],
   "source": [
    "class StateExtractor(TransformerMixin):\n",
    "    \n",
    "    def __init__(self, addr_col=\"address\"):\n",
    "        self.col=addr_col\n",
    "        \n",
    "    def fit(self, df, y=None):\n",
    "        return self\n",
    "    \n",
    "    def transform(self, df, y=None):\n",
    "        df=df.copy()\n",
    "        df[self.col]=df[self.col].str.replace(r\".*\\r\\n[A-Za-z ]+,? ([A-Z]{2}).*\",r\"\\1\")\n",
    "        df.rename(columns={self.col: \"state\"},inplace=True)\n",
    "        return df\n",
    "\n",
    "data=StateExtractor().fit_transform(data)"
   ]
  },
  {
   "cell_type": "markdown",
   "metadata": {},
   "source": [
    "Z adresy ponecháme iba štát lebo je to jediný údaj ktorý vieme zmysluplne využiť."
   ]
  },
  {
   "cell_type": "markdown",
   "metadata": {},
   "source": [
    "## Odstránenie mena"
   ]
  },
  {
   "cell_type": "code",
   "execution_count": 22,
   "metadata": {},
   "outputs": [],
   "source": [
    "class ColDropper(TransformerMixin):\n",
    "    \n",
    "    def __init__(self, cols):\n",
    "        self.cols=cols\n",
    "        \n",
    "    def fit(self, df, y=None):\n",
    "        return self\n",
    "    \n",
    "    def transform(self, df, y=None):\n",
    "        df=df.copy()\n",
    "        df=df.drop(columns=self.cols)\n",
    "        return df\n",
    "\n",
    "data=ColDropper([\"name\"]).fit_transform(data)\n"
   ]
  },
  {
   "cell_type": "markdown",
   "metadata": {},
   "source": [
    "Z mena nevieme získať žiadne ďalšie využiteľné informácie, čiže ho môžeme odstrániť."
   ]
  },
  {
   "cell_type": "markdown",
   "metadata": {},
   "source": [
    "## Oprava záznamov o tehotenstve"
   ]
  },
  {
   "cell_type": "code",
   "execution_count": 23,
   "metadata": {
    "pycharm": {
     "is_executing": false
    }
   },
   "outputs": [
    {
     "data": {
      "text/plain": [
       "array([0., 1.])"
      ]
     },
     "execution_count": 23,
     "metadata": {},
     "output_type": "execute_result"
    }
   ],
   "source": [
    "data[data[\"sex\"]==\"Male\"].pregnant.unique()"
   ]
  },
  {
   "cell_type": "markdown",
   "metadata": {},
   "source": [
    "Zistili sme že existujú záznamy kde sú muži tehotní."
   ]
  },
  {
   "cell_type": "code",
   "execution_count": 24,
   "metadata": {
    "pycharm": {
     "is_executing": false
    }
   },
   "outputs": [],
   "source": [
    "class MalePregnancyFixer(TransformerMixin):\n",
    "    \n",
    "    def __init__(self, preg_col=\"pregnant\",sex_col=\"sex\", male_val=\"Male\"):\n",
    "        self.preg_col=preg_col\n",
    "        self.sex_col=sex_col\n",
    "        self.male_val = male_val\n",
    "        \n",
    "    def fit(self, df, y=None):\n",
    "        return self\n",
    "    \n",
    "    def transform(self, df, y=None):\n",
    "        df=df.copy()\n",
    "        df.loc[df[self.sex_col] == self.male_val, self.preg_col] = 0\n",
    "        return df\n",
    "\n",
    "\n",
    "class NanModeReplacer(TransformerMixin):\n",
    "    \n",
    "    def __init__(self, cols):\n",
    "        self.cols=cols\n",
    "    def fit(self, df, y=None):\n",
    "        self.mode={}\n",
    "        for col in self.cols:\n",
    "            self.mode[col]=df[col].mode()[0]\n",
    "        return self\n",
    "    \n",
    "    def transform(self, df, y=None):\n",
    "        df=df.copy()\n",
    "        for col in self.cols:\n",
    "            df[col]=df[col].fillna(self.mode[col])\n",
    "        return df\n",
    "\n",
    "data=NanModeReplacer([\"pregnant\"]).fit_transform(data)\n",
    "data=MalePregnancyFixer().fit_transform(data)"
   ]
  },
  {
   "cell_type": "markdown",
   "metadata": {},
   "source": [
    "V prípade prázdnych hodnôt nastavíme najčastejšiu hodnotu. Mužom nastavíme tehotenstvo na 0."
   ]
  },
  {
   "cell_type": "markdown",
   "metadata": {},
   "source": [
    "## Zmena ***sex*** na binárnu hodnotu"
   ]
  },
  {
   "cell_type": "code",
   "execution_count": 25,
   "metadata": {
    "pycharm": {
     "is_executing": false
    }
   },
   "outputs": [
    {
     "data": {
      "text/plain": [
       "1.0    2579\n",
       "0.0    1354\n",
       "Name: male, dtype: int64"
      ]
     },
     "execution_count": 25,
     "metadata": {},
     "output_type": "execute_result"
    }
   ],
   "source": [
    "data=BinaryFixer(\"sex\", \"male\", \"female\", \"male\").fit_transform(data)\n",
    "data[\"male\"].value_counts(dropna=False)"
   ]
  },
  {
   "cell_type": "markdown",
   "metadata": {},
   "source": [
    "Atribút ***sex*** premenujeme na ***male***, mužom nastavíme hodnotu na 1 a ženám na 0."
   ]
  },
  {
   "cell_type": "markdown",
   "metadata": {},
   "source": [
    "## Zmena ***income*** na binárnu hodnotu"
   ]
  },
  {
   "cell_type": "code",
   "execution_count": 26,
   "metadata": {},
   "outputs": [
    {
     "data": {
      "text/plain": [
       "array([0., 1.])"
      ]
     },
     "execution_count": 26,
     "metadata": {},
     "output_type": "execute_result"
    }
   ],
   "source": [
    "data=BinaryFixer(\"income\", \">50k\", \"<=50k\", \"income_over_fifty\").fit_transform(data)\n",
    "data=NanModeReplacer([\"income_over_fifty\"]).fit_transform(data)\n",
    "data[\"income_over_fifty\"].unique()"
   ]
  },
  {
   "cell_type": "markdown",
   "metadata": {},
   "source": [
    "Atribút má len dve možné hodnoty, preto ho zmeníme na binárnu hodnotu o tom, či subjekt zarába viac ako 50000. Namiesto Nan doplníme najčastejšiu hodnotu."
   ]
  },
  {
   "cell_type": "markdown",
   "metadata": {},
   "source": [
    "## Spojenie ***capital_loss*** a ***capital_gain***"
   ]
  },
  {
   "cell_type": "code",
   "execution_count": 27,
   "metadata": {},
   "outputs": [
    {
     "data": {
      "text/plain": [
       "count    3933.000000\n",
       "mean       76.067633\n",
       "std       379.114956\n",
       "min         0.000000\n",
       "25%         0.000000\n",
       "50%         0.000000\n",
       "75%         0.000000\n",
       "max      3900.000000\n",
       "Name: capital_loss, dtype: float64"
      ]
     },
     "metadata": {},
     "output_type": "display_data"
    },
    {
     "data": {
      "text/plain": [
       "count     3933.000000\n",
       "mean       917.590135\n",
       "std       6715.829008\n",
       "min          0.000000\n",
       "25%          0.000000\n",
       "50%          0.000000\n",
       "75%          0.000000\n",
       "max      99999.000000\n",
       "Name: capital_gain, dtype: float64"
      ]
     },
     "execution_count": 27,
     "metadata": {},
     "output_type": "execute_result"
    }
   ],
   "source": [
    "display(data.capital_loss.describe())\n",
    "data.capital_gain.describe()"
   ]
  },
  {
   "cell_type": "markdown",
   "metadata": {},
   "source": [
    "Vidíme Že tieto atribúty v podstate reprezentujú jednu informáciu rozdelenú na dve časti, tak aby nenadobúdali mínusovú hodnotu, my si ich však môžeme spojiť do jedného."
   ]
  },
  {
   "cell_type": "code",
   "execution_count": 28,
   "metadata": {
    "pycharm": {
     "is_executing": false
    }
   },
   "outputs": [],
   "source": [
    "class CapitalFixer(TransformerMixin):\n",
    "    \n",
    "    def __init__(self, loss_col=\"capital_loss\", gain_col=\"capital_gain\", new_name=\"capital\"):\n",
    "        self.new_name=new_name\n",
    "        self.loss=loss_col\n",
    "        self.gain=gain_col\n",
    "\n",
    "    def fit(self, df, y=None):\n",
    "        self.g_med=df[self.gain].median()\n",
    "        self.l_med=df[self.loss].median()\n",
    "        return self\n",
    "    \n",
    "    def transform(self, df, y=None):\n",
    "        df=df.copy()\n",
    "        df[self.loss]=df[self.loss].fillna(self.l_med)\n",
    "        df[self.gain]=df[self.gain].fillna(self.g_med)\n",
    "        df[self.gain]=df[self.gain]-df[self.loss]\n",
    "        df.rename(columns={self.gain: self.new_name},inplace=True)\n",
    "        df = df.drop(columns=[self.loss])\n",
    "\n",
    "        return df\n",
    "data=CapitalFixer().fit_transform(data)"
   ]
  },
  {
   "cell_type": "markdown",
   "metadata": {},
   "source": [
    "Pre tieto atribúty nahradíme chýbajúce hodnoty mediánmi a potom ich zlúčime do jedného atribútu, tým že od gain odpočítame loss a premenujeme ho. ***capital_loss*** môžeme odstrániť."
   ]
  },
  {
   "cell_type": "markdown",
   "metadata": {},
   "source": [
    "## ***relationship*** a ***marital_status***"
   ]
  },
  {
   "cell_type": "code",
   "execution_count": 29,
   "metadata": {},
   "outputs": [],
   "source": [
    "class ValueReplacer(TransformerMixin):\n",
    "    \n",
    "    def __init__(self, col, replace):\n",
    "        self.col=col\n",
    "        self.replace=replace\n",
    "\n",
    "    def fit(self, df, y=None):\n",
    "        return self\n",
    "    \n",
    "    def transform(self, df, y=None):\n",
    "        df=df.copy()\n",
    "        for rep in self.replace:\n",
    "            new=rep[1]\n",
    "            for old in rep[0]:\n",
    "                df[self.col]=df[self.col].replace(old,new)\n",
    "        \n",
    "        return df\n",
    "\n",
    "data=ValueReplacer(\"marital_status\",[[[\"Married-civ-spouse\",\"Married-AF-spouse\"],\"Married\"],[[\"Married-spouse-absent\",\"Divorced\",\"Separated\",\"Widowed\"],\"Previously_married\"]]).fit_transform(data)\n",
    "\n"
   ]
  },
  {
   "cell_type": "markdown",
   "metadata": {},
   "source": [
    "Pre ***marital_status*** zjednodušíme hodnoty len na tri:\n",
    "\n",
    "- Married (Married-civ-spouse, Married-AF-spouse)\n",
    "- Never_married\n",
    "- Previously_married (Married-spouse-absent, Divorced, Separated, Widowed)"
   ]
  },
  {
   "cell_type": "code",
   "execution_count": 30,
   "metadata": {},
   "outputs": [],
   "source": [
    "data=ValueReplacer(\"relationship\",[[[\"Husband\",\"Wife\"],\"Spouse\"]]).fit_transform(data)\n",
    "data=NanModeReplacer([\"relationship\"]).fit_transform(data)"
   ]
  },
  {
   "cell_type": "markdown",
   "metadata": {},
   "source": [
    "Pre ***relationship*** zlúčime hodnoty husband a wife, a nahradíme prázdne hodnoty najčastejšou hodnotou"
   ]
  },
  {
   "cell_type": "code",
   "execution_count": 31,
   "metadata": {},
   "outputs": [
    {
     "data": {
      "text/plain": [
       "Spouse            1754\n",
       "Not-in-family     1054\n",
       "Own-child          601\n",
       "Unmarried          408\n",
       "Other-relative     116\n",
       "Name: relationship, dtype: int64"
      ]
     },
     "execution_count": 31,
     "metadata": {},
     "output_type": "execute_result"
    }
   ],
   "source": [
    "data.relationship.value_counts()"
   ]
  },
  {
   "cell_type": "code",
   "execution_count": 32,
   "metadata": {},
   "outputs": [],
   "source": [
    "class MaritalStatusNanReplacer(TransformerMixin):\n",
    "    \n",
    "    def __init__(self, ms_col=\"marital_status\", rel_col=\"relationship\"):\n",
    "        self.ms_col=ms_col\n",
    "        self.rel_col=rel_col\n",
    "\n",
    "    def fit(self, df, y=None):\n",
    "        return self\n",
    "    \n",
    "    def transform(self, df, y=None):\n",
    "        df=df.copy()\n",
    "        df.loc[df[self.rel_col] == \"Spouse\", self.ms_col]=df.loc[df[self.rel_col] == \"Spouse\", self.ms_col].fillna(\"Married\")\n",
    "        df[self.ms_col]=df[self.ms_col].fillna(\"Never-married\")\n",
    "        return df\n",
    "    \n",
    "data=MaritalStatusNanReplacer().fit_transform(data)"
   ]
  },
  {
   "cell_type": "markdown",
   "metadata": {},
   "source": [
    "Doplníme marital_status na základe relationship. Ak ho nevieme zistiť doplníme Never_married."
   ]
  },
  {
   "cell_type": "markdown",
   "metadata": {},
   "source": [
    "## race"
   ]
  },
  {
   "cell_type": "code",
   "execution_count": 33,
   "metadata": {},
   "outputs": [
    {
     "data": {
      "text/plain": [
       "White                 3370\n",
       "Black                  359\n",
       "Asian-Pac-Islander     127\n",
       "Amer-Indian-Eskimo      41\n",
       "Other                   35\n",
       "NaN                      1\n",
       "Name: race, dtype: int64"
      ]
     },
     "execution_count": 33,
     "metadata": {},
     "output_type": "execute_result"
    }
   ],
   "source": [
    "data.race.value_counts(dropna=False)"
   ]
  },
  {
   "cell_type": "markdown",
   "metadata": {},
   "source": [
    "Tento atribút má veľmi málo chýbajúcich hodnôt, na ich miesto jednoducho doplníme najčastejšiu hodnotu."
   ]
  },
  {
   "cell_type": "code",
   "execution_count": 34,
   "metadata": {},
   "outputs": [],
   "source": [
    "data=NanModeReplacer([\"race\"]).fit_transform(data)"
   ]
  },
  {
   "cell_type": "code",
   "execution_count": 35,
   "metadata": {},
   "outputs": [
    {
     "data": {
      "text/plain": [
       "White                 3371\n",
       "Black                  359\n",
       "Asian-Pac-Islander     127\n",
       "Amer-Indian-Eskimo      41\n",
       "Other                   35\n",
       "Name: race, dtype: int64"
      ]
     },
     "execution_count": 35,
     "metadata": {},
     "output_type": "execute_result"
    }
   ],
   "source": [
    "data.race.value_counts(dropna=False)"
   ]
  },
  {
   "cell_type": "markdown",
   "metadata": {},
   "source": [
    "## workclass, native_country a occupation"
   ]
  },
  {
   "cell_type": "code",
   "execution_count": 36,
   "metadata": {},
   "outputs": [],
   "source": [
    "data=NanModeReplacer([\"workclass\", \"native_country\" ,\"occupation\"]).fit_transform(data)"
   ]
  },
  {
   "cell_type": "markdown",
   "metadata": {},
   "source": [
    "U týchto atribútov nahradíme prázdne hodnoty najčastejšími hodnotami."
   ]
  },
  {
   "cell_type": "markdown",
   "metadata": {},
   "source": [
    "# Nahradenie číselných NaN hodnôt + vysporiadanie sa s outliermi\n",
    "\n",
    "V zadaní je spomenutých viacero metód, ako nahradiť chýbajúce číselné hodnoty, rozhodli sme sa, že využijem doplnenie priemerom a doplnenie priemerom zo segmentu.\n",
    "\n",
    "\n",
    "\n",
    "V zadaní sú spomenuté tri metódy, ako sa vysporiadať s vychýlenými hodnotami:\n",
    "- odstránenie týchto pozorovaní\n",
    "- nahradenie 5 resp. 95 percentilom\n",
    "- transformácia atribútu cez vybranú funkciu (logaritmus, odmocnina)\n",
    "\n",
    "Rozhodli sme sa, že využijeme druhý a tretí spôsob.\n"
   ]
  },
  {
   "cell_type": "code",
   "execution_count": 37,
   "metadata": {},
   "outputs": [],
   "source": [
    "class AvgFiller(TransformerMixin):\n",
    "    def __init__(self,column):\n",
    "        self.column = column\n",
    "        \n",
    "    def fit(self, df, y=None):\n",
    "        self.avg = df[self.column].mean();   \n",
    "        return self\n",
    "    \n",
    "    def transform(self, df, y=None):\n",
    "        df = df.copy()\n",
    "        df.fillna({self.column:self.avg},inplace=True)\n",
    "        return df\n",
    "        "
   ]
  },
  {
   "cell_type": "code",
   "execution_count": 38,
   "metadata": {},
   "outputs": [],
   "source": [
    "class AvgSegmentFiller(TransformerMixin):\n",
    "    def __init__(self,column, seg_col = \"age\"):\n",
    "        self.column = column\n",
    "        self.seg_col = seg_col\n",
    "        \n",
    "    def fit(self,df,y=None):\n",
    "        self.avg={}\n",
    "        self.mx=(df[self.seg_col].max().astype(int) // 10)+1\n",
    "        for i in range(0,self.mx):\n",
    "            self.avg[i]=df[(df[self.seg_col]>=i*10) & (df[self.seg_col]<((i+1)*10))][self.column].mean()\n",
    "        return self\n",
    "    \n",
    "    def transform(self, df, y=None):\n",
    "        df = df.copy()\n",
    "        for i in range(0,self.mx):\n",
    "            df.loc[(df[self.seg_col]>=(i*10)) & (df[self.seg_col]<((i+1)*10)),self.column]=df.loc[(df[self.seg_col]>=(i*10)) & (df[self.seg_col]<((i+1)*10)),self.column].fillna(self.avg[i])\n",
    "        return df"
   ]
  },
  {
   "cell_type": "code",
   "execution_count": 39,
   "metadata": {},
   "outputs": [],
   "source": [
    "class CubeRootTransformer(TransformerMixin):\n",
    "    def __init__(self,column):\n",
    "        self.column = column\n",
    "        \n",
    "    def fit(self, df, y=None):\n",
    "        return self\n",
    "    \n",
    "    def transform(self,df,y=None):\n",
    "        df = df.copy()\n",
    "        df[self.column] = np.cbrt(data[self.column])\n",
    "        return df"
   ]
  },
  {
   "cell_type": "code",
   "execution_count": 40,
   "metadata": {},
   "outputs": [],
   "source": [
    "class LogTransformer(TransformerMixin):\n",
    "    def __init__(self,column):\n",
    "        self.column = column\n",
    "        \n",
    "    def fit(self, df, y=None):\n",
    "        return self\n",
    "    \n",
    "    def transform(self,df,y=None):\n",
    "        df = df.copy()\n",
    "        df[self.column] = np.log(data[self.column])\n",
    "        return df\n",
    "    "
   ]
  },
  {
   "cell_type": "code",
   "execution_count": 41,
   "metadata": {},
   "outputs": [],
   "source": [
    "class OutlierClipper(TransformerMixin):\n",
    "    \n",
    "    def __init__(self, cols, up=0.95, low=0.05):\n",
    "        self.cols=cols\n",
    "        self.up=up\n",
    "        self.low=low\n",
    "        \n",
    "    def fit(self, df, y=None):\n",
    "        self.upper={}\n",
    "        self.lower={}\n",
    "        for col in self.cols:\n",
    "            self.upper[col]=df[col].quantile(self.up)\n",
    "            self.lower[col]=df[col].quantile(self.low)\n",
    "        return self\n",
    "    \n",
    "    def transform(self, df, y=None):\n",
    "        df=df.copy()\n",
    "        for col in self.cols:\n",
    "            df[col]=df[col].clip(upper=self.upper[col], lower=self.lower[col])\n",
    "        return df"
   ]
  },
  {
   "cell_type": "markdown",
   "metadata": {},
   "source": [
    "## fnlwgt\n"
   ]
  },
  {
   "cell_type": "markdown",
   "metadata": {},
   "source": [
    "Najprv zistíme, či sú nejaké NaN hodnoty."
   ]
  },
  {
   "cell_type": "code",
   "execution_count": 42,
   "metadata": {
    "pycharm": {
     "is_executing": false
    }
   },
   "outputs": [],
   "source": [
    "data[\"fnlwgt\"].isnull().sum()\n",
    "data=AvgFiller(\"fnlwgt\").fit_transform(data)"
   ]
  },
  {
   "cell_type": "markdown",
   "metadata": {},
   "source": [
    "V tomto stĺpci žiadne hodnoty NaN nie sú, ale nachystáme si fit_transform funkciu, keby náhodou v budúcnosti boli.\n",
    "\n",
    "Následne zistíme, či sú prítomné nejaké hodnoty, ktoré sú príliš odchýlené."
   ]
  },
  {
   "cell_type": "code",
   "execution_count": 43,
   "metadata": {
    "pycharm": {
     "is_executing": false
    }
   },
   "outputs": [
    {
     "data": {
      "text/plain": [
       "count      3933.000000\n",
       "mean     187429.579964\n",
       "std      104399.718085\n",
       "min       19491.000000\n",
       "25%      116358.000000\n",
       "50%      177154.000000\n",
       "75%      235124.000000\n",
       "max      953588.000000\n",
       "Name: fnlwgt, dtype: float64"
      ]
     },
     "execution_count": 43,
     "metadata": {},
     "output_type": "execute_result"
    },
    {
     "data": {
      "image/png": "[encoded data removed]",
      "text/plain": [
       "<Figure size 432x288 with 1 Axes>"
      ]
     },
     "metadata": {
      "needs_background": "light"
     },
     "output_type": "display_data"
    }
   ],
   "source": [
    "data[\"fnlwgt\"].plot(kind=\"hist\")\n",
    "data[\"fnlwgt\"].describe()"
   ]
  },
  {
   "cell_type": "code",
   "execution_count": 44,
   "metadata": {
    "pycharm": {
     "is_executing": false
    }
   },
   "outputs": [
    {
     "data": {
      "text/plain": [
       "<matplotlib.axes._subplots.AxesSubplot at 0x191236a2e10>"
      ]
     },
     "execution_count": 44,
     "metadata": {},
     "output_type": "execute_result"
    },
    {
     "data": {
      "image/png": "[encoded data removed]",
      "text/plain": [
       "<Figure size 432x288 with 1 Axes>"
      ]
     },
     "metadata": {
      "needs_background": "light"
     },
     "output_type": "display_data"
    }
   ],
   "source": [
    "sns.boxplot('fnlwgt', data=data)"
   ]
  },
  {
   "cell_type": "markdown",
   "metadata": {},
   "source": [
    "Ako môžeme vidieť, v tomto prípade sa outliery vyskytujú a to v hodnotách od cca 600000 do max, ktoré je 953588. Vychýlené hodnoty nahradíme 95 percentilom."
   ]
  },
  {
   "cell_type": "code",
   "execution_count": 45,
   "metadata": {
    "pycharm": {
     "is_executing": false
    }
   },
   "outputs": [
    {
     "data": {
      "text/plain": [
       "<matplotlib.axes._subplots.AxesSubplot at 0x191235b2080>"
      ]
     },
     "execution_count": 45,
     "metadata": {},
     "output_type": "execute_result"
    },
    {
     "data": {
      "image/png": "[encoded data removed]",
      "text/plain": [
       "<Figure size 432x288 with 1 Axes>"
      ]
     },
     "metadata": {
      "needs_background": "light"
     },
     "output_type": "display_data"
    }
   ],
   "source": [
    "data=OutlierClipper([\"fnlwgt\"]).fit_transform(data)\n",
    "data[\"fnlwgt\"].plot(kind=\"hist\")"
   ]
  },
  {
   "cell_type": "markdown",
   "metadata": {},
   "source": [
    "## Agregované hodnoty cukru v krvi"
   ]
  },
  {
   "cell_type": "code",
   "execution_count": 46,
   "metadata": {},
   "outputs": [
    {
     "data": {
      "text/plain": [
       "<matplotlib.axes._subplots.AxesSubplot at 0x191235b24a8>"
      ]
     },
     "execution_count": 46,
     "metadata": {},
     "output_type": "execute_result"
    },
    {
     "data": {
      "image/png": "[encoded data removed]",
      "text/plain": [
       "<Figure size 720x576 with 2 Axes>"
      ]
     },
     "metadata": {
      "needs_background": "light"
     },
     "output_type": "display_data"
    }
   ],
   "source": [
    "fig, ax = plt.subplots(figsize=(10,8))\n",
    "sns.heatmap(data[['skewness_glucose', 'mean_glucose','kurtosis_glucose','std_glucose','skewness_oxygen', 'mean_oxygen','kurtosis_oxygen','std_oxygen','age','hours_per_week','fnlwgt']].corr(), ax=ax, annot=True, fmt=\".3f\")"
   ]
  },
  {
   "cell_type": "markdown",
   "metadata": {},
   "source": [
    "Spravili sme si heat mapu, aby sme videli, čo môže vyplývať na náš atribút a zvolili sme si, že budeme priraďovať priemer z ľudí, ktorí majú rovnaký vek, pretože je vidieť, že jemne koreluje s našimi atribútmi, či už jedným alebo druhým smerom.\n",
    "\n",
    "### skewness"
   ]
  },
  {
   "cell_type": "code",
   "execution_count": 47,
   "metadata": {
    "pycharm": {
     "is_executing": false
    }
   },
   "outputs": [
    {
     "data": {
      "text/plain": [
       "1"
      ]
     },
     "execution_count": 47,
     "metadata": {},
     "output_type": "execute_result"
    }
   ],
   "source": [
    "data[\"skewness_glucose\"].isnull().sum()"
   ]
  },
  {
   "cell_type": "markdown",
   "metadata": {},
   "source": [
    "Prázdne hodnoty nahradíme priemerom zo segmentu, kde ako parameter budem brat veky jedincov rozdelené na skupinkách po 10 rokoch."
   ]
  },
  {
   "cell_type": "code",
   "execution_count": 48,
   "metadata": {},
   "outputs": [],
   "source": [
    "data=AvgSegmentFiller(\"skewness_glucose\").fit_transform(data)"
   ]
  },
  {
   "cell_type": "code",
   "execution_count": 49,
   "metadata": {
    "pycharm": {
     "is_executing": false
    },
    "scrolled": true
   },
   "outputs": [
    {
     "data": {
      "text/plain": [
       "count    3933.000000\n",
       "mean        4.219913\n",
       "std         9.677880\n",
       "min        -1.755332\n",
       "25%        -0.119347\n",
       "50%         0.375487\n",
       "75%         2.090761\n",
       "max        68.101622\n",
       "Name: skewness_glucose, dtype: float64"
      ]
     },
     "execution_count": 49,
     "metadata": {},
     "output_type": "execute_result"
    },
    {
     "data": {
      "image/png": "[encoded data removed]",
      "text/plain": [
       "<Figure size 432x288 with 1 Axes>"
      ]
     },
     "metadata": {
      "needs_background": "light"
     },
     "output_type": "display_data"
    }
   ],
   "source": [
    "data[\"skewness_glucose\"].plot(kind=\"hist\")\n",
    "data[\"skewness_glucose\"].describe()"
   ]
  },
  {
   "cell_type": "code",
   "execution_count": 50,
   "metadata": {
    "pycharm": {
     "is_executing": false
    }
   },
   "outputs": [
    {
     "data": {
      "text/plain": [
       "<matplotlib.axes._subplots.AxesSubplot at 0x191236787b8>"
      ]
     },
     "execution_count": 50,
     "metadata": {},
     "output_type": "execute_result"
    },
    {
     "data": {
      "image/png": "[encoded data removed]",
      "text/plain": [
       "<Figure size 432x288 with 1 Axes>"
      ]
     },
     "metadata": {
      "needs_background": "light"
     },
     "output_type": "display_data"
    }
   ],
   "source": [
    "sns.boxplot('skewness_glucose', data=data)"
   ]
  },
  {
   "cell_type": "code",
   "execution_count": 51,
   "metadata": {},
   "outputs": [
    {
     "data": {
      "text/plain": [
       "<matplotlib.axes._subplots.AxesSubplot at 0x19123563550>"
      ]
     },
     "execution_count": 51,
     "metadata": {},
     "output_type": "execute_result"
    },
    {
     "data": {
      "image/png": "[encoded data removed]",
      "text/plain": [
       "<Figure size 432x288 with 1 Axes>"
      ]
     },
     "metadata": {
      "needs_background": "light"
     },
     "output_type": "display_data"
    }
   ],
   "source": [
    "\n",
    "data=CubeRootTransformer(\"skewness_glucose\").fit_transform(data)\n",
    "data[\"skewness_glucose\"].plot(kind=\"hist\")"
   ]
  },
  {
   "cell_type": "markdown",
   "metadata": {},
   "source": [
    "Údaje v tomto stĺpci sme prentransformovali podľa tretej odmocniny."
   ]
  },
  {
   "cell_type": "markdown",
   "metadata": {},
   "source": [
    "### mean"
   ]
  },
  {
   "cell_type": "code",
   "execution_count": 52,
   "metadata": {
    "pycharm": {
     "is_executing": false
    }
   },
   "outputs": [
    {
     "data": {
      "text/plain": [
       "0"
      ]
     },
     "execution_count": 52,
     "metadata": {},
     "output_type": "execute_result"
    }
   ],
   "source": [
    "data[\"mean_glucose\"].isnull().sum()"
   ]
  },
  {
   "cell_type": "code",
   "execution_count": 53,
   "metadata": {},
   "outputs": [],
   "source": [
    "data=AvgSegmentFiller(\"mean_glucose\").fit_transform(data)"
   ]
  },
  {
   "cell_type": "code",
   "execution_count": 54,
   "metadata": {
    "pycharm": {
     "is_executing": false
    }
   },
   "outputs": [
    {
     "data": {
      "text/plain": [
       "count    3933.000000\n",
       "mean      101.277271\n",
       "std        33.560209\n",
       "min         6.187500\n",
       "25%        87.742188\n",
       "50%       110.664062\n",
       "75%       124.132812\n",
       "max       189.734375\n",
       "Name: mean_glucose, dtype: float64"
      ]
     },
     "execution_count": 54,
     "metadata": {},
     "output_type": "execute_result"
    },
    {
     "data": {
      "image/png": "[encoded data removed]",
      "text/plain": [
       "<Figure size 432x288 with 1 Axes>"
      ]
     },
     "metadata": {
      "needs_background": "light"
     },
     "output_type": "display_data"
    }
   ],
   "source": [
    "data[\"mean_glucose\"].plot(kind=\"hist\")\n",
    "data[\"mean_glucose\"].describe()"
   ]
  },
  {
   "cell_type": "code",
   "execution_count": 55,
   "metadata": {
    "pycharm": {
     "is_executing": false
    }
   },
   "outputs": [
    {
     "data": {
      "text/plain": [
       "<matplotlib.axes._subplots.AxesSubplot at 0x19123304ac8>"
      ]
     },
     "execution_count": 55,
     "metadata": {},
     "output_type": "execute_result"
    },
    {
     "data": {
      "image/png": "[encoded data removed]",
      "text/plain": [
       "<Figure size 432x288 with 1 Axes>"
      ]
     },
     "metadata": {
      "needs_background": "light"
     },
     "output_type": "display_data"
    }
   ],
   "source": [
    "sns.boxplot('mean_glucose', data=data)"
   ]
  },
  {
   "cell_type": "code",
   "execution_count": 56,
   "metadata": {
    "pycharm": {
     "is_executing": false
    }
   },
   "outputs": [
    {
     "data": {
      "text/plain": [
       "<matplotlib.axes._subplots.AxesSubplot at 0x19123304588>"
      ]
     },
     "execution_count": 56,
     "metadata": {},
     "output_type": "execute_result"
    },
    {
     "data": {
      "image/png": "[encoded data removed]",
      "text/plain": [
       "<Figure size 432x288 with 1 Axes>"
      ]
     },
     "metadata": {
      "needs_background": "light"
     },
     "output_type": "display_data"
    }
   ],
   "source": [
    "data=OutlierClipper([\"mean_glucose\"]).fit_transform(data)\n",
    "\n",
    "data[\"mean_glucose\"].plot(kind=\"hist\")"
   ]
  },
  {
   "cell_type": "markdown",
   "metadata": {},
   "source": [
    "### kurtosis"
   ]
  },
  {
   "cell_type": "code",
   "execution_count": 57,
   "metadata": {
    "pycharm": {
     "is_executing": false
    }
   },
   "outputs": [
    {
     "data": {
      "text/plain": [
       "1"
      ]
     },
     "execution_count": 57,
     "metadata": {},
     "output_type": "execute_result"
    }
   ],
   "source": [
    "data[\"kurtosis_glucose\"].isnull().sum()"
   ]
  },
  {
   "cell_type": "code",
   "execution_count": 58,
   "metadata": {},
   "outputs": [],
   "source": [
    "data=AvgSegmentFiller(\"kurtosis_glucose\").fit_transform(data)\n"
   ]
  },
  {
   "cell_type": "code",
   "execution_count": 59,
   "metadata": {
    "pycharm": {
     "is_executing": false
    }
   },
   "outputs": [
    {
     "data": {
      "text/plain": [
       "count    3933.000000\n",
       "mean        0.951387\n",
       "std         1.610958\n",
       "min        -1.641515\n",
       "25%         0.072144\n",
       "50%         0.310784\n",
       "75%         0.778607\n",
       "max         8.069522\n",
       "Name: kurtosis_glucose, dtype: float64"
      ]
     },
     "execution_count": 59,
     "metadata": {},
     "output_type": "execute_result"
    },
    {
     "data": {
      "image/png": "[encoded data removed]",
      "text/plain": [
       "<Figure size 432x288 with 1 Axes>"
      ]
     },
     "metadata": {
      "needs_background": "light"
     },
     "output_type": "display_data"
    }
   ],
   "source": [
    "data[\"kurtosis_glucose\"].plot(kind=\"hist\")\n",
    "data[\"kurtosis_glucose\"].describe()"
   ]
  },
  {
   "cell_type": "code",
   "execution_count": 60,
   "metadata": {
    "pycharm": {
     "is_executing": false
    }
   },
   "outputs": [
    {
     "data": {
      "text/plain": [
       "<matplotlib.axes._subplots.AxesSubplot at 0x191239aeba8>"
      ]
     },
     "execution_count": 60,
     "metadata": {},
     "output_type": "execute_result"
    },
    {
     "data": {
      "image/png": "[encoded data removed]",
      "text/plain": [
       "<Figure size 432x288 with 1 Axes>"
      ]
     },
     "metadata": {
      "needs_background": "light"
     },
     "output_type": "display_data"
    }
   ],
   "source": [
    "sns.boxplot('kurtosis_glucose', data=data)"
   ]
  },
  {
   "cell_type": "code",
   "execution_count": 61,
   "metadata": {
    "pycharm": {
     "is_executing": false
    }
   },
   "outputs": [
    {
     "data": {
      "text/plain": [
       "<matplotlib.axes._subplots.AxesSubplot at 0x191238aff98>"
      ]
     },
     "execution_count": 61,
     "metadata": {},
     "output_type": "execute_result"
    },
    {
     "data": {
      "image/png": "[encoded data removed]",
      "text/plain": [
       "<Figure size 432x288 with 1 Axes>"
      ]
     },
     "metadata": {
      "needs_background": "light"
     },
     "output_type": "display_data"
    }
   ],
   "source": [
    "data=OutlierClipper([\"kurtosis_glucose\"]).fit_transform(data)\n",
    "data[\"kurtosis_glucose\"].plot(kind=\"hist\")"
   ]
  },
  {
   "cell_type": "markdown",
   "metadata": {},
   "source": []
  },
  {
   "cell_type": "markdown",
   "metadata": {
    "pycharm": {
     "is_executing": true
    }
   },
   "source": [
    "### std"
   ]
  },
  {
   "cell_type": "code",
   "execution_count": 62,
   "metadata": {
    "pycharm": {
     "is_executing": false
    }
   },
   "outputs": [
    {
     "data": {
      "text/plain": [
       "0"
      ]
     },
     "execution_count": 62,
     "metadata": {},
     "output_type": "execute_result"
    }
   ],
   "source": [
    "data[\"std_glucose\"].isnull().sum()"
   ]
  },
  {
   "cell_type": "code",
   "execution_count": 63,
   "metadata": {},
   "outputs": [],
   "source": [
    "data=AvgFiller(\"std_glucose\").fit_transform(data)"
   ]
  },
  {
   "cell_type": "code",
   "execution_count": 64,
   "metadata": {
    "pycharm": {
     "is_executing": false
    }
   },
   "outputs": [
    {
     "data": {
      "text/plain": [
       "count    3933.000000\n",
       "mean       45.174684\n",
       "std         7.607881\n",
       "min        25.695250\n",
       "25%        40.165726\n",
       "50%        45.887420\n",
       "75%        50.369068\n",
       "max        91.206475\n",
       "Name: std_glucose, dtype: float64"
      ]
     },
     "execution_count": 64,
     "metadata": {},
     "output_type": "execute_result"
    },
    {
     "data": {
      "image/png": "[encoded data removed]",
      "text/plain": [
       "<Figure size 432x288 with 1 Axes>"
      ]
     },
     "metadata": {
      "needs_background": "light"
     },
     "output_type": "display_data"
    }
   ],
   "source": [
    "data[\"std_glucose\"].plot(kind=\"hist\")\n",
    "data[\"std_glucose\"].describe()"
   ]
  },
  {
   "cell_type": "code",
   "execution_count": 65,
   "metadata": {
    "pycharm": {
     "is_executing": false
    }
   },
   "outputs": [
    {
     "data": {
      "text/plain": [
       "<matplotlib.axes._subplots.AxesSubplot at 0x19123582eb8>"
      ]
     },
     "execution_count": 65,
     "metadata": {},
     "output_type": "execute_result"
    },
    {
     "data": {
      "image/png": "[encoded data removed]",
      "text/plain": [
       "<Figure size 432x288 with 1 Axes>"
      ]
     },
     "metadata": {
      "needs_background": "light"
     },
     "output_type": "display_data"
    }
   ],
   "source": [
    "sns.boxplot('std_glucose', data=data)"
   ]
  },
  {
   "cell_type": "code",
   "execution_count": 66,
   "metadata": {
    "pycharm": {
     "is_executing": false
    }
   },
   "outputs": [
    {
     "data": {
      "text/plain": [
       "<matplotlib.axes._subplots.AxesSubplot at 0x19123482f28>"
      ]
     },
     "execution_count": 66,
     "metadata": {},
     "output_type": "execute_result"
    },
    {
     "data": {
      "image/png": "[encoded data removed]",
      "text/plain": [
       "<Figure size 432x288 with 1 Axes>"
      ]
     },
     "metadata": {
      "needs_background": "light"
     },
     "output_type": "display_data"
    }
   ],
   "source": [
    "data=OutlierClipper([\"std_glucose\"]).fit_transform(data)\n",
    "data[\"std_glucose\"].plot(kind=\"hist\")"
   ]
  },
  {
   "cell_type": "markdown",
   "metadata": {},
   "source": [
    "## hours_per_week"
   ]
  },
  {
   "cell_type": "code",
   "execution_count": 67,
   "metadata": {},
   "outputs": [],
   "source": [
    "class WorkHoursFixer(TransformerMixin):\n",
    "    \n",
    "    def __init__(self, col=\"hours_per_week\"):\n",
    "        self.col = col\n",
    "        \n",
    "    def fit(self,df,y=None):\n",
    "        return self\n",
    "        \n",
    "    def transform(self,df,y=None):\n",
    "        df = df.copy()\n",
    "        df[self.col]= df[self.col]//10      \n",
    "        return df"
   ]
  },
  {
   "cell_type": "code",
   "execution_count": 68,
   "metadata": {},
   "outputs": [
    {
     "data": {
      "text/plain": [
       "0"
      ]
     },
     "execution_count": 68,
     "metadata": {},
     "output_type": "execute_result"
    }
   ],
   "source": [
    "data[\"hours_per_week\"].isnull().sum()"
   ]
  },
  {
   "cell_type": "code",
   "execution_count": 69,
   "metadata": {
    "pycharm": {
     "is_executing": false
    }
   },
   "outputs": [],
   "source": [
    "data=AvgFiller(\"hours_per_week\").fit_transform(data)\n",
    "data = WorkHoursFixer().fit_transform(data)"
   ]
  },
  {
   "cell_type": "code",
   "execution_count": 70,
   "metadata": {
    "pycharm": {
     "is_executing": false
    }
   },
   "outputs": [
    {
     "data": {
      "text/plain": [
       "count    3933.000000\n",
       "mean        3.857107\n",
       "std         1.260126\n",
       "min         0.000000\n",
       "25%         4.000000\n",
       "50%         4.000000\n",
       "75%         4.000000\n",
       "max         9.000000\n",
       "Name: hours_per_week, dtype: float64"
      ]
     },
     "execution_count": 70,
     "metadata": {},
     "output_type": "execute_result"
    },
    {
     "data": {
      "image/png": "[encoded data removed]",
      "text/plain": [
       "<Figure size 432x288 with 1 Axes>"
      ]
     },
     "metadata": {
      "needs_background": "light"
     },
     "output_type": "display_data"
    }
   ],
   "source": [
    "data[\"hours_per_week\"].plot(kind=\"hist\")\n",
    "data[\"hours_per_week\"].describe()"
   ]
  },
  {
   "cell_type": "code",
   "execution_count": 71,
   "metadata": {
    "pycharm": {
     "is_executing": false
    }
   },
   "outputs": [
    {
     "data": {
      "text/plain": [
       "<matplotlib.axes._subplots.AxesSubplot at 0x191231d6d30>"
      ]
     },
     "execution_count": 71,
     "metadata": {},
     "output_type": "execute_result"
    },
    {
     "data": {
      "image/png": "[encoded data removed]",
      "text/plain": [
       "<Figure size 432x288 with 1 Axes>"
      ]
     },
     "metadata": {
      "needs_background": "light"
     },
     "output_type": "display_data"
    }
   ],
   "source": [
    "sns.boxplot('hours_per_week', data=data)"
   ]
  },
  {
   "cell_type": "markdown",
   "metadata": {},
   "source": [
    "Tento atribút sme premenili takým spôsobom, ze sme ho upravili na desiatky, aby na vznikli väčšie skupiny."
   ]
  },
  {
   "cell_type": "markdown",
   "metadata": {},
   "source": [
    "## Agregovane hodnoty kyslika"
   ]
  },
  {
   "cell_type": "code",
   "execution_count": 72,
   "metadata": {},
   "outputs": [
    {
     "data": {
      "text/plain": [
       "<matplotlib.axes._subplots.AxesSubplot at 0x19123492198>"
      ]
     },
     "execution_count": 72,
     "metadata": {},
     "output_type": "execute_result"
    },
    {
     "data": {
      "image/png": "[encoded data removed]",
      "text/plain": [
       "<Figure size 720x576 with 2 Axes>"
      ]
     },
     "metadata": {
      "needs_background": "light"
     },
     "output_type": "display_data"
    }
   ],
   "source": [
    "fig, ax = plt.subplots(figsize=(10,8))\n",
    "sns.heatmap(data[['skewness_oxygen', 'mean_oxygen','kurtosis_oxygen','std_oxygen','age','hours_per_week','fnlwgt']].corr(), ax=ax, annot=True, fmt=\".3f\")"
   ]
  },
  {
   "cell_type": "markdown",
   "metadata": {},
   "source": [
    "Z heat mapy je možné vidieť, že hodnoty kyslíka jemne korelujú s vekom. Preto v niektorých atribútoch pri nahrádzaní budeme brať vek na ohľad.\n",
    "\n",
    "### skewness"
   ]
  },
  {
   "cell_type": "code",
   "execution_count": 73,
   "metadata": {
    "pycharm": {
     "is_executing": false
    }
   },
   "outputs": [
    {
     "data": {
      "text/plain": [
       "1"
      ]
     },
     "execution_count": 73,
     "metadata": {},
     "output_type": "execute_result"
    }
   ],
   "source": [
    "data[\"skewness_oxygen\"].isnull().sum()"
   ]
  },
  {
   "cell_type": "code",
   "execution_count": 74,
   "metadata": {},
   "outputs": [],
   "source": [
    "data=AvgFiller(\"skewness_oxygen\").fit_transform(data)"
   ]
  },
  {
   "cell_type": "markdown",
   "metadata": {},
   "source": [
    "Chýbajúcu hodnotu nahradíme celkovým priemerom zo vzorky."
   ]
  },
  {
   "cell_type": "code",
   "execution_count": 75,
   "metadata": {
    "pycharm": {
     "is_executing": false
    }
   },
   "outputs": [
    {
     "data": {
      "text/plain": [
       "count    3933.000000\n",
       "mean       91.297976\n",
       "std       108.552002\n",
       "min        -1.976976\n",
       "25%        12.866679\n",
       "50%        68.490474\n",
       "75%       127.012005\n",
       "max      1191.000837\n",
       "Name: skewness_oxygen, dtype: float64"
      ]
     },
     "execution_count": 75,
     "metadata": {},
     "output_type": "execute_result"
    },
    {
     "data": {
      "image/png": "[encoded data removed]",
      "text/plain": [
       "<Figure size 432x288 with 1 Axes>"
      ]
     },
     "metadata": {
      "needs_background": "light"
     },
     "output_type": "display_data"
    }
   ],
   "source": [
    "data[\"skewness_oxygen\"].plot(kind=\"hist\")\n",
    "data[\"skewness_oxygen\"].describe()"
   ]
  },
  {
   "cell_type": "code",
   "execution_count": 76,
   "metadata": {
    "pycharm": {
     "is_executing": false
    }
   },
   "outputs": [
    {
     "data": {
      "text/plain": [
       "<matplotlib.axes._subplots.AxesSubplot at 0x191236dcb38>"
      ]
     },
     "execution_count": 76,
     "metadata": {},
     "output_type": "execute_result"
    },
    {
     "data": {
      "image/png": "[encoded data removed]",
      "text/plain": [
       "<Figure size 432x288 with 1 Axes>"
      ]
     },
     "metadata": {
      "needs_background": "light"
     },
     "output_type": "display_data"
    }
   ],
   "source": [
    "sns.boxplot('skewness_oxygen', data=data)"
   ]
  },
  {
   "cell_type": "code",
   "execution_count": 77,
   "metadata": {
    "pycharm": {
     "is_executing": false
    }
   },
   "outputs": [
    {
     "data": {
      "text/plain": [
       "<matplotlib.axes._subplots.AxesSubplot at 0x191238a0358>"
      ]
     },
     "execution_count": 77,
     "metadata": {},
     "output_type": "execute_result"
    },
    {
     "data": {
      "image/png": "[encoded data removed]",
      "text/plain": [
       "<Figure size 432x288 with 1 Axes>"
      ]
     },
     "metadata": {
      "needs_background": "light"
     },
     "output_type": "display_data"
    }
   ],
   "source": [
    "data=CubeRootTransformer(\"skewness_oxygen\").fit_transform(data)\n",
    "data[\"skewness_oxygen\"].plot(kind=\"hist\")"
   ]
  },
  {
   "cell_type": "markdown",
   "metadata": {},
   "source": [
    "Hodnoty v stĺpcoch sme pretransformovali podľa tretej odmocniny."
   ]
  },
  {
   "cell_type": "markdown",
   "metadata": {},
   "source": [
    "### mean"
   ]
  },
  {
   "cell_type": "code",
   "execution_count": 78,
   "metadata": {
    "pycharm": {
     "is_executing": false
    }
   },
   "outputs": [
    {
     "data": {
      "text/plain": [
       "1"
      ]
     },
     "execution_count": 78,
     "metadata": {},
     "output_type": "execute_result"
    }
   ],
   "source": [
    "data[\"mean_oxygen\"].isnull().sum()"
   ]
  },
  {
   "cell_type": "code",
   "execution_count": 79,
   "metadata": {},
   "outputs": [],
   "source": [
    "data=AvgSegmentFiller(\"mean_oxygen\").fit_transform(data)\n"
   ]
  },
  {
   "cell_type": "code",
   "execution_count": 80,
   "metadata": {
    "pycharm": {
     "is_executing": false
    }
   },
   "outputs": [
    {
     "data": {
      "text/plain": [
       "count    3933.000000\n",
       "mean       18.482682\n",
       "std        34.788554\n",
       "min         0.213211\n",
       "25%         2.065217\n",
       "50%         3.236622\n",
       "75%        12.647993\n",
       "max       217.371238\n",
       "Name: mean_oxygen, dtype: float64"
      ]
     },
     "execution_count": 80,
     "metadata": {},
     "output_type": "execute_result"
    },
    {
     "data": {
      "image/png": "[encoded data removed]",
      "text/plain": [
       "<Figure size 432x288 with 1 Axes>"
      ]
     },
     "metadata": {
      "needs_background": "light"
     },
     "output_type": "display_data"
    }
   ],
   "source": [
    "data[\"mean_oxygen\"].plot(kind=\"hist\")\n",
    "data[\"mean_oxygen\"].describe()"
   ]
  },
  {
   "cell_type": "code",
   "execution_count": 81,
   "metadata": {
    "pycharm": {
     "is_executing": false
    }
   },
   "outputs": [
    {
     "data": {
      "text/plain": [
       "<matplotlib.axes._subplots.AxesSubplot at 0x19124195be0>"
      ]
     },
     "execution_count": 81,
     "metadata": {},
     "output_type": "execute_result"
    },
    {
     "data": {
      "image/png": "[encoded data removed]",
      "text/plain": [
       "<Figure size 432x288 with 1 Axes>"
      ]
     },
     "metadata": {
      "needs_background": "light"
     },
     "output_type": "display_data"
    }
   ],
   "source": [
    "sns.boxplot('mean_oxygen', data=data)"
   ]
  },
  {
   "cell_type": "code",
   "execution_count": 82,
   "metadata": {
    "pycharm": {
     "is_executing": false
    }
   },
   "outputs": [
    {
     "data": {
      "text/plain": [
       "<matplotlib.axes._subplots.AxesSubplot at 0x191241a12b0>"
      ]
     },
     "execution_count": 82,
     "metadata": {},
     "output_type": "execute_result"
    },
    {
     "data": {
      "image/png": "[encoded data removed]",
      "text/plain": [
       "<Figure size 432x288 with 1 Axes>"
      ]
     },
     "metadata": {
      "needs_background": "light"
     },
     "output_type": "display_data"
    }
   ],
   "source": [
    "data=CubeRootTransformer(\"mean_oxygen\").fit_transform(data)\n",
    "data[\"mean_oxygen\"].plot(kind=\"hist\")"
   ]
  },
  {
   "cell_type": "markdown",
   "metadata": {},
   "source": [
    "Hodnoty sme opäť pretransformovali podla tretej odmocniny."
   ]
  },
  {
   "cell_type": "markdown",
   "metadata": {},
   "source": [
    "### kurtosis"
   ]
  },
  {
   "cell_type": "code",
   "execution_count": 83,
   "metadata": {
    "pycharm": {
     "is_executing": false
    }
   },
   "outputs": [
    {
     "data": {
      "text/plain": [
       "1"
      ]
     },
     "execution_count": 83,
     "metadata": {},
     "output_type": "execute_result"
    }
   ],
   "source": [
    "data[\"kurtosis_oxygen\"].isnull().sum()"
   ]
  },
  {
   "cell_type": "code",
   "execution_count": 84,
   "metadata": {},
   "outputs": [],
   "source": [
    "data=AvgFiller(\"kurtosis_oxygen\").fit_transform(data)"
   ]
  },
  {
   "cell_type": "code",
   "execution_count": 85,
   "metadata": {
    "pycharm": {
     "is_executing": false
    }
   },
   "outputs": [
    {
     "data": {
      "text/plain": [
       "count    3933.000000\n",
       "mean        7.413030\n",
       "std         4.812078\n",
       "min        -2.597872\n",
       "25%         3.637833\n",
       "50%         7.781618\n",
       "75%        10.261581\n",
       "max        34.539844\n",
       "Name: kurtosis_oxygen, dtype: float64"
      ]
     },
     "execution_count": 85,
     "metadata": {},
     "output_type": "execute_result"
    },
    {
     "data": {
      "image/png": "[encoded data removed]",
      "text/plain": [
       "<Figure size 432x288 with 1 Axes>"
      ]
     },
     "metadata": {
      "needs_background": "light"
     },
     "output_type": "display_data"
    }
   ],
   "source": [
    "data[\"kurtosis_oxygen\"].plot(kind=\"hist\")\n",
    "data[\"kurtosis_oxygen\"].describe()"
   ]
  },
  {
   "cell_type": "code",
   "execution_count": 86,
   "metadata": {
    "pycharm": {
     "is_executing": false
    }
   },
   "outputs": [
    {
     "data": {
      "text/plain": [
       "<matplotlib.axes._subplots.AxesSubplot at 0x19124217cf8>"
      ]
     },
     "execution_count": 86,
     "metadata": {},
     "output_type": "execute_result"
    },
    {
     "data": {
      "image/png": "[encoded data removed]",
      "text/plain": [
       "<Figure size 432x288 with 1 Axes>"
      ]
     },
     "metadata": {
      "needs_background": "light"
     },
     "output_type": "display_data"
    }
   ],
   "source": [
    "sns.boxplot('kurtosis_oxygen', data=data)"
   ]
  },
  {
   "cell_type": "code",
   "execution_count": 87,
   "metadata": {
    "pycharm": {
     "is_executing": false
    }
   },
   "outputs": [
    {
     "data": {
      "text/plain": [
       "<matplotlib.axes._subplots.AxesSubplot at 0x191240f4048>"
      ]
     },
     "execution_count": 87,
     "metadata": {},
     "output_type": "execute_result"
    },
    {
     "data": {
      "image/png": "[encoded data removed]",
      "text/plain": [
       "<Figure size 432x288 with 1 Axes>"
      ]
     },
     "metadata": {
      "needs_background": "light"
     },
     "output_type": "display_data"
    }
   ],
   "source": [
    "data=OutlierClipper([\"kurtosis_oxygen\"]).fit_transform(data)\n",
    "\n",
    "data[\"kurtosis_oxygen\"].plot(kind=\"hist\")"
   ]
  },
  {
   "cell_type": "markdown",
   "metadata": {},
   "source": [
    "### std"
   ]
  },
  {
   "cell_type": "code",
   "execution_count": 88,
   "metadata": {
    "pycharm": {
     "is_executing": false
    }
   },
   "outputs": [
    {
     "data": {
      "text/plain": [
       "1"
      ]
     },
     "execution_count": 88,
     "metadata": {},
     "output_type": "execute_result"
    }
   ],
   "source": [
    "data[\"std_oxygen\"].isnull().sum()"
   ]
  },
  {
   "cell_type": "code",
   "execution_count": 89,
   "metadata": {},
   "outputs": [],
   "source": [
    "data=AvgSegmentFiller(\"std_oxygen\").fit_transform(data)\n"
   ]
  },
  {
   "cell_type": "code",
   "execution_count": 90,
   "metadata": {
    "pycharm": {
     "is_executing": false
    }
   },
   "outputs": [
    {
     "data": {
      "text/plain": [
       "count    3933.000000\n",
       "mean       31.157629\n",
       "std        22.266751\n",
       "min         7.370432\n",
       "25%        15.040684\n",
       "50%        20.567593\n",
       "75%        43.221350\n",
       "max       110.642211\n",
       "Name: std_oxygen, dtype: float64"
      ]
     },
     "execution_count": 90,
     "metadata": {},
     "output_type": "execute_result"
    },
    {
     "data": {
      "image/png": "[encoded data removed]",
      "text/plain": [
       "<Figure size 432x288 with 1 Axes>"
      ]
     },
     "metadata": {
      "needs_background": "light"
     },
     "output_type": "display_data"
    }
   ],
   "source": [
    "data[\"std_oxygen\"].plot(kind=\"hist\")\n",
    "data[\"std_oxygen\"].describe()"
   ]
  },
  {
   "cell_type": "code",
   "execution_count": 91,
   "metadata": {
    "pycharm": {
     "is_executing": false
    }
   },
   "outputs": [
    {
     "data": {
      "text/plain": [
       "<matplotlib.axes._subplots.AxesSubplot at 0x19123f3f6a0>"
      ]
     },
     "execution_count": 91,
     "metadata": {},
     "output_type": "execute_result"
    },
    {
     "data": {
      "image/png": "[encoded data removed]",
      "text/plain": [
       "<Figure size 432x288 with 1 Axes>"
      ]
     },
     "metadata": {
      "needs_background": "light"
     },
     "output_type": "display_data"
    }
   ],
   "source": [
    "sns.boxplot('std_oxygen', data=data)"
   ]
  },
  {
   "cell_type": "code",
   "execution_count": 92,
   "metadata": {
    "pycharm": {
     "is_executing": false
    }
   },
   "outputs": [
    {
     "data": {
      "text/plain": [
       "<matplotlib.axes._subplots.AxesSubplot at 0x19123f03a90>"
      ]
     },
     "execution_count": 92,
     "metadata": {},
     "output_type": "execute_result"
    },
    {
     "data": {
      "image/png": "[encoded data removed]",
      "text/plain": [
       "<Figure size 432x288 with 1 Axes>"
      ]
     },
     "metadata": {
      "needs_background": "light"
     },
     "output_type": "display_data"
    }
   ],
   "source": [
    "data=LogTransformer(\"std_oxygen\").fit_transform(data)\n",
    "data[\"std_oxygen\"].plot(kind=\"hist\")"
   ]
  },
  {
   "cell_type": "code",
   "execution_count": 93,
   "metadata": {},
   "outputs": [
    {
     "data": {
      "text/html": [
       "<div>\n",
       "<style scoped>\n",
       "    .dataframe tbody tr th:only-of-type {\n",
       "        vertical-align: middle;\n",
       "    }\n",
       "\n",
       "    .dataframe tbody tr th {\n",
       "        vertical-align: top;\n",
       "    }\n",
       "\n",
       "    .dataframe thead th {\n",
       "        text-align: right;\n",
       "    }\n",
       "</style>\n",
       "<table border=\"1\" class=\"dataframe\">\n",
       "  <thead>\n",
       "    <tr style=\"text-align: right;\">\n",
       "      <th></th>\n",
       "      <th>state</th>\n",
       "      <th>age</th>\n",
       "      <th>male</th>\n",
       "      <th>birth_month</th>\n",
       "      <th>race</th>\n",
       "      <th>marital_status</th>\n",
       "      <th>occupation</th>\n",
       "      <th>pregnant</th>\n",
       "      <th>relationship</th>\n",
       "      <th>skewness_glucose</th>\n",
       "      <th>mean_glucose</th>\n",
       "      <th>capital</th>\n",
       "      <th>kurtosis_glucose</th>\n",
       "      <th>education</th>\n",
       "      <th>fnlwgt</th>\n",
       "      <th>class</th>\n",
       "      <th>std_glucose</th>\n",
       "      <th>income_over_fifty</th>\n",
       "      <th>native_country</th>\n",
       "      <th>hours_per_week</th>\n",
       "      <th>workclass</th>\n",
       "      <th>mean_oxygen</th>\n",
       "      <th>std_oxygen</th>\n",
       "      <th>kurtosis_oxygen</th>\n",
       "      <th>skewness_oxygen</th>\n",
       "    </tr>\n",
       "  </thead>\n",
       "  <tbody>\n",
       "    <tr>\n",
       "      <th>0</th>\n",
       "      <td>OH</td>\n",
       "      <td>58.0</td>\n",
       "      <td>1.0</td>\n",
       "      <td>3.0</td>\n",
       "      <td>White</td>\n",
       "      <td>Never-married</td>\n",
       "      <td>Other-service</td>\n",
       "      <td>0.0</td>\n",
       "      <td>Not-in-family</td>\n",
       "      <td>-0.463424</td>\n",
       "      <td>119.242188</td>\n",
       "      <td>0.0</td>\n",
       "      <td>0.012622</td>\n",
       "      <td>9.0</td>\n",
       "      <td>321896.0</td>\n",
       "      <td>0.0</td>\n",
       "      <td>49.065286</td>\n",
       "      <td>0.0</td>\n",
       "      <td>United-States</td>\n",
       "      <td>4.0</td>\n",
       "      <td>Private</td>\n",
       "      <td>1.456315</td>\n",
       "      <td>2.928826</td>\n",
       "      <td>8.293978</td>\n",
       "      <td>4.346820</td>\n",
       "    </tr>\n",
       "    <tr>\n",
       "      <th>1</th>\n",
       "      <td>IN</td>\n",
       "      <td>57.0</td>\n",
       "      <td>0.0</td>\n",
       "      <td>11.0</td>\n",
       "      <td>Amer-Indian-Eskimo</td>\n",
       "      <td>Previously_married</td>\n",
       "      <td>Exec-managerial</td>\n",
       "      <td>0.0</td>\n",
       "      <td>Own-child</td>\n",
       "      <td>1.338272</td>\n",
       "      <td>82.070312</td>\n",
       "      <td>0.0</td>\n",
       "      <td>0.860951</td>\n",
       "      <td>11.0</td>\n",
       "      <td>134220.0</td>\n",
       "      <td>0.0</td>\n",
       "      <td>38.530261</td>\n",
       "      <td>0.0</td>\n",
       "      <td>United-States</td>\n",
       "      <td>4.0</td>\n",
       "      <td>Private</td>\n",
       "      <td>0.840839</td>\n",
       "      <td>2.298236</td>\n",
       "      <td>15.240830</td>\n",
       "      <td>7.773285</td>\n",
       "    </tr>\n",
       "    <tr>\n",
       "      <th>2</th>\n",
       "      <td>CO</td>\n",
       "      <td>59.0</td>\n",
       "      <td>1.0</td>\n",
       "      <td>12.0</td>\n",
       "      <td>White</td>\n",
       "      <td>Married</td>\n",
       "      <td>Adm-clerical</td>\n",
       "      <td>0.0</td>\n",
       "      <td>Spouse</td>\n",
       "      <td>1.686564</td>\n",
       "      <td>78.218750</td>\n",
       "      <td>0.0</td>\n",
       "      <td>1.540387</td>\n",
       "      <td>9.0</td>\n",
       "      <td>39564.2</td>\n",
       "      <td>1.0</td>\n",
       "      <td>40.637871</td>\n",
       "      <td>1.0</td>\n",
       "      <td>United-States</td>\n",
       "      <td>4.0</td>\n",
       "      <td>Federal-gov</td>\n",
       "      <td>2.765499</td>\n",
       "      <td>4.006216</td>\n",
       "      <td>2.492557</td>\n",
       "      <td>1.691896</td>\n",
       "    </tr>\n",
       "    <tr>\n",
       "      <th>3</th>\n",
       "      <td>CA</td>\n",
       "      <td>66.0</td>\n",
       "      <td>0.0</td>\n",
       "      <td>3.0</td>\n",
       "      <td>White</td>\n",
       "      <td>Married</td>\n",
       "      <td>Other-service</td>\n",
       "      <td>0.0</td>\n",
       "      <td>Spouse</td>\n",
       "      <td>2.236314</td>\n",
       "      <td>61.718750</td>\n",
       "      <td>0.0</td>\n",
       "      <td>2.266661</td>\n",
       "      <td>13.0</td>\n",
       "      <td>159442.0</td>\n",
       "      <td>1.0</td>\n",
       "      <td>32.301543</td>\n",
       "      <td>0.0</td>\n",
       "      <td>United-States</td>\n",
       "      <td>4.0</td>\n",
       "      <td>Private</td>\n",
       "      <td>2.452388</td>\n",
       "      <td>3.856827</td>\n",
       "      <td>3.201232</td>\n",
       "      <td>2.086822</td>\n",
       "    </tr>\n",
       "    <tr>\n",
       "      <th>4</th>\n",
       "      <td>CO</td>\n",
       "      <td>64.0</td>\n",
       "      <td>1.0</td>\n",
       "      <td>12.0</td>\n",
       "      <td>White</td>\n",
       "      <td>Never-married</td>\n",
       "      <td>Other-service</td>\n",
       "      <td>0.0</td>\n",
       "      <td>Own-child</td>\n",
       "      <td>3.029901</td>\n",
       "      <td>27.017188</td>\n",
       "      <td>0.0</td>\n",
       "      <td>5.028178</td>\n",
       "      <td>10.0</td>\n",
       "      <td>219211.0</td>\n",
       "      <td>1.0</td>\n",
       "      <td>35.907555</td>\n",
       "      <td>0.0</td>\n",
       "      <td>United-States</td>\n",
       "      <td>2.0</td>\n",
       "      <td>Private</td>\n",
       "      <td>5.052567</td>\n",
       "      <td>4.204027</td>\n",
       "      <td>0.202820</td>\n",
       "      <td>-0.841347</td>\n",
       "    </tr>\n",
       "  </tbody>\n",
       "</table>\n",
       "</div>"
      ],
      "text/plain": [
       "  state   age  male  birth_month                race      marital_status  \\\n",
       "0    OH  58.0   1.0          3.0               White       Never-married   \n",
       "1    IN  57.0   0.0         11.0  Amer-Indian-Eskimo  Previously_married   \n",
       "2    CO  59.0   1.0         12.0               White             Married   \n",
       "3    CA  66.0   0.0          3.0               White             Married   \n",
       "4    CO  64.0   1.0         12.0               White       Never-married   \n",
       "\n",
       "        occupation  pregnant   relationship  skewness_glucose  mean_glucose  \\\n",
       "0    Other-service       0.0  Not-in-family         -0.463424    119.242188   \n",
       "1  Exec-managerial       0.0      Own-child          1.338272     82.070312   \n",
       "2     Adm-clerical       0.0         Spouse          1.686564     78.218750   \n",
       "3    Other-service       0.0         Spouse          2.236314     61.718750   \n",
       "4    Other-service       0.0      Own-child          3.029901     27.017188   \n",
       "\n",
       "   capital  kurtosis_glucose  education    fnlwgt  class  std_glucose  \\\n",
       "0      0.0          0.012622        9.0  321896.0    0.0    49.065286   \n",
       "1      0.0          0.860951       11.0  134220.0    0.0    38.530261   \n",
       "2      0.0          1.540387        9.0   39564.2    1.0    40.637871   \n",
       "3      0.0          2.266661       13.0  159442.0    1.0    32.301543   \n",
       "4      0.0          5.028178       10.0  219211.0    1.0    35.907555   \n",
       "\n",
       "   income_over_fifty native_country  hours_per_week    workclass  mean_oxygen  \\\n",
       "0                0.0  United-States             4.0      Private     1.456315   \n",
       "1                0.0  United-States             4.0      Private     0.840839   \n",
       "2                1.0  United-States             4.0  Federal-gov     2.765499   \n",
       "3                0.0  United-States             4.0      Private     2.452388   \n",
       "4                0.0  United-States             2.0      Private     5.052567   \n",
       "\n",
       "   std_oxygen  kurtosis_oxygen  skewness_oxygen  \n",
       "0    2.928826         8.293978         4.346820  \n",
       "1    2.298236        15.240830         7.773285  \n",
       "2    4.006216         2.492557         1.691896  \n",
       "3    3.856827         3.201232         2.086822  \n",
       "4    4.204027         0.202820        -0.841347  "
      ]
     },
     "execution_count": 93,
     "metadata": {},
     "output_type": "execute_result"
    }
   ],
   "source": [
    "data.head()"
   ]
  },
  {
   "cell_type": "markdown",
   "metadata": {},
   "source": [
    "## Odtránenie prázdnych hodnôt v class"
   ]
  },
  {
   "cell_type": "code",
   "execution_count": 94,
   "metadata": {},
   "outputs": [],
   "source": [
    "class EmptyClassDropper(TransformerMixin):\n",
    "    \n",
    "    def __init__(self, col=\"class\"):\n",
    "        self.col = col\n",
    "        \n",
    "    def fit(self,df,y=None):\n",
    "        return self\n",
    "        \n",
    "    def transform(self,df,y=None):\n",
    "        df = df.copy()\n",
    "        df = df[pd.notnull(df[self.col])]  \n",
    "        return df\n",
    "    \n",
    "data=EmptyClassDropper().fit_transform(data)"
   ]
  },
  {
   "cell_type": "markdown",
   "metadata": {},
   "source": [
    "Ak by sme mali prázdnu hodnotu v atribúte class, odstránime celý záznam."
   ]
  },
  {
   "cell_type": "code",
   "execution_count": 95,
   "metadata": {
    "pycharm": {
     "is_executing": false
    }
   },
   "outputs": [
    {
     "name": "stdout",
     "output_type": "stream",
     "text": [
      "<class 'pandas.core.frame.DataFrame'>\n",
      "Int64Index: 3933 entries, 0 to 3932\n",
      "Data columns (total 25 columns):\n",
      "state                3933 non-null object\n",
      "age                  3933 non-null float64\n",
      "male                 3933 non-null float64\n",
      "birth_month          3933 non-null float64\n",
      "race                 3933 non-null object\n",
      "marital_status       3933 non-null object\n",
      "occupation           3933 non-null object\n",
      "pregnant             3933 non-null float64\n",
      "relationship         3933 non-null object\n",
      "skewness_glucose     3933 non-null float64\n",
      "mean_glucose         3933 non-null float64\n",
      "capital              3933 non-null float64\n",
      "kurtosis_glucose     3933 non-null float64\n",
      "education            3933 non-null float64\n",
      "fnlwgt               3933 non-null float64\n",
      "class                3933 non-null float64\n",
      "std_glucose          3933 non-null float64\n",
      "income_over_fifty    3933 non-null float64\n",
      "native_country       3933 non-null object\n",
      "hours_per_week       3933 non-null float64\n",
      "workclass            3933 non-null object\n",
      "mean_oxygen          3933 non-null float64\n",
      "std_oxygen           3933 non-null float64\n",
      "kurtosis_oxygen      3933 non-null float64\n",
      "skewness_oxygen      3933 non-null float64\n",
      "dtypes: float64(18), object(7)\n",
      "memory usage: 798.9+ KB\n"
     ]
    }
   ],
   "source": [
    "data.info()"
   ]
  },
  {
   "cell_type": "markdown",
   "metadata": {},
   "source": [
    "Vidíme že nemáme chýbajúce hodnoty v žiadnom stĺpci."
   ]
  },
  {
   "cell_type": "code",
   "execution_count": 96,
   "metadata": {},
   "outputs": [],
   "source": [
    "data.to_csv(\"data\\preprocessed.csv\", encoding='utf-8', index=False)"
   ]
  },
  {
   "cell_type": "markdown",
   "metadata": {},
   "source": [
    "Dataset si môžeme uložiť do nového súboru."
   ]
  },
  {
   "cell_type": "markdown",
   "metadata": {},
   "source": [
    "# Znovupoužitelnosť predspracovania\n",
    "\n",
    "Vytvorili sme si triedy s funkciami fit a transform, tak aby boli pripravené na vybudovanie pipeline na spracovanie datasetov v rôznych fázach. Napríklad sa nám vo fit() nastavia hodnoty na trénovaciom datasete a transform() môžeme ďalej použiť na všetky datasety. Tiež sme pripravení na niektoré prípady ktoré sa v aktuálnom datasete nenachádzali napríklad odstránenie záznamov s prrázdnym atribútom class alebo funkcie na doplnenie prázndych hodnôt fungujú aj pre atribúty kde nám v aktuálnom datasete žiadne nechýbali."
   ]
  },
  {
   "cell_type": "markdown",
   "metadata": {},
   "source": [
    "# Opätovná realizácia podstatných častí prieskumnej analýzy\n",
    "\n",
    "\n",
    "V tejto časti sa zameriame najmä na atribúty, ktoré sú pre nás nové (agregované hodnoty kyslíka, birth_month) alebo tie, ktoré sme zmenili radikálnejším spôsobom (education). Ďalej si zobrazíme heatmapu aj s novými atribútmi a zanalyzujeme nove korelácie."
   ]
  },
  {
   "cell_type": "markdown",
   "metadata": {},
   "source": [
    "### education"
   ]
  },
  {
   "cell_type": "code",
   "execution_count": 97,
   "metadata": {},
   "outputs": [
    {
     "data": {
      "text/plain": [
       "9.0     1261\n",
       "10.0     904\n",
       "13.0     657\n",
       "14.0     207\n",
       "11.0     151\n",
       "12.0     135\n",
       "7.0      122\n",
       "6.0      113\n",
       "4.0       92\n",
       "15.0      68\n",
       "5.0       63\n",
       "8.0       47\n",
       "16.0      45\n",
       "3.0       45\n",
       "2.0       13\n",
       "1.0       10\n",
       "Name: education, dtype: int64"
      ]
     },
     "execution_count": 97,
     "metadata": {},
     "output_type": "execute_result"
    },
    {
     "data": {
      "image/png": "[encoded data removed]",
      "text/plain": [
       "<Figure size 1080x720 with 1 Axes>"
      ]
     },
     "metadata": {},
     "output_type": "display_data"
    }
   ],
   "source": [
    "data[\"education\"].value_counts().plot(kind='pie', figsize=(15,10))\n",
    "data[\"education\"].value_counts(dropna=False)\n"
   ]
  },
  {
   "cell_type": "markdown",
   "metadata": {},
   "source": [
    "## Agregované hodnoty kyslíka\n",
    "\n",
    "s týmito hodnotami sme už pracovali, chýbajúce údaje sme nahradili buď priemerom alebo priemerom zo segmentu (rovnaká veková skupina).\n",
    "Tieto atribúty sú už bez outlierov, buď sme ich nahradili percentilom alebo pretransformovali podľa tretej odmocniny, resp. logaritmu.\n",
    "\n",
    "### skewness"
   ]
  },
  {
   "cell_type": "code",
   "execution_count": 98,
   "metadata": {},
   "outputs": [
    {
     "data": {
      "image/png": "[encoded data removed]",
      "text/plain": [
       "<Figure size 432x288 with 1 Axes>"
      ]
     },
     "metadata": {
      "needs_background": "light"
     },
     "output_type": "display_data"
    }
   ],
   "source": [
    "data[\"skewness_oxygen\"].value_counts(dropna=False)\n",
    "skew = data[\"skewness_oxygen\"].fillna(axis=0, method='ffill')\n",
    "ax = sns.distplot(skew,bins=50)"
   ]
  },
  {
   "cell_type": "code",
   "execution_count": 99,
   "metadata": {},
   "outputs": [
    {
     "data": {
      "text/plain": [
       "count    3933.000000\n",
       "mean        3.599601\n",
       "std         2.155236\n",
       "min        -1.255068\n",
       "25%         2.343269\n",
       "50%         4.091445\n",
       "75%         5.026684\n",
       "max        10.599955\n",
       "Name: skewness_oxygen, dtype: float64"
      ]
     },
     "execution_count": 99,
     "metadata": {},
     "output_type": "execute_result"
    }
   ],
   "source": [
    "data[\"skewness_oxygen\"].describe()"
   ]
  },
  {
   "cell_type": "markdown",
   "metadata": {},
   "source": [
    "Vidíme, ze najviac hodnôt sa hýbe okolo 4, maximum je nad 10 a minimum je v cca -1.\n",
    "\n",
    "### mean"
   ]
  },
  {
   "cell_type": "code",
   "execution_count": 100,
   "metadata": {},
   "outputs": [
    {
     "data": {
      "image/png": "[encoded data removed]",
      "text/plain": [
       "<Figure size 432x288 with 1 Axes>"
      ]
     },
     "metadata": {
      "needs_background": "light"
     },
     "output_type": "display_data"
    }
   ],
   "source": [
    "data[\"mean_oxygen\"].value_counts(dropna=False)\n",
    "skew = data[\"mean_oxygen\"].fillna(axis=0, method='ffill')\n",
    "ax = sns.distplot(skew,bins=50)"
   ]
  },
  {
   "cell_type": "code",
   "execution_count": 101,
   "metadata": {},
   "outputs": [
    {
     "data": {
      "text/plain": [
       "count    3933.000000\n",
       "mean        2.007715\n",
       "std         1.155703\n",
       "min         0.597406\n",
       "25%         1.273470\n",
       "50%         1.479213\n",
       "75%         2.329917\n",
       "max         6.012670\n",
       "Name: mean_oxygen, dtype: float64"
      ]
     },
     "execution_count": 101,
     "metadata": {},
     "output_type": "execute_result"
    }
   ],
   "source": [
    "data[\"mean_oxygen\"].describe()"
   ]
  },
  {
   "cell_type": "markdown",
   "metadata": {},
   "source": [
    "Tu vidíme, ze atribút je po transformácií v peknom longtail rozdelení, s mediánom 1,4.\n",
    "\n",
    "### kurtosis"
   ]
  },
  {
   "cell_type": "code",
   "execution_count": 102,
   "metadata": {},
   "outputs": [
    {
     "data": {
      "image/png": "[encoded data removed]",
      "text/plain": [
       "<Figure size 432x288 with 1 Axes>"
      ]
     },
     "metadata": {
      "needs_background": "light"
     },
     "output_type": "display_data"
    }
   ],
   "source": [
    "data[\"kurtosis_oxygen\"].value_counts(dropna=False)\n",
    "\n",
    "ax = sns.distplot(data[\"kurtosis_oxygen\"],bins=50)"
   ]
  },
  {
   "cell_type": "code",
   "execution_count": 103,
   "metadata": {},
   "outputs": [
    {
     "data": {
      "text/plain": [
       "count    3933.000000\n",
       "mean        7.261150\n",
       "std         4.285676\n",
       "min         0.202820\n",
       "25%         3.637833\n",
       "50%         7.781618\n",
       "75%        10.261581\n",
       "max        15.240830\n",
       "Name: kurtosis_oxygen, dtype: float64"
      ]
     },
     "execution_count": 103,
     "metadata": {},
     "output_type": "execute_result"
    },
    {
     "data": {
      "image/png": "[encoded data removed]",
      "text/plain": [
       "<Figure size 432x288 with 1 Axes>"
      ]
     },
     "metadata": {
      "needs_background": "light"
     },
     "output_type": "display_data"
    }
   ],
   "source": [
    "data[\"kurtosis_oxygen\"].plot(kind=\"hist\")\n",
    "data[\"kurtosis_oxygen\"].describe()"
   ]
  },
  {
   "cell_type": "markdown",
   "metadata": {},
   "source": [
    "Na základe týchto grafov je možné vidieť, ze najviac hodnôt je okolo 8-10.\n",
    "\n",
    "### std"
   ]
  },
  {
   "cell_type": "code",
   "execution_count": 104,
   "metadata": {},
   "outputs": [
    {
     "data": {
      "text/plain": [
       "count    3933.000000\n",
       "mean        3.219942\n",
       "std         0.639657\n",
       "min         1.997476\n",
       "25%         2.710759\n",
       "50%         3.023717\n",
       "75%         3.766335\n",
       "max         4.706302\n",
       "Name: std_oxygen, dtype: float64"
      ]
     },
     "execution_count": 104,
     "metadata": {},
     "output_type": "execute_result"
    },
    {
     "data": {
      "image/png": "[encoded data removed]",
      "text/plain": [
       "<Figure size 432x288 with 1 Axes>"
      ]
     },
     "metadata": {
      "needs_background": "light"
     },
     "output_type": "display_data"
    }
   ],
   "source": [
    "ax = sns.distplot(data[\"std_oxygen\"],bins=50)\n",
    "data[\"std_oxygen\"].describe()"
   ]
  },
  {
   "cell_type": "markdown",
   "metadata": {},
   "source": [
    "Tu vidíme, ze veľa hodnôt je medzi 2.5 a 3 a potom menší vrchol je medzi 4 a 4.5.\n",
    "\n",
    "## birth_month"
   ]
  },
  {
   "cell_type": "code",
   "execution_count": 105,
   "metadata": {},
   "outputs": [
    {
     "data": {
      "text/plain": [
       "12.0    362\n",
       "5.0     356\n",
       "4.0     339\n",
       "11.0    338\n",
       "9.0     334\n",
       "6.0     330\n",
       "3.0     328\n",
       "10.0    324\n",
       "7.0     319\n",
       "8.0     315\n",
       "1.0     309\n",
       "2.0     279\n",
       "Name: birth_month, dtype: int64"
      ]
     },
     "execution_count": 105,
     "metadata": {},
     "output_type": "execute_result"
    },
    {
     "data": {
      "image/png": "[encoded data removed]",
      "text/plain": [
       "<Figure size 720x576 with 1 Axes>"
      ]
     },
     "metadata": {
      "needs_background": "light"
     },
     "output_type": "display_data"
    }
   ],
   "source": [
    "data[\"birth_month\"].value_counts().plot(kind='bar', figsize=(10,8))\n",
    "data[\"birth_month\"].value_counts(dropna=False)"
   ]
  },
  {
   "cell_type": "markdown",
   "metadata": {},
   "source": [
    "Vidíme, že ľudia sú prevažne narovnako rozdelení do každého mesiaca roka."
   ]
  },
  {
   "cell_type": "code",
   "execution_count": 106,
   "metadata": {},
   "outputs": [
    {
     "data": {
      "text/plain": [
       "<matplotlib.axes._subplots.AxesSubplot at 0x19123affcf8>"
      ]
     },
     "execution_count": 106,
     "metadata": {},
     "output_type": "execute_result"
    },
    {
     "data": {
      "image/png": "[encoded data removed]",
      "text/plain": [
       "<Figure size 720x576 with 2 Axes>"
      ]
     },
     "metadata": {
      "needs_background": "light"
     },
     "output_type": "display_data"
    }
   ],
   "source": [
    "fig, ax = plt.subplots(figsize=(10,8))\n",
    "sns.heatmap(data[['skewness_glucose', 'mean_glucose','kurtosis_glucose','std_glucose','skewness_oxygen', 'mean_oxygen','kurtosis_oxygen','std_oxygen','class','fnlwgt']].corr(), ax=ax, annot=True, fmt=\".3f\")"
   ]
  },
  {
   "cell_type": "markdown",
   "metadata": {},
   "source": [
    "Na heatmape zobrazujeme, len medicínske atribúty (hodnoty kyslíka a cukru), keďže heatmapa z prvej etapy nám ukázala, že ostatné atribúty nemajú takmer žiadny vplyv. vid. heat mapa pod touto bunkou.\n",
    "Pri pohľade na tuto heatmapu je zrejme, že agregované hodnoty kyslíka môžu slúžiť ako prediktory pre atribút class a v porovnaní s hodnotami cukru sú spôsoby korelácie presne opačné (v hodnotách cukru majú priamu úmeru skewness a kurtosis a nepriamu mean a std a v hodnotách kyslíka je to naopak).\n",
    "\n",
    "\n",
    "Heatmapa z prvej etapy, kde vidno, že ostatné nami zvolené atribúty majú zanedbateľný vplyv:"
   ]
  },
  {
   "cell_type": "code",
   "execution_count": 107,
   "metadata": {},
   "outputs": [
    {
     "data": {
      "text/plain": [
       "<matplotlib.axes._subplots.AxesSubplot at 0x19125c1d208>"
      ]
     },
     "execution_count": 107,
     "metadata": {},
     "output_type": "execute_result"
    },
    {
     "data": {
      "image/png": "[encoded data removed]",
      "text/plain": [
       "<Figure size 720x576 with 2 Axes>"
      ]
     },
     "metadata": {
      "needs_background": "light"
     },
     "output_type": "display_data"
    }
   ],
   "source": [
    "fig, ax = plt.subplots(figsize=(10,8))\n",
    "sns.heatmap(data[['skewness_glucose', 'mean_glucose','kurtosis_glucose','std_glucose','class','capital','hours_per_week','fnlwgt']].corr(), ax=ax, annot=True, fmt=\".3f\")"
   ]
  },
  {
   "cell_type": "markdown",
   "metadata": {},
   "source": [
    "## hours_per_week\n",
    "\n",
    "Tento atribút sme v predspracovanie zmenili tak, ze sme združili do pacientov do skupín pod desiatkach odpracovaných hodín (0-9, 10-19,20-29,30-39,...)\n",
    "\n",
    "Na grafe nižšie je vidieť, ze najviac ludi pracuje od 30 do 39 týždenne."
   ]
  },
  {
   "cell_type": "code",
   "execution_count": 108,
   "metadata": {
    "scrolled": false
   },
   "outputs": [
    {
     "data": {
      "text/plain": [
       "4.0    2225\n",
       "5.0     465\n",
       "3.0     434\n",
       "2.0     287\n",
       "6.0     221\n",
       "1.0     167\n",
       "0.0      57\n",
       "7.0      53\n",
       "9.0      13\n",
       "8.0      11\n",
       "Name: hours_per_week, dtype: int64"
      ]
     },
     "execution_count": 108,
     "metadata": {},
     "output_type": "execute_result"
    },
    {
     "data": {
      "image/png": "[encoded data removed]",
      "text/plain": [
       "<Figure size 720x576 with 1 Axes>"
      ]
     },
     "metadata": {
      "needs_background": "light"
     },
     "output_type": "display_data"
    }
   ],
   "source": [
    "data[\"hours_per_week\"].value_counts().plot(kind='bar', figsize=(10,8))\n",
    "data[\"hours_per_week\"].value_counts(dropna=False)"
   ]
  }
 ],
 "metadata": {
  "kernelspec": {
   "display_name": "Python 3",
   "language": "python",
   "name": "python3"
  },
  "language_info": {
   "codemirror_mode": {
    "name": "ipython",
    "version": 3
   },
   "file_extension": ".py",
   "mimetype": "text/x-python",
   "name": "python",
   "nbconvert_exporter": "python",
   "pygments_lexer": "ipython3",
   "version": "3.7.3"
  },
  "pycharm": {
   "stem_cell": {
    "cell_type": "raw",
    "metadata": {
     "collapsed": false
    },
    "source": []
   }
  }
 },
 "nbformat": 4,
 "nbformat_minor": 1
}
