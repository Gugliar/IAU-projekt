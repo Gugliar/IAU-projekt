{
 "cells": [
  {
   "cell_type": "markdown",
   "metadata": {},
   "source": [
    "# Inteligentná analýza údajov 2019/2020 - Projekt\n",
    "## Ondrej Jedinák, František Tibenský"
   ]
  },
  {
   "cell_type": "code",
   "execution_count": 1,
   "metadata": {
    "pycharm": {
     "is_executing": false
    }
   },
   "outputs": [],
   "source": [
    "import pandas as pd\n",
    "import matplotlib as mpl\n",
    "import seaborn as sns\n",
    "import statsmodels.api as sm\n",
    "import statsmodels.stats.api as sms\n",
    "import scipy.stats as stats\n",
    "import numpy as np\n",
    "\n",
    "from sklearn import preprocessing\n",
    "from IPython.display import display\n",
    "\n",
    "pd.options.display.max_colwidth=100\n",
    "pd.set_option(\"display.max_columns\", None)\n",
    "\n",
    "personal_data = pd.read_csv(\"data/personal_train.csv\", index_col=0)\n",
    "data = pd.read_csv(\"data/other_train.csv\", index_col=0)"
   ]
  },
  {
   "cell_type": "markdown",
   "metadata": {},
   "source": [
    "# Dataset personal_train.csv"
   ]
  },
  {
   "cell_type": "code",
   "execution_count": 2,
   "metadata": {
    "pycharm": {
     "is_executing": false
    }
   },
   "outputs": [
    {
     "data": {
      "text/plain": "              name                                              address  age  \\\n0  Roscoe Bohannon  7183 Osborne Ways Apt. 651\\r\\nEast Andrew, OH 53211   58   \n1     Ernest Kline  391 Ball Road Suite 961\\r\\nFlowersborough, IN 57550   56   \n2  Harold Hendriks       8702 Vincent Square\\r\\nNew Jerryfurt, CO 30614   59   \n\n       sex date_of_birth  \n0     Male    1961-03-11  \n1   Female    1962/11/20  \n2     Male    11/12/1959  ",
      "text/html": "<div>\n<style scoped>\n    .dataframe tbody tr th:only-of-type {\n        vertical-align: middle;\n    }\n\n    .dataframe tbody tr th {\n        vertical-align: top;\n    }\n\n    .dataframe thead th {\n        text-align: right;\n    }\n</style>\n<table border=\"1\" class=\"dataframe\">\n  <thead>\n    <tr style=\"text-align: right;\">\n      <th></th>\n      <th>name</th>\n      <th>address</th>\n      <th>age</th>\n      <th>sex</th>\n      <th>date_of_birth</th>\n    </tr>\n  </thead>\n  <tbody>\n    <tr>\n      <th>0</th>\n      <td>Roscoe Bohannon</td>\n      <td>7183 Osborne Ways Apt. 651\\r\\nEast Andrew, OH 53211</td>\n      <td>58</td>\n      <td>Male</td>\n      <td>1961-03-11</td>\n    </tr>\n    <tr>\n      <th>1</th>\n      <td>Ernest Kline</td>\n      <td>391 Ball Road Suite 961\\r\\nFlowersborough, IN 57550</td>\n      <td>56</td>\n      <td>Female</td>\n      <td>1962/11/20</td>\n    </tr>\n    <tr>\n      <th>2</th>\n      <td>Harold Hendriks</td>\n      <td>8702 Vincent Square\\r\\nNew Jerryfurt, CO 30614</td>\n      <td>59</td>\n      <td>Male</td>\n      <td>11/12/1959</td>\n    </tr>\n  </tbody>\n</table>\n</div>"
     },
     "metadata": {},
     "output_type": "display_data"
    },
    {
     "name": "stdout",
     "text": [
      "<class 'pandas.core.frame.DataFrame'>\nInt64Index: 3933 entries, 0 to 3932\nData columns (total 5 columns):\nname             3933 non-null object\naddress          3933 non-null object\nage              3933 non-null int64\nsex              3933 non-null object\ndate_of_birth    3933 non-null object\ndtypes: int64(1), object(4)\nmemory usage: 184.4+ KB\n"
     ],
     "output_type": "stream"
    },
    {
     "data": {
      "text/plain": "None"
     },
     "metadata": {},
     "output_type": "display_data"
    },
    {
     "data": {
      "text/plain": "'Spolu tabuľka obsahuje 3933 záznamov.'"
     },
     "metadata": {},
     "output_type": "execute_result",
     "execution_count": 2
    }
   ],
   "source": [
    "display(personal_data.head(3))\n",
    "display(personal_data.info())\n",
    "\"Spolu tabuľka obsahuje \"+str(len(personal_data))+\" záznamov.\""
   ]
  },
  {
   "cell_type": "markdown",
   "metadata": {},
   "source": [
    "V prvej tabuľke sa nachádzajú základné údaje o osobách, konkrétne:\n",
    "- meno (name)\n",
    "- adresa (address)\n",
    "- vek (age)\n",
    "- pohlavie (sex)\n",
    "- dátum narodenia (date_of_birth)"
   ]
  },
  {
   "cell_type": "code",
   "execution_count": 3,
   "metadata": {
    "pycharm": {
     "is_executing": false
    }
   },
   "outputs": [
    {
     "data": {
      "text/plain": "                name                                              address  \\\ncount           3933                                                 3933   \nunique          3933                                                 3933   \ntop     Brian Ledoux  332 Hayden Canyon Suite 033\\r\\nSummerview, AZ 03379   \nfreq               1                                                    1   \n\n          sex date_of_birth  \ncount    3933          3933  \nunique      2          3712  \ntop      Male    1970-08-18  \nfreq     2579             4  ",
      "text/html": "<div>\n<style scoped>\n    .dataframe tbody tr th:only-of-type {\n        vertical-align: middle;\n    }\n\n    .dataframe tbody tr th {\n        vertical-align: top;\n    }\n\n    .dataframe thead th {\n        text-align: right;\n    }\n</style>\n<table border=\"1\" class=\"dataframe\">\n  <thead>\n    <tr style=\"text-align: right;\">\n      <th></th>\n      <th>name</th>\n      <th>address</th>\n      <th>sex</th>\n      <th>date_of_birth</th>\n    </tr>\n  </thead>\n  <tbody>\n    <tr>\n      <th>count</th>\n      <td>3933</td>\n      <td>3933</td>\n      <td>3933</td>\n      <td>3933</td>\n    </tr>\n    <tr>\n      <th>unique</th>\n      <td>3933</td>\n      <td>3933</td>\n      <td>2</td>\n      <td>3712</td>\n    </tr>\n    <tr>\n      <th>top</th>\n      <td>Brian Ledoux</td>\n      <td>332 Hayden Canyon Suite 033\\r\\nSummerview, AZ 03379</td>\n      <td>Male</td>\n      <td>1970-08-18</td>\n    </tr>\n    <tr>\n      <th>freq</th>\n      <td>1</td>\n      <td>1</td>\n      <td>2579</td>\n      <td>4</td>\n    </tr>\n  </tbody>\n</table>\n</div>"
     },
     "metadata": {},
     "output_type": "display_data"
    },
    {
     "data": {
      "text/plain": "               age\ncount  3933.000000\nmean     51.816934\nstd      11.814803\nmin      -1.000000\n25%      44.000000\n50%      52.000000\n75%      60.000000\nmax     113.000000",
      "text/html": "<div>\n<style scoped>\n    .dataframe tbody tr th:only-of-type {\n        vertical-align: middle;\n    }\n\n    .dataframe tbody tr th {\n        vertical-align: top;\n    }\n\n    .dataframe thead th {\n        text-align: right;\n    }\n</style>\n<table border=\"1\" class=\"dataframe\">\n  <thead>\n    <tr style=\"text-align: right;\">\n      <th></th>\n      <th>age</th>\n    </tr>\n  </thead>\n  <tbody>\n    <tr>\n      <th>count</th>\n      <td>3933.000000</td>\n    </tr>\n    <tr>\n      <th>mean</th>\n      <td>51.816934</td>\n    </tr>\n    <tr>\n      <th>std</th>\n      <td>11.814803</td>\n    </tr>\n    <tr>\n      <th>min</th>\n      <td>-1.000000</td>\n    </tr>\n    <tr>\n      <th>25%</th>\n      <td>44.000000</td>\n    </tr>\n    <tr>\n      <th>50%</th>\n      <td>52.000000</td>\n    </tr>\n    <tr>\n      <th>75%</th>\n      <td>60.000000</td>\n    </tr>\n    <tr>\n      <th>max</th>\n      <td>113.000000</td>\n    </tr>\n  </tbody>\n</table>\n</div>"
     },
     "metadata": {},
     "output_type": "execute_result",
     "execution_count": 3
    }
   ],
   "source": [
    "display(personal_data.describe(exclude=np.number))\n",
    "personal_data.describe()"
   ]
  },
  {
   "cell_type": "markdown",
   "metadata": {},
   "source": [
    "## Meno a adresa"
   ]
  },
  {
   "cell_type": "code",
   "execution_count": 4,
   "metadata": {
    "pycharm": {
     "is_executing": false
    }
   },
   "outputs": [
    {
     "data": {
      "text/plain": "'Kontrola formátu mien: [ True]'"
     },
     "metadata": {},
     "output_type": "display_data"
    },
    {
     "data": {
      "text/plain": "1498                                                  USS Wu\\r\\nFPO AP 06027\n1506                                                 USNS Le\\r\\nFPO AE 65139\n194                                                 USS Chen\\r\\nFPO AE 55593\n3066                                                USS Soto\\r\\nFPO AA 42341\n21                                                  USNV Kim\\r\\nFPO AA 96043\n2932                                                USNV Cox\\r\\nFPO AP 28776\n3645                                                USNS Cox\\r\\nFPO AA 02523\n1843                                               USS Welch\\r\\nFPO AP 85658\n1797                                               USNS Reed\\r\\nFPO AA 35967\n3074                                               USNV Ward\\r\\nFPO AP 67729\n1385                                               USNV Pope\\r\\nFPO AA 38226\n143                                                USS Jones\\r\\nFPO AE 94883\n3149                                               USS Davis\\r\\nFPO AE 40485\n88                                                 USS Jones\\r\\nFPO AE 74919\n2160                                               USNV Wood\\r\\nFPO AA 48815\n1470                                               USNS Cruz\\r\\nFPO AA 85993\n2434                                               USS Jones\\r\\nFPO AA 61668\n3238                                               USNS Tran\\r\\nFPO AE 67114\n1733                                               USS Adams\\r\\nFPO AP 40250\n3237                                               USS Scott\\r\\nFPO AE 78885\n3543                                               USNV Cole\\r\\nFPO AE 85695\n1333                                               USS Hardy\\r\\nFPO AA 12503\n3295                                               USCGC Lin\\r\\nFPO AP 07238\n3282                                               USS Mayer\\r\\nFPO AP 28935\n383                                                USS Meyer\\r\\nFPO AE 68026\n846                                                USS Hurst\\r\\nFPO AE 35342\n3549                                              USNV Munoz\\r\\nFPO AP 20408\n659                                               USS Conley\\r\\nFPO AA 59563\n123                                               USNV Smith\\r\\nFPO AE 80235\n3281                                              USS Obrien\\r\\nFPO AE 57226\n                                        ...                                 \n1509          5403 Colleen Track Apt. 924\\r\\nNorth Christopherport, CT 66748\n3117          802 Christian Course Apt. 645\\r\\nPort Dominiquemouth, KS 15892\n863           9016 Daniel Causeway Suite 383\\r\\nSouth Jamiechester, OH 85174\n1904         8862 Brian Overpass Apt. 749\\r\\nSouth Cristianchester, KS 46638\n32           41100 Serrano Fields Suite 008\\r\\nSouth Catherinefort, TN 26620\n1920         01097 Allison Summit Apt. 882\\r\\nPort Jenniferborough, TX 28074\n3346         15994 Wall Mission Suite 383\\r\\nSouth Jenniferborough, NY 73767\n2933         471 Walker Underpass Apt. 374\\r\\nLake Patriciaborough, OK 65393\n3169         766 Jennifer Stravenue Suite 462\\r\\nPort Anthonymouth, ID 27128\n723          8515 Miller Trafficway Apt. 218\\r\\nSouth Matthewmouth, OK 03555\n2954         1979 Austin Overpass Apt. 715\\r\\nPort Margaretchester, CO 47786\n1400         027 Robertson Cliffs Suite 493\\r\\nWest Katelynchester, DE 81451\n1989         1381 Schneider Common Apt. 574\\r\\nSouth Nicholashaven, NH 20188\n2902         2032 Mathis Lakes Suite 369\\r\\nNorth Elizabethborough, MD 45782\n72           0837 Patrick Highway Suite 797\\r\\nPort Jacquelinefort, MS 46400\n995          601 Mccormick Freeway Apt. 259\\r\\nNorth Jenniferhaven, NC 19739\n2905         86447 Smith Highway Apt. 267\\r\\nNorth Courtneychester, WY 38663\n2288         6712 Benjamin Causeway Suite 531\\r\\nNorth Phyllisstad, TX 30258\n1745         23591 Carson Terrace Suite 177\\r\\nWest Alejandrohaven, WV 94970\n2236         33418 Trevino Stravenue Apt. 225\\r\\nWest Nicholasbury, MS 90350\n2278        80977 Anderson Mountains Suite 644\\r\\nSouth Tammymouth, ND 92685\n2458        3430 Richards Tunnel Suite 735\\r\\nSouth Stephanieshire, WY 69823\n3799       57159 Christopher Throughway Apt. 388\\r\\nWest Elizabeth, MA 43582\n298        9650 Fitzpatrick Locks Suite 915\\r\\nEast Christopherton, IN 72558\n327        5776 Fitzgerald Extensions Suite 899\\r\\nNorth Maryville, ID 08564\n1310      4394 Rebecca Extension Suite 442\\r\\nNorth Jessicaborough, TX 66714\n2950      498 Alexander Causeway Suite 043\\r\\nNorth Michaelchester, ND 17891\n430      51301 Schwartz Extensions Suite 847\\r\\nSouth Stephenmouth, CT 02476\n220      15468 Richardson Manors Suite 429\\r\\nNorth Christianmouth, IN 55338\n1116    47255 Michael Freeway Suite 080\\r\\nEast Christopherchester, NJ 21015\nName: address, Length: 3933, dtype: object"
     },
     "metadata": {},
     "output_type": "display_data"
    },
    {
     "data": {
      "text/plain": "'Kontrola formátu adries: [ True]'"
     },
     "metadata": {},
     "output_type": "execute_result",
     "execution_count": 4
    }
   ],
   "source": [
    "display(\"Kontrola formátu mien: \"+str(personal_data[\"name\"].str.contains(\"[A-Z][a-z]+ [A-Z][a-z]+\").unique()))\n",
    "display(personal_data[\"address\"].reindex(personal_data[\"address\"].str.len().sort_values().index))\n",
    "\"Kontrola formátu adries: \"+str(personal_data[\"address\"].str.contains(\"\\r\\n.* [A-Z]{2} [0-9]{5}$\").unique())"
   ]
  },
  {
   "cell_type": "markdown",
   "metadata": {},
   "source": [
    "Tieto atribúty sú obsiahnuté v oboch tabuľkách, čiže ich pravdepodobne budeme môcť neskôr využiť na zlúčenie záznamov medzi tabuľkami.\n",
    "\n",
    "***name***\n",
    "\n",
    "Meno a priezvisko subjektu.\n",
    "\n",
    "Záznamy vyzerajú byť v poriadku, každý sa skladá z dvoch slov oddelených medzerou, z ktorých každé za začína veľkým písmenom za ktorým nasledujú malé.\n",
    "\n",
    "***address***\n",
    "\n",
    "Každý záznam reprezentuje adresu v spojených štátoch, pravdepodobne trvalé bydlisko subjektu \n",
    "\n",
    "Všetky záznamy sa skladajú z dvoch častí, ktoré sú oddelené znakmi nového riadka(\"\\r\\n\"), ich formáty však majú niekoľko rôznych typov. Niektoré adresy obsahujú napríklad čísla bytu, alebo sa tu nachádzajú špeciálne vojenské adresy. Každý záznam však obsahuje dvojpísmenové označenie štátu a 5 ciferné poštové číslo.\n",
    "\n",
    "Žiadne záznamy nie sú prázdne a nezdá sa že by sa tu nachádzali nejaké na prvý pohľad chybné alebo podozrivo krátke adresy."
   ]
  },
  {
   "cell_type": "markdown",
   "metadata": {},
   "source": [
    "# Dataset other_train.csv"
   ]
  },
  {
   "cell_type": "code",
   "execution_count": 5,
   "metadata": {
    "pycharm": {
     "is_executing": false
    },
    "scrolled": false
   },
   "outputs": [
    {
     "data": {
      "text/plain": "            name                                             address    race  \\\n0  Ernest Valles   698 Miller Gateway Apt. 970\\r\\nClayside, ND 13457   White   \n1  Michael Kowal   4784 Walters Extensions\\r\\nEast Whitney, NH 27458   White   \n2    Mike Rogers  068 Baker Estates Apt. 300\\r\\nRoberttown, NV 50205   White   \n\n        marital-status     occupation pregnant  education-num    relationship  \\\n0   Married-civ-spouse   Adm-clerical        f           10.0         Husband   \n1                   ??          Sales        F           13.0   Not-in-family   \n2   Married-civ-spouse          Sales        f           13.0         Husband   \n\n   skewness_glucose  mean_glucose  capital-gain  kurtosis_glucose  \\\n0          0.198684    105.859375           0.0          0.222954   \n1         -0.334631    120.453125           0.0         -0.049047   \n2          0.030878    117.257812           0.0          0.121774   \n\n       education    fnlwgt  class  std_glucose  income  \\\n0   Some-college  343789.0    0.0    48.744348    >50K   \n1      Bachelors  188957.0    0.0    50.982512   <=50K   \n2      Bachelors  112283.0    0.0    42.893263   <=50K   \n\n                                                                                          medical_info  \\\n0  {'mean_oxygen':'0.790133779','std_oxygen':'10.13249696','kurtosis_oxygen':'17.68151382','skewnes...   \n1  {'mean_oxygen':'18.69147157','std_oxygen':'51.21049055','kurtosis_oxygen':'2.541428789','skewnes...   \n2  {'mean_oxygen':'1.150501672','std_oxygen':'11.49825164','kurtosis_oxygen':'16.48789423','skewnes...   \n\n   native-country  hours-per-week  capital-loss          workclass  \n0   United-States            40.0           0.0          State-gov  \n1   United-States            40.0           0.0   Self-emp-not-inc  \n2   United-States            55.0           0.0            Private  ",
      "text/html": "<div>\n<style scoped>\n    .dataframe tbody tr th:only-of-type {\n        vertical-align: middle;\n    }\n\n    .dataframe tbody tr th {\n        vertical-align: top;\n    }\n\n    .dataframe thead th {\n        text-align: right;\n    }\n</style>\n<table border=\"1\" class=\"dataframe\">\n  <thead>\n    <tr style=\"text-align: right;\">\n      <th></th>\n      <th>name</th>\n      <th>address</th>\n      <th>race</th>\n      <th>marital-status</th>\n      <th>occupation</th>\n      <th>pregnant</th>\n      <th>education-num</th>\n      <th>relationship</th>\n      <th>skewness_glucose</th>\n      <th>mean_glucose</th>\n      <th>capital-gain</th>\n      <th>kurtosis_glucose</th>\n      <th>education</th>\n      <th>fnlwgt</th>\n      <th>class</th>\n      <th>std_glucose</th>\n      <th>income</th>\n      <th>medical_info</th>\n      <th>native-country</th>\n      <th>hours-per-week</th>\n      <th>capital-loss</th>\n      <th>workclass</th>\n    </tr>\n  </thead>\n  <tbody>\n    <tr>\n      <th>0</th>\n      <td>Ernest Valles</td>\n      <td>698 Miller Gateway Apt. 970\\r\\nClayside, ND 13457</td>\n      <td>White</td>\n      <td>Married-civ-spouse</td>\n      <td>Adm-clerical</td>\n      <td>f</td>\n      <td>10.0</td>\n      <td>Husband</td>\n      <td>0.198684</td>\n      <td>105.859375</td>\n      <td>0.0</td>\n      <td>0.222954</td>\n      <td>Some-college</td>\n      <td>343789.0</td>\n      <td>0.0</td>\n      <td>48.744348</td>\n      <td>&gt;50K</td>\n      <td>{'mean_oxygen':'0.790133779','std_oxygen':'10.13249696','kurtosis_oxygen':'17.68151382','skewnes...</td>\n      <td>United-States</td>\n      <td>40.0</td>\n      <td>0.0</td>\n      <td>State-gov</td>\n    </tr>\n    <tr>\n      <th>1</th>\n      <td>Michael Kowal</td>\n      <td>4784 Walters Extensions\\r\\nEast Whitney, NH 27458</td>\n      <td>White</td>\n      <td>??</td>\n      <td>Sales</td>\n      <td>F</td>\n      <td>13.0</td>\n      <td>Not-in-family</td>\n      <td>-0.334631</td>\n      <td>120.453125</td>\n      <td>0.0</td>\n      <td>-0.049047</td>\n      <td>Bachelors</td>\n      <td>188957.0</td>\n      <td>0.0</td>\n      <td>50.982512</td>\n      <td>&lt;=50K</td>\n      <td>{'mean_oxygen':'18.69147157','std_oxygen':'51.21049055','kurtosis_oxygen':'2.541428789','skewnes...</td>\n      <td>United-States</td>\n      <td>40.0</td>\n      <td>0.0</td>\n      <td>Self-emp-not-inc</td>\n    </tr>\n    <tr>\n      <th>2</th>\n      <td>Mike Rogers</td>\n      <td>068 Baker Estates Apt. 300\\r\\nRoberttown, NV 50205</td>\n      <td>White</td>\n      <td>Married-civ-spouse</td>\n      <td>Sales</td>\n      <td>f</td>\n      <td>13.0</td>\n      <td>Husband</td>\n      <td>0.030878</td>\n      <td>117.257812</td>\n      <td>0.0</td>\n      <td>0.121774</td>\n      <td>Bachelors</td>\n      <td>112283.0</td>\n      <td>0.0</td>\n      <td>42.893263</td>\n      <td>&lt;=50K</td>\n      <td>{'mean_oxygen':'1.150501672','std_oxygen':'11.49825164','kurtosis_oxygen':'16.48789423','skewnes...</td>\n      <td>United-States</td>\n      <td>55.0</td>\n      <td>0.0</td>\n      <td>Private</td>\n    </tr>\n  </tbody>\n</table>\n</div>"
     },
     "metadata": {},
     "output_type": "display_data"
    },
    {
     "name": "stdout",
     "text": [
      "<class 'pandas.core.frame.DataFrame'>\nInt64Index: 3983 entries, 0 to 3982\nData columns (total 22 columns):\nname                3983 non-null object\naddress             3983 non-null object\nrace                3969 non-null object\nmarital-status      3708 non-null object\noccupation          3967 non-null object\npregnant            3971 non-null object\neducation-num       3570 non-null float64\nrelationship        3971 non-null object\nskewness_glucose    3971 non-null float64\nmean_glucose        3973 non-null float64\ncapital-gain        3967 non-null float64\nkurtosis_glucose    3967 non-null float64\neducation           3965 non-null object\nfnlwgt              3969 non-null float64\nclass               3972 non-null float64\nstd_glucose         3976 non-null float64\nincome              3964 non-null object\nmedical_info        3964 non-null object\nnative-country      3968 non-null object\nhours-per-week      3969 non-null float64\ncapital-loss        3973 non-null float64\nworkclass           3965 non-null object\ndtypes: float64(10), object(12)\nmemory usage: 715.7+ KB\n"
     ],
     "output_type": "stream"
    },
    {
     "data": {
      "text/plain": "None"
     },
     "metadata": {},
     "output_type": "display_data"
    },
    {
     "data": {
      "text/plain": "'Spolu tabuľka obsahuje 3983 záznamov.'"
     },
     "metadata": {},
     "output_type": "execute_result",
     "execution_count": 5
    }
   ],
   "source": [
    "display(data.head(3))\n",
    "display(data.info())\n",
    "\"Spolu tabuľka obsahuje \"+str(len(data))+\" záznamov.\"\n",
    "\n"
   ]
  },
  {
   "cell_type": "markdown",
   "metadata": {},
   "source": [
    "Druhá tabuľka má 22 atribútov.\n",
    "\n",
    "Dva sú rovnaké ako v predchádzajúcej\n",
    "- meno (stĺpec name)\n",
    "- adresa (address)\n",
    "\n",
    "Ďalej tu sú údaje o spoločenskom postavení ľudí:\n",
    "- rasa (race)\n",
    "- rodinný stav (marital-status)\n",
    "- povolanie (occupation)\n",
    "- číslo so zatiaľ nejasným významom súvisiace so vzdelaním (education-num)\n",
    "- vzťah v domácnosti (relationship)\n",
    "- kapitálové príjmy (capital-gain)\n",
    "- dosiahnuté vzdelanie (education)\n",
    "- príjem (income)\n",
    "- krajina pôvodu osoby (native-country)\n",
    "- koľko hodín týždenne pracujú (hours-per-week)\n",
    "- kapitálová strata (capital-loss)\n",
    "- v akej sfére (štátnej, súkromnej) pracujú (workclass)\n",
    "\n",
    "A taktiež o ich zdravotnom stave:\n",
    "- je osoba tehotná? (pregnant)\n",
    "- hodnoty hladín glukózy \n",
    " - skewness_glucose\n",
    " - mean_glucose\n",
    " - kurtosis_glucose\n",
    " - std_glucose\n",
    "- medical_info\n",
    "- reálna prítomnosť ochorenia (class)\n",
    "\n",
    "\n",
    "- stĺpec so zatiaľ neznámym významom (fnlwgt)"
   ]
  },
  {
   "cell_type": "code",
   "execution_count": 6,
   "metadata": {
    "pycharm": {
     "is_executing": false
    },
    "scrolled": false
   },
   "outputs": [
    {
     "data": {
      "text/plain": "                   name                                     address    race  \\\ncount              3983                                        3983    3969   \nunique             3933                                        3933       5   \ntop     Daniel Martinez  2919 Nancy Common\\r\\nGrahamburgh, SC 98783   White   \nfreq                  3                                           3    3398   \n\n             marital-status       occupation pregnant relationship education  \\\ncount                  3708             3967     3971         3971      3965   \nunique                    8               15        6            6        24   \ntop      Married-civ-spouse   Prof-specialty        f      Husband   HS-grad   \nfreq                   1598              508     3504         1574      1156   \n\n        income  \\\ncount     3964   \nunique       2   \ntop      <=50K   \nfreq      3039   \n\n                                                                                               medical_info  \\\ncount                                                                                                  3964   \nunique                                                                                                 3932   \ntop     {'mean_oxygen':'16.71070234','std_oxygen':'51.15644167','kurtosis_oxygen':'2.932070882','skewnes...   \nfreq                                                                                                      2   \n\n        native-country workclass  \ncount             3968      3965  \nunique              38        16  \ntop      United-States   Private  \nfreq              3548      2465  ",
      "text/html": "<div>\n<style scoped>\n    .dataframe tbody tr th:only-of-type {\n        vertical-align: middle;\n    }\n\n    .dataframe tbody tr th {\n        vertical-align: top;\n    }\n\n    .dataframe thead th {\n        text-align: right;\n    }\n</style>\n<table border=\"1\" class=\"dataframe\">\n  <thead>\n    <tr style=\"text-align: right;\">\n      <th></th>\n      <th>name</th>\n      <th>address</th>\n      <th>race</th>\n      <th>marital-status</th>\n      <th>occupation</th>\n      <th>pregnant</th>\n      <th>relationship</th>\n      <th>education</th>\n      <th>income</th>\n      <th>medical_info</th>\n      <th>native-country</th>\n      <th>workclass</th>\n    </tr>\n  </thead>\n  <tbody>\n    <tr>\n      <th>count</th>\n      <td>3983</td>\n      <td>3983</td>\n      <td>3969</td>\n      <td>3708</td>\n      <td>3967</td>\n      <td>3971</td>\n      <td>3971</td>\n      <td>3965</td>\n      <td>3964</td>\n      <td>3964</td>\n      <td>3968</td>\n      <td>3965</td>\n    </tr>\n    <tr>\n      <th>unique</th>\n      <td>3933</td>\n      <td>3933</td>\n      <td>5</td>\n      <td>8</td>\n      <td>15</td>\n      <td>6</td>\n      <td>6</td>\n      <td>24</td>\n      <td>2</td>\n      <td>3932</td>\n      <td>38</td>\n      <td>16</td>\n    </tr>\n    <tr>\n      <th>top</th>\n      <td>Daniel Martinez</td>\n      <td>2919 Nancy Common\\r\\nGrahamburgh, SC 98783</td>\n      <td>White</td>\n      <td>Married-civ-spouse</td>\n      <td>Prof-specialty</td>\n      <td>f</td>\n      <td>Husband</td>\n      <td>HS-grad</td>\n      <td>&lt;=50K</td>\n      <td>{'mean_oxygen':'16.71070234','std_oxygen':'51.15644167','kurtosis_oxygen':'2.932070882','skewnes...</td>\n      <td>United-States</td>\n      <td>Private</td>\n    </tr>\n    <tr>\n      <th>freq</th>\n      <td>3</td>\n      <td>3</td>\n      <td>3398</td>\n      <td>1598</td>\n      <td>508</td>\n      <td>3504</td>\n      <td>1574</td>\n      <td>1156</td>\n      <td>3039</td>\n      <td>2</td>\n      <td>3548</td>\n      <td>2465</td>\n    </tr>\n  </tbody>\n</table>\n</div>"
     },
     "metadata": {},
     "output_type": "display_data"
    },
    {
     "data": {
      "text/plain": "       education-num  skewness_glucose  mean_glucose  capital-gain  \\\ncount    3570.000000       3971.000000   3973.000000   3967.000000   \nmean        2.461064          4.213195    101.333680    910.319133   \nstd       333.105796          9.663943     33.535291   6687.538845   \nmin     -1600.000000         -1.755332      6.187500      0.000000   \n25%         9.000000         -0.119656     87.835938      0.000000   \n50%        10.000000          0.379044    110.710938      0.000000   \n75%        13.000000          2.086138    124.171875      0.000000   \nmax      1600.000000         68.101622    189.734375  99999.000000   \n\n       kurtosis_glucose         fnlwgt        class  std_glucose  \\\ncount       3967.000000    3969.000000  3972.000000  3976.000000   \nmean           0.951361  187324.615520     0.254280    45.175469   \nstd            1.611965  104811.125897     0.435511     7.600046   \nmin           -1.641515   19491.000000     0.000000    25.695250   \n25%            0.072661  115932.000000     0.000000    40.170613   \n50%            0.310784  177083.000000     0.000000    45.887636   \n75%            0.775258  234901.000000     1.000000    50.346566   \nmax            8.069522  953588.000000     1.000000    91.206475   \n\n       hours-per-week  capital-loss  \ncount     3969.000000   3973.000000  \nmean        40.128748     75.776743  \nstd         12.101524    378.369019  \nmin          1.000000      0.000000  \n25%         40.000000      0.000000  \n50%         40.000000      0.000000  \n75%         45.000000      0.000000  \nmax         99.000000   3900.000000  ",
      "text/html": "<div>\n<style scoped>\n    .dataframe tbody tr th:only-of-type {\n        vertical-align: middle;\n    }\n\n    .dataframe tbody tr th {\n        vertical-align: top;\n    }\n\n    .dataframe thead th {\n        text-align: right;\n    }\n</style>\n<table border=\"1\" class=\"dataframe\">\n  <thead>\n    <tr style=\"text-align: right;\">\n      <th></th>\n      <th>education-num</th>\n      <th>skewness_glucose</th>\n      <th>mean_glucose</th>\n      <th>capital-gain</th>\n      <th>kurtosis_glucose</th>\n      <th>fnlwgt</th>\n      <th>class</th>\n      <th>std_glucose</th>\n      <th>hours-per-week</th>\n      <th>capital-loss</th>\n    </tr>\n  </thead>\n  <tbody>\n    <tr>\n      <th>count</th>\n      <td>3570.000000</td>\n      <td>3971.000000</td>\n      <td>3973.000000</td>\n      <td>3967.000000</td>\n      <td>3967.000000</td>\n      <td>3969.000000</td>\n      <td>3972.000000</td>\n      <td>3976.000000</td>\n      <td>3969.000000</td>\n      <td>3973.000000</td>\n    </tr>\n    <tr>\n      <th>mean</th>\n      <td>2.461064</td>\n      <td>4.213195</td>\n      <td>101.333680</td>\n      <td>910.319133</td>\n      <td>0.951361</td>\n      <td>187324.615520</td>\n      <td>0.254280</td>\n      <td>45.175469</td>\n      <td>40.128748</td>\n      <td>75.776743</td>\n    </tr>\n    <tr>\n      <th>std</th>\n      <td>333.105796</td>\n      <td>9.663943</td>\n      <td>33.535291</td>\n      <td>6687.538845</td>\n      <td>1.611965</td>\n      <td>104811.125897</td>\n      <td>0.435511</td>\n      <td>7.600046</td>\n      <td>12.101524</td>\n      <td>378.369019</td>\n    </tr>\n    <tr>\n      <th>min</th>\n      <td>-1600.000000</td>\n      <td>-1.755332</td>\n      <td>6.187500</td>\n      <td>0.000000</td>\n      <td>-1.641515</td>\n      <td>19491.000000</td>\n      <td>0.000000</td>\n      <td>25.695250</td>\n      <td>1.000000</td>\n      <td>0.000000</td>\n    </tr>\n    <tr>\n      <th>25%</th>\n      <td>9.000000</td>\n      <td>-0.119656</td>\n      <td>87.835938</td>\n      <td>0.000000</td>\n      <td>0.072661</td>\n      <td>115932.000000</td>\n      <td>0.000000</td>\n      <td>40.170613</td>\n      <td>40.000000</td>\n      <td>0.000000</td>\n    </tr>\n    <tr>\n      <th>50%</th>\n      <td>10.000000</td>\n      <td>0.379044</td>\n      <td>110.710938</td>\n      <td>0.000000</td>\n      <td>0.310784</td>\n      <td>177083.000000</td>\n      <td>0.000000</td>\n      <td>45.887636</td>\n      <td>40.000000</td>\n      <td>0.000000</td>\n    </tr>\n    <tr>\n      <th>75%</th>\n      <td>13.000000</td>\n      <td>2.086138</td>\n      <td>124.171875</td>\n      <td>0.000000</td>\n      <td>0.775258</td>\n      <td>234901.000000</td>\n      <td>1.000000</td>\n      <td>50.346566</td>\n      <td>45.000000</td>\n      <td>0.000000</td>\n    </tr>\n    <tr>\n      <th>max</th>\n      <td>1600.000000</td>\n      <td>68.101622</td>\n      <td>189.734375</td>\n      <td>99999.000000</td>\n      <td>8.069522</td>\n      <td>953588.000000</td>\n      <td>1.000000</td>\n      <td>91.206475</td>\n      <td>99.000000</td>\n      <td>3900.000000</td>\n    </tr>\n  </tbody>\n</table>\n</div>"
     },
     "metadata": {},
     "output_type": "execute_result",
     "execution_count": 6
    }
   ],
   "source": [
    "display(data.describe(exclude=np.number))\n",
    "data.describe()"
   ]
  },
  {
   "cell_type": "markdown",
   "metadata": {},
   "source": [
    "## Meno a adresa"
   ]
  },
  {
   "cell_type": "code",
   "execution_count": 7,
   "metadata": {
    "pycharm": {
     "is_executing": false
    }
   },
   "outputs": [
    {
     "data": {
      "text/plain": "'Kontrola formátu mien: [ True]'"
     },
     "metadata": {},
     "output_type": "display_data"
    },
    {
     "data": {
      "text/plain": "1276                                                  USS Wu\\r\\nFPO AP 06027\n3964                                                 USNS Le\\r\\nFPO AE 65139\n3592                                                USS Soto\\r\\nFPO AA 42341\n598                                                 USNV Cox\\r\\nFPO AP 28776\n3879                                                USNV Kim\\r\\nFPO AA 96043\n2611                                                USS Chen\\r\\nFPO AE 55593\n3013                                                USNS Cox\\r\\nFPO AA 02523\n2417                                               USNV Wood\\r\\nFPO AA 48815\n1429                                               USS Adams\\r\\nFPO AP 40250\n3376                                               USNV Pope\\r\\nFPO AA 38226\n54                                                 USS Welch\\r\\nFPO AP 85658\n3532                                               USS Hardy\\r\\nFPO AA 12503\n728                                                USNS Reed\\r\\nFPO AA 35967\n1604                                               USS Hurst\\r\\nFPO AE 35342\n546                                                USNS Cruz\\r\\nFPO AA 85993\n1945                                               USNV Cole\\r\\nFPO AE 85695\n1954                                               USS Meyer\\r\\nFPO AE 68026\n658                                                USS Mayer\\r\\nFPO AP 28935\n2063                                               USS Jones\\r\\nFPO AE 74919\n3610                                               USS Jones\\r\\nFPO AA 61668\n2769                                               USNV Ward\\r\\nFPO AP 67729\n3509                                               USS Davis\\r\\nFPO AE 40485\n2186                                               USCGC Lin\\r\\nFPO AP 07238\n2980                                               USS Jones\\r\\nFPO AE 94883\n2343                                               USNS Tran\\r\\nFPO AE 67114\n3441                                               USS Scott\\r\\nFPO AE 78885\n1444                                              USS Parker\\r\\nFPO AP 89469\n3204                                              USNS Wyatt\\r\\nFPO AP 33954\n663                                               USNV Smith\\r\\nFPO AE 80235\n1706                                              USS Peters\\r\\nFPO AE 88133\n                                        ...                                 \n950           67410 Anderson Rapids Apt. 897\\r\\nPort Christinabury, LA 90350\n3248          5403 Colleen Track Apt. 924\\r\\nNorth Christopherport, CT 66748\n2342          95055 Hall Squares Apt. 443\\r\\nWest Katherinechester, SD 03370\n214          33418 Trevino Stravenue Apt. 225\\r\\nWest Nicholasbury, MS 90350\n2665         15994 Wall Mission Suite 383\\r\\nSouth Jenniferborough, NY 73767\n3040         471 Walker Underpass Apt. 374\\r\\nLake Patriciaborough, OK 65393\n1135         41100 Serrano Fields Suite 008\\r\\nSouth Catherinefort, TN 26620\n2192         766 Jennifer Stravenue Suite 462\\r\\nPort Anthonymouth, ID 27128\n2789         86447 Smith Highway Apt. 267\\r\\nNorth Courtneychester, WY 38663\n1880         6712 Benjamin Causeway Suite 531\\r\\nNorth Phyllisstad, TX 30258\n811          2032 Mathis Lakes Suite 369\\r\\nNorth Elizabethborough, MD 45782\n1871         027 Robertson Cliffs Suite 493\\r\\nWest Katelynchester, DE 81451\n63           8515 Miller Trafficway Apt. 218\\r\\nSouth Matthewmouth, OK 03555\n3594         0837 Patrick Highway Suite 797\\r\\nPort Jacquelinefort, MS 46400\n1277         1979 Austin Overpass Apt. 715\\r\\nPort Margaretchester, CO 47786\n2025         8862 Brian Overpass Apt. 749\\r\\nSouth Cristianchester, KS 46638\n1602         601 Mccormick Freeway Apt. 259\\r\\nNorth Jenniferhaven, NC 19739\n3609         01097 Allison Summit Apt. 882\\r\\nPort Jenniferborough, TX 28074\n744          23591 Carson Terrace Suite 177\\r\\nWest Alejandrohaven, WV 94970\n3901         1381 Schneider Common Apt. 574\\r\\nSouth Nicholashaven, NH 20188\n2770        3430 Richards Tunnel Suite 735\\r\\nSouth Stephanieshire, WY 69823\n3502        80977 Anderson Mountains Suite 644\\r\\nSouth Tammymouth, ND 92685\n733        57159 Christopher Throughway Apt. 388\\r\\nWest Elizabeth, MA 43582\n2237       9650 Fitzpatrick Locks Suite 915\\r\\nEast Christopherton, IN 72558\n1014       5776 Fitzgerald Extensions Suite 899\\r\\nNorth Maryville, ID 08564\n1099      498 Alexander Causeway Suite 043\\r\\nNorth Michaelchester, ND 17891\n1404      4394 Rebecca Extension Suite 442\\r\\nNorth Jessicaborough, TX 66714\n2262     15468 Richardson Manors Suite 429\\r\\nNorth Christianmouth, IN 55338\n44       51301 Schwartz Extensions Suite 847\\r\\nSouth Stephenmouth, CT 02476\n3938    47255 Michael Freeway Suite 080\\r\\nEast Christopherchester, NJ 21015\nName: address, Length: 3983, dtype: object"
     },
     "metadata": {},
     "output_type": "display_data"
    },
    {
     "data": {
      "text/plain": "'Kontrola formátu adries: [ True]'"
     },
     "metadata": {},
     "output_type": "execute_result",
     "execution_count": 7
    }
   ],
   "source": [
    "display(\"Kontrola formátu mien: \"+str(data[\"name\"].str.contains(\"[A-Z][a-z]+ [A-Z][a-z]+\").unique()))\n",
    "display(data[\"address\"].reindex(data[\"address\"].str.len().sort_values().index))\n",
    "\"Kontrola formátu adries: \"+str(data[\"address\"].str.contains(\"\\r\\n.* [A-Z]{2} [0-9]{5}$\").unique())"
   ]
  },
  {
   "cell_type": "markdown",
   "metadata": {},
   "source": [
    "Nevyzerá, že by sa vlastnosti týchto atribútov líšili od tých v druhom datasete."
   ]
  },
  {
   "cell_type": "code",
   "execution_count": 8,
   "metadata": {
    "pycharm": {
     "is_executing": false
    }
   },
   "outputs": [
    {
     "data": {
      "text/plain": "'Tabuľka obsahuje 3933 unikátnych kombinácií mena a adresy'"
     },
     "metadata": {},
     "output_type": "execute_result",
     "execution_count": 8
    }
   ],
   "source": [
    "\"Tabuľka obsahuje \"+str(len(data[[\"name\",\"address\"]].drop_duplicates()))+\" unikátnych kombinácií mena a adresy\""
   ]
  },
  {
   "cell_type": "markdown",
   "metadata": {},
   "source": [
    "Celkový počet záznamov je 3983, to znamená že 50 záznamov sú duplikáty. 3933 je tiež rovnaký počet ako je záznamov v druhej tabuľke s osobnými údajmi. V ostatných stĺpcoch môžu však v týchto záznamoch byť aj tak medzi sebou odlišné hodnoty, a teoreticky na jednej adrese môže bývať viac ľudí s rovnakým menom, preto treba skontrolovať ostatné stĺpce skôr ako rozhodneme ako sa duplikátov zbaviť."
   ]
  },
  {
   "cell_type": "markdown",
   "metadata": {},
   "source": [
    "## Rasa a pôvod"
   ]
  },
  {
   "cell_type": "code",
   "execution_count": 9,
   "metadata": {
    "pycharm": {
     "is_executing": false
    }
   },
   "outputs": [
    {
     "data": {
      "text/plain": "'NaN: 14'"
     },
     "metadata": {},
     "output_type": "execute_result",
     "execution_count": 9
    },
    {
     "data": {
      "text/plain": "<Figure size 432x288 with 1 Axes>",
      "image/png": "[encoded data removed]"
     },
     "metadata": {
      "needs_background": "light"
     },
     "output_type": "display_data"
    }
   ],
   "source": [
    "mpl.pyplot.xticks(rotation=90)\n",
    "sns.barplot(x=\"race\", y=\"count\", data=data[\"race\"].value_counts().rename(\"count\").rename_axis(\"race\").reset_index())\n",
    "\n",
    "\"NaN: \"+str(data[\"race\"].isnull().sum())"
   ]
  },
  {
   "cell_type": "markdown",
   "metadata": {},
   "source": [
    "***race***\n",
    "\n",
    "Tento stĺpec má 5 možných hodnôt\n",
    "- White\n",
    "- Black\n",
    "- Asian-Pac-Islander\n",
    "- Amer-Indian-Eskimo\n",
    "- Other\n",
    "\n",
    "14 záznamov má pre tento stĺpec chýbajúcu hodnotu"
   ]
  },
  {
   "cell_type": "code",
   "execution_count": 10,
   "metadata": {
    "pycharm": {
     "is_executing": false
    }
   },
   "outputs": [
    {
     "data": {
      "text/plain": " United-States                 3548\n Mexico                          82\n ?                               81\n Philippines                     25\n Canada                          19\nNaN                              15\n Puerto-Rico                     13\n China                           12\n England                         11\n Jamaica                         11\n Columbia                        10\n Dominican-Republic              10\n El-Salvador                     10\n India                            9\n Germany                          9\n Taiwan                           9\n Cuba                             9\n Iran                             8\n Italy                            8\n Vietnam                          8\n Japan                            8\n Haiti                            7\n South                            7\n Poland                           7\n France                           6\n Trinadad&Tobago                  5\n Guatemala                        5\n Portugal                         4\n Peru                             4\n Greece                           4\n Hong                             3\n Cambodia                         3\n Yugoslavia                       3\n Ecuador                          3\n Laos                             2\n Nicaragua                        2\n Hungary                          1\n Honduras                         1\n Outlying-US(Guam-USVI-etc)       1\nName: native-country, dtype: int64"
     },
     "metadata": {},
     "output_type": "display_data"
    },
    {
     "data": {
      "text/plain": "'NaN: 15'"
     },
     "metadata": {},
     "output_type": "execute_result",
     "execution_count": 10
    }
   ],
   "source": [
    "display(data[\"native-country\"].value_counts(dropna=False))\n",
    "\"NaN: \"+str(data[\"native-country\"].isnull().sum())"
   ]
  },
  {
   "cell_type": "markdown",
   "metadata": {},
   "source": [
    "***native-country***\n",
    "\n",
    "Atribút má 15 prázdnych záznamov a 81 záznamov s hodnotou *?*. Nie je jasné čo má reprezentovať hodnota *south*, ale pre účely tohto projektu ju pravdepodobne môžeme nechať tak ako je."
   ]
  },
  {
   "cell_type": "markdown",
   "metadata": {},
   "source": [
    "## Rodinný stav a vzťah v domácnosti"
   ]
  },
  {
   "cell_type": "code",
   "execution_count": 11,
   "metadata": {
    "pycharm": {
     "is_executing": false
    }
   },
   "outputs": [
    {
     "data": {
      "text/plain": "'NaN: 275'"
     },
     "metadata": {},
     "output_type": "execute_result",
     "execution_count": 11
    },
    {
     "data": {
      "text/plain": "<Figure size 432x288 with 1 Axes>",
      "image/png": "[encoded data removed]"
     },
     "metadata": {
      "needs_background": "light"
     },
     "output_type": "display_data"
    }
   ],
   "source": [
    "mpl.pyplot.xticks(rotation=90)\n",
    "sns.barplot(x=\"marital status\", y=\"count\", data=data[\"marital-status\"].value_counts().rename(\"count\").rename_axis(\"marital status\").reset_index())\n",
    "\"NaN: \"+str(data[\"marital-status\"].isnull().sum())"
   ]
  },
  {
   "cell_type": "markdown",
   "metadata": {},
   "source": [
    "***marital status***\n",
    "\n",
    "Atribút má množstvo chýbajúcich hodnôt - buď hodnotu *??* alebo prázdne záznamy. Chýbajúce hodnoty bude pravdepodobne možné doplniť na základe atribútu *relationship*, prípadne iných."
   ]
  },
  {
   "cell_type": "code",
   "execution_count": 12,
   "metadata": {
    "pycharm": {
     "is_executing": false
    }
   },
   "outputs": [
    {
     "data": {
      "text/plain": "'NaN: 12'"
     },
     "metadata": {},
     "output_type": "execute_result",
     "execution_count": 12
    },
    {
     "data": {
      "text/plain": "<Figure size 432x288 with 1 Axes>",
      "image/png": "[encoded data removed]"
     },
     "metadata": {
      "needs_background": "light"
     },
     "output_type": "display_data"
    }
   ],
   "source": [
    "mpl.pyplot.xticks(rotation=90)\n",
    "sns.barplot(x=\"relationship\", y=\"count\", data=data[\"relationship\"].value_counts().rename(\"count\").rename_axis(\"relationship\").reset_index())\n",
    "\"NaN: \"+str(data[\"relationship\"].isnull().sum())"
   ]
  },
  {
   "cell_type": "markdown",
   "metadata": {},
   "source": [
    "***relationship***\n",
    "\n",
    "Atribút má 12 prázdnych záznamov, pravdepodobne ich bude možné doplniť na základe pohlavia, veku a rodinného stavu"
   ]
  },
  {
   "cell_type": "markdown",
   "metadata": {},
   "source": [
    "## Tehotenstvo"
   ]
  },
  {
   "cell_type": "code",
   "execution_count": 13,
   "metadata": {
    "pycharm": {
     "is_executing": false
    }
   },
   "outputs": [
    {
     "data": {
      "text/plain": "f        3504\nF         202\nFALSE     182\nt          71\nNaN        12\nT           9\nTRUE        3\nName: pregnant, dtype: int64"
     },
     "metadata": {},
     "output_type": "execute_result",
     "execution_count": 13
    }
   ],
   "source": [
    "data[\"pregnant\"].value_counts(dropna=False)"
   ]
  },
  {
   "cell_type": "markdown",
   "metadata": {},
   "source": [
    "Atribút obsahuje informáciu o tom, či je osoba tehotná. Hodnoty však majú nejednotný formát.\n",
    "\n",
    "Bude potrebné zjednotiť hodnoty *f*,*F*,*FALSE* a *t*,*T*,*TRUE*. Okrem toho bude nutné doplniť 12 prázdnych hodnôt."
   ]
  },
  {
   "cell_type": "markdown",
   "metadata": {},
   "source": [
    "## Dosiahnuté vzdelanie"
   ]
  },
  {
   "cell_type": "code",
   "execution_count": 14,
   "metadata": {
    "pycharm": {
     "is_executing": false
    }
   },
   "outputs": [
    {
     "data": {
      "text/plain": "        education  count\n9    Some_college     95\n1    Some-college    815\n23    Prof_school      4\n11    Prof-school     64\n19      Preschool     10\n3         Masters    207\n6         HS_grad    123\n0         HS-grad   1156\n14      Doctorate     46\n2       Bachelors    661\n17      Assoc_voc     16\n18     Assoc_acdm     11\n4       Assoc-voc    135\n5      Assoc-acdm    125\n12            9th     63\n21        7th_8th      6\n10        7th-8th     86\n24        5th_6th      3\n15        5th-6th     42\n22        1st_4th      5\n20        1st-4th      9\n13           12th     47\n7            11th    122\n8            10th    114\n16            NaN     18",
      "text/html": "<div>\n<style scoped>\n    .dataframe tbody tr th:only-of-type {\n        vertical-align: middle;\n    }\n\n    .dataframe tbody tr th {\n        vertical-align: top;\n    }\n\n    .dataframe thead th {\n        text-align: right;\n    }\n</style>\n<table border=\"1\" class=\"dataframe\">\n  <thead>\n    <tr style=\"text-align: right;\">\n      <th></th>\n      <th>education</th>\n      <th>count</th>\n    </tr>\n  </thead>\n  <tbody>\n    <tr>\n      <th>9</th>\n      <td>Some_college</td>\n      <td>95</td>\n    </tr>\n    <tr>\n      <th>1</th>\n      <td>Some-college</td>\n      <td>815</td>\n    </tr>\n    <tr>\n      <th>23</th>\n      <td>Prof_school</td>\n      <td>4</td>\n    </tr>\n    <tr>\n      <th>11</th>\n      <td>Prof-school</td>\n      <td>64</td>\n    </tr>\n    <tr>\n      <th>19</th>\n      <td>Preschool</td>\n      <td>10</td>\n    </tr>\n    <tr>\n      <th>3</th>\n      <td>Masters</td>\n      <td>207</td>\n    </tr>\n    <tr>\n      <th>6</th>\n      <td>HS_grad</td>\n      <td>123</td>\n    </tr>\n    <tr>\n      <th>0</th>\n      <td>HS-grad</td>\n      <td>1156</td>\n    </tr>\n    <tr>\n      <th>14</th>\n      <td>Doctorate</td>\n      <td>46</td>\n    </tr>\n    <tr>\n      <th>2</th>\n      <td>Bachelors</td>\n      <td>661</td>\n    </tr>\n    <tr>\n      <th>17</th>\n      <td>Assoc_voc</td>\n      <td>16</td>\n    </tr>\n    <tr>\n      <th>18</th>\n      <td>Assoc_acdm</td>\n      <td>11</td>\n    </tr>\n    <tr>\n      <th>4</th>\n      <td>Assoc-voc</td>\n      <td>135</td>\n    </tr>\n    <tr>\n      <th>5</th>\n      <td>Assoc-acdm</td>\n      <td>125</td>\n    </tr>\n    <tr>\n      <th>12</th>\n      <td>9th</td>\n      <td>63</td>\n    </tr>\n    <tr>\n      <th>21</th>\n      <td>7th_8th</td>\n      <td>6</td>\n    </tr>\n    <tr>\n      <th>10</th>\n      <td>7th-8th</td>\n      <td>86</td>\n    </tr>\n    <tr>\n      <th>24</th>\n      <td>5th_6th</td>\n      <td>3</td>\n    </tr>\n    <tr>\n      <th>15</th>\n      <td>5th-6th</td>\n      <td>42</td>\n    </tr>\n    <tr>\n      <th>22</th>\n      <td>1st_4th</td>\n      <td>5</td>\n    </tr>\n    <tr>\n      <th>20</th>\n      <td>1st-4th</td>\n      <td>9</td>\n    </tr>\n    <tr>\n      <th>13</th>\n      <td>12th</td>\n      <td>47</td>\n    </tr>\n    <tr>\n      <th>7</th>\n      <td>11th</td>\n      <td>122</td>\n    </tr>\n    <tr>\n      <th>8</th>\n      <td>10th</td>\n      <td>114</td>\n    </tr>\n    <tr>\n      <th>16</th>\n      <td>NaN</td>\n      <td>18</td>\n    </tr>\n  </tbody>\n</table>\n</div>"
     },
     "metadata": {},
     "output_type": "execute_result",
     "execution_count": 14
    }
   ],
   "source": [
    "data[\"education\"].value_counts(dropna=False).rename(\"count\").rename_axis(\"education\").reset_index().sort_values(\"education\", ascending=False)"
   ]
  },
  {
   "cell_type": "markdown",
   "metadata": {},
   "source": [
    "***education***\n",
    "\n",
    "Atribút obsahuje množstvo zduplikovaných hodnôt. Bude potrebné zjednotiť:\n",
    "- *Some_college* a *Some-college*\n",
    "- *Prof_school* a *Prof-school*\n",
    "- *HS_grad* a *HS-grad*\n",
    "- *Assoc_voc* a *Assoc-voc*\n",
    "- *Assoc_acdm* a *Assoc-acdm*\n",
    "- *7th_8th* a *7th-8th*\n",
    "- *5th_6th* a *5th-6th*\n",
    "- *1st_4th* a *1st-4th*\n",
    "\n",
    "Tiež sa tu nachádza 18 prázdnych hodnôt.\n",
    "\n",
    "Možné hodnoty môžeme zoradiť podľa úrovne vzdelania a priradiť im číselne hodnoty aby sa s nimi jednoduchšie pracovalo.\n",
    "\n",
    "1. Preschool\n",
    "1. 1st-4th\n",
    "1. 5th-6th\n",
    "1. 7th-8th\n",
    "1. 9th\n",
    "1. 10th\n",
    "1. 11th\n",
    "1. 12th\n",
    "1. HS-grad\n",
    "1. Some-college\n",
    "1. Assoc-voc\n",
    "1. Assoc-acdm\n",
    "1. Bachelors\n",
    "1. Masters\n",
    "1. Prof-school\n",
    "1. Doctorate"
   ]
  },
  {
   "cell_type": "code",
   "execution_count": 15,
   "metadata": {
    "pycharm": {
     "is_executing": false
    }
   },
   "outputs": [
    {
     "data": {
      "text/plain": "    education-num  count\n45         1600.0      1\n25         1500.0      8\n21         1400.0     12\n20         1300.0     21\n40         1200.0      2\n27         1100.0      8\n15         1000.0     41\n11          900.0     56\n42          800.0      1\n28          700.0      7\n33          600.0      4\n46          500.0      1\n31          400.0      6\n44          300.0      1\n43          200.0      1\n17           16.0     37\n13           15.0     48\n4            14.0    162\n2            13.0    538\n6            12.0    117\n5            11.0    123\n1            10.0    738\n0             9.0   1038\n16            8.0     41\n7             7.0     94\n8             6.0     92\n12            5.0     53\n9             4.0     74\n18            3.0     36\n23            2.0     10\n29            1.0      6\n39         -200.0      2\n38         -300.0      2\n41         -400.0      2\n32         -500.0      5\n34         -600.0      3\n26         -700.0      8\n37         -800.0      3\n10         -900.0     57\n14        -1000.0     48\n24        -1100.0     10\n30        -1200.0      6\n19        -1300.0     30\n22        -1400.0     11\n35        -1500.0      3\n36        -1600.0      3\n3             NaN    413",
      "text/html": "<div>\n<style scoped>\n    .dataframe tbody tr th:only-of-type {\n        vertical-align: middle;\n    }\n\n    .dataframe tbody tr th {\n        vertical-align: top;\n    }\n\n    .dataframe thead th {\n        text-align: right;\n    }\n</style>\n<table border=\"1\" class=\"dataframe\">\n  <thead>\n    <tr style=\"text-align: right;\">\n      <th></th>\n      <th>education-num</th>\n      <th>count</th>\n    </tr>\n  </thead>\n  <tbody>\n    <tr>\n      <th>45</th>\n      <td>1600.0</td>\n      <td>1</td>\n    </tr>\n    <tr>\n      <th>25</th>\n      <td>1500.0</td>\n      <td>8</td>\n    </tr>\n    <tr>\n      <th>21</th>\n      <td>1400.0</td>\n      <td>12</td>\n    </tr>\n    <tr>\n      <th>20</th>\n      <td>1300.0</td>\n      <td>21</td>\n    </tr>\n    <tr>\n      <th>40</th>\n      <td>1200.0</td>\n      <td>2</td>\n    </tr>\n    <tr>\n      <th>27</th>\n      <td>1100.0</td>\n      <td>8</td>\n    </tr>\n    <tr>\n      <th>15</th>\n      <td>1000.0</td>\n      <td>41</td>\n    </tr>\n    <tr>\n      <th>11</th>\n      <td>900.0</td>\n      <td>56</td>\n    </tr>\n    <tr>\n      <th>42</th>\n      <td>800.0</td>\n      <td>1</td>\n    </tr>\n    <tr>\n      <th>28</th>\n      <td>700.0</td>\n      <td>7</td>\n    </tr>\n    <tr>\n      <th>33</th>\n      <td>600.0</td>\n      <td>4</td>\n    </tr>\n    <tr>\n      <th>46</th>\n      <td>500.0</td>\n      <td>1</td>\n    </tr>\n    <tr>\n      <th>31</th>\n      <td>400.0</td>\n      <td>6</td>\n    </tr>\n    <tr>\n      <th>44</th>\n      <td>300.0</td>\n      <td>1</td>\n    </tr>\n    <tr>\n      <th>43</th>\n      <td>200.0</td>\n      <td>1</td>\n    </tr>\n    <tr>\n      <th>17</th>\n      <td>16.0</td>\n      <td>37</td>\n    </tr>\n    <tr>\n      <th>13</th>\n      <td>15.0</td>\n      <td>48</td>\n    </tr>\n    <tr>\n      <th>4</th>\n      <td>14.0</td>\n      <td>162</td>\n    </tr>\n    <tr>\n      <th>2</th>\n      <td>13.0</td>\n      <td>538</td>\n    </tr>\n    <tr>\n      <th>6</th>\n      <td>12.0</td>\n      <td>117</td>\n    </tr>\n    <tr>\n      <th>5</th>\n      <td>11.0</td>\n      <td>123</td>\n    </tr>\n    <tr>\n      <th>1</th>\n      <td>10.0</td>\n      <td>738</td>\n    </tr>\n    <tr>\n      <th>0</th>\n      <td>9.0</td>\n      <td>1038</td>\n    </tr>\n    <tr>\n      <th>16</th>\n      <td>8.0</td>\n      <td>41</td>\n    </tr>\n    <tr>\n      <th>7</th>\n      <td>7.0</td>\n      <td>94</td>\n    </tr>\n    <tr>\n      <th>8</th>\n      <td>6.0</td>\n      <td>92</td>\n    </tr>\n    <tr>\n      <th>12</th>\n      <td>5.0</td>\n      <td>53</td>\n    </tr>\n    <tr>\n      <th>9</th>\n      <td>4.0</td>\n      <td>74</td>\n    </tr>\n    <tr>\n      <th>18</th>\n      <td>3.0</td>\n      <td>36</td>\n    </tr>\n    <tr>\n      <th>23</th>\n      <td>2.0</td>\n      <td>10</td>\n    </tr>\n    <tr>\n      <th>29</th>\n      <td>1.0</td>\n      <td>6</td>\n    </tr>\n    <tr>\n      <th>39</th>\n      <td>-200.0</td>\n      <td>2</td>\n    </tr>\n    <tr>\n      <th>38</th>\n      <td>-300.0</td>\n      <td>2</td>\n    </tr>\n    <tr>\n      <th>41</th>\n      <td>-400.0</td>\n      <td>2</td>\n    </tr>\n    <tr>\n      <th>32</th>\n      <td>-500.0</td>\n      <td>5</td>\n    </tr>\n    <tr>\n      <th>34</th>\n      <td>-600.0</td>\n      <td>3</td>\n    </tr>\n    <tr>\n      <th>26</th>\n      <td>-700.0</td>\n      <td>8</td>\n    </tr>\n    <tr>\n      <th>37</th>\n      <td>-800.0</td>\n      <td>3</td>\n    </tr>\n    <tr>\n      <th>10</th>\n      <td>-900.0</td>\n      <td>57</td>\n    </tr>\n    <tr>\n      <th>14</th>\n      <td>-1000.0</td>\n      <td>48</td>\n    </tr>\n    <tr>\n      <th>24</th>\n      <td>-1100.0</td>\n      <td>10</td>\n    </tr>\n    <tr>\n      <th>30</th>\n      <td>-1200.0</td>\n      <td>6</td>\n    </tr>\n    <tr>\n      <th>19</th>\n      <td>-1300.0</td>\n      <td>30</td>\n    </tr>\n    <tr>\n      <th>22</th>\n      <td>-1400.0</td>\n      <td>11</td>\n    </tr>\n    <tr>\n      <th>35</th>\n      <td>-1500.0</td>\n      <td>3</td>\n    </tr>\n    <tr>\n      <th>36</th>\n      <td>-1600.0</td>\n      <td>3</td>\n    </tr>\n    <tr>\n      <th>3</th>\n      <td>NaN</td>\n      <td>413</td>\n    </tr>\n  </tbody>\n</table>\n</div>"
     },
     "metadata": {},
     "output_type": "execute_result",
     "execution_count": 15
    }
   ],
   "source": [
    "data[\"education-num\"].value_counts(dropna=False).rename(\"count\").rename_axis(\"education-num\").reset_index().sort_values(\"education-num\", ascending=False)"
   ]
  },
  {
   "cell_type": "markdown",
   "metadata": {},
   "source": [
    "***education-num***\n",
    "\n",
    "Hodnoty tohto atribútu sú celé čísla ktoré spadajú do troch intervalov:\n",
    "- <1;16>\n",
    "- <200;1600>\n",
    "- <-1600;-200>\n",
    "\n",
    "Pravdepodobne sa jedná o nekonzistentné formáty s posunutými desatinnými čiarkami alebo pridaným znakom mínus. Je možné že tento atribút súvisí s atribútom *education* ktorý má po úprave tiež 16 rôznych hodnôt.\n",
    "\n",
    "Tiež tu bude nutné doplniť 413 prázdnych záznamov."
   ]
  },
  {
   "cell_type": "markdown",
   "metadata": {},
   "source": [
    "## Financie"
   ]
  },
  {
   "cell_type": "markdown",
   "metadata": {},
   "source": [
    "TODO: capital loss, capital gain"
   ]
  },
  {
   "cell_type": "markdown",
   "metadata": {},
   "source": [
    "## Zamestnanie"
   ]
  },
  {
   "cell_type": "code",
   "execution_count": 16,
   "metadata": {
    "pycharm": {
     "is_executing": false
    }
   },
   "outputs": [
    {
     "data": {
      "text/plain": " <=50K    3039\n >50K      925\nNaN         19\nName: income, dtype: int64"
     },
     "metadata": {},
     "output_type": "execute_result",
     "execution_count": 16
    }
   ],
   "source": [
    "data[\"income\"].value_counts(dropna=False)"
   ]
  },
  {
   "cell_type": "markdown",
   "metadata": {},
   "source": [
    "***income***\n",
    "\n",
    "Príjem má len dve možné hodnoty, tých čo zarábajú aspoň 50 000$, a tých čo zarábajú menej. "
   ]
  },
  {
   "cell_type": "code",
   "execution_count": 17,
   "metadata": {
    "pycharm": {
     "is_executing": false
    }
   },
   "outputs": [
    {
     "data": {
      "text/plain": " Prof-specialty       508\n Exec-managerial      479\n Craft-repair         476\n Adm-clerical         474\n Sales                457\n Other-service        396\n Machine-op-inspct    261\n ?                    238\n Transport-moving     182\n Handlers-cleaners    170\n Farming-fishing      119\n Tech-support         112\n Protective-serv       72\n Priv-house-serv       22\nNaN                    16\n Armed-Forces           1\nName: occupation, dtype: int64"
     },
     "metadata": {},
     "output_type": "execute_result",
     "execution_count": 17
    }
   ],
   "source": [
    "data[\"occupation\"].value_counts(dropna=False)"
   ]
  },
  {
   "cell_type": "markdown",
   "metadata": {},
   "source": [
    "***occupation***\n",
    "\n",
    "Hodnoty vyzerajú byť v poriadku, až na 16 chýbajúcich, ktoré by malo byť možné doplniť na základe ostatných atribútov ktoré sa týkajú zamestnania."
   ]
  },
  {
   "cell_type": "code",
   "execution_count": 18,
   "metadata": {
    "pycharm": {
     "is_executing": false
    }
   },
   "outputs": [
    {
     "data": {
      "text/plain": "count    3969.000000\nmean       40.128748\nstd        12.101524\nmin         1.000000\n25%        40.000000\n50%        40.000000\n75%        45.000000\nmax        99.000000\nName: hours-per-week, dtype: float64"
     },
     "metadata": {},
     "output_type": "display_data"
    },
    {
     "data": {
      "text/plain": "<matplotlib.axes._subplots.AxesSubplot at 0x1add6524908>"
     },
     "metadata": {},
     "output_type": "display_data"
    },
    {
     "data": {
      "text/plain": "'NaN: 14'"
     },
     "metadata": {},
     "output_type": "execute_result",
     "execution_count": 18
    },
    {
     "data": {
      "text/plain": "<Figure size 432x288 with 1 Axes>",
      "image/png": "[encoded data removed]"
     },
     "metadata": {
      "needs_background": "light"
     },
     "output_type": "display_data"
    }
   ],
   "source": [
    "display(data[\"hours-per-week\"].describe())\n",
    "display(data[\"hours-per-week\"].plot(kind = 'hist'))\n",
    "\"NaN: \"+str(data[\"hours-per-week\"].isnull().sum())"
   ]
  },
  {
   "cell_type": "markdown",
   "metadata": {},
   "source": [
    "***hours-per-week***\n",
    "\n",
    "Nachádzajú sa tu celé čísla v intervale <1;99>. Tiež tu je 14 prázdnych hodnôt."
   ]
  },
  {
   "cell_type": "code",
   "execution_count": 19,
   "metadata": {
    "pycharm": {
     "is_executing": false
    }
   },
   "outputs": [
    {
     "data": {
      "text/plain": " Private             2465\nprivate               272\n Self-emp-not-inc     269\n Local-gov            237\n ?                    214\n State-gov            134\n Self-emp-inc         128\n Federal-gov          117\nself-emp-not-inc       35\nlocal-gov              29\n?                      24\nNaN                    18\nself-emp-inc           17\nstate-gov              12\nfederal-gov             8\n Without-pay            3\n Never-worked           1\nName: workclass, dtype: int64"
     },
     "metadata": {},
     "output_type": "execute_result",
     "execution_count": 19
    }
   ],
   "source": [
    "data[\"workclass\"].value_counts(dropna=False)"
   ]
  },
  {
   "cell_type": "markdown",
   "metadata": {},
   "source": [
    "Hodnoty bude potrebné dať do jednotného formátu, niektoré sú totiž zdvojené kvôli rôznym veľkostiam písmen a medzerám na začiatku. Tiež tu sú tri druhy prázdnych hodnôt (\"?\",\" ?\",NaN)."
   ]
  },
  {
   "cell_type": "markdown",
   "metadata": {},
   "source": [
    "# ---------------------------------------------------------------------------\n",
    "Todo:\n",
    "\n",
    "identifikacia problemov\n",
    "\n",
    "\n",
    "- (pridat do kapitoly financie)\n",
    " - kapitálove príjmy (capital-gain)\n",
    " - kapitálová strata (capital-loss)\n",
    "\n",
    "\n",
    "\n",
    "\n",
    "\n",
    "\n",
    " - skewness_glucose\n",
    " - mean_glucose\n",
    " - kurtosis_glucose\n",
    " - std_glucose\n",
    " \n",
    " \n",
    "- medical_info\n",
    "\n",
    "\n",
    "- class\n",
    "\n",
    "\n",
    "- fnlwght"
   ]
  },
  {
   "cell_type": "markdown",
   "metadata": {
    "pycharm": {
     "name": "#%% md\n"
    },
    "scrolled": true
   },
   "source": [
    "- Každý z nás spraví po jednej hypotéze.\n",
    "- Čo sa týka identifikácie problémov s dátami, môžeme to spraviť tak, ako si vravel ty, že ty si zoberieš prvú polku, ja druhú. Treba tam popísať problémy s dátami. Vykresliť grafy, či nám nejaké hodnoty nelietajú straaaašne mimo :D a nakoniec navrhúť riešenia na vyčistenie dát.\n",
    "- Párová analýza: treba spraviť heatmap, ktorá ti ukazuje korelácie medzi údajmi. a zisťovať, čo môže mať dopad na to, či je človek má cukrovku alebo nie.\n"
   ]
  },
  {
   "cell_type": "code",
   "execution_count": 19,
   "metadata": {
    "pycharm": {
     "is_executing": false
    }
   },
   "outputs": [],
   "source": []
  }
 ],
 "metadata": {
  "kernelspec": {
   "display_name": "Python 3",
   "language": "python",
   "name": "python3"
  },
  "language_info": {
   "codemirror_mode": {
    "name": "ipython",
    "version": 3
   },
   "file_extension": ".py",
   "mimetype": "text/x-python",
   "name": "python",
   "nbconvert_exporter": "python",
   "pygments_lexer": "ipython3",
   "version": "3.7.3"
  },
  "pycharm": {
   "stem_cell": {
    "cell_type": "raw",
    "metadata": {
     "collapsed": false
    },
    "source": []
   }
  }
 },
 "nbformat": 4,
 "nbformat_minor": 2
}